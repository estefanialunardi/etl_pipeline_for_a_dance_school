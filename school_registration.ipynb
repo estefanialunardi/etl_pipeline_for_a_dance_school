{
 "cells": [
  {
   "cell_type": "code",
   "execution_count": 1,
   "id": "15a46c8b",
   "metadata": {
    "ExecuteTime": {
     "end_time": "2022-05-17T17:16:03.826094Z",
     "start_time": "2022-05-17T17:15:56.911785Z"
    }
   },
   "outputs": [
    {
     "name": "stdout",
     "output_type": "stream",
     "text": [
      "Requirement already satisfied: PDFplumber in c:\\users\\tete\\anaconda3\\envs\\pycaret_aula\\lib\\site-packages (0.6.2)\n",
      "Requirement already satisfied: Wand>=0.6.7 in c:\\users\\tete\\anaconda3\\envs\\pycaret_aula\\lib\\site-packages (from PDFplumber) (0.6.7)\n",
      "Requirement already satisfied: pdfminer.six==20220319 in c:\\users\\tete\\anaconda3\\envs\\pycaret_aula\\lib\\site-packages (from PDFplumber) (20220319)\n",
      "Requirement already satisfied: Pillow>=9.1 in c:\\users\\tete\\anaconda3\\envs\\pycaret_aula\\lib\\site-packages (from PDFplumber) (9.1.0)\n",
      "Requirement already satisfied: chardet in c:\\users\\tete\\anaconda3\\envs\\pycaret_aula\\lib\\site-packages (from pdfminer.six==20220319->PDFplumber) (4.0.0)\n",
      "Requirement already satisfied: cryptography in c:\\users\\tete\\anaconda3\\envs\\pycaret_aula\\lib\\site-packages (from pdfminer.six==20220319->PDFplumber) (37.0.2)\n",
      "Requirement already satisfied: cffi>=1.12 in c:\\users\\tete\\anaconda3\\envs\\pycaret_aula\\lib\\site-packages (from cryptography->pdfminer.six==20220319->PDFplumber) (1.15.0)\n",
      "Requirement already satisfied: pycparser in c:\\users\\tete\\anaconda3\\envs\\pycaret_aula\\lib\\site-packages (from cffi>=1.12->cryptography->pdfminer.six==20220319->PDFplumber) (2.21)\n",
      "Note: you may need to restart the kernel to use updated packages.\n"
     ]
    }
   ],
   "source": [
    "pip install PDFplumber"
   ]
  },
  {
   "cell_type": "code",
   "execution_count": 4,
   "id": "19288d74",
   "metadata": {
    "ExecuteTime": {
     "end_time": "2022-05-18T13:42:29.643070Z",
     "start_time": "2022-05-18T13:42:22.933740Z"
    }
   },
   "outputs": [],
   "source": [
    "import pandas as pd\n",
    "import pdfplumber\n",
    "import re\n",
    "import os, os.path\n",
    "from dateutil import parser\n",
    "from sshtunnel import SSHTunnelForwarder\n",
    "import sqlalchemy as db\n",
    "from sqlalchemy import create_engine\n",
    "from dotenv import load_dotenv"
   ]
  },
  {
   "cell_type": "markdown",
   "id": "1120ac96",
   "metadata": {},
   "source": [
    "## Extracting available data"
   ]
  },
  {
   "cell_type": "markdown",
   "id": "16a9ce42",
   "metadata": {},
   "source": [
    "### Prior data\n",
    "When the school provided those PDF documents, which were extracted from a free online form builder for school applications, my first action was to take a look in the very first pages of the first document and understand it. I realized that, instead of organized tables with information about the students, all data was stored in form-based PDFs.  It was very look alike a printed document filled by each student separately. The main goal of keeping those documents were just records of students inscriptions, with no strategic business intent for that data.\n",
    "\n",
    "Therefore, I've proposed a different pipeline for that data, that not only could escalate, enabling larger volumes of data, but also that allowed the school to catalogue, clean, filter, manipulate and analyze all that value informations to find the best business solutions.\n"
   ]
  },
  {
   "cell_type": "code",
   "execution_count": 5,
   "id": "f5a3700e",
   "metadata": {
    "ExecuteTime": {
     "end_time": "2022-05-18T13:42:30.102905Z",
     "start_time": "2022-05-18T13:42:29.645977Z"
    }
   },
   "outputs": [
    {
     "name": "stdout",
     "output_type": "stream",
     "text": [
      "30\n",
      "Sunday, June 20, 2021\n",
      "Fiche d'inscription \n",
      "Nom et prénom d'élève  Blatt Luce\n",
      "Date de naissance 10 19 1960\n",
      "Adresse Rue des vincennes, 9\n",
      "Toulouse, 31500\n",
      "E-mail marieluceblatt@gmail.com\n",
      "Téléphone (0033) 607-103468\n",
      "Cours:      \n",
      "Horaire:   \n",
      "Lundi      12h15 Barre à terre   \n",
      "Lundi Heure\n",
      "Mardi    9h Barre à terre   \n",
      "Mardi Heure\n",
      "          \n",
      "Jeudi    9h30 pbt     \n",
      "Jeudi Heure\n",
      "Vendredi  10h classique moyen \n",
      "Vendredi Heure\n",
      "      \n",
      "            \n",
      "Téléverser le Certi\u0000cat Médical\n",
      "CamScanner 06-20-2021 20.39.pdf\n",
      "pdf\n",
      "1\n",
      "Create your own automated PDFs with Jotform PDF Editor- It’s free\n"
     ]
    }
   ],
   "source": [
    "pdf_test = pdfplumber.open(\".\\\\data\\\\211596498612667-0.pdf\")\n",
    "print(len(pdf_test.pages))\n",
    "print(pdf_test.pages[0].extract_text())"
   ]
  },
  {
   "cell_type": "markdown",
   "id": "45850cbd",
   "metadata": {},
   "source": [
    "### Proposing a new way to store data"
   ]
  },
  {
   "cell_type": "markdown",
   "id": "f7256699",
   "metadata": {},
   "source": [
    "So, for a better comprehension of the available data, i've tried to create an organized table with all subscriptions information. Regardless any particularity of each student, they all filled the same form for submission, so I could easily identify the fields despite there was no obvious separators between fields."
   ]
  },
  {
   "cell_type": "markdown",
   "id": "2fcb8509",
   "metadata": {},
   "source": [
    "The inscription form provides lots of information about each student. I created lists to store these informations, according to the fields filled."
   ]
  },
  {
   "cell_type": "code",
   "execution_count": 7,
   "id": "de1ba78c",
   "metadata": {
    "ExecuteTime": {
     "end_time": "2022-05-18T13:42:33.093589Z",
     "start_time": "2022-05-18T13:42:33.035746Z"
    }
   },
   "outputs": [],
   "source": [
    "def read_pdfs (pdf):\n",
    "    \"\"\"open the pdf file and extract all the text information corresponding to each field\n",
    "    return info\"\"\"\n",
    "    info = []\n",
    "    for page in range(len(pdf.pages)):\n",
    "        info.append(pdf.pages[page].extract_text())\n",
    "    info = \"\".join(info).replace(\"Create your own automated PDFs with Jotform PDF Editor- It’s free\",\"\").split(\"Fiche d'inscription\")\n",
    "    for student in range(1,len(info)):\n",
    "        try:\n",
    "            nom = info[student].split(\"Nom et prénom d'élève\")[1].split(\"\\n\")[0].strip()\n",
    "        except:\n",
    "            nom = 0\n",
    "        try:\n",
    "            naissance = info[student].split(\"Date de naissance\")[1].split(\"\\n\")[0].strip()\n",
    "        except:\n",
    "            naissance = 0\n",
    "        try:\n",
    "            adresse = info[student].split(\"Adresse\")[1].split(\"\\n\")[0].replace(\"\\n\",\" \").strip()\n",
    "        except:\n",
    "            adresse = 0\n",
    "        try:\n",
    "            cite = info[student].split(\"Adresse\")[1].split(\"\\n\")[1].split(\",\")[0].replace(\"\\n\",\" \").strip()\n",
    "        except:\n",
    "            cite = 0\n",
    "        try:\n",
    "            postal = info[student].split(\"Adresse\")[1].split(\"\\n\")[1].split(\",\")[1].split(\"\\n\")[0].replace(\"\\n\",\" \").strip()\n",
    "        except:\n",
    "            postal = 0\n",
    "        try:\n",
    "            email = info[student].split(\"E-mail\")[1].split(\"\\n\")[0].strip()\n",
    "        except:\n",
    "            email=0\n",
    "        try:\n",
    "            representant_legal = info[student].split(\"Représentant légal de l’inscrit (pour\")[1].split(\"les mineurs\")[0].strip()\n",
    "        except:\n",
    "            representant_legal = 0\n",
    "        try:\n",
    "            tel = info[student].split(\"Téléphone\")[1].split(\"\\n\")[0].strip()\n",
    "        except:\n",
    "            tel = info[student].split(\"Téléphone\")[1].split(\"\\n\")[0].strip()\n",
    "        try:\n",
    "            cours = info[student].split(\"Cours:\")[1].split(\"Horaire:\")[0].replace(\"\\nCours\", \"\").strip()\n",
    "        except:\n",
    "            cours = 0\n",
    "        try:\n",
    "            horaire = info[student].split(\"Horaire:\")[1].split(\"Cours 2\")[0].replace(\"\\xa0\", \"\").replace(\"Heure\", \"\").strip()\n",
    "            cours2 = info[student].split(\"Cours 2:\")[1].split(\"Horaire:\")[0].replace(\"\\nCours\", \"\").strip()\n",
    "            try:\n",
    "                horaire2 = info[student].split(\"Horaire:\")[2].split(\"Cours 3\")[0].replace(\"\\xa0\", \"\").replace(\"Heure\", \"\").strip()\n",
    "                cours3 = info[student].split(\"Cours 3:\")[1].split(\"Horaire:\")[0].replace(\"\\nCours\", \"\").strip()\n",
    "                horaire3 = info[student].split(\"Horaire:\")[3].split(\"Téléverser\")[0].replace(\"Heure\", \"\").strip()\n",
    "            except: \n",
    "                horaire2= info[student].split(\"Horaire:\")[2].split(\"Téléverser\")[0].replace(\"\\xa0\", \"\").replace(\"Heure\", \"\").strip()\n",
    "                cours3 =0\n",
    "                horaire3=0\n",
    "        except:\n",
    "            try:\n",
    "                horaire = info[student].split(\"Horaire:\")[1].split(\"Téléverser\")[0].replace(\"\\xa0\", \"\").replace(\"Heure\", \"\").strip()\n",
    "            except:\n",
    "                horaire = 0\n",
    "            cours2 =0\n",
    "            horaire2=0\n",
    "            cours3 =0\n",
    "            horaire3=0\n",
    "        try:\n",
    "            adhesion = info[student].split(\"\\xa0\\xa0\\xa0\\xa0\\xa0+\")[1].split(\"\\n(valeur de chaque chèque)\")[0].strip()\n",
    "        except: \n",
    "            adhesion = info[student].split(\"Please Select\")[1].split(\"adhésion\")[0].strip() \n",
    "        try:\n",
    "            paiement_fractionne =info[student].split(\"Par\")[1].split(\" cheques\")[0].strip()\n",
    "        except:\n",
    "            paiement_fractionne =info[student].split(\"avec\")[1].split(\"chèques\")[0].strip()\n",
    "        paiement_total = info[student].split(\"au total de\")[1].split(\"€\")[0].strip()\n",
    "        name.append(nom)\n",
    "        birthday.append(naissance)\n",
    "        address.append(adresse)\n",
    "        city.append(cite)\n",
    "        pcode.append(postal)\n",
    "        mail.append(email)\n",
    "        telephone.append(tel)\n",
    "        legal_representative.append(representant_legal)\n",
    "        course.append(cours)\n",
    "        schedule.append(horaire)\n",
    "        course2.append(cours2)\n",
    "        schedule2.append(horaire2)\n",
    "        course3.append(cours3)\n",
    "        schedule3.append(horaire3)\n",
    "        registration.append(adhesion)\n",
    "        installments.append(paiement_fractionne)\n",
    "        total.append(paiement_total)"
   ]
  },
  {
   "cell_type": "markdown",
   "id": "a893a33c",
   "metadata": {},
   "source": [
    "All available data was stored in the same folder, and the files' name differ only by the number at the end of them, from 0 to the last. "
   ]
  },
  {
   "cell_type": "code",
   "execution_count": 8,
   "id": "3c1ae972",
   "metadata": {
    "ExecuteTime": {
     "end_time": "2022-05-18T13:43:25.022533Z",
     "start_time": "2022-05-18T13:42:36.401105Z"
    }
   },
   "outputs": [],
   "source": [
    "name=[]\n",
    "birthday=[]\n",
    "address = []\n",
    "city = []\n",
    "pcode =[]\n",
    "mail =[]\n",
    "telephone =[]\n",
    "legal_representative =[]\n",
    "course=[]\n",
    "schedule =[]\n",
    "course2 =[]\n",
    "schedule2 =[]\n",
    "course3=[]\n",
    "schedule3 =[]\n",
    "registration =[]\n",
    "installments =[]\n",
    "total =[]\n",
    "files = os.listdir('C:\\\\Users\\\\Tete\\\\Curso - DA\\\\Projeto Final\\\\data') \n",
    "for file in range(len(files)-1):\n",
    "    pdf = pdfplumber.open(f\".\\\\data\\\\211596498612667-{file}.pdf\")\n",
    "    read_pdfs (pdf)"
   ]
  },
  {
   "cell_type": "markdown",
   "id": "04e85261",
   "metadata": {},
   "source": [
    "### Creating the dataframe\n",
    "After extracting all the information avaialable on those forms, I've gathered them in a dataframe which columns are the fields from the submission form."
   ]
  },
  {
   "cell_type": "code",
   "execution_count": 9,
   "id": "c365413c",
   "metadata": {
    "ExecuteTime": {
     "end_time": "2022-05-18T13:47:37.478946Z",
     "start_time": "2022-05-18T13:47:37.431070Z"
    }
   },
   "outputs": [],
   "source": [
    "attitude = pd.DataFrame(zip(name,birthday, address, city, pcode, mail, telephone, legal_representative, course, schedule, course2, schedule2, course3, schedule3, registration, installments, total))\n",
    "attitude.columns = ['name','birthday', 'address', 'city', 'pcode','mail', 'telephone', 'legal_representative', 'course', 'schedule', 'course2', 'schedule2', 'course3', 'schedule3', 'registration', 'installments', 'total']"
   ]
  },
  {
   "cell_type": "markdown",
   "id": "5d77df04",
   "metadata": {
    "ExecuteTime": {
     "end_time": "2022-05-13T18:45:25.319464Z",
     "start_time": "2022-05-13T18:45:25.274608Z"
    }
   },
   "source": [
    "## Transforming data   "
   ]
  },
  {
   "cell_type": "markdown",
   "id": "05372ccd",
   "metadata": {},
   "source": [
    "### Checking columns:"
   ]
  },
  {
   "cell_type": "code",
   "execution_count": 10,
   "id": "794f4652",
   "metadata": {
    "ExecuteTime": {
     "end_time": "2022-05-18T13:47:40.922104Z",
     "start_time": "2022-05-18T13:47:40.887194Z"
    }
   },
   "outputs": [],
   "source": [
    "#Dropping duplicates\n",
    "attitude = attitude.drop_duplicates().reset_index(drop=True)"
   ]
  },
  {
   "cell_type": "code",
   "execution_count": 11,
   "id": "b13e308d",
   "metadata": {
    "ExecuteTime": {
     "end_time": "2022-05-18T13:48:28.506502Z",
     "start_time": "2022-05-18T13:48:28.486550Z"
    }
   },
   "outputs": [],
   "source": [
    "#Let's standardize it!\n",
    "# Strings\n",
    "attitude.name = [nom.title() for nom in attitude.name]\n",
    "attitude.address = [adresse.title() for adresse in attitude.address]\n",
    "attitude.city = [cite.title() for cite in attitude.city]\n",
    "attitude.mail = [email.lower() for email in attitude.mail]\n",
    "attitude.legal_representative = [representant.title() if representant != 0 else 0 for representant in attitude.legal_representative]\n",
    "attitude.course = [cours.title() if cours != 0 else 0 for cours in attitude.course]\n",
    "attitude.course2= [cours2.title() if cours2 != 0 else 0 for cours2 in attitude.course2]\n",
    "attitude.course3= [cours3.title() if cours3 != 0 else 0 for cours3 in attitude.course2]"
   ]
  },
  {
   "cell_type": "code",
   "execution_count": 12,
   "id": "aa619a67",
   "metadata": {
    "ExecuteTime": {
     "end_time": "2022-05-18T13:48:30.267619Z",
     "start_time": "2022-05-18T13:48:30.224697Z"
    }
   },
   "outputs": [
    {
     "name": "stdout",
     "output_type": "stream",
     "text": [
      "['25 nivelbre 1947', '18 décembre 2012', '17 août 2008', '4 juin 1975', '1er mai 2014', 0, '18 AOUT 2010', '23 JANVIER 2017', 0, '30061986', '17 juin 2016']\n"
     ]
    }
   ],
   "source": [
    "#Birthday column\n",
    "issues = []\n",
    "for naissance in attitude.birthday:\n",
    "    try:\n",
    "        date = parser.parse(naissance)\n",
    "    except:\n",
    "        issues.append(naissance)\n",
    "print(issues)\n",
    "naissances=[]\n",
    "for naissance in attitude.birthday:\n",
    "    if naissance != 0:\n",
    "        date = parser.parse(naissance.replace('25 nivelbre 1947', '25-11-1947').replace('18 décembre 2012', '18-12-2012').replace('17 août 2008', '17-08-2008').replace('4 juin 1975', '04-06-1975').replace('1er mai 2014', '01-05-2014').replace('18 AOUT 2010', '18-08-2010').replace('23 JANVIER 2017', '23-01-2017').replace('30061986', '30-06-1986').replace('17 juin 2016', '17-06-2016'))\n",
    "        naissances.append(date.strftime('%d-%m-%Y'))\n",
    "    else:\n",
    "        naissances.append(0)\n",
    "attitude.birthday = naissances"
   ]
  },
  {
   "cell_type": "code",
   "execution_count": 13,
   "id": "bca0dd5b",
   "metadata": {
    "ExecuteTime": {
     "end_time": "2022-05-18T13:48:33.799910Z",
     "start_time": "2022-05-18T13:48:33.792904Z"
    }
   },
   "outputs": [],
   "source": [
    "#Address column:\n",
    "attitude['address'].iloc[2] = 'Rue Sarah Bernhardt, 44'\n",
    "attitude['address'].iloc[1] = '11 Rue Du Docteur Charles Bonneau'"
   ]
  },
  {
   "cell_type": "code",
   "execution_count": 14,
   "id": "ea5032f6",
   "metadata": {
    "ExecuteTime": {
     "end_time": "2022-05-18T13:48:36.307700Z",
     "start_time": "2022-05-18T13:48:36.267808Z"
    }
   },
   "outputs": [],
   "source": [
    "#Column Telephone:\n",
    "for row in range(len(attitude.telephone)):\n",
    "    attitude['telephone'].iloc[row] = attitude['telephone'].iloc[row].replace('(33)', '+33').replace('(0033)', '+33').replace('(033)', '+33').replace('(','').replace(\"(0687026502)\", \"0687026502\").replace(\"(Portable)\", \"\").replace(\"(0634121580) 063-4121580\", \"063-4121580\").replace(\"(0687026502) 068-7026502\", \"068-7026502\").replace(\"(0689289829) ¨\", \"0689289829\").replace(\"(0689289829) 068-9289829\", \"0689289829\").replace(\"(0607991130) 060-7991130\", \"0607991130\").replace(\"(0683365627) 068-3365627\", \"0683365627\").replace(\"0689289829 ¨\", '0689289829').replace('.',\"\").replace(')',\"\").replace(\"-\",\"\")"
   ]
  },
  {
   "cell_type": "code",
   "execution_count": 15,
   "id": "d08a85f8",
   "metadata": {
    "ExecuteTime": {
     "end_time": "2022-05-18T13:48:38.613939Z",
     "start_time": "2022-05-18T13:48:38.565074Z"
    }
   },
   "outputs": [],
   "source": [
    "def schedules (schedule_num):\n",
    "    issues_horaire =[]\n",
    "    for row in range(len(attitude[schedule_num])):\n",
    "        if attitude[schedule_num].iloc[row] != 0:\n",
    "            try:\n",
    "                horaire = attitude[schedule_num].iloc[row].replace('\\n1',' ').strip().split('\\n')\n",
    "                if len(horaire) == 2:\n",
    "                    attitude[schedule_num].iloc[row] = attitude[schedule_num].iloc[row].replace('\\n1',' ').strip().split('\\n')[0].lower()\n",
    "                else:\n",
    "                    issues_horaire.append(row)\n",
    "            except:\n",
    "                continue\n",
    "        else:\n",
    "            continue\n",
    "    return issues_horaire\n",
    "\n",
    "def schedule_course (schedule_num, course_num):\n",
    "    for row in range(len(attitude[schedule_num])):\n",
    "        if attitude[schedule_num].iloc[row] == 'mardi 19h' or attitude[schedule_num].iloc[row] == 'mardi 18h' or attitude[schedule_num].iloc[row] =='vendredi 19h' or attitude[schedule_num].iloc[row] =='lundi 10h15':\n",
    "            attitude[course_num].iloc[row] = 'Classique Moyen'\n",
    "        elif attitude[schedule_num].iloc[row] == 'lundi 12h15' or attitude[schedule_num].iloc[row] == 'mardi 9h' or attitude[schedule_num].iloc[row] == 'samedi 12h15' or attitude[schedule_num].iloc[row] == 'samedi 12h' or attitude[schedule_num].iloc[row] == 'mardi 10h':\n",
    "            attitude[course_num].iloc[row] = 'Barre à Terre'\n",
    "        elif attitude[schedule_num].iloc[row] == 'mercredi 14h15':\n",
    "            attitude[course_num].iloc[row] == 'Classique 1'\n",
    "        elif attitude[schedule_num].iloc[row] == 'lundi 17h':\n",
    "            attitude[course_num].iloc[row] = 'Préparatoire'    \n",
    "        elif attitude[schedule_num].iloc[row] == 'mercredi 16h30' or attitude[schedule_num].iloc[row] == 'vendredi 20h30':\n",
    "            attitude[course_num].iloc[row] = 'Pointes'\n",
    "        elif attitude[schedule_num].iloc[row] == 'mardi 17h':\n",
    "            attitude[course_num].iloc[row] = 'Éveil'\n",
    "        elif attitude[schedule_num].iloc[row] == 'jeudi 17h10' or attitude[schedule_num].iloc[row] == 'jeudi 17h15':\n",
    "            attitude[course_num].iloc[row] = 'Initiation'\n",
    "        elif attitude[schedule_num].iloc[row] == 'mercredi 17h45':\n",
    "            attitude[course_num].iloc[row] = 'Classique 2'\n",
    "        elif attitude[schedule_num].iloc[row] == 'mercredi 14h25' or attitude[schedule_num].iloc[row] =='mercredi 14h15' or attitude[schedule_num].iloc[row] =='mercredi 13h15':\n",
    "            attitude[course_num].iloc[row] = 'Classique 1'\n",
    "        elif attitude[schedule_num].iloc[row] == 'lundi 18h':\n",
    "            attitude[course_num].iloc[row] = 'Contemporain'\n",
    "        elif attitude[schedule_num].iloc[row] == 'jeudi 20h' or attitude[schedule_num].iloc[row] =='lundi 20h30' or attitude[schedule_num].iloc[row] =='mercredi 9h' or attitude[schedule_num].iloc[row] =='jeudi 19h30':\n",
    "            attitude[course_num].iloc[row] = 'Pilates'\n",
    "        elif attitude[schedule_num].iloc[row] == 'lundi 10h':\n",
    "            attitude[course_num].iloc[row] = 'Classique Moyen'\n",
    "        elif attitude[schedule_num].iloc[row] == 'lundi 18h' or attitude[schedule_num].iloc[row] == 'mercredi 15h30':\n",
    "            attitude[course_num].iloc[row] = 'Pbt'\n",
    "        elif attitude[schedule_num].iloc[row] == 'jeudi 18h30' or attitude[schedule_num].iloc[row] == 'lundi 19h' or attitude[schedule_num].iloc[row] =='mercredi 19h30' or attitude[schedule_num].iloc[row] == 'samedi 10h40' or attitude[schedule_num].iloc[row] == 'samedi 10h30' or attitude[schedule_num].iloc[row] == 'lundi 19h15' or attitude[schedule_num].iloc[row] == 'mardi 19h30' or attitude[schedule_num].iloc[row] == 'mardi 19h15' or attitude[schedule_num].iloc[row] == 'jeudi 18h30':\n",
    "            attitude[course_num].iloc[row] = 'Classique Interm. – Avancé'\n",
    "        elif attitude[schedule_num].iloc[row] == 'vendredi 10h15' or attitude[schedule_num].iloc[row] =='vendredi 10h' or attitude[schedule_num].iloc[row] =='vendredi 19h' or attitude[schedule_num].iloc[row] =='lundi 10h' or attitude[schedule_num].iloc[row] =='lundi 19h15':\n",
    "            attitude[course_num].iloc[row] = 'Classique Moyen'\n",
    "        elif attitude[schedule_num].iloc[row] == 'lundi 19h30':\n",
    "            attitude[course_num].iloc[row] = 'Classique Avancé'\n",
    "        elif attitude[schedule_num].iloc[row] == 'vendredi 18h':\n",
    "            attitude[course_num].iloc[row] = 'Moderne'\n",
    "        elif attitude[schedule_num].iloc[row] == 'jeudi 9h30':\n",
    "            attitude[course_num].iloc[row] = 'Pbt + Ballet Fitness'    "
   ]
  },
  {
   "cell_type": "code",
   "execution_count": 16,
   "id": "10f67658",
   "metadata": {
    "ExecuteTime": {
     "end_time": "2022-05-18T13:48:40.889545Z",
     "start_time": "2022-05-18T13:48:40.835686Z"
    }
   },
   "outputs": [
    {
     "data": {
      "text/plain": [
       "[0, 5, 11, 20, 25, 33, 58, 72, 89]"
      ]
     },
     "execution_count": 16,
     "metadata": {},
     "output_type": "execute_result"
    }
   ],
   "source": [
    "issues_horaire = schedules ('schedule')\n",
    "issues_horaire"
   ]
  },
  {
   "cell_type": "code",
   "execution_count": 17,
   "id": "beb5b942",
   "metadata": {
    "ExecuteTime": {
     "end_time": "2022-05-18T13:48:42.846392Z",
     "start_time": "2022-05-18T13:48:42.819285Z"
    }
   },
   "outputs": [],
   "source": [
    "attitude['schedule'].iloc[0] = \"mardi 12h15\"\n",
    "attitude['schedule2'].iloc[0] = \"jeudi 9h30\"\n",
    "attitude['schedule'].iloc[5] = \"Lundi, 12h15\"\n",
    "attitude['schedule2'].iloc[5] = \"mardi 18h  vendredi 19h\"\n",
    "attitude['course'].iloc[11] = \"barre à rerre\"\n",
    "attitude['schedule'].iloc[11] = \"lundi 12h15 mardi 9h\"\n",
    "attitude['schedule'].iloc[20] = \"lundi 19h15\"\n",
    "attitude['schedule2'].iloc[20] = \"jeudi 18h30 vendredi 20h30\"\n",
    "attitude['schedule'].iloc[25] = \"lundi 12h15\"\n",
    "attitude['schedule2'].iloc[25] = \"vendredi 19h\"\n",
    "attitude['schedule'].iloc[28] ='mercredi 15h30'\n",
    "attitude['schedule'].iloc[33] = \"mardi 9h\"\n",
    "attitude['schedule2'].iloc[33] = \"vendredi 10h15\"\n",
    "attitude['course'].iloc[58] = \"classique avancé\"\n",
    "attitude['schedule'].iloc[58] = \"mardi 19h15 jeudi 18h30\"\n",
    "attitude['course2'].iloc[58] = \"pbt\"\n",
    "attitude['schedule2'].iloc[58] = \"mercredi 15h30\""
   ]
  },
  {
   "cell_type": "code",
   "execution_count": 18,
   "id": "15c56e90",
   "metadata": {
    "ExecuteTime": {
     "end_time": "2022-05-18T13:48:44.703571Z",
     "start_time": "2022-05-18T13:48:44.638742Z"
    }
   },
   "outputs": [
    {
     "data": {
      "text/plain": [
       "array(['lundi 12h15', 'lundi 17h', 'mardi 19h', 'lundi 20h30',\n",
       "       'mercredi 14h15', 'mardi 17hh', 'mardi 18h', 'samedi 12h',\n",
       "       'lundi 12h15 mardi 9h', 'vendredi 19h', 'mercredi 16h30',\n",
       "       'lundi 19h15', 'jeudi 17h10', 'mercredi 17h45', 'mardi 19h30',\n",
       "       'mercredi 15h30', 'lundi 10h15', 'samedi 10h30', 'jeudi 17h15',\n",
       "       'mardi 10', 'mardi 9h', 'lundi 17', 'mercredi',\n",
       "       'mardi 17hh - 17h45', 'lundi 18h', 'jeudi 19h30', 0, 'jeudi 20h',\n",
       "       'mercredi 13h15', 'lundi 10h', 'lundi 18',\n",
       "       'mardi 19h15 jeudi 18h30', 'jeudi 18h30', 'mercredi 19h30',\n",
       "       'vendredi 10h15', 'samedi 10h30\\n', 'samedi', 'mardi 17h',\n",
       "       'mercredi 9h', 'jeudi', '', 'lundi', 'vendredi 18h'], dtype=object)"
      ]
     },
     "execution_count": 18,
     "metadata": {},
     "output_type": "execute_result"
    }
   ],
   "source": [
    "attitude.schedule.unique()\n",
    "for row in range(len(attitude.schedule)):\n",
    "    if attitude['schedule'].iloc[row] != 0:\n",
    "        attitude['schedule'].iloc[row] = attitude['schedule'].iloc[row].lower().strip().replace('10h30\\n\\n\\n\\n\\n\\nsamedi \\nsamedi','samedi 10h30').replace('mardi 17', 'mardi 17h').replace('mercredi 9', 'mercredi 9h').replace(',', '').replace(':', 'h').replace('h00', 'h').replace('\\n1', '').replace(' h ', 'h').replace('vendredi 19h-20h30', 'vendredi 19h').replace('mardi 18h/19h30', 'mardi 18h').replace('mardi 18h-19h30', 'mardi 18h').replace('mercredi 16h30/17h30','mercredi 16h30').replace('mercredi 17h45-19h15','mercredi 17h45').replace('mardi 10 ', 'mardi 10h').replace('jeudi 17h15 - 18h15','jeudi 17h15').replace('lundi 17 ', 'lundi 17h').replace('jeudi 17h15-18h15', 'jeudi 17h15').replace('mercredi 14h15-15h30','mercredi 14h15').replace('mardi 17h - 17h45', 'mardi 17h').replace('jeudi 19h30-21h', 'jeudi 19h30').replace('lundi 17-18h', 'lundi 17h').replace('jeudi 20h - 21h', 'jeudi 20h').replace('lundi 10h11h30', 'lundi 10h').replace('lundi 18 ','lundi 18h').replace('lundi 19h 15 et 20h45', 'lundi 19h15').replace('mercredi 16.30/17.30', 'mercredi 16h30').replace('mardi 9.00/10.00', 'mardi 9h').replace('jeudi 18h30 - 20h', 'jeudi 18h30').replace('mardi 19h30 - 20h45','mardi 19h30').replace('10h30\\n\\n\\n\\n\\n\\nsamedi \\nsamedi\\n\\n1', 'samedi 10h30').replace('mardi 12h15','lundi 12h15').replace('mardi 17 ','mardi 17h').replace('mercredi 9 ', 'mercredi 9h')\n",
    "attitude.schedule.unique()"
   ]
  },
  {
   "cell_type": "code",
   "execution_count": 19,
   "id": "28ff471e",
   "metadata": {
    "ExecuteTime": {
     "end_time": "2022-05-18T13:48:48.143066Z",
     "start_time": "2022-05-18T13:48:48.126141Z"
    }
   },
   "outputs": [
    {
     "data": {
      "text/plain": [
       "[0, 3, 5, 19, 20, 25, 33, 58]"
      ]
     },
     "execution_count": 19,
     "metadata": {},
     "output_type": "execute_result"
    }
   ],
   "source": [
    "issues_horaire2 = schedules ('schedule2')\n",
    "issues_horaire2"
   ]
  },
  {
   "cell_type": "code",
   "execution_count": 20,
   "id": "79f06241",
   "metadata": {
    "ExecuteTime": {
     "end_time": "2022-05-18T13:48:49.904251Z",
     "start_time": "2022-05-18T13:48:49.870340Z"
    }
   },
   "outputs": [
    {
     "data": {
      "text/plain": [
       "array(['jeudi 9h30', 0, '19h', 'vendredi 19h', 'mardi 18h  vendredi 19h',\n",
       "       'mercredi 15h30', 'vendredi 20h30', 'samedi 12h15', 'vendredi 18h',\n",
       "       'mercredi 19h30', 'mercredi 17h45', 'jeudi 18h30 vendredi 20h30',\n",
       "       'samedi 10h30', 'mercredi 16h30', 'vendredi 10h15', 'lundi 20h45',\n",
       "       'samedi 10h40', 'lundi 19h15', 'jeudi ', 'mercredi ', 'vendredi '],\n",
       "      dtype=object)"
      ]
     },
     "execution_count": 20,
     "metadata": {},
     "output_type": "execute_result"
    }
   ],
   "source": [
    "attitude.schedule2.unique()\n",
    "for row in range(len(attitude.schedule2)):\n",
    "    if attitude['schedule2'].iloc[row] != 0:\n",
    "        attitude['schedule2'].iloc[row] = attitude['schedule2'].iloc[row].replace(',', '').replace(':', 'h').replace('h00', 'h').replace(' h ', 'h').replace('Jeudi, 9h30', 'jeudi 9h30').replace('Mardi, 18h,  Vendredi, 19h', 'mardi 18h,  vendredi 19h').replace('vendredi 20h30-21h15','vendredi 20h30').replace('vendredi 18/19h','vendredi 18h').replace('mercredi 19h30-21h', 'mercredi 19h30').replace('Mercredi 17h45/19h15\\nMercredi \\n\\n\\n\\n\\n2','Mercredi 17h45').replace('Jeudi, 18h30, Vendredi, 20h30','jeudi 18h30, vendredi 20h30').replace('mercredi 17.45/19.15','mercredi 17h45').replace('mercredi 15h30 - 16h30', 'mercredi 15h30').lower()\n",
    "attitude.schedule2.unique()"
   ]
  },
  {
   "cell_type": "code",
   "execution_count": 21,
   "id": "41857ad9",
   "metadata": {
    "ExecuteTime": {
     "end_time": "2022-05-18T13:48:52.344936Z",
     "start_time": "2022-05-18T13:48:52.319982Z"
    }
   },
   "outputs": [
    {
     "data": {
      "text/plain": [
       "[18, 20, 57, 58, 92]"
      ]
     },
     "execution_count": 21,
     "metadata": {},
     "output_type": "execute_result"
    }
   ],
   "source": [
    "issues_horaire3 = schedules ('schedule3')\n",
    "issues_horaire3"
   ]
  },
  {
   "cell_type": "code",
   "execution_count": 22,
   "id": "7b1bd510",
   "metadata": {
    "ExecuteTime": {
     "end_time": "2022-05-18T13:48:54.453601Z",
     "start_time": "2022-05-18T13:48:54.442628Z"
    }
   },
   "outputs": [],
   "source": [
    "attitude['schedule3'].iloc[18] = 'vendredi 20h30'\n",
    "attitude['schedule3'].iloc[20] = 'vendredi 20h30'\n",
    "attitude['schedule3'].iloc[57] = 'vendredi 10h'\n",
    "attitude['schedule3'].iloc[58] = 'mercredi 17h45'\n",
    "attitude['schedule3'].iloc[92] = 'samedi 10h30'"
   ]
  },
  {
   "cell_type": "code",
   "execution_count": 23,
   "id": "0f2a5c8c",
   "metadata": {
    "ExecuteTime": {
     "end_time": "2022-05-18T13:48:57.079362Z",
     "start_time": "2022-05-18T13:48:57.043461Z"
    }
   },
   "outputs": [
    {
     "data": {
      "text/plain": [
       "array([0, 'vendredi 19h', 'vendredi 20h30', 'mercredi 17h45',\n",
       "       'samedi 10h30', 'vendredi 10h', 'mercredi ', 'vendredi '],\n",
       "      dtype=object)"
      ]
     },
     "execution_count": 23,
     "metadata": {},
     "output_type": "execute_result"
    }
   ],
   "source": [
    "attitude.schedule3.unique()\n",
    "for row in range(len(attitude.schedule3)):\n",
    "    if attitude['schedule3'].iloc[row] != 0:\n",
    "        attitude['schedule3'].iloc[row] = attitude['schedule3'].iloc[row].lower().replace(',', '').replace(':', 'h').replace('h00', 'h').replace(' h ', 'h').replace('vendredi \\xa019h -20h30\\xa0', 'vendredi 19h').replace('vendredi \\xa019/20h30\\xa0','vendredi 19h').replace('mercredi \\xa017h45\\xa0\\xa0\\xa0\\xa0\\xa0\\xa0\\xa0\\xa0\\xa0', 'mercredi 17h45').replace('samedi \\xa0\\xa0\\xa010h30\\xa0\\xa0\\xa0', 'samedi 10h30').replace('\\xa0', '')\n",
    "attitude.schedule3.unique()"
   ]
  },
  {
   "cell_type": "code",
   "execution_count": 24,
   "id": "05816a56",
   "metadata": {
    "ExecuteTime": {
     "end_time": "2022-05-18T13:48:59.476582Z",
     "start_time": "2022-05-18T13:48:59.281099Z"
    }
   },
   "outputs": [],
   "source": [
    "schedule_course ('schedule', 'course')\n",
    "schedule_course ('schedule2', 'course2')\n",
    "schedule_course ('schedule3', 'course3')"
   ]
  },
  {
   "cell_type": "code",
   "execution_count": 25,
   "id": "7efbbf8b",
   "metadata": {
    "ExecuteTime": {
     "end_time": "2022-05-18T13:49:05.812452Z",
     "start_time": "2022-05-18T13:49:05.772050Z"
    }
   },
   "outputs": [],
   "source": [
    "attitude[attitude['course']==0]\n",
    "attitude['course'].iloc[39] = \"pilates\"\n",
    "attitude['schedule'].iloc[39] = \"juedi 20h\"\n",
    "attitude['course'].iloc[41] = 'classique 1'\n",
    "attitude['course'].iloc[51] = 'classique 1'\n",
    "attitude['course'].iloc[78] = 'classique 1'\n",
    "attitude['course'].iloc[79] = 'classique moyen'\n",
    "attitude['schedule'].iloc[79] = \"vendredi 10h\"\n",
    "attitude['course'].iloc[79] = 'classique interm. – avancé'\n",
    "attitude['schedule'].iloc[93] = \"vendredi 10h\"\n",
    "attitude['course'].iloc[93] = 'classique interm. – avancé'\n",
    "attitude['course'].iloc[46] = \"pilates\"\n",
    "attitude['schedule'].iloc[46] = \"lundi 9h mercredi 9h vendredi 9h\"\n",
    "attitude['course'].iloc[46] = \"classique moyen\"\n",
    "attitude['schedule'].iloc[46] = \"lundi 10h\"\n",
    "attitude['course'].iloc[46] = \"pbt + ballet fitness\"\n",
    "attitude['schedule'].iloc[46] = \"juedi 9h30\"\n",
    "attitude['course'].iloc[56] = \"pilates\"\n",
    "attitude['schedule'].iloc[56] = \"mercredi 9h vendredi 9h\"\n",
    "attitude['course'].iloc[66] = \"pilates\"\n",
    "attitude['schedule'].iloc[66] = \"lundi 9h\"\n",
    "attitude['course'].iloc[83] = \"pilates\"\n",
    "attitude['schedule'].iloc[83] = \"lundi 20h45\"\n",
    "attitude['course2'].iloc[83] = 0\n",
    "attitude['schedule2'].iloc[83] = 0\n",
    "attitude['course'].iloc[95] = \"barre à terre\"\n",
    "attitude['schedule'].iloc[95] = \"mardi 9h\""
   ]
  },
  {
   "cell_type": "code",
   "execution_count": 26,
   "id": "76226da3",
   "metadata": {
    "ExecuteTime": {
     "end_time": "2022-05-18T13:49:18.132451Z",
     "start_time": "2022-05-18T13:49:18.072650Z"
    }
   },
   "outputs": [
    {
     "data": {
      "text/plain": [
       "array(['barre à terre', 'préparatoire', 'classique moyen', 'pilates',\n",
       "       'classique 1', 'éveil', 'pointes', 'classique interm. – avancé',\n",
       "       'initiation', '', 'classique 2', 'pbt', 'contemporain',\n",
       "       'pbt + ballet fitness', 'classique avancé', 'carte 10 cours',\n",
       "       'débutant', 'moderne'], dtype=object)"
      ]
     },
     "execution_count": 26,
     "metadata": {},
     "output_type": "execute_result"
    }
   ],
   "source": [
    "attitude.course.unique()\n",
    "for row in range(len(attitude.course)):\n",
    "    if attitude['course'].iloc[row] != 0:\n",
    "        attitude['course'].iloc[row] = attitude['course'].iloc[row].replace(\"Eveil\", 'éveil').replace(\"Classiquee Avancé\", \"Classique Avancé\").replace('barre à rerre', 'barre à terre').replace('inter/ avance', 'classique interm. – avancé').lower()\n",
    "        if attitude['course'].iloc[row] =='classique interm':\n",
    "            attitude['course'].iloc[row] = ('classique interm. – avancé')\n",
    "        if attitude['course'].iloc[row] =='1' or attitude['course'].iloc[row] =='classique':\n",
    "            attitude['course'].iloc[row] = (\"classique 1\")\n",
    "    elif attitude['course'].iloc[row] == \"\":\n",
    "        attitude['course'].iloc[row] == 0\n",
    "attitude.course.unique()"
   ]
  },
  {
   "cell_type": "code",
   "execution_count": 27,
   "id": "b1c3fd55",
   "metadata": {
    "ExecuteTime": {
     "end_time": "2022-05-18T13:49:28.967142Z",
     "start_time": "2022-05-18T13:49:28.924732Z"
    }
   },
   "outputs": [
    {
     "data": {
      "text/plain": [
       "array(['pbt + ballet fitness', 0, '', 'classique moyen', 'pbt', 'pointes',\n",
       "       'barre à terre', 'moderne', 'classique interm. – avancé',\n",
       "       'classique 2'], dtype=object)"
      ]
     },
     "execution_count": 27,
     "metadata": {},
     "output_type": "execute_result"
    }
   ],
   "source": [
    "attitude.course2.unique()\n",
    "for row in range(len(attitude.course2)):\n",
    "    if attitude['course2'].iloc[row] != 0:\n",
    "        attitude['course2'].iloc[row] = attitude['course2'].iloc[row].replace(\"Classiquee Avancé\", \"Classique Avancé\").replace('barre à rerre', 'barre à terre').replace('Inter/ Avance', 'classique interm. – avancé').lower()\n",
    "        if attitude['course2'].iloc[row] =='barre':\n",
    "            attitude['course2'].iloc[row] = (\"barre à terre\")\n",
    "        if attitude['course2'].iloc[row] =='classique interm':\n",
    "            attitude['course2'].iloc[row] = ('classique interm. – avancé')\n",
    "        if attitude['course2'].iloc[row] =='classique':\n",
    "            attitude['course2'].iloc[row] = (\"classique 1\")\n",
    "    elif attitude['course2'].iloc[row] == \"\":\n",
    "        attitude['course2'].iloc[row] == 0\n",
    "attitude.course2.unique()"
   ]
  },
  {
   "cell_type": "code",
   "execution_count": 28,
   "id": "d288d04e",
   "metadata": {
    "ExecuteTime": {
     "end_time": "2022-05-18T13:49:33.918368Z",
     "start_time": "2022-05-18T13:49:33.875477Z"
    }
   },
   "outputs": [
    {
     "data": {
      "text/plain": [
       "array([0, 'classique moyen', '', 'barre à terre', 'pbt', 'pointes',\n",
       "       'classique 2', 'classique 1', 'classique interm. – avancé'],\n",
       "      dtype=object)"
      ]
     },
     "execution_count": 28,
     "metadata": {},
     "output_type": "execute_result"
    }
   ],
   "source": [
    "attitude.course3.unique()\n",
    "for row in range(len(attitude.course3)):\n",
    "    if attitude['course3'].iloc[row] != 0:\n",
    "        attitude['course3'].iloc[row] = attitude['course3'].iloc[row].replace(\"Classiquee Avancé\", \"Classique Avancé\").replace('barre à rerre', 'barre à terre').replace('inter/ avance', 'classique interm. – avancé').lower()\n",
    "        if attitude['course3'].iloc[row] =='barre':\n",
    "            attitude['course3'].iloc[row] = (\"barre à terre\")\n",
    "        if attitude['course3'].iloc[row] =='classique':\n",
    "            attitude['course3'].iloc[row] = (\"classique 1\")\n",
    "    elif attitude['course3'].iloc[row] == \"\":\n",
    "        attitude['course3'].iloc[row] == 0\n",
    "attitude.course3.unique()"
   ]
  },
  {
   "cell_type": "code",
   "execution_count": 29,
   "id": "e28c3511",
   "metadata": {
    "ExecuteTime": {
     "end_time": "2022-05-18T13:49:37.451046Z",
     "start_time": "2022-05-18T13:49:37.406165Z"
    }
   },
   "outputs": [],
   "source": [
    "for row in range(len(attitude.registration)):\n",
    "    attitude.registration.iloc[row] = '30€'"
   ]
  },
  {
   "cell_type": "code",
   "execution_count": 30,
   "id": "4e8b8814",
   "metadata": {
    "ExecuteTime": {
     "end_time": "2022-05-18T13:49:39.229781Z",
     "start_time": "2022-05-18T13:49:39.165984Z"
    }
   },
   "outputs": [
    {
     "data": {
      "text/plain": [
       "3     39\n",
       "1     36\n",
       "10    14\n",
       "4      5\n",
       "2      3\n",
       "5      2\n",
       "Name: installments, dtype: int64"
      ]
     },
     "execution_count": 30,
     "metadata": {},
     "output_type": "execute_result"
    }
   ],
   "source": [
    "for row in range(len(attitude.installments)):\n",
    "    attitude.installments.iloc[row] = attitude.installments.iloc[row].replace('shh', '1').replace('10 chéques\\n(1-10)', '10').replace('9 + 1', '10')\n",
    "attitude.installments.value_counts()\n",
    "attitude.installments.iloc[34] ='3'\n",
    "attitude.installments.iloc[46] ='1'\n",
    "attitude.installments.value_counts()"
   ]
  },
  {
   "cell_type": "code",
   "execution_count": 31,
   "id": "be175654",
   "metadata": {
    "ExecuteTime": {
     "end_time": "2022-05-18T13:49:42.755843Z",
     "start_time": "2022-05-18T13:49:42.701987Z"
    }
   },
   "outputs": [
    {
     "name": "stdout",
     "output_type": "stream",
     "text": [
      "[720 500 880 1000 1040]\n"
     ]
    }
   ],
   "source": [
    "for row in range(len(attitude['total'])):\n",
    "    if attitude['total'].iloc[row] == '+ 30':\n",
    "        if attitude['course'].iloc[row] == 'carte 10 cours':\n",
    "            attitude['total'].iloc[row] = 1000\n",
    "        elif attitude['course2'].iloc[row] == 0:\n",
    "            attitude['total'].iloc[row] = 500\n",
    "        else:\n",
    "            if attitude['course3'].iloc[row] == 0:\n",
    "                attitude['total'].iloc[row] = 720\n",
    "            else:\n",
    "                attitude['total'].iloc[row] = 880\n",
    "attitude['total'].iloc[46] = 1040\n",
    "attitude['total'].iloc[53] = 720\n",
    "attitude['total'].iloc[54] = 500\n",
    "attitude['total'].iloc[58] = 1040\n",
    "for row in range(len(attitude['total'])):\n",
    "    attitude['total'].iloc[row] = int(attitude['total'].iloc[row])\n",
    "print(attitude['total'].unique())"
   ]
  },
  {
   "cell_type": "code",
   "execution_count": 32,
   "id": "d3f08930",
   "metadata": {
    "ExecuteTime": {
     "end_time": "2022-05-18T13:49:48.105106Z",
     "start_time": "2022-05-18T13:49:48.078174Z"
    }
   },
   "outputs": [],
   "source": [
    "attitude_eleves = attitude.drop(columns=[\"course\", \"schedule\",  \"course2\", \"schedule2\",  \"course3\", \"schedule3\", \"registration\", \"installments\", \"total\"])\n",
    "attitude_cours22 = attitude.drop(columns=[ \"birthday\", \"address\", \"city\", \"pcode\", \"mail\", \"telephone\", \"legal_representative\",  \"registration\", \"installments\", \"total\"])\n",
    "attitude_paiement22 = attitude.drop(columns=[ \"birthday\", \"address\", \"city\", \"pcode\", \"mail\", \"telephone\",  \"legal_representative\", \"course\", \"schedule\",  \"course2\", \"schedule2\",  \"course3\", \"schedule3\",])"
   ]
  },
  {
   "cell_type": "code",
   "execution_count": 35,
   "id": "4a113a93",
   "metadata": {
    "ExecuteTime": {
     "end_time": "2022-05-18T13:50:01.006165Z",
     "start_time": "2022-05-18T13:50:00.970264Z"
    }
   },
   "outputs": [
    {
     "data": {
      "text/html": [
       "<div>\n",
       "<style scoped>\n",
       "    .dataframe tbody tr th:only-of-type {\n",
       "        vertical-align: middle;\n",
       "    }\n",
       "\n",
       "    .dataframe tbody tr th {\n",
       "        vertical-align: top;\n",
       "    }\n",
       "\n",
       "    .dataframe thead th {\n",
       "        text-align: right;\n",
       "    }\n",
       "</style>\n",
       "<table border=\"1\" class=\"dataframe\">\n",
       "  <thead>\n",
       "    <tr style=\"text-align: right;\">\n",
       "      <th></th>\n",
       "      <th>name</th>\n",
       "      <th>registration</th>\n",
       "      <th>installments</th>\n",
       "      <th>total</th>\n",
       "    </tr>\n",
       "  </thead>\n",
       "  <tbody>\n",
       "    <tr>\n",
       "      <th>0</th>\n",
       "      <td>Blatt Luce</td>\n",
       "      <td>30€</td>\n",
       "      <td>4</td>\n",
       "      <td>720</td>\n",
       "    </tr>\n",
       "    <tr>\n",
       "      <th>1</th>\n",
       "      <td>Paulon Lily</td>\n",
       "      <td>30€</td>\n",
       "      <td>4</td>\n",
       "      <td>500</td>\n",
       "    </tr>\n",
       "    <tr>\n",
       "      <th>2</th>\n",
       "      <td>Mezard Emmanuelle</td>\n",
       "      <td>30€</td>\n",
       "      <td>3</td>\n",
       "      <td>880</td>\n",
       "    </tr>\n",
       "    <tr>\n",
       "      <th>3</th>\n",
       "      <td>Corbiere Beatrix</td>\n",
       "      <td>30€</td>\n",
       "      <td>1</td>\n",
       "      <td>720</td>\n",
       "    </tr>\n",
       "    <tr>\n",
       "      <th>4</th>\n",
       "      <td>François Eve</td>\n",
       "      <td>30€</td>\n",
       "      <td>3</td>\n",
       "      <td>720</td>\n",
       "    </tr>\n",
       "    <tr>\n",
       "      <th>...</th>\n",
       "      <td>...</td>\n",
       "      <td>...</td>\n",
       "      <td>...</td>\n",
       "      <td>...</td>\n",
       "    </tr>\n",
       "    <tr>\n",
       "      <th>94</th>\n",
       "      <td>Peccia-Galletto Sasha</td>\n",
       "      <td>30€</td>\n",
       "      <td>3</td>\n",
       "      <td>500</td>\n",
       "    </tr>\n",
       "    <tr>\n",
       "      <th>95</th>\n",
       "      <td>Galvani Francoise</td>\n",
       "      <td>30€</td>\n",
       "      <td>1</td>\n",
       "      <td>500</td>\n",
       "    </tr>\n",
       "    <tr>\n",
       "      <th>96</th>\n",
       "      <td>Lemozit Sasha</td>\n",
       "      <td>30€</td>\n",
       "      <td>3</td>\n",
       "      <td>500</td>\n",
       "    </tr>\n",
       "    <tr>\n",
       "      <th>97</th>\n",
       "      <td>Blanc Bouny Celeste</td>\n",
       "      <td>30€</td>\n",
       "      <td>3</td>\n",
       "      <td>500</td>\n",
       "    </tr>\n",
       "    <tr>\n",
       "      <th>98</th>\n",
       "      <td>Ferreira Constance</td>\n",
       "      <td>30€</td>\n",
       "      <td>1</td>\n",
       "      <td>500</td>\n",
       "    </tr>\n",
       "  </tbody>\n",
       "</table>\n",
       "<p>99 rows × 4 columns</p>\n",
       "</div>"
      ],
      "text/plain": [
       "                     name registration installments total\n",
       "0              Blatt Luce          30€            4   720\n",
       "1             Paulon Lily          30€            4   500\n",
       "2       Mezard Emmanuelle          30€            3   880\n",
       "3        Corbiere Beatrix          30€            1   720\n",
       "4            François Eve          30€            3   720\n",
       "..                    ...          ...          ...   ...\n",
       "94  Peccia-Galletto Sasha          30€            3   500\n",
       "95      Galvani Francoise          30€            1   500\n",
       "96          Lemozit Sasha          30€            3   500\n",
       "97    Blanc Bouny Celeste          30€            3   500\n",
       "98     Ferreira Constance          30€            1   500\n",
       "\n",
       "[99 rows x 4 columns]"
      ]
     },
     "execution_count": 35,
     "metadata": {},
     "output_type": "execute_result"
    }
   ],
   "source": [
    "attitude_paiement22"
   ]
  },
  {
   "cell_type": "code",
   "execution_count": 36,
   "id": "cfa397d8",
   "metadata": {
    "ExecuteTime": {
     "end_time": "2022-05-18T13:50:09.515922Z",
     "start_time": "2022-05-18T13:50:09.489991Z"
    },
    "scrolled": true
   },
   "outputs": [
    {
     "data": {
      "text/plain": [
       "{'',\n",
       " 'barre à terre',\n",
       " 'carte 10 cours',\n",
       " 'classique 1',\n",
       " 'classique 2',\n",
       " 'classique avancé',\n",
       " 'classique interm. – avancé',\n",
       " 'classique moyen',\n",
       " 'contemporain',\n",
       " 'débutant',\n",
       " 'initiation',\n",
       " 'moderne',\n",
       " 'pbt',\n",
       " 'pbt + ballet fitness',\n",
       " 'pilates',\n",
       " 'pointes',\n",
       " 'préparatoire',\n",
       " 'éveil'}"
      ]
     },
     "execution_count": 36,
     "metadata": {},
     "output_type": "execute_result"
    }
   ],
   "source": [
    "courses = []\n",
    "for cours in attitude_cours22['course'].unique():\n",
    "    if cours != 0 and cours != '1' and cours != \"\":\n",
    "        courses.append(cours)\n",
    "for cours2 in attitude_cours22['course2'].unique():\n",
    "    if cours2 != 0 and cours2 != '1' and cours != \"\":\n",
    "        courses.append(cours2)\n",
    "for cours3 in attitude_cours22['course3'].unique():\n",
    "    if cours3 != 0 and cours3 != '1' and cours != \"\":\n",
    "        courses.append(cours3)\n",
    "\n",
    "courses = set(courses)\n",
    "courses"
   ]
  },
  {
   "cell_type": "code",
   "execution_count": 37,
   "id": "df0f1dbc",
   "metadata": {
    "ExecuteTime": {
     "end_time": "2022-05-18T13:50:12.315260Z",
     "start_time": "2022-05-18T13:50:12.304766Z"
    }
   },
   "outputs": [],
   "source": [
    "rows =[]\n",
    "def students (course):\n",
    "    cours =[]\n",
    "    for row in range(len(attitude_cours22['course'])):\n",
    "        if attitude_cours22['course'].iloc[row] == course or attitude_cours22['course2'].iloc[row] == course or attitude_cours22['course3'].iloc[row] == course:\n",
    "            cours.append(attitude_cours22[\"name\"].iloc[row])\n",
    "    return cours"
   ]
  },
  {
   "cell_type": "code",
   "execution_count": 38,
   "id": "89898e72",
   "metadata": {
    "ExecuteTime": {
     "end_time": "2022-05-18T13:50:14.346345Z",
     "start_time": "2022-05-18T13:50:14.227043Z"
    }
   },
   "outputs": [
    {
     "name": "stdout",
     "output_type": "stream",
     "text": [
      "\n",
      "éveil\n",
      "préparatoire\n",
      "carte 10 cours\n",
      "pbt\n",
      "débutant\n",
      "pilates\n",
      "pointes\n",
      "contemporain\n",
      "classique interm. – avancé\n",
      "classique moyen\n",
      "classique 1\n",
      "classique avancé\n",
      "initiation\n",
      "moderne\n",
      "pbt + ballet fitness\n",
      "barre à terre\n",
      "classique 2\n"
     ]
    },
    {
     "data": {
      "text/plain": [
       "dict_keys(['', 'éveil', 'préparatoire', 'carte 10 cours', 'pbt', 'débutant', 'pilates', 'pointes', 'contemporain', 'classique interm. – avancé', 'classique moyen', 'classique 1', 'classique avancé', 'initiation', 'moderne', 'pbt + ballet fitness', 'barre à terre', 'classique 2'])"
      ]
     },
     "execution_count": 38,
     "metadata": {},
     "output_type": "execute_result"
    }
   ],
   "source": [
    "data_courses = dict()\n",
    "for course in courses:\n",
    "    try:\n",
    "            data_courses[course]= students(course)\n",
    "            print(course)\n",
    "    except:\n",
    "        continue\n",
    "        \n",
    "data_courses.keys()"
   ]
  },
  {
   "cell_type": "code",
   "execution_count": 39,
   "id": "b661ed30",
   "metadata": {
    "ExecuteTime": {
     "end_time": "2022-05-18T13:50:21.541057Z",
     "start_time": "2022-05-18T13:50:21.535075Z"
    }
   },
   "outputs": [],
   "source": [
    "for course in data_courses.keys():\n",
    "    if course != 0 or course !='carte 10 cours':\n",
    "        data_courses[course].append('Shawali Natacha')"
   ]
  },
  {
   "cell_type": "code",
   "execution_count": 40,
   "id": "5dd571e6",
   "metadata": {
    "ExecuteTime": {
     "end_time": "2022-05-18T13:50:23.489738Z",
     "start_time": "2022-05-18T13:50:23.482760Z"
    }
   },
   "outputs": [],
   "source": [
    "attitude_cours23 = attitude_cours22.iloc[0:0]\n",
    "attitude_paiement23 = attitude_paiement22.iloc[0:0]"
   ]
  },
  {
   "cell_type": "code",
   "execution_count": 44,
   "id": "d91e534e",
   "metadata": {
    "ExecuteTime": {
     "end_time": "2022-05-18T13:54:07.965315Z",
     "start_time": "2022-05-18T13:54:07.832669Z"
    }
   },
   "outputs": [
    {
     "data": {
      "text/html": [
       "<div>\n",
       "<style scoped>\n",
       "    .dataframe tbody tr th:only-of-type {\n",
       "        vertical-align: middle;\n",
       "    }\n",
       "\n",
       "    .dataframe tbody tr th {\n",
       "        vertical-align: top;\n",
       "    }\n",
       "\n",
       "    .dataframe thead th {\n",
       "        text-align: right;\n",
       "    }\n",
       "</style>\n",
       "<table border=\"1\" class=\"dataframe\">\n",
       "  <thead>\n",
       "    <tr style=\"text-align: right;\">\n",
       "      <th></th>\n",
       "      <th>name</th>\n",
       "      <th>eveil</th>\n",
       "      <th>preparatoire</th>\n",
       "      <th>pbt</th>\n",
       "      <th>debutant</th>\n",
       "      <th>pilates</th>\n",
       "      <th>pointes</th>\n",
       "      <th>contemporain</th>\n",
       "      <th>classique_interm_avance</th>\n",
       "      <th>classique_moyen</th>\n",
       "      <th>classique_1</th>\n",
       "      <th>classique_avance</th>\n",
       "      <th>initiation</th>\n",
       "      <th>moderne</th>\n",
       "      <th>pbt_ballet_fitness</th>\n",
       "      <th>barre_a_terre</th>\n",
       "      <th>classique_2</th>\n",
       "    </tr>\n",
       "  </thead>\n",
       "  <tbody>\n",
       "    <tr>\n",
       "      <th>0</th>\n",
       "      <td>Blatt Luce</td>\n",
       "      <td>0</td>\n",
       "      <td>0</td>\n",
       "      <td>0</td>\n",
       "      <td>0</td>\n",
       "      <td>0</td>\n",
       "      <td>0</td>\n",
       "      <td>0</td>\n",
       "      <td>0</td>\n",
       "      <td>0</td>\n",
       "      <td>0</td>\n",
       "      <td>0</td>\n",
       "      <td>0</td>\n",
       "      <td>0</td>\n",
       "      <td>1</td>\n",
       "      <td>1</td>\n",
       "      <td>0</td>\n",
       "    </tr>\n",
       "    <tr>\n",
       "      <th>1</th>\n",
       "      <td>Paulon Lily</td>\n",
       "      <td>0</td>\n",
       "      <td>1</td>\n",
       "      <td>0</td>\n",
       "      <td>0</td>\n",
       "      <td>0</td>\n",
       "      <td>0</td>\n",
       "      <td>0</td>\n",
       "      <td>0</td>\n",
       "      <td>0</td>\n",
       "      <td>0</td>\n",
       "      <td>0</td>\n",
       "      <td>0</td>\n",
       "      <td>0</td>\n",
       "      <td>0</td>\n",
       "      <td>0</td>\n",
       "      <td>0</td>\n",
       "    </tr>\n",
       "    <tr>\n",
       "      <th>2</th>\n",
       "      <td>Mezard Emmanuelle</td>\n",
       "      <td>0</td>\n",
       "      <td>0</td>\n",
       "      <td>0</td>\n",
       "      <td>0</td>\n",
       "      <td>0</td>\n",
       "      <td>0</td>\n",
       "      <td>0</td>\n",
       "      <td>0</td>\n",
       "      <td>1</td>\n",
       "      <td>0</td>\n",
       "      <td>0</td>\n",
       "      <td>0</td>\n",
       "      <td>0</td>\n",
       "      <td>1</td>\n",
       "      <td>0</td>\n",
       "      <td>0</td>\n",
       "    </tr>\n",
       "    <tr>\n",
       "      <th>3</th>\n",
       "      <td>Corbiere Beatrix</td>\n",
       "      <td>0</td>\n",
       "      <td>0</td>\n",
       "      <td>0</td>\n",
       "      <td>0</td>\n",
       "      <td>1</td>\n",
       "      <td>0</td>\n",
       "      <td>0</td>\n",
       "      <td>0</td>\n",
       "      <td>0</td>\n",
       "      <td>0</td>\n",
       "      <td>0</td>\n",
       "      <td>0</td>\n",
       "      <td>0</td>\n",
       "      <td>0</td>\n",
       "      <td>0</td>\n",
       "      <td>0</td>\n",
       "    </tr>\n",
       "    <tr>\n",
       "      <th>4</th>\n",
       "      <td>François Eve</td>\n",
       "      <td>0</td>\n",
       "      <td>0</td>\n",
       "      <td>0</td>\n",
       "      <td>0</td>\n",
       "      <td>0</td>\n",
       "      <td>0</td>\n",
       "      <td>0</td>\n",
       "      <td>0</td>\n",
       "      <td>1</td>\n",
       "      <td>0</td>\n",
       "      <td>0</td>\n",
       "      <td>0</td>\n",
       "      <td>0</td>\n",
       "      <td>0</td>\n",
       "      <td>1</td>\n",
       "      <td>0</td>\n",
       "    </tr>\n",
       "    <tr>\n",
       "      <th>...</th>\n",
       "      <td>...</td>\n",
       "      <td>...</td>\n",
       "      <td>...</td>\n",
       "      <td>...</td>\n",
       "      <td>...</td>\n",
       "      <td>...</td>\n",
       "      <td>...</td>\n",
       "      <td>...</td>\n",
       "      <td>...</td>\n",
       "      <td>...</td>\n",
       "      <td>...</td>\n",
       "      <td>...</td>\n",
       "      <td>...</td>\n",
       "      <td>...</td>\n",
       "      <td>...</td>\n",
       "      <td>...</td>\n",
       "      <td>...</td>\n",
       "    </tr>\n",
       "    <tr>\n",
       "      <th>94</th>\n",
       "      <td>Peccia-Galletto Sasha</td>\n",
       "      <td>0</td>\n",
       "      <td>0</td>\n",
       "      <td>0</td>\n",
       "      <td>1</td>\n",
       "      <td>0</td>\n",
       "      <td>0</td>\n",
       "      <td>0</td>\n",
       "      <td>0</td>\n",
       "      <td>0</td>\n",
       "      <td>0</td>\n",
       "      <td>0</td>\n",
       "      <td>0</td>\n",
       "      <td>0</td>\n",
       "      <td>0</td>\n",
       "      <td>0</td>\n",
       "      <td>0</td>\n",
       "    </tr>\n",
       "    <tr>\n",
       "      <th>95</th>\n",
       "      <td>Galvani Francoise</td>\n",
       "      <td>0</td>\n",
       "      <td>0</td>\n",
       "      <td>0</td>\n",
       "      <td>0</td>\n",
       "      <td>0</td>\n",
       "      <td>0</td>\n",
       "      <td>0</td>\n",
       "      <td>0</td>\n",
       "      <td>0</td>\n",
       "      <td>0</td>\n",
       "      <td>0</td>\n",
       "      <td>0</td>\n",
       "      <td>0</td>\n",
       "      <td>0</td>\n",
       "      <td>1</td>\n",
       "      <td>0</td>\n",
       "    </tr>\n",
       "    <tr>\n",
       "      <th>96</th>\n",
       "      <td>Lemozit Sasha</td>\n",
       "      <td>0</td>\n",
       "      <td>0</td>\n",
       "      <td>0</td>\n",
       "      <td>0</td>\n",
       "      <td>0</td>\n",
       "      <td>0</td>\n",
       "      <td>0</td>\n",
       "      <td>0</td>\n",
       "      <td>0</td>\n",
       "      <td>0</td>\n",
       "      <td>0</td>\n",
       "      <td>0</td>\n",
       "      <td>1</td>\n",
       "      <td>0</td>\n",
       "      <td>0</td>\n",
       "      <td>0</td>\n",
       "    </tr>\n",
       "    <tr>\n",
       "      <th>97</th>\n",
       "      <td>Blanc Bouny Celeste</td>\n",
       "      <td>0</td>\n",
       "      <td>1</td>\n",
       "      <td>0</td>\n",
       "      <td>0</td>\n",
       "      <td>0</td>\n",
       "      <td>0</td>\n",
       "      <td>0</td>\n",
       "      <td>0</td>\n",
       "      <td>0</td>\n",
       "      <td>0</td>\n",
       "      <td>0</td>\n",
       "      <td>0</td>\n",
       "      <td>0</td>\n",
       "      <td>0</td>\n",
       "      <td>0</td>\n",
       "      <td>0</td>\n",
       "    </tr>\n",
       "    <tr>\n",
       "      <th>98</th>\n",
       "      <td>Ferreira Constance</td>\n",
       "      <td>0</td>\n",
       "      <td>0</td>\n",
       "      <td>0</td>\n",
       "      <td>0</td>\n",
       "      <td>0</td>\n",
       "      <td>0</td>\n",
       "      <td>0</td>\n",
       "      <td>0</td>\n",
       "      <td>0</td>\n",
       "      <td>0</td>\n",
       "      <td>0</td>\n",
       "      <td>0</td>\n",
       "      <td>0</td>\n",
       "      <td>0</td>\n",
       "      <td>0</td>\n",
       "      <td>1</td>\n",
       "    </tr>\n",
       "  </tbody>\n",
       "</table>\n",
       "<p>99 rows × 17 columns</p>\n",
       "</div>"
      ],
      "text/plain": [
       "                     name  eveil  preparatoire  pbt  debutant  pilates  \\\n",
       "0              Blatt Luce      0             0    0         0        0   \n",
       "1             Paulon Lily      0             1    0         0        0   \n",
       "2       Mezard Emmanuelle      0             0    0         0        0   \n",
       "3        Corbiere Beatrix      0             0    0         0        1   \n",
       "4            François Eve      0             0    0         0        0   \n",
       "..                    ...    ...           ...  ...       ...      ...   \n",
       "94  Peccia-Galletto Sasha      0             0    0         1        0   \n",
       "95      Galvani Francoise      0             0    0         0        0   \n",
       "96          Lemozit Sasha      0             0    0         0        0   \n",
       "97    Blanc Bouny Celeste      0             1    0         0        0   \n",
       "98     Ferreira Constance      0             0    0         0        0   \n",
       "\n",
       "    pointes  contemporain  classique_interm_avance  classique_moyen  \\\n",
       "0         0             0                        0                0   \n",
       "1         0             0                        0                0   \n",
       "2         0             0                        0                1   \n",
       "3         0             0                        0                0   \n",
       "4         0             0                        0                1   \n",
       "..      ...           ...                      ...              ...   \n",
       "94        0             0                        0                0   \n",
       "95        0             0                        0                0   \n",
       "96        0             0                        0                0   \n",
       "97        0             0                        0                0   \n",
       "98        0             0                        0                0   \n",
       "\n",
       "    classique_1  classique_avance  initiation  moderne  pbt_ballet_fitness  \\\n",
       "0             0                 0           0        0                   1   \n",
       "1             0                 0           0        0                   0   \n",
       "2             0                 0           0        0                   1   \n",
       "3             0                 0           0        0                   0   \n",
       "4             0                 0           0        0                   0   \n",
       "..          ...               ...         ...      ...                 ...   \n",
       "94            0                 0           0        0                   0   \n",
       "95            0                 0           0        0                   0   \n",
       "96            0                 0           0        1                   0   \n",
       "97            0                 0           0        0                   0   \n",
       "98            0                 0           0        0                   0   \n",
       "\n",
       "    barre_a_terre  classique_2  \n",
       "0               1            0  \n",
       "1               0            0  \n",
       "2               0            0  \n",
       "3               0            0  \n",
       "4               1            0  \n",
       "..            ...          ...  \n",
       "94              0            0  \n",
       "95              1            0  \n",
       "96              0            0  \n",
       "97              0            0  \n",
       "98              0            1  \n",
       "\n",
       "[99 rows x 17 columns]"
      ]
     },
     "execution_count": 44,
     "metadata": {},
     "output_type": "execute_result"
    }
   ],
   "source": [
    "colunes=[]\n",
    "for row in range(len(attitude_cours22['course'])):\n",
    "    rows=[]\n",
    "    rows.append(attitude_cours22[\"name\"].iloc[row])\n",
    "    for course in data_courses.keys():\n",
    "        if attitude_cours22['course'].iloc[row] == course or attitude_cours22['course2'].iloc[row] == course or attitude_cours22['course3'].iloc[row] == course:\n",
    "            rows.append(1)\n",
    "        else:\n",
    "            rows.append(0)\n",
    "    colunes.append(rows)\n",
    "            \n",
    "classes22 = pd.DataFrame(colunes)\n",
    "classes22.columns = ('name','', 'eveil', 'preparatoire', 'carte_10_cours', 'pbt', 'debutant', 'pilates', 'pointes', 'contemporain', 'classique_interm_avance', 'classique_moyen', 'classique_1', 'classique_avance', 'initiation', 'moderne', 'pbt_ballet_fitness', 'barre_a_terre', 'classique_2')\n",
    "classes22 = classes22.drop(['','carte_10_cours'], axis=1)\n",
    "classes22"
   ]
  },
  {
   "cell_type": "code",
   "execution_count": 45,
   "id": "68abf97b",
   "metadata": {
    "ExecuteTime": {
     "end_time": "2022-05-18T13:54:17.883231Z",
     "start_time": "2022-05-18T13:54:17.867273Z"
    }
   },
   "outputs": [],
   "source": [
    "classes23 = classes22.iloc[0:0]"
   ]
  },
  {
   "cell_type": "code",
   "execution_count": 46,
   "id": "0c5a85e8",
   "metadata": {
    "ExecuteTime": {
     "end_time": "2022-05-18T13:54:19.820521Z",
     "start_time": "2022-05-18T13:54:19.758684Z"
    }
   },
   "outputs": [],
   "source": [
    "attitude_eleves.to_csv('elevesdf.csv')\n",
    "attitude_cours22.to_csv('coursdf22.csv')\n",
    "classes22.to_csv('classes22.csv')\n",
    "attitude_paiement22.to_csv('paiment22.csv')\n",
    "attitude_cours23.to_csv('coursdf23.csv')\n",
    "classes23.to_csv('classes23.csv')\n",
    "attitude_paiement23.to_csv('paiment23.csv')"
   ]
  },
  {
   "cell_type": "code",
   "execution_count": 47,
   "id": "b1fc9f07",
   "metadata": {
    "ExecuteTime": {
     "end_time": "2022-05-18T13:54:21.245148Z",
     "start_time": "2022-05-18T13:54:21.228195Z"
    },
    "scrolled": false
   },
   "outputs": [],
   "source": [
    "def open_ssh_tunnel_and_mysql ():\n",
    "    \"\"\"Open an SSH tunnel and connect to a MySQL server using the SSH tunnel connection\n",
    "    return Global MySQL connection\"\"\"\n",
    "    load_dotenv()\n",
    "    db_server= os.getenv('db_server')\n",
    "    user=os.getenv(\"user\")\n",
    "    db_port=os.getenv(\"db_port\")\n",
    "    password=os.getenv(\"password\")\n",
    "    ip=os.getenv(\"ip\")\n",
    "    db_name=os.getenv(\"db_name\")\n",
    "    ip_ssh=os.getenv(\"ip_ssh\")\n",
    "    ssh_username=os.getenv(\"ssh_username\")\n",
    "    ssh_password=os.getenv(\"ssh_password\")\n",
    "    remote_bind_address=os.getenv(\"remote_bind_address\")\n",
    "    global server\n",
    "    global connection\n",
    "    global conn_addr\n",
    "    global engine\n",
    "    try:    \n",
    "        print('Opening tunnel :-P')  \n",
    "        server = SSHTunnelForwarder((ip_ssh, 4242), ssh_username=ssh_username, ssh_password=ssh_password, remote_bind_address=(db_server, 3306))\n",
    "        server.start()\n",
    "        print('Tunnel opend :-P')\n",
    "        port = str(server.local_bind_port)\n",
    "        conn_addr = 'mysql://' + user + ':' + password + '@' + db_server + ':' + port + '/' + db_name\n",
    "        engine = create_engine(conn_addr)\n",
    "        connection = engine.connect()\n",
    "        print('Yeah! MySQL server connected using the SSH tunnel connection!')\n",
    "    except Exception as E:\n",
    "        print(E)\n",
    "    \n",
    "def create_table (dataframe, table=str):\n",
    "    dataframe.to_sql(table, conn_addr, if_exists='replace', index=False)\n",
    "    print('All done, Madam!')\n",
    "    \n",
    "def drop_table(table):\n",
    "    engine.execute(f\"DROP table IF EXISTS {table}\")\n",
    "    print('Table deleted, Madam!')\n",
    "    \n",
    "def table_to_csv(table):\n",
    "    csv = sql_query_to_csv\n",
    "\n",
    "\n",
    "def disconnect_mysql ():\n",
    "    \"\"\"Disconnect from MySQL server\"\"\"\n",
    "    connection.close()  \n",
    "    print('MySQL server is not connected anymore!')\n",
    "    \n",
    "def shut_ssh_tunnel ():\n",
    "    \"\"\"Stop the SSH tunnel\"\"\"\n",
    "    server.stop()\n",
    "    print(\"You've stopped the SSH tunnel!\")"
   ]
  },
  {
   "cell_type": "code",
   "execution_count": 48,
   "id": "31475a77",
   "metadata": {
    "ExecuteTime": {
     "end_time": "2022-05-18T13:54:58.203329Z",
     "start_time": "2022-05-18T13:54:23.873878Z"
    }
   },
   "outputs": [
    {
     "name": "stdout",
     "output_type": "stream",
     "text": [
      "Opening tunnel :-P\n",
      "Tunnel opend :-P\n",
      "Yeah! MySQL server connected using the SSH tunnel connection!\n",
      "All done, Madam!\n",
      "All done, Madam!\n",
      "All done, Madam!\n",
      "All done, Madam!\n",
      "All done, Madam!\n",
      "All done, Madam!\n",
      "All done, Madam!\n",
      "MySQL server is not connected anymore!\n",
      "You've stopped the SSH tunnel!\n"
     ]
    }
   ],
   "source": [
    "open_ssh_tunnel_and_mysql ()\n",
    "create_table (attitude_eleves, 'elevesdf')\n",
    "create_table (attitude_cours22, 'coursdf22')\n",
    "create_table (classes22, 'classesdf22')\n",
    "create_table (attitude_paiement22, 'paimentsdf22')\n",
    "create_table (attitude_cours23, 'coursdf23')\n",
    "create_table (classes23, 'classesdf23')\n",
    "create_table (attitude_paiement23, 'paimentsdf23')\n",
    "disconnect_mysql ()\n",
    "shut_ssh_tunnel ()"
   ]
  }
 ],
 "metadata": {
  "kernelspec": {
   "display_name": "Python 3 (ipykernel)",
   "language": "python",
   "name": "python3"
  },
  "language_info": {
   "codemirror_mode": {
    "name": "ipython",
    "version": 3
   },
   "file_extension": ".py",
   "mimetype": "text/x-python",
   "name": "python",
   "nbconvert_exporter": "python",
   "pygments_lexer": "ipython3",
   "version": "3.9.7"
  },
  "toc": {
   "base_numbering": 1,
   "nav_menu": {},
   "number_sections": true,
   "sideBar": true,
   "skip_h1_title": false,
   "title_cell": "Table of Contents",
   "title_sidebar": "Contents",
   "toc_cell": false,
   "toc_position": {},
   "toc_section_display": true,
   "toc_window_display": false
  }
 },
 "nbformat": 4,
 "nbformat_minor": 5
}
