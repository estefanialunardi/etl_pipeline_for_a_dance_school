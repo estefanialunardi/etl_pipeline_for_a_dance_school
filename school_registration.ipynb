{
 "cells": [
  {
   "cell_type": "code",
   "execution_count": 1,
   "id": "15a46c8b",
   "metadata": {
    "ExecuteTime": {
     "end_time": "2022-05-17T17:16:03.826094Z",
     "start_time": "2022-05-17T17:15:56.911785Z"
    }
   },
   "outputs": [
    {
     "name": "stdout",
     "output_type": "stream",
     "text": [
      "Requirement already satisfied: PDFplumber in c:\\users\\tete\\anaconda3\\envs\\pycaret_aula\\lib\\site-packages (0.6.2)\n",
      "Requirement already satisfied: Wand>=0.6.7 in c:\\users\\tete\\anaconda3\\envs\\pycaret_aula\\lib\\site-packages (from PDFplumber) (0.6.7)\n",
      "Requirement already satisfied: pdfminer.six==20220319 in c:\\users\\tete\\anaconda3\\envs\\pycaret_aula\\lib\\site-packages (from PDFplumber) (20220319)\n",
      "Requirement already satisfied: Pillow>=9.1 in c:\\users\\tete\\anaconda3\\envs\\pycaret_aula\\lib\\site-packages (from PDFplumber) (9.1.0)\n",
      "Requirement already satisfied: chardet in c:\\users\\tete\\anaconda3\\envs\\pycaret_aula\\lib\\site-packages (from pdfminer.six==20220319->PDFplumber) (4.0.0)\n",
      "Requirement already satisfied: cryptography in c:\\users\\tete\\anaconda3\\envs\\pycaret_aula\\lib\\site-packages (from pdfminer.six==20220319->PDFplumber) (37.0.2)\n",
      "Requirement already satisfied: cffi>=1.12 in c:\\users\\tete\\anaconda3\\envs\\pycaret_aula\\lib\\site-packages (from cryptography->pdfminer.six==20220319->PDFplumber) (1.15.0)\n",
      "Requirement already satisfied: pycparser in c:\\users\\tete\\anaconda3\\envs\\pycaret_aula\\lib\\site-packages (from cffi>=1.12->cryptography->pdfminer.six==20220319->PDFplumber) (2.21)\n",
      "Note: you may need to restart the kernel to use updated packages.\n"
     ]
    }
   ],
   "source": [
    "pip install PDFplumber"
   ]
  },
  {
   "cell_type": "code",
   "execution_count": 350,
   "id": "19288d74",
   "metadata": {
    "ExecuteTime": {
     "end_time": "2022-05-18T20:48:41.582014Z",
     "start_time": "2022-05-18T20:48:41.564066Z"
    }
   },
   "outputs": [],
   "source": [
    "import pandas as pd\n",
    "import pdfplumber\n",
    "import re\n",
    "import os, os.path\n",
    "from dateutil import parser\n",
    "from sshtunnel import SSHTunnelForwarder\n",
    "import sqlalchemy as db\n",
    "from sqlalchemy import create_engine\n",
    "from dotenv import load_dotenv\n",
    "from datetime import datetime, date\n"
   ]
  },
  {
   "cell_type": "markdown",
   "id": "1120ac96",
   "metadata": {},
   "source": [
    "## Extracting available data"
   ]
  },
  {
   "cell_type": "markdown",
   "id": "16a9ce42",
   "metadata": {},
   "source": [
    "### Prior data\n",
    "When the school provided those PDF documents, which were extracted from a free online form builder for school applications, my first action was to take a look in the very first pages of the first document and understand it. I realized that, instead of organized tables with information about the students, all data was stored in form-based PDFs.  It was very look alike a printed document filled by each student separately. The main goal of keeping those documents were just records of students inscriptions, with no strategic business intent for that data.\n",
    "\n",
    "Therefore, I've proposed a different pipeline for that data, that not only could escalate, enabling larger volumes of data, but also that allowed the school to catalogue, clean, filter, manipulate and analyze all that value informations to find the best business solutions.\n"
   ]
  },
  {
   "cell_type": "code",
   "execution_count": 101,
   "id": "f5a3700e",
   "metadata": {
    "ExecuteTime": {
     "end_time": "2022-05-18T15:09:05.357506Z",
     "start_time": "2022-05-18T15:09:04.762981Z"
    }
   },
   "outputs": [
    {
     "name": "stdout",
     "output_type": "stream",
     "text": [
      "30\n",
      "Sunday, June 20, 2021\n",
      "Fiche d'inscription \n",
      "Nom et prénom d'élève  Blatt Luce\n",
      "Date de naissance 10 19 1960\n",
      "Adresse Rue des vincennes, 9\n",
      "Toulouse, 31500\n",
      "E-mail marieluceblatt@gmail.com\n",
      "Téléphone (0033) 607-103468\n",
      "Cours:      \n",
      "Horaire:   \n",
      "Lundi      12h15 Barre à terre   \n",
      "Lundi Heure\n",
      "Mardi    9h Barre à terre   \n",
      "Mardi Heure\n",
      "          \n",
      "Jeudi    9h30 pbt     \n",
      "Jeudi Heure\n",
      "Vendredi  10h classique moyen \n",
      "Vendredi Heure\n",
      "      \n",
      "            \n",
      "Téléverser le Certi\u0000cat Médical\n",
      "CamScanner 06-20-2021 20.39.pdf\n",
      "pdf\n",
      "1\n",
      "Create your own automated PDFs with Jotform PDF Editor- It’s free\n"
     ]
    }
   ],
   "source": [
    "pdf_test = pdfplumber.open(\".\\\\data\\\\211596498612667-0.pdf\")\n",
    "print(len(pdf_test.pages))\n",
    "print(pdf_test.pages[0].extract_text())"
   ]
  },
  {
   "cell_type": "markdown",
   "id": "45850cbd",
   "metadata": {},
   "source": [
    "### Proposing a new way to store data"
   ]
  },
  {
   "cell_type": "markdown",
   "id": "f7256699",
   "metadata": {},
   "source": [
    "So, for a better comprehension of the available data, i've tried to create an organized table with all subscriptions information. Regardless any particularity of each student, they all filled the same form for submission, so I could easily identify the fields despite there was no obvious separators between fields."
   ]
  },
  {
   "cell_type": "markdown",
   "id": "2fcb8509",
   "metadata": {},
   "source": [
    "The inscription form provides lots of information about each student. I created lists to store these informations, according to the fields filled."
   ]
  },
  {
   "cell_type": "code",
   "execution_count": 103,
   "id": "de1ba78c",
   "metadata": {
    "ExecuteTime": {
     "end_time": "2022-05-18T15:09:26.676053Z",
     "start_time": "2022-05-18T15:09:26.631173Z"
    }
   },
   "outputs": [],
   "source": [
    "def read_pdfs (pdf):\n",
    "    \"\"\"open the pdf file and extract all the text information corresponding to each field\n",
    "    return info\"\"\"\n",
    "    info = []\n",
    "    for page in range(len(pdf.pages)):\n",
    "        info.append(pdf.pages[page].extract_text())\n",
    "    info = \"\".join(info).replace(\"Create your own automated PDFs with Jotform PDF Editor- It’s free\",\"\").split(\"Fiche d'inscription\")\n",
    "    for student in range(1,len(info)):\n",
    "        try:\n",
    "            nom = info[student].split(\"Nom et prénom d'élève\")[1].split(\"\\n\")[0].strip()\n",
    "        except:\n",
    "            nom = 0\n",
    "        try:\n",
    "            naissance = info[student].split(\"Date de naissance\")[1].split(\"\\n\")[0].strip()\n",
    "        except:\n",
    "            naissance = 0\n",
    "        try:\n",
    "            adresse = info[student].split(\"Adresse\")[1].split(\"\\n\")[0].replace(\"\\n\",\" \").strip()\n",
    "        except:\n",
    "            adresse = 0\n",
    "        try:\n",
    "            cite = info[student].split(\"Adresse\")[1].split(\"\\n\")[1].split(\",\")[0].replace(\"\\n\",\" \").strip()\n",
    "        except:\n",
    "            cite = 0\n",
    "        try:\n",
    "            postal = info[student].split(\"Adresse\")[1].split(\"\\n\")[1].split(\",\")[1].split(\"\\n\")[0].replace(\"\\n\",\" \").strip()\n",
    "        except:\n",
    "            postal = 0\n",
    "        try:\n",
    "            email = info[student].split(\"E-mail\")[1].split(\"\\n\")[0].strip()\n",
    "        except:\n",
    "            email=0\n",
    "        try:\n",
    "            representant_legal = info[student].split(\"Représentant légal de l’inscrit (pour\")[1].split(\"les mineurs\")[0].strip()\n",
    "        except:\n",
    "            representant_legal = 0\n",
    "        try:\n",
    "            tel = info[student].split(\"Téléphone\")[1].split(\"\\n\")[0].strip()\n",
    "        except:\n",
    "            tel = info[student].split(\"Téléphone\")[1].split(\"\\n\")[0].strip()\n",
    "        try:\n",
    "            cours = info[student].split(\"Cours:\")[1].split(\"Horaire:\")[0].replace(\"\\nCours\", \"\").strip()\n",
    "        except:\n",
    "            cours = 0\n",
    "        try:\n",
    "            horaire = info[student].split(\"Horaire:\")[1].split(\"Cours 2\")[0].replace(\"\\xa0\", \"\").replace(\"Heure\", \"\").strip()\n",
    "            cours2 = info[student].split(\"Cours 2:\")[1].split(\"Horaire:\")[0].replace(\"\\nCours\", \"\").strip()\n",
    "            try:\n",
    "                horaire2 = info[student].split(\"Horaire:\")[2].split(\"Cours 3\")[0].replace(\"\\xa0\", \"\").replace(\"Heure\", \"\").strip()\n",
    "                cours3 = info[student].split(\"Cours 3:\")[1].split(\"Horaire:\")[0].replace(\"\\nCours\", \"\").strip()\n",
    "                horaire3 = info[student].split(\"Horaire:\")[3].split(\"Téléverser\")[0].replace(\"Heure\", \"\").strip()\n",
    "            except: \n",
    "                horaire2= info[student].split(\"Horaire:\")[2].split(\"Téléverser\")[0].replace(\"\\xa0\", \"\").replace(\"Heure\", \"\").strip()\n",
    "                cours3 =0\n",
    "                horaire3=0\n",
    "        except:\n",
    "            try:\n",
    "                horaire = info[student].split(\"Horaire:\")[1].split(\"Téléverser\")[0].replace(\"\\xa0\", \"\").replace(\"Heure\", \"\").strip()\n",
    "            except:\n",
    "                horaire = 0\n",
    "            cours2 =0\n",
    "            horaire2=0\n",
    "            cours3 =0\n",
    "            horaire3=0\n",
    "        try:\n",
    "            adhesion = info[student].split(\"\\xa0\\xa0\\xa0\\xa0\\xa0+\")[1].split(\"\\n(valeur de chaque chèque)\")[0].strip()\n",
    "        except: \n",
    "            adhesion = info[student].split(\"Please Select\")[1].split(\"adhésion\")[0].strip() \n",
    "        try:\n",
    "            paiement_fractionne =info[student].split(\"Par\")[1].split(\" cheques\")[0].strip()\n",
    "        except:\n",
    "            paiement_fractionne =info[student].split(\"avec\")[1].split(\"chèques\")[0].strip()\n",
    "        paiement_total = info[student].split(\"au total de\")[1].split(\"€\")[0].strip()\n",
    "        name.append(nom)\n",
    "        birthday.append(naissance)\n",
    "        address.append(adresse)\n",
    "        city.append(cite)\n",
    "        pcode.append(postal)\n",
    "        mail.append(email)\n",
    "        telephone.append(tel)\n",
    "        legal_representative.append(representant_legal)\n",
    "        course.append(cours)\n",
    "        schedule.append(horaire)\n",
    "        course2.append(cours2)\n",
    "        schedule2.append(horaire2)\n",
    "        course3.append(cours3)\n",
    "        schedule3.append(horaire3)\n",
    "        registration.append(adhesion)\n",
    "        installments.append(paiement_fractionne)\n",
    "        total.append(paiement_total)"
   ]
  },
  {
   "cell_type": "markdown",
   "id": "a893a33c",
   "metadata": {},
   "source": [
    "All available data was stored in the same folder, and the files' name differ only by the number at the end of them, from 0 to the last. "
   ]
  },
  {
   "cell_type": "code",
   "execution_count": 104,
   "id": "3c1ae972",
   "metadata": {
    "ExecuteTime": {
     "end_time": "2022-05-18T15:10:43.851604Z",
     "start_time": "2022-05-18T15:09:30.197624Z"
    }
   },
   "outputs": [],
   "source": [
    "name=[]\n",
    "birthday=[]\n",
    "address = []\n",
    "city = []\n",
    "pcode =[]\n",
    "mail =[]\n",
    "telephone =[]\n",
    "legal_representative =[]\n",
    "course=[]\n",
    "schedule =[]\n",
    "course2 =[]\n",
    "schedule2 =[]\n",
    "course3=[]\n",
    "schedule3 =[]\n",
    "registration =[]\n",
    "installments =[]\n",
    "total =[]\n",
    "files = os.listdir('C:\\\\Users\\\\Tete\\\\Curso - DA\\\\Projeto Final\\\\data') \n",
    "for file in range(len(files)-1):\n",
    "    pdf = pdfplumber.open(f\".\\\\data\\\\211596498612667-{file}.pdf\")\n",
    "    read_pdfs (pdf)"
   ]
  },
  {
   "cell_type": "markdown",
   "id": "04e85261",
   "metadata": {},
   "source": [
    "### Creating the dataframe\n",
    "After extracting all the information avaialable on those forms, I've gathered them in a dataframe which columns are the fields from the submission form."
   ]
  },
  {
   "cell_type": "code",
   "execution_count": 105,
   "id": "c365413c",
   "metadata": {
    "ExecuteTime": {
     "end_time": "2022-05-18T15:10:43.868556Z",
     "start_time": "2022-05-18T15:10:43.856589Z"
    }
   },
   "outputs": [],
   "source": [
    "attitude = pd.DataFrame(zip(name,birthday, address, city, pcode, mail, telephone, legal_representative, course, schedule, course2, schedule2, course3, schedule3, registration, installments, total))\n",
    "attitude.columns = ['name','birthday', 'address', 'city', 'pcode','mail', 'telephone', 'legal_representative', 'course', 'schedule', 'course2', 'schedule2', 'course3', 'schedule3', 'registration', 'installments', 'total']"
   ]
  },
  {
   "cell_type": "markdown",
   "id": "5d77df04",
   "metadata": {
    "ExecuteTime": {
     "end_time": "2022-05-13T18:45:25.319464Z",
     "start_time": "2022-05-13T18:45:25.274608Z"
    }
   },
   "source": [
    "## Transforming data   "
   ]
  },
  {
   "cell_type": "markdown",
   "id": "05372ccd",
   "metadata": {},
   "source": [
    "### Checking columns:"
   ]
  },
  {
   "cell_type": "code",
   "execution_count": 106,
   "id": "794f4652",
   "metadata": {
    "ExecuteTime": {
     "end_time": "2022-05-18T15:10:43.913440Z",
     "start_time": "2022-05-18T15:10:43.883518Z"
    }
   },
   "outputs": [],
   "source": [
    "#Dropping duplicates\n",
    "attitude = attitude.drop_duplicates().reset_index(drop=True)"
   ]
  },
  {
   "cell_type": "code",
   "execution_count": 107,
   "id": "b13e308d",
   "metadata": {
    "ExecuteTime": {
     "end_time": "2022-05-18T15:20:07.361212Z",
     "start_time": "2022-05-18T15:20:07.336276Z"
    }
   },
   "outputs": [],
   "source": [
    "#Let's standardize it!\n",
    "# Strings\n",
    "attitude.name = [nom.title() for nom in attitude.name]\n",
    "attitude.address = [adresse.title() for adresse in attitude.address]\n",
    "attitude.city = [cite.title() for cite in attitude.city]\n",
    "attitude.mail = [email.lower() for email in attitude.mail]\n",
    "attitude.legal_representative = [representant.title() if representant != 0 else 0 for representant in attitude.legal_representative]\n",
    "attitude.course = [cours.title() if cours != 0 else 0 for cours in attitude.course]\n",
    "attitude.course2= [cours2.title() if cours2 != 0 else 0 for cours2 in attitude.course2]\n",
    "attitude.course3= [cours3.title() if cours3 != 0 else 0 for cours3 in attitude.course2]"
   ]
  },
  {
   "cell_type": "code",
   "execution_count": 270,
   "id": "aa619a67",
   "metadata": {
    "ExecuteTime": {
     "end_time": "2022-05-18T20:18:16.385031Z",
     "start_time": "2022-05-18T20:18:16.305246Z"
    }
   },
   "outputs": [
    {
     "name": "stdout",
     "output_type": "stream",
     "text": [
      "[0, 0]\n"
     ]
    }
   ],
   "source": [
    "#Birthday column\n",
    "issues = []\n",
    "for naissance in attitude.birthday:\n",
    "    try:\n",
    "        date = parser.parse(naissance)\n",
    "    except:\n",
    "        issues.append(naissance)\n",
    "print(issues)\n",
    "naissances=[]\n",
    "for naissance in attitude.birthday:\n",
    "    if naissance != 0:\n",
    "        date = parser.parse(naissance.replace('25 nivelbre 1947', '25-11-1947').replace('18 décembre 2012', '18-12-2012').replace('17 août 2008', '17-08-2008').replace('4 juin 1975', '04-06-1975').replace('1er mai 2014', '01-05-2014').replace('18 AOUT 2010', '18-08-2010').replace('23 JANVIER 2017', '23-01-2017').replace('30061986', '30-06-1986').replace('17 juin 2016', '17-06-2016'))\n",
    "        naissances.append(date.strftime('%d-%m-%Y'))\n",
    "    else:\n",
    "        naissances.append(0)\n",
    "attitude.birthday = naissances\n",
    "attitude['birthday'].iloc[57] = \"13-03-1953\""
   ]
  },
  {
   "cell_type": "code",
   "execution_count": 359,
   "id": "502dd002",
   "metadata": {
    "ExecuteTime": {
     "end_time": "2022-05-18T20:50:37.732719Z",
     "start_time": "2022-05-18T20:50:37.713761Z"
    }
   },
   "outputs": [],
   "source": [
    "age=[]\n",
    "ages = 0\n",
    "for naissance in attitude.birthday:\n",
    "    year=str(naissance).split('-')[-1]\n",
    "    ages+=(int(year))\n",
    "\n",
    "mean_year = ages/99\n",
    "mean_year\n",
    "for naissance in attitude.birthday:\n",
    "    if naissance != 0:\n",
    "        born_year = str(naissance).split('-')[-1]\n",
    "        today = datetime.today()\n",
    "        age.append(today.year - int(born_year))\n",
    "    else:\n",
    "        born_year = mean_year\n",
    "        today = datetime.today()\n",
    "        age.append(today.year - born_year)\n",
    "        "
   ]
  },
  {
   "cell_type": "code",
   "execution_count": 122,
   "id": "ea5032f6",
   "metadata": {
    "ExecuteTime": {
     "end_time": "2022-05-18T15:26:33.171960Z",
     "start_time": "2022-05-18T15:26:33.132069Z"
    }
   },
   "outputs": [],
   "source": [
    "#Column Telephone:\n",
    "for row in range(len(attitude.telephone)):\n",
    "    attitude['telephone'].iloc[row] = attitude['telephone'].iloc[row].replace('(33)', '+33').replace('(0033)', '+33').replace('(033)', '+33').replace('(','').replace(\"(0687026502)\", \"0687026502\").replace(\"(Portable)\", \"\").replace(\"(0634121580) 063-4121580\", \"063-4121580\").replace(\"(0687026502) 068-7026502\", \"068-7026502\").replace(\"(0689289829) ¨\", \"0689289829\").replace(\"(0689289829) 068-9289829\", \"0689289829\").replace(\"(0607991130) 060-7991130\", \"0607991130\").replace(\"(0683365627) 068-3365627\", \"0683365627\").replace(\"0689289829 ¨\", '0689289829').replace('.',\"\").replace(')',\"\").replace(\"-\",\"\")"
   ]
  },
  {
   "cell_type": "code",
   "execution_count": 258,
   "id": "65ce4b2a",
   "metadata": {
    "ExecuteTime": {
     "end_time": "2022-05-18T19:42:28.653824Z",
     "start_time": "2022-05-18T19:42:28.633874Z"
    }
   },
   "outputs": [],
   "source": [
    "attitude['city'].iloc[59] = \"Toulouse\"\n",
    "attitude['pcode'].iloc[59] = \"31400\"\n",
    "attitude['city'].iloc[82] = \"Toulouse\""
   ]
  },
  {
   "cell_type": "code",
   "execution_count": 200,
   "id": "e7244b6f",
   "metadata": {
    "ExecuteTime": {
     "end_time": "2022-05-18T18:13:59.341072Z",
     "start_time": "2022-05-18T18:13:09.472038Z"
    }
   },
   "outputs": [],
   "source": [
    "from geopy.geocoders import Nominatim\n",
    "geolocator = Nominatim(user_agent=\"geolocalização\")\n",
    "latlong =[]\n",
    "for row in range(len(attitude.address)):\n",
    "    try:\n",
    "        adresse = f'{attitude.address.iloc[row]}, {attitude.city.iloc[row]}, France, {attitude.pcode.iloc[row]}'\n",
    "        location = geolocator.geocode(adresse)\n",
    "        latlong.append(str(location.latitude, location.longitude))\n",
    "    except:\n",
    "        latlong.append(attitude.address.iloc[row])"
   ]
  },
  {
   "cell_type": "code",
   "execution_count": 229,
   "id": "c4a5c1b1",
   "metadata": {
    "ExecuteTime": {
     "end_time": "2022-05-18T18:40:35.331957Z",
     "start_time": "2022-05-18T18:40:35.320981Z"
    }
   },
   "outputs": [],
   "source": [
    "lat=[]\n",
    "long=[]\n",
    "for lat_long in latlong:\n",
    "    lat.append(float(lat_long.split(',')[0])) \n",
    "    long.append(float(lat_long.split(',')[1]))"
   ]
  },
  {
   "cell_type": "code",
   "execution_count": 259,
   "id": "67c666ac",
   "metadata": {
    "ExecuteTime": {
     "end_time": "2022-05-18T19:42:31.042420Z",
     "start_time": "2022-05-18T19:42:31.031451Z"
    },
    "scrolled": true
   },
   "outputs": [],
   "source": [
    "toulouse=[]\n",
    "for ville in attitude_eleves.city:\n",
    "    if ville =='Toulouse':\n",
    "        toulouse.append(\"Toulouse\")\n",
    "    else:\n",
    "        toulouse.append(\"Autre ville\")"
   ]
  },
  {
   "cell_type": "code",
   "execution_count": 375,
   "id": "d08a85f8",
   "metadata": {
    "ExecuteTime": {
     "end_time": "2022-05-18T21:07:02.481805Z",
     "start_time": "2022-05-18T21:07:02.413989Z"
    }
   },
   "outputs": [],
   "source": [
    "def schedules (schedule_num):\n",
    "    issues_horaire =[]\n",
    "    for row in range(len(attitude[schedule_num])):\n",
    "        if attitude[schedule_num].iloc[row] != 0:\n",
    "            try:\n",
    "                horaire = attitude[schedule_num].iloc[row].replace('\\n1',' ').strip().split('\\n')\n",
    "                if len(horaire) == 2:\n",
    "                    attitude[schedule_num].iloc[row] = attitude[schedule_num].iloc[row].replace('\\n1',' ').strip().split('\\n')[0].lower()\n",
    "                else:\n",
    "                    issues_horaire.append(row)\n",
    "            except:\n",
    "                continue\n",
    "        else:\n",
    "            continue\n",
    "    return issues_horaire\n",
    "\n",
    "def schedule_course (schedule_num, course_num):\n",
    "    for row in range(len(attitude[schedule_num])):\n",
    "        if attitude[schedule_num].iloc[row] == 'mardi 19h' or attitude[schedule_num].iloc[row] == 'mardi 18h' or attitude[schedule_num].iloc[row] =='vendredi 19h' or attitude[schedule_num].iloc[row] =='lundi 10h15':\n",
    "            attitude[course_num].iloc[row] = 'Classique Moyen'\n",
    "        elif attitude[schedule_num].iloc[row] == 'lundi 12h15' or attitude[schedule_num].iloc[row] == 'mardi 9h' or attitude[schedule_num].iloc[row] == 'samedi 12h15' or attitude[schedule_num].iloc[row] == 'samedi 12h' or attitude[schedule_num].iloc[row] == 'mardi 10h':\n",
    "            attitude[course_num].iloc[row] = 'Barre à Terre'\n",
    "        elif attitude[schedule_num].iloc[row] == 'mercredi 14h15':\n",
    "            attitude[course_num].iloc[row] == 'Classique 1'\n",
    "        elif attitude[schedule_num].iloc[row] == 'lundi 17h':\n",
    "            attitude[course_num].iloc[row] = 'Préparatoire'    \n",
    "        elif attitude[schedule_num].iloc[row] == 'mercredi 16h30' or attitude[schedule_num].iloc[row] == 'vendredi 20h30':\n",
    "            attitude[course_num].iloc[row] = 'Pointes'\n",
    "        elif attitude[schedule_num].iloc[row] == 'mardi 17h':\n",
    "            attitude[course_num].iloc[row] = 'Éveil'\n",
    "        elif attitude[schedule_num].iloc[row] == 'jeudi 17h10' or attitude[schedule_num].iloc[row] == 'jeudi 17h15':\n",
    "            attitude[course_num].iloc[row] = 'Initiation'\n",
    "        elif attitude[schedule_num].iloc[row] == 'mercredi 17h45':\n",
    "            attitude[course_num].iloc[row] = 'Classique 2'\n",
    "        elif attitude[schedule_num].iloc[row] == 'mercredi 14h25' or attitude[schedule_num].iloc[row] =='mercredi 14h15' or attitude[schedule_num].iloc[row] =='mercredi 13h15':\n",
    "            attitude[course_num].iloc[row] = 'Classique 1'\n",
    "        elif attitude[schedule_num].iloc[row] == 'lundi 18h':\n",
    "            attitude[course_num].iloc[row] = 'Contemporain'\n",
    "        elif attitude[schedule_num].iloc[row] == 'jeudi 20h' or attitude[schedule_num].iloc[row] =='lundi 20h30' or attitude[schedule_num].iloc[row] =='mercredi 9h' or attitude[schedule_num].iloc[row] =='jeudi 19h30':\n",
    "            attitude[course_num].iloc[row] = 'Pilates'\n",
    "        elif attitude[schedule_num].iloc[row] == 'lundi 10h':\n",
    "            attitude[course_num].iloc[row] = 'Classique Moyen'\n",
    "        elif attitude[schedule_num].iloc[row] == 'lundi 18h' or attitude[schedule_num].iloc[row] == 'mercredi 15h30':\n",
    "            attitude[course_num].iloc[row] = 'Pbt'\n",
    "        elif attitude[schedule_num].iloc[row] == 'jeudi 18h30' or attitude[schedule_num].iloc[row] == 'lundi 19h' or attitude[schedule_num].iloc[row] =='mercredi 19h30' or attitude[schedule_num].iloc[row] == 'samedi 10h40' or attitude[schedule_num].iloc[row] == 'samedi 10h30' or attitude[schedule_num].iloc[row] == 'lundi 19h15' or attitude[schedule_num].iloc[row] == 'mardi 19h30' or attitude[schedule_num].iloc[row] == 'mardi 19h15' or attitude[schedule_num].iloc[row] == 'jeudi 18h30':\n",
    "            attitude[course_num].iloc[row] = 'Classique Interm. – Avancé'\n",
    "        elif attitude[schedule_num].iloc[row] == 'vendredi 10h15' or attitude[schedule_num].iloc[row] =='vendredi 10h' or attitude[schedule_num].iloc[row] =='vendredi 19h' or attitude[schedule_num].iloc[row] =='lundi 10h' or attitude[schedule_num].iloc[row] =='lundi 19h15':\n",
    "            attitude[course_num].iloc[row] = 'Classique Moyen'\n",
    "        elif attitude[schedule_num].iloc[row] == 'lundi 19h30':\n",
    "            attitude[course_num].iloc[row] = 'Classique Avancé'\n",
    "        elif attitude[schedule_num].iloc[row] == 'vendredi 18h':\n",
    "            attitude[course_num].iloc[row] = 'Moderne'\n",
    "        elif attitude[schedule_num].iloc[row] == 'jeudi 9h30':\n",
    "            attitude[course_num].iloc[row] = 'Pbt + Ballet Fitness'    "
   ]
  },
  {
   "cell_type": "code",
   "execution_count": 376,
   "id": "10f67658",
   "metadata": {
    "ExecuteTime": {
     "end_time": "2022-05-18T21:07:05.081008Z",
     "start_time": "2022-05-18T21:07:05.044107Z"
    }
   },
   "outputs": [
    {
     "data": {
      "text/plain": [
       "[0, 5, 11, 20, 25, 33, 58, 72, 89]"
      ]
     },
     "execution_count": 376,
     "metadata": {},
     "output_type": "execute_result"
    }
   ],
   "source": [
    "issues_horaire = schedules ('schedule')\n",
    "issues_horaire"
   ]
  },
  {
   "cell_type": "code",
   "execution_count": 377,
   "id": "beb5b942",
   "metadata": {
    "ExecuteTime": {
     "end_time": "2022-05-18T21:07:06.667161Z",
     "start_time": "2022-05-18T21:07:06.639201Z"
    }
   },
   "outputs": [],
   "source": [
    "attitude['schedule'].iloc[0] = \"mardi 12h15\"\n",
    "attitude['schedule2'].iloc[0] = \"jeudi 9h30\"\n",
    "attitude['schedule'].iloc[5] = \"Lundi, 12h15\"\n",
    "attitude['schedule2'].iloc[5] = \"mardi 18h  vendredi 19h\"\n",
    "attitude['course'].iloc[11] = \"barre à rerre\"\n",
    "attitude['schedule'].iloc[11] = \"lundi 12h15 mardi 9h\"\n",
    "attitude['schedule'].iloc[20] = \"lundi 19h15\"\n",
    "attitude['schedule2'].iloc[20] = \"jeudi 18h30 vendredi 20h30\"\n",
    "attitude['schedule'].iloc[25] = \"lundi 12h15\"\n",
    "attitude['schedule2'].iloc[25] = \"vendredi 19h\"\n",
    "attitude['schedule'].iloc[28] ='mercredi 15h30'\n",
    "attitude['schedule'].iloc[33] = \"mardi 9h\"\n",
    "attitude['schedule2'].iloc[33] = \"vendredi 10h15\"\n",
    "attitude['course'].iloc[58] = \"classique avancé\"\n",
    "attitude['schedule'].iloc[58] = \"mardi 19h15 jeudi 18h30\"\n",
    "attitude['course2'].iloc[58] = \"pbt\"\n",
    "attitude['schedule2'].iloc[58] = \"mercredi 15h30\""
   ]
  },
  {
   "cell_type": "code",
   "execution_count": 378,
   "id": "15c56e90",
   "metadata": {
    "ExecuteTime": {
     "end_time": "2022-05-18T21:07:08.468553Z",
     "start_time": "2022-05-18T21:07:08.400695Z"
    }
   },
   "outputs": [
    {
     "data": {
      "text/plain": [
       "array(['lundi 12h15', 'lundi 17h', 'mardi 19h', 'lundi 20h30',\n",
       "       'mercredi 14h15', 'mardi 17h', 'mardi 18h', 'samedi 12h',\n",
       "       'lundi 12h15 mardi 9h', 'vendredi 19h', 'mercredi 16h30',\n",
       "       'lundi 19h15', 'jeudi 17h10', 'mercredi 17h45', 'mardi 19h30',\n",
       "       'mercredi 15h30', 'lundi 10h15', 'samedi 10h30', 'jeudi 17h15',\n",
       "       'mardi 10h', 'mardi 9h', 'mercredi', 'lundi 18h', 'jeudi 19h30', 0,\n",
       "       'lundi 17h-18h', 'jeudi 20h', 'mercredi 13h15', 'lundi 10h',\n",
       "       'mardi 19h15 jeudi 18h30', 'jeudi 18h30', 'mercredi 19h30',\n",
       "       'vendredi 10h15', 'samedi 10h30\\n', 'samedi', 'mercredi 9h',\n",
       "       'jeudi', '', 'lundi', 'vendredi 18h'], dtype=object)"
      ]
     },
     "execution_count": 378,
     "metadata": {},
     "output_type": "execute_result"
    }
   ],
   "source": [
    "attitude.schedule.unique()\n",
    "for row in range(len(attitude.schedule)):\n",
    "    if attitude['schedule'].iloc[row] != 0:\n",
    "        attitude['schedule'].iloc[row] = attitude['schedule'].iloc[row].lower().strip().replace('10h30\\n\\n\\n\\n\\n\\nsamedi \\nsamedi','samedi 10h30').replace('lundi 18', 'lundi 18h').replace('lundi 17', 'lundi 17h').replace('lundi 17hh', 'lundi 17h').replace('lundi 18hh', 'lundi 18h').replace('mardi 10', 'mardi 10h').replace('mardi 10hh', 'mardi 10h').replace('mardi 17', 'mardi 17h').replace('mardi 17hh', 'mardi 17h').replace('mercredi 9', 'mercredi 9h').replace('mercredi 9hh', 'mercredi 9h').replace(',', '').replace(':', 'h').replace('h00', 'h').replace('\\n1', '').replace(' h ', 'h').replace('vendredi 19h-20h30', 'vendredi 19h').replace('mardi 18h/19h30', 'mardi 18h').replace('mardi 18h-19h30', 'mardi 18h').replace('mercredi 16h30/17h30','mercredi 16h30').replace('mercredi 17h45-19h15','mercredi 17h45').replace('mardi 10 ', 'mardi 10h').replace('jeudi 17h15 - 18h15','jeudi 17h15').replace('lundi 17 ', 'lundi 17h').replace('jeudi 17h15-18h15', 'jeudi 17h15').replace('mercredi 14h15-15h30','mercredi 14h15').replace('mardi 17h - 17h45', 'mardi 17h').replace('jeudi 19h30-21h', 'jeudi 19h30').replace('lundi 17-18h', 'lundi 17h').replace('jeudi 20h - 21h', 'jeudi 20h').replace('lundi 10h11h30', 'lundi 10h').replace('lundi 18 ','lundi 18h').replace('lundi 19h 15 et 20h45', 'lundi 19h15').replace('mercredi 16.30/17.30', 'mercredi 16h30').replace('mardi 9.00/10.00', 'mardi 9h').replace('jeudi 18h30 - 20h', 'jeudi 18h30').replace('mardi 19h30 - 20h45','mardi 19h30').replace('10h30\\n\\n\\n\\n\\n\\nsamedi \\nsamedi\\n\\n1', 'samedi 10h30').replace('mardi 12h15','lundi 12h15').replace('mardi 17 ','mardi 17h').replace('mercredi 9 ', 'mercredi 9h')\n",
    "attitude.schedule.unique()"
   ]
  },
  {
   "cell_type": "code",
   "execution_count": 379,
   "id": "28ff471e",
   "metadata": {
    "ExecuteTime": {
     "end_time": "2022-05-18T21:07:17.608704Z",
     "start_time": "2022-05-18T21:07:17.570804Z"
    }
   },
   "outputs": [
    {
     "data": {
      "text/plain": [
       "[0, 3, 5, 19, 20, 25, 33, 58]"
      ]
     },
     "execution_count": 379,
     "metadata": {},
     "output_type": "execute_result"
    }
   ],
   "source": [
    "issues_horaire2 = schedules ('schedule2')\n",
    "issues_horaire2"
   ]
  },
  {
   "cell_type": "code",
   "execution_count": 381,
   "id": "79f06241",
   "metadata": {
    "ExecuteTime": {
     "end_time": "2022-05-18T21:07:32.431565Z",
     "start_time": "2022-05-18T21:07:32.397655Z"
    }
   },
   "outputs": [
    {
     "data": {
      "text/plain": [
       "array(['jeudi 9h30', 0, '19h', 'vendredi 19h', 'mardi 18h  vendredi 19h',\n",
       "       'mercredi 15h30', 'vendredi 20h30', 'samedi 12h15', 'vendredi 18h',\n",
       "       'mercredi 19h30', 'mercredi 17h45', 'jeudi 18h30 vendredi 20h30',\n",
       "       'samedi 10h30', 'mercredi 16h30', 'vendredi 10h15', 'lundi 20h45',\n",
       "       'samedi 10h40', 'lundi 19h15', 'jeudi ', 'mercredi ', 'vendredi '],\n",
       "      dtype=object)"
      ]
     },
     "execution_count": 381,
     "metadata": {},
     "output_type": "execute_result"
    }
   ],
   "source": [
    "attitude.schedule2.unique()\n",
    "for row in range(len(attitude.schedule2)):\n",
    "    if attitude['schedule2'].iloc[row] != 0:\n",
    "        attitude['schedule2'].iloc[row] = attitude['schedule2'].iloc[row].replace(',', '').replace(':', 'h').replace('h00', 'h').replace(' h ', 'h').replace('Jeudi, 9h30', 'jeudi 9h30').replace('Mardi, 18h,  Vendredi, 19h', 'mardi 18h,  vendredi 19h').replace('vendredi 20h30-21h15','vendredi 20h30').replace('vendredi 18/19h','vendredi 18h').replace('mercredi 19h30-21h', 'mercredi 19h30').replace('Mercredi 17h45/19h15\\nMercredi \\n\\n\\n\\n\\n2','Mercredi 17h45').replace('Jeudi, 18h30, Vendredi, 20h30','jeudi 18h30, vendredi 20h30').replace('mercredi 17.45/19.15','mercredi 17h45').replace('mercredi 15h30 - 16h30', 'mercredi 15h30').lower()\n",
    "attitude.schedule2.unique()"
   ]
  },
  {
   "cell_type": "code",
   "execution_count": 382,
   "id": "41857ad9",
   "metadata": {
    "ExecuteTime": {
     "end_time": "2022-05-18T21:07:38.295799Z",
     "start_time": "2022-05-18T21:07:38.271864Z"
    }
   },
   "outputs": [
    {
     "data": {
      "text/plain": [
       "[18, 20, 57, 58, 92]"
      ]
     },
     "execution_count": 382,
     "metadata": {},
     "output_type": "execute_result"
    }
   ],
   "source": [
    "issues_horaire3 = schedules ('schedule3')\n",
    "issues_horaire3"
   ]
  },
  {
   "cell_type": "code",
   "execution_count": 383,
   "id": "7b1bd510",
   "metadata": {
    "ExecuteTime": {
     "end_time": "2022-05-18T21:07:39.653223Z",
     "start_time": "2022-05-18T21:07:39.634271Z"
    }
   },
   "outputs": [],
   "source": [
    "attitude['schedule3'].iloc[18] = 'vendredi 20h30'\n",
    "attitude['schedule3'].iloc[20] = 'vendredi 20h30'\n",
    "attitude['schedule3'].iloc[57] = 'vendredi 10h'\n",
    "attitude['schedule3'].iloc[58] = 'mercredi 17h45'\n",
    "attitude['schedule3'].iloc[92] = 'samedi 10h30'"
   ]
  },
  {
   "cell_type": "code",
   "execution_count": 384,
   "id": "0f2a5c8c",
   "metadata": {
    "ExecuteTime": {
     "end_time": "2022-05-18T21:07:41.947740Z",
     "start_time": "2022-05-18T21:07:41.927790Z"
    }
   },
   "outputs": [
    {
     "data": {
      "text/plain": [
       "array([0, 'vendredi 19h', 'vendredi 20h30', 'mercredi 17h45',\n",
       "       'samedi 10h30', 'vendredi 10h', 'mercredi ', 'vendredi '],\n",
       "      dtype=object)"
      ]
     },
     "execution_count": 384,
     "metadata": {},
     "output_type": "execute_result"
    }
   ],
   "source": [
    "attitude.schedule3.unique()\n",
    "for row in range(len(attitude.schedule3)):\n",
    "    if attitude['schedule3'].iloc[row] != 0:\n",
    "        attitude['schedule3'].iloc[row] = attitude['schedule3'].iloc[row].lower().replace(',', '').replace(':', 'h').replace('h00', 'h').replace(' h ', 'h').replace('vendredi \\xa019h -20h30\\xa0', 'vendredi 19h').replace('vendredi \\xa019/20h30\\xa0','vendredi 19h').replace('mercredi \\xa017h45\\xa0\\xa0\\xa0\\xa0\\xa0\\xa0\\xa0\\xa0\\xa0', 'mercredi 17h45').replace('samedi \\xa0\\xa0\\xa010h30\\xa0\\xa0\\xa0', 'samedi 10h30').replace('\\xa0', '')\n",
    "attitude.schedule3.unique()"
   ]
  },
  {
   "cell_type": "code",
   "execution_count": 385,
   "id": "05816a56",
   "metadata": {
    "ExecuteTime": {
     "end_time": "2022-05-18T21:07:45.611033Z",
     "start_time": "2022-05-18T21:07:45.368641Z"
    }
   },
   "outputs": [],
   "source": [
    "schedule_course ('schedule', 'course')\n",
    "schedule_course ('schedule2', 'course2')\n",
    "schedule_course ('schedule3', 'course3')"
   ]
  },
  {
   "cell_type": "code",
   "execution_count": 400,
   "id": "7efbbf8b",
   "metadata": {
    "ExecuteTime": {
     "end_time": "2022-05-18T21:11:23.957065Z",
     "start_time": "2022-05-18T21:11:23.904205Z"
    }
   },
   "outputs": [],
   "source": [
    "attitude[attitude['course']==0]\n",
    "attitude['course'].iloc[39] = \"pilates\"\n",
    "attitude['schedule'].iloc[39] = \"juedi 20h\"\n",
    "attitude['course'].iloc[41] = 'classique 1'\n",
    "attitude['course'].iloc[51] = 'classique 1'\n",
    "attitude['course'].iloc[78] = 'classique 1'\n",
    "attitude['course'].iloc[79] = 'classique moyen'\n",
    "attitude['schedule'].iloc[79] = \"vendredi 10h\"\n",
    "attitude['course'].iloc[79] = 'classique interm. – avancé'\n",
    "attitude['schedule'].iloc[93] = \"vendredi 10h\"\n",
    "attitude['course'].iloc[93] = 'classique interm. – avancé'\n",
    "attitude['course'].iloc[46] = \"pilates\"\n",
    "attitude['schedule'].iloc[46] = \"lundi 9h mercredi 9h vendredi 9h\"\n",
    "attitude['course'].iloc[46] = \"classique moyen\"\n",
    "attitude['schedule'].iloc[46] = \"lundi 10h\"\n",
    "attitude['course'].iloc[46] = \"pbt + ballet fitness\"\n",
    "attitude['schedule'].iloc[46] = \"juedi 9h30\"\n",
    "attitude['course'].iloc[56] = \"pilates\"\n",
    "attitude['schedule'].iloc[56] = \"mercredi 9h vendredi 9h\"\n",
    "attitude['course'].iloc[66] = \"pilates\"\n",
    "attitude['schedule'].iloc[66] = \"lundi 9h\"\n",
    "attitude['course3'].iloc[81] = \"\"\n",
    "attitude['schedule'].iloc[81] = \"mercredi 15h30\"\n",
    "attitude['schedule2'].iloc[81] = \"mercredi 16h30\"\n",
    "attitude['schedule3'].iloc[81] = \"0\"\n",
    "attitude['course'].iloc[83] = \"pilates\"\n",
    "attitude['schedule'].iloc[83] = \"lundi 20h45\"\n",
    "attitude['course2'].iloc[83] = 0\n",
    "attitude['schedule2'].iloc[83] = 0\n",
    "attitude['course'].iloc[88] = \"Classique Interm. – Avancé\"\n",
    "attitude['schedule'].iloc[88] = \"jeudi 18h30\"\n",
    "attitude['schedule2'].iloc[88] = \"vendredi 20h30\"\n",
    "attitude['course3'].iloc[88] = \"0\"\n",
    "attitude['schedule3'].iloc[88] = \"0\"\n",
    "attitude['course'].iloc[95] = \"barre à terre\"\n",
    "attitude['schedule'].iloc[95] = \"mardi 9h\"\n",
    "attitude['course'].iloc[57]='Classique Moyen'\n",
    "attitude['course2'].iloc[57]='Classique Interm. – Avancé'\n",
    "attitude['schedule2'].iloc[57]='jeudi 18h30'\n",
    "attitude['course3'].iloc[57]='Classique Interm. – Avancé'\n",
    "attitude['schedule3'].iloc[57]='vendredi 10h'"
   ]
  },
  {
   "cell_type": "code",
   "execution_count": 401,
   "id": "76226da3",
   "metadata": {
    "ExecuteTime": {
     "end_time": "2022-05-18T21:11:24.875376Z",
     "start_time": "2022-05-18T21:11:24.806560Z"
    }
   },
   "outputs": [
    {
     "data": {
      "text/plain": [
       "array(['barre à terre', 'préparatoire', 'classique moyen', 'pilates',\n",
       "       'classique 1', 'éveil', 'pointes', 'classique interm. – avancé',\n",
       "       'initiation', 'classique 2', 'pbt', 'contemporain',\n",
       "       'pbt + ballet fitness', '', 'classique avancé', 'carte 10 cours',\n",
       "       'moderne'], dtype=object)"
      ]
     },
     "execution_count": 401,
     "metadata": {},
     "output_type": "execute_result"
    }
   ],
   "source": [
    "attitude.course.unique()\n",
    "for row in range(len(attitude.course)):\n",
    "    if attitude['course'].iloc[row] != 0:\n",
    "        attitude['course'].iloc[row] = attitude['course'].iloc[row].replace(\"Eveil\", 'éveil').replace(\"Classiquee Avancé\", \"Classique Avancé\").replace('barre à rerre', 'barre à terre').replace('inter/ avance', 'classique interm. – avancé').lower()\n",
    "        if attitude['course'].iloc[row] =='classique interm':\n",
    "            attitude['course'].iloc[row] = ('classique interm. – avancé')\n",
    "        if attitude['course'].iloc[row] =='1' or attitude['course'].iloc[row] =='classique':\n",
    "            attitude['course'].iloc[row] = (\"classique 1\")\n",
    "    elif attitude['course'].iloc[row] == \"\":\n",
    "        attitude['course'].iloc[row] == \"\"\n",
    "attitude.course.unique()"
   ]
  },
  {
   "cell_type": "code",
   "execution_count": 402,
   "id": "b1c3fd55",
   "metadata": {
    "ExecuteTime": {
     "end_time": "2022-05-18T21:11:33.559362Z",
     "start_time": "2022-05-18T21:11:33.524456Z"
    }
   },
   "outputs": [
    {
     "data": {
      "text/plain": [
       "array(['pbt + ballet fitness', 0, '', 'classique moyen', 'pbt', 'pointes',\n",
       "       'barre à terre', 'moderne', 'classique interm. – avancé',\n",
       "       'classique 2'], dtype=object)"
      ]
     },
     "execution_count": 402,
     "metadata": {},
     "output_type": "execute_result"
    }
   ],
   "source": [
    "attitude.course2.unique()\n",
    "for row in range(len(attitude.course2)):\n",
    "    if attitude['course2'].iloc[row] != 0:\n",
    "        attitude['course2'].iloc[row] = attitude['course2'].iloc[row].replace(\"Classiquee Avancé\", \"Classique Avancé\").replace('barre à rerre', 'barre à terre').replace('Inter/ Avance', 'classique interm. – avancé').lower()\n",
    "        if attitude['course2'].iloc[row] =='barre':\n",
    "            attitude['course2'].iloc[row] = (\"barre à terre\")\n",
    "        if attitude['course2'].iloc[row] =='classique interm':\n",
    "            attitude['course2'].iloc[row] = ('classique interm. – avancé')\n",
    "        if attitude['course2'].iloc[row] =='classique':\n",
    "            attitude['course2'].iloc[row] = (\"classique 1\")\n",
    "    elif attitude['course2'].iloc[row] == \"\":\n",
    "        attitude['course2'].iloc[row] == \"\"\n",
    "attitude.course2.unique()"
   ]
  },
  {
   "cell_type": "code",
   "execution_count": 403,
   "id": "d288d04e",
   "metadata": {
    "ExecuteTime": {
     "end_time": "2022-05-18T21:11:42.152494Z",
     "start_time": "2022-05-18T21:11:42.108593Z"
    }
   },
   "outputs": [
    {
     "data": {
      "text/plain": [
       "array([0, 'classique moyen', '', 'barre à terre', 'pbt', 'pointes',\n",
       "       'classique 2', 'classique 1', 'classique interm. – avancé', '0'],\n",
       "      dtype=object)"
      ]
     },
     "execution_count": 403,
     "metadata": {},
     "output_type": "execute_result"
    }
   ],
   "source": [
    "attitude.course3.unique()\n",
    "for row in range(len(attitude.course3)):\n",
    "    if attitude['course3'].iloc[row] != 0:\n",
    "        attitude['course3'].iloc[row] = attitude['course3'].iloc[row].replace(\"Classiquee Avancé\", \"Classique Avancé\").replace('barre à rerre', 'barre à terre').replace('inter/ avance', 'classique interm. – avancé').lower()\n",
    "        if attitude['course3'].iloc[row] =='barre':\n",
    "            attitude['course3'].iloc[row] = (\"barre à terre\")\n",
    "        if attitude['course3'].iloc[row] =='classique':\n",
    "            attitude['course3'].iloc[row] = (\"classique 1\")\n",
    "    elif attitude['course3'].iloc[row] == \"\":\n",
    "        attitude['course3'].iloc[row] == \"\"\n",
    "attitude.course3.unique()"
   ]
  },
  {
   "cell_type": "code",
   "execution_count": 29,
   "id": "e28c3511",
   "metadata": {
    "ExecuteTime": {
     "end_time": "2022-05-18T13:49:37.451046Z",
     "start_time": "2022-05-18T13:49:37.406165Z"
    }
   },
   "outputs": [],
   "source": [
    "for row in range(len(attitude.registration)):\n",
    "    attitude.registration.iloc[row] = '30€'"
   ]
  },
  {
   "cell_type": "code",
   "execution_count": 390,
   "id": "4e8b8814",
   "metadata": {
    "ExecuteTime": {
     "end_time": "2022-05-18T21:08:07.222371Z",
     "start_time": "2022-05-18T21:08:07.169514Z"
    }
   },
   "outputs": [
    {
     "data": {
      "text/plain": [
       "3     39\n",
       "1     36\n",
       "10    14\n",
       "4      5\n",
       "2      3\n",
       "5      2\n",
       "Name: installments, dtype: int64"
      ]
     },
     "execution_count": 390,
     "metadata": {},
     "output_type": "execute_result"
    }
   ],
   "source": [
    "for row in range(len(attitude.installments)):\n",
    "    attitude.installments.iloc[row] = attitude.installments.iloc[row].replace('shh', '1').replace('10 chéques\\n(1-10)', '10').replace('9 + 1', '10')\n",
    "attitude.installments.value_counts()\n",
    "attitude.installments.iloc[34] ='3'\n",
    "attitude.installments.iloc[46] ='1'\n",
    "attitude.installments.value_counts()"
   ]
  },
  {
   "cell_type": "code",
   "execution_count": 391,
   "id": "be175654",
   "metadata": {
    "ExecuteTime": {
     "end_time": "2022-05-18T21:08:08.721872Z",
     "start_time": "2022-05-18T21:08:08.667016Z"
    }
   },
   "outputs": [
    {
     "name": "stdout",
     "output_type": "stream",
     "text": [
      "[720 500 880 1000 1040]\n"
     ]
    }
   ],
   "source": [
    "for row in range(len(attitude['total'])):\n",
    "    if attitude['total'].iloc[row] == '+ 30':\n",
    "        if attitude['course'].iloc[row] == 'carte 10 cours':\n",
    "            attitude['total'].iloc[row] = 1000\n",
    "        elif attitude['course2'].iloc[row] == 0:\n",
    "            attitude['total'].iloc[row] = 500\n",
    "        else:\n",
    "            if attitude['course3'].iloc[row] == 0:\n",
    "                attitude['total'].iloc[row] = 720\n",
    "            else:\n",
    "                attitude['total'].iloc[row] = 880\n",
    "attitude['total'].iloc[46] = 1040\n",
    "attitude['total'].iloc[53] = 720\n",
    "attitude['total'].iloc[54] = 500\n",
    "attitude['total'].iloc[58] = 1040\n",
    "for row in range(len(attitude['total'])):\n",
    "    attitude['total'].iloc[row] = int(attitude['total'].iloc[row])\n",
    "print(attitude['total'].unique())"
   ]
  },
  {
   "cell_type": "code",
   "execution_count": 392,
   "id": "d3f08930",
   "metadata": {
    "ExecuteTime": {
     "end_time": "2022-05-18T21:08:10.376415Z",
     "start_time": "2022-05-18T21:08:10.356478Z"
    }
   },
   "outputs": [],
   "source": [
    "attitude_eleves = attitude.drop(columns=[\"course\", \"schedule\",  \"course2\", \"schedule2\",  \"course3\", \"schedule3\", \"registration\", \"installments\", \"total\"])\n",
    "attitude_cours22 = attitude.drop(columns=[ \"birthday\", \"address\", \"city\", \"pcode\", \"mail\", \"telephone\", \"legal_representative\",  \"registration\", \"installments\", \"total\"])\n",
    "attitude_paiement22 = attitude.drop(columns=[ \"birthday\", \"address\", \"city\", \"pcode\", \"mail\", \"telephone\",  \"legal_representative\", \"course\", \"schedule\",  \"course2\", \"schedule2\",  \"course3\", \"schedule3\",])"
   ]
  },
  {
   "cell_type": "code",
   "execution_count": 393,
   "id": "a7b2842a",
   "metadata": {
    "ExecuteTime": {
     "end_time": "2022-05-18T21:09:04.607789Z",
     "start_time": "2022-05-18T21:09:04.570887Z"
    }
   },
   "outputs": [],
   "source": [
    "attitude_eleves.insert(5, \"lat\", lat)\n",
    "attitude_eleves.insert(6, \"long\", long)\n",
    "attitude_eleves.insert(4, \"toulouse\", toulouse)\n",
    "attitude_eleves.insert(2, \"age\", age)"
   ]
  },
  {
   "cell_type": "code",
   "execution_count": 406,
   "id": "cfa397d8",
   "metadata": {
    "ExecuteTime": {
     "end_time": "2022-05-18T21:12:15.388895Z",
     "start_time": "2022-05-18T21:12:15.364948Z"
    },
    "scrolled": true
   },
   "outputs": [
    {
     "data": {
      "text/plain": [
       "{'',\n",
       " 'barre à terre',\n",
       " 'carte 10 cours',\n",
       " 'classique 1',\n",
       " 'classique 2',\n",
       " 'classique avancé',\n",
       " 'classique interm. – avancé',\n",
       " 'classique moyen',\n",
       " 'contemporain',\n",
       " 'initiation',\n",
       " 'moderne',\n",
       " 'pbt',\n",
       " 'pbt + ballet fitness',\n",
       " 'pilates',\n",
       " 'pointes',\n",
       " 'préparatoire',\n",
       " 'éveil'}"
      ]
     },
     "execution_count": 406,
     "metadata": {},
     "output_type": "execute_result"
    }
   ],
   "source": [
    "courses = []\n",
    "for cours in attitude_cours22['course'].unique():\n",
    "    if cours != \"0\" and cours != 0 and cours != \"\":\n",
    "        courses.append(cours)\n",
    "for cours2 in attitude_cours22['course2'].unique():\n",
    "    if cours2 != \"0\" and cours2 != 0 and cours != \"\":\n",
    "        courses.append(cours2)\n",
    "for cours3 in attitude_cours22['course3'].unique():\n",
    "    if cours3 != '0' and cours3 != 0 and cours != \"\":\n",
    "        courses.append(cours3)\n",
    "\n",
    "courses = set(courses)\n",
    "courses"
   ]
  },
  {
   "cell_type": "code",
   "execution_count": 407,
   "id": "df0f1dbc",
   "metadata": {
    "ExecuteTime": {
     "end_time": "2022-05-18T21:12:17.445488Z",
     "start_time": "2022-05-18T21:12:17.432522Z"
    }
   },
   "outputs": [],
   "source": [
    "rows =[]\n",
    "def students (course):\n",
    "    cours =[]\n",
    "    for row in range(len(attitude_cours22['course'])):\n",
    "        if attitude_cours22['course'].iloc[row] == course or attitude_cours22['course2'].iloc[row] == course or attitude_cours22['course3'].iloc[row] == course:\n",
    "            cours.append(attitude_cours22[\"name\"].iloc[row])\n",
    "    return cours"
   ]
  },
  {
   "cell_type": "code",
   "execution_count": 408,
   "id": "89898e72",
   "metadata": {
    "ExecuteTime": {
     "end_time": "2022-05-18T21:12:18.773410Z",
     "start_time": "2022-05-18T21:12:18.649743Z"
    }
   },
   "outputs": [
    {
     "name": "stdout",
     "output_type": "stream",
     "text": [
      "\n",
      "éveil\n",
      "préparatoire\n",
      "carte 10 cours\n",
      "pbt\n",
      "pilates\n",
      "pointes\n",
      "contemporain\n",
      "classique interm. – avancé\n",
      "classique moyen\n",
      "classique 1\n",
      "classique avancé\n",
      "initiation\n",
      "moderne\n",
      "pbt + ballet fitness\n",
      "barre à terre\n",
      "classique 2\n"
     ]
    },
    {
     "data": {
      "text/plain": [
       "dict_keys(['', 'éveil', 'préparatoire', 'carte 10 cours', 'pbt', 'pilates', 'pointes', 'contemporain', 'classique interm. – avancé', 'classique moyen', 'classique 1', 'classique avancé', 'initiation', 'moderne', 'pbt + ballet fitness', 'barre à terre', 'classique 2'])"
      ]
     },
     "execution_count": 408,
     "metadata": {},
     "output_type": "execute_result"
    }
   ],
   "source": [
    "data_courses = dict()\n",
    "for course in courses:\n",
    "    try:\n",
    "            data_courses[course]= students(course)\n",
    "            print(course)\n",
    "    except:\n",
    "        continue\n",
    "        \n",
    "data_courses.keys()"
   ]
  },
  {
   "cell_type": "code",
   "execution_count": 39,
   "id": "b661ed30",
   "metadata": {
    "ExecuteTime": {
     "end_time": "2022-05-18T13:50:21.541057Z",
     "start_time": "2022-05-18T13:50:21.535075Z"
    }
   },
   "outputs": [],
   "source": [
    "for course in data_courses.keys():\n",
    "    if course != 0 or course !='carte 10 cours':\n",
    "        data_courses[course].append('Shawali Natacha')"
   ]
  },
  {
   "cell_type": "code",
   "execution_count": 40,
   "id": "5dd571e6",
   "metadata": {
    "ExecuteTime": {
     "end_time": "2022-05-18T13:50:23.489738Z",
     "start_time": "2022-05-18T13:50:23.482760Z"
    }
   },
   "outputs": [],
   "source": [
    "attitude_cours23 = attitude_cours22.iloc[0:0]\n",
    "attitude_paiement23 = attitude_paiement22.iloc[0:0]"
   ]
  },
  {
   "cell_type": "code",
   "execution_count": 410,
   "id": "d91e534e",
   "metadata": {
    "ExecuteTime": {
     "end_time": "2022-05-18T21:13:31.303940Z",
     "start_time": "2022-05-18T21:13:31.190212Z"
    }
   },
   "outputs": [],
   "source": [
    "colunes=[]\n",
    "for row in range(len(attitude_cours22['course'])):\n",
    "    rows=[]\n",
    "    rows.append(attitude_cours22[\"name\"].iloc[row])\n",
    "    for course in data_courses.keys():\n",
    "        if attitude_cours22['course'].iloc[row] == course or attitude_cours22['course2'].iloc[row] == course or attitude_cours22['course3'].iloc[row] == course:\n",
    "            rows.append(1)\n",
    "        else:\n",
    "            rows.append(0)\n",
    "    colunes.append(rows)\n",
    "            \n",
    "classes22 = pd.DataFrame(colunes)\n",
    "classes22.columns = ('name', '', 'eveil', 'préparatoire', 'carte_10_cours', 'pbt', 'pilates', 'pointes', 'contemporain', 'classique_interm_avance', 'classique_moyen', 'classique_1', 'classique_avance', 'initiation', 'moderne', 'pbt_ballet_fitness', 'barre_a_terre', 'classiqu_2')\n",
    "classes22 = classes22.drop(['','carte_10_cours'], axis=1)\n"
   ]
  },
  {
   "cell_type": "code",
   "execution_count": 411,
   "id": "68abf97b",
   "metadata": {
    "ExecuteTime": {
     "end_time": "2022-05-18T21:13:37.289864Z",
     "start_time": "2022-05-18T21:13:37.263931Z"
    }
   },
   "outputs": [],
   "source": [
    "classes23 = classes22.iloc[0:0]"
   ]
  },
  {
   "cell_type": "code",
   "execution_count": 412,
   "id": "0c5a85e8",
   "metadata": {
    "ExecuteTime": {
     "end_time": "2022-05-18T21:13:41.384628Z",
     "start_time": "2022-05-18T21:13:41.345735Z"
    }
   },
   "outputs": [],
   "source": [
    "attitude_eleves.to_csv('elevesdf.csv')\n",
    "attitude_cours22.to_csv('coursdf22.csv')\n",
    "classes22.to_csv('classes22.csv')\n",
    "attitude_paiement22.to_csv('paiment22.csv')\n",
    "attitude_cours23.to_csv('coursdf23.csv')\n",
    "classes23.to_csv('classes23.csv')\n",
    "attitude_paiement23.to_csv('paiment23.csv')"
   ]
  },
  {
   "cell_type": "code",
   "execution_count": 243,
   "id": "b1fc9f07",
   "metadata": {
    "ExecuteTime": {
     "end_time": "2022-05-18T19:32:59.035167Z",
     "start_time": "2022-05-18T19:32:59.008242Z"
    },
    "scrolled": false
   },
   "outputs": [],
   "source": [
    "def open_ssh_tunnel_and_mysql ():\n",
    "    \"\"\"Open an SSH tunnel and connect to a MySQL server using the SSH tunnel connection\n",
    "    return Global MySQL connection\"\"\"\n",
    "    load_dotenv()\n",
    "    db_server= os.getenv('db_server')\n",
    "    user=os.getenv(\"user\")\n",
    "    db_port=os.getenv(\"db_port\")\n",
    "    password=os.getenv(\"password\")\n",
    "    ip=os.getenv(\"ip\")\n",
    "    db_name=os.getenv(\"db_name\")\n",
    "    ip_ssh=os.getenv(\"ip_ssh\")\n",
    "    ssh_username=os.getenv(\"ssh_username\")\n",
    "    ssh_password=os.getenv(\"ssh_password\")\n",
    "    remote_bind_address=os.getenv(\"remote_bind_address\")\n",
    "    global server\n",
    "    global connection\n",
    "    global conn_addr\n",
    "    global engine\n",
    "    try:    \n",
    "        print('Opening tunnel :-P')  \n",
    "        server = SSHTunnelForwarder((ip_ssh, 4242), ssh_username=ssh_username, ssh_password=ssh_password, remote_bind_address=(db_server, 3306))\n",
    "        server.start()\n",
    "        print('Tunnel opend :-P')\n",
    "        port = str(server.local_bind_port)\n",
    "        conn_addr = 'mysql://' + user + ':' + password + '@' + db_server + ':' + port + '/' + db_name\n",
    "        engine = create_engine(conn_addr)\n",
    "        connection = engine.connect()\n",
    "        print('Yeah! MySQL server connected using the SSH tunnel connection!')\n",
    "    except Exception as E:\n",
    "        print(E)\n",
    "    \n",
    "def create_table (dataframe, table=str):\n",
    "    dataframe.to_sql(table, conn_addr, if_exists='replace', index=False)\n",
    "    print('All done, Madam!')\n",
    "    \n",
    "def drop_table(table):\n",
    "    engine.execute(f\"DROP table IF EXISTS {table}\")\n",
    "    print('Table deleted, Madam!')\n",
    "    \n",
    "def table_to_csv(table):\n",
    "    csv = sql_query_to_csv\n",
    "\n",
    "\n",
    "def disconnect_mysql ():\n",
    "    \"\"\"Disconnect from MySQL server\"\"\"\n",
    "    connection.close()  \n",
    "    print('MySQL server is not connected anymore!')\n",
    "    \n",
    "def shut_ssh_tunnel ():\n",
    "    \"\"\"Stop the SSH tunnel\"\"\"\n",
    "    server.stop()\n",
    "    print(\"You've stopped the SSH tunnel!\")"
   ]
  },
  {
   "cell_type": "code",
   "execution_count": 413,
   "id": "31475a77",
   "metadata": {
    "ExecuteTime": {
     "end_time": "2022-05-18T21:14:25.569919Z",
     "start_time": "2022-05-18T21:13:56.839703Z"
    }
   },
   "outputs": [
    {
     "name": "stdout",
     "output_type": "stream",
     "text": [
      "Opening tunnel :-P\n",
      "Tunnel opend :-P\n"
     ]
    },
    {
     "name": "stderr",
     "output_type": "stream",
     "text": [
      "Exception during reset or similar\n",
      "Traceback (most recent call last):\n",
      "  File \"C:\\Users\\Tete\\anaconda3\\lib\\site-packages\\sqlalchemy\\pool\\base.py\", line 682, in _finalize_fairy\n",
      "    fairy._reset(pool)\n",
      "  File \"C:\\Users\\Tete\\anaconda3\\lib\\site-packages\\sqlalchemy\\pool\\base.py\", line 887, in _reset\n",
      "    pool._dialect.do_rollback(self)\n",
      "  File \"C:\\Users\\Tete\\anaconda3\\lib\\site-packages\\sqlalchemy\\engine\\default.py\", line 667, in do_rollback\n",
      "    dbapi_connection.rollback()\n",
      "MySQLdb._exceptions.OperationalError: (2006, 'Server has gone away')\n"
     ]
    },
    {
     "name": "stdout",
     "output_type": "stream",
     "text": [
      "Yeah! MySQL server connected using the SSH tunnel connection!\n",
      "All done, Madam!\n",
      "All done, Madam!\n",
      "All done, Madam!\n",
      "All done, Madam!\n",
      "All done, Madam!\n",
      "All done, Madam!\n",
      "MySQL server is not connected anymore!\n",
      "You've stopped the SSH tunnel!\n"
     ]
    }
   ],
   "source": [
    "open_ssh_tunnel_and_mysql ()\n",
    "#create_table (attitude_eleves, 'elevesdf')\n",
    "create_table (attitude_cours22, 'coursdf22')\n",
    "create_table (classes22, 'classesdf22')\n",
    "create_table (attitude_paiement22, 'paimentsdf22')\n",
    "create_table (attitude_cours23, 'coursdf23')\n",
    "create_table (classes23, 'classesdf23')\n",
    "create_table (attitude_paiement23, 'paimentsdf23')\n",
    "disconnect_mysql ()\n",
    "shut_ssh_tunnel ()"
   ]
  },
  {
   "cell_type": "code",
   "execution_count": 365,
   "id": "635023fc",
   "metadata": {
    "ExecuteTime": {
     "end_time": "2022-05-18T21:00:48.204407Z",
     "start_time": "2022-05-18T21:00:48.165510Z"
    }
   },
   "outputs": [
    {
     "data": {
      "text/html": [
       "<div>\n",
       "<style scoped>\n",
       "    .dataframe tbody tr th:only-of-type {\n",
       "        vertical-align: middle;\n",
       "    }\n",
       "\n",
       "    .dataframe tbody tr th {\n",
       "        vertical-align: top;\n",
       "    }\n",
       "\n",
       "    .dataframe thead th {\n",
       "        text-align: right;\n",
       "    }\n",
       "</style>\n",
       "<table border=\"1\" class=\"dataframe\">\n",
       "  <thead>\n",
       "    <tr style=\"text-align: right;\">\n",
       "      <th></th>\n",
       "      <th>name</th>\n",
       "      <th>course</th>\n",
       "      <th>schedule</th>\n",
       "      <th>course2</th>\n",
       "      <th>schedule2</th>\n",
       "      <th>course3</th>\n",
       "      <th>schedule3</th>\n",
       "    </tr>\n",
       "  </thead>\n",
       "  <tbody>\n",
       "    <tr>\n",
       "      <th>0</th>\n",
       "      <td>Blatt Luce</td>\n",
       "      <td></td>\n",
       "      <td>Lundi 12h15 Barre à terre\\nLundi \\nMardi 9h Ba...</td>\n",
       "      <td>0</td>\n",
       "      <td>0</td>\n",
       "      <td>0</td>\n",
       "      <td>0</td>\n",
       "    </tr>\n",
       "    <tr>\n",
       "      <th>1</th>\n",
       "      <td>Paulon Lily</td>\n",
       "      <td>Classique</td>\n",
       "      <td>Lundi 17h\\nLundi \\n\\n\\n\\n\\n\\n\\n1</td>\n",
       "      <td>0</td>\n",
       "      <td>0</td>\n",
       "      <td>0</td>\n",
       "      <td>0</td>\n",
       "    </tr>\n",
       "    <tr>\n",
       "      <th>2</th>\n",
       "      <td>Mezard Emmanuelle</td>\n",
       "      <td>Barre Moyen</td>\n",
       "      <td>Mardi 19H\\nMardi \\n\\n\\n\\n\\n\\n1</td>\n",
       "      <td>Pbt + Ballet Fitness</td>\n",
       "      <td>Jeudi 9H30\\nJeudi</td>\n",
       "      <td>Pbt + Ballet Fitness</td>\n",
       "      <td>Vendredi  19h -20h30 \\nVendredi</td>\n",
       "    </tr>\n",
       "    <tr>\n",
       "      <th>3</th>\n",
       "      <td>Corbiere Beatrix</td>\n",
       "      <td></td>\n",
       "      <td>Lundi 20h30\\nLundi \\n\\n\\n\\n\\n\\n\\n1</td>\n",
       "      <td></td>\n",
       "      <td>19h</td>\n",
       "      <td></td>\n",
       "      <td>0</td>\n",
       "    </tr>\n",
       "    <tr>\n",
       "      <th>4</th>\n",
       "      <td>François Eve</td>\n",
       "      <td>Barre Au Sol</td>\n",
       "      <td>Lundi 12h15\\nLundi \\n\\n\\n\\n\\n\\n\\n1</td>\n",
       "      <td>Barre</td>\n",
       "      <td>Vendredi 19h\\nVendredi</td>\n",
       "      <td>Barre</td>\n",
       "      <td>0</td>\n",
       "    </tr>\n",
       "    <tr>\n",
       "      <th>...</th>\n",
       "      <td>...</td>\n",
       "      <td>...</td>\n",
       "      <td>...</td>\n",
       "      <td>...</td>\n",
       "      <td>...</td>\n",
       "      <td>...</td>\n",
       "      <td>...</td>\n",
       "    </tr>\n",
       "    <tr>\n",
       "      <th>94</th>\n",
       "      <td>Peccia-Galletto Sasha</td>\n",
       "      <td>Débutant</td>\n",
       "      <td>Mardi 17H\\nMardi</td>\n",
       "      <td>0</td>\n",
       "      <td>0</td>\n",
       "      <td>0</td>\n",
       "      <td>0</td>\n",
       "    </tr>\n",
       "    <tr>\n",
       "      <th>95</th>\n",
       "      <td>Galvani Francoise</td>\n",
       "      <td>0</td>\n",
       "      <td>0</td>\n",
       "      <td>0</td>\n",
       "      <td>0</td>\n",
       "      <td>0</td>\n",
       "      <td>0</td>\n",
       "    </tr>\n",
       "    <tr>\n",
       "      <th>96</th>\n",
       "      <td>Lemozit Sasha</td>\n",
       "      <td>Moderne</td>\n",
       "      <td>Vendredi 18h\\nVendredi</td>\n",
       "      <td>0</td>\n",
       "      <td>0</td>\n",
       "      <td>0</td>\n",
       "      <td>0</td>\n",
       "    </tr>\n",
       "    <tr>\n",
       "      <th>97</th>\n",
       "      <td>Blanc Bouny Celeste</td>\n",
       "      <td>Danse Classique Debutant</td>\n",
       "      <td>Lundi 17H\\nLundi</td>\n",
       "      <td>0</td>\n",
       "      <td>0</td>\n",
       "      <td>0</td>\n",
       "      <td>0</td>\n",
       "    </tr>\n",
       "    <tr>\n",
       "      <th>98</th>\n",
       "      <td>Ferreira Constance</td>\n",
       "      <td>Classique 2</td>\n",
       "      <td>Mercredi 17H45\\nMercredi</td>\n",
       "      <td>0</td>\n",
       "      <td>0</td>\n",
       "      <td>0</td>\n",
       "      <td>0</td>\n",
       "    </tr>\n",
       "  </tbody>\n",
       "</table>\n",
       "<p>99 rows × 7 columns</p>\n",
       "</div>"
      ],
      "text/plain": [
       "                     name                    course  \\\n",
       "0              Blatt Luce                             \n",
       "1             Paulon Lily                 Classique   \n",
       "2       Mezard Emmanuelle               Barre Moyen   \n",
       "3        Corbiere Beatrix                             \n",
       "4            François Eve              Barre Au Sol   \n",
       "..                    ...                       ...   \n",
       "94  Peccia-Galletto Sasha                  Débutant   \n",
       "95      Galvani Francoise                         0   \n",
       "96          Lemozit Sasha                   Moderne   \n",
       "97    Blanc Bouny Celeste  Danse Classique Debutant   \n",
       "98     Ferreira Constance               Classique 2   \n",
       "\n",
       "                                             schedule               course2  \\\n",
       "0   Lundi 12h15 Barre à terre\\nLundi \\nMardi 9h Ba...                     0   \n",
       "1                    Lundi 17h\\nLundi \\n\\n\\n\\n\\n\\n\\n1                     0   \n",
       "2                      Mardi 19H\\nMardi \\n\\n\\n\\n\\n\\n1  Pbt + Ballet Fitness   \n",
       "3                  Lundi 20h30\\nLundi \\n\\n\\n\\n\\n\\n\\n1                         \n",
       "4                  Lundi 12h15\\nLundi \\n\\n\\n\\n\\n\\n\\n1                 Barre   \n",
       "..                                                ...                   ...   \n",
       "94                                   Mardi 17H\\nMardi                     0   \n",
       "95                                                  0                     0   \n",
       "96                             Vendredi 18h\\nVendredi                     0   \n",
       "97                                   Lundi 17H\\nLundi                     0   \n",
       "98                           Mercredi 17H45\\nMercredi                     0   \n",
       "\n",
       "                 schedule2               course3  \\\n",
       "0                        0                     0   \n",
       "1                        0                     0   \n",
       "2        Jeudi 9H30\\nJeudi  Pbt + Ballet Fitness   \n",
       "3                      19h                         \n",
       "4   Vendredi 19h\\nVendredi                 Barre   \n",
       "..                     ...                   ...   \n",
       "94                       0                     0   \n",
       "95                       0                     0   \n",
       "96                       0                     0   \n",
       "97                       0                     0   \n",
       "98                       0                     0   \n",
       "\n",
       "                          schedule3  \n",
       "0                                 0  \n",
       "1                                 0  \n",
       "2   Vendredi  19h -20h30 \\nVendredi  \n",
       "3                                 0  \n",
       "4                                 0  \n",
       "..                              ...  \n",
       "94                                0  \n",
       "95                                0  \n",
       "96                                0  \n",
       "97                                0  \n",
       "98                                0  \n",
       "\n",
       "[99 rows x 7 columns]"
      ]
     },
     "execution_count": 365,
     "metadata": {},
     "output_type": "execute_result"
    }
   ],
   "source": [
    "attitude_cours22"
   ]
  },
  {
   "cell_type": "code",
   "execution_count": 374,
   "id": "ed857ca9",
   "metadata": {
    "ExecuteTime": {
     "end_time": "2022-05-18T21:05:58.528958Z",
     "start_time": "2022-05-18T21:05:54.514320Z"
    }
   },
   "outputs": [
    {
     "name": "stdout",
     "output_type": "stream",
     "text": [
      "Opening tunnel :-P\n",
      "Tunnel opend :-P\n",
      "Yeah! MySQL server connected using the SSH tunnel connection!\n"
     ]
    },
    {
     "data": {
      "text/plain": [
       "['classesdf22',\n",
       " 'classesdf23',\n",
       " 'coursdf22',\n",
       " 'coursdf23',\n",
       " 'elevesdf',\n",
       " 'paimentsdf22',\n",
       " 'paimentsdf23']"
      ]
     },
     "execution_count": 374,
     "metadata": {},
     "output_type": "execute_result"
    }
   ],
   "source": [
    "open_ssh_tunnel_and_mysql ()\n",
    "\n",
    "engine.table_names()"
   ]
  }
 ],
 "metadata": {
  "kernelspec": {
   "display_name": "Python 3 (ipykernel)",
   "language": "python",
   "name": "python3"
  },
  "language_info": {
   "codemirror_mode": {
    "name": "ipython",
    "version": 3
   },
   "file_extension": ".py",
   "mimetype": "text/x-python",
   "name": "python",
   "nbconvert_exporter": "python",
   "pygments_lexer": "ipython3",
   "version": "3.9.7"
  },
  "toc": {
   "base_numbering": 1,
   "nav_menu": {},
   "number_sections": true,
   "sideBar": true,
   "skip_h1_title": false,
   "title_cell": "Table of Contents",
   "title_sidebar": "Contents",
   "toc_cell": false,
   "toc_position": {},
   "toc_section_display": true,
   "toc_window_display": false
  }
 },
 "nbformat": 4,
 "nbformat_minor": 5
}
