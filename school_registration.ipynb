{
 "cells": [
  {
   "cell_type": "code",
   "execution_count": 1,
   "id": "15a46c8b",
   "metadata": {
    "ExecuteTime": {
     "end_time": "2022-05-16T00:55:42.985592Z",
     "start_time": "2022-05-16T00:55:34.528860Z"
    }
   },
   "outputs": [
    {
     "name": "stdout",
     "output_type": "stream",
     "text": [
      "Requirement already satisfied: PDFplumber in c:\\users\\tete\\anaconda3\\envs\\pycaret_aula\\lib\\site-packages (0.6.2)\n",
      "Requirement already satisfied: pdfminer.six==20220319 in c:\\users\\tete\\anaconda3\\envs\\pycaret_aula\\lib\\site-packages (from PDFplumber) (20220319)\n",
      "Requirement already satisfied: Wand>=0.6.7 in c:\\users\\tete\\anaconda3\\envs\\pycaret_aula\\lib\\site-packages (from PDFplumber) (0.6.7)\n",
      "Requirement already satisfied: Pillow>=9.1 in c:\\users\\tete\\anaconda3\\envs\\pycaret_aula\\lib\\site-packages (from PDFplumber) (9.1.0)\n",
      "Requirement already satisfied: chardet in c:\\users\\tete\\anaconda3\\envs\\pycaret_aula\\lib\\site-packages (from pdfminer.six==20220319->PDFplumber) (4.0.0)\n",
      "Requirement already satisfied: cryptography in c:\\users\\tete\\anaconda3\\envs\\pycaret_aula\\lib\\site-packages (from pdfminer.six==20220319->PDFplumber) (37.0.2)\n",
      "Requirement already satisfied: cffi>=1.12 in c:\\users\\tete\\anaconda3\\envs\\pycaret_aula\\lib\\site-packages (from cryptography->pdfminer.six==20220319->PDFplumber) (1.15.0)\n",
      "Requirement already satisfied: pycparser in c:\\users\\tete\\anaconda3\\envs\\pycaret_aula\\lib\\site-packages (from cffi>=1.12->cryptography->pdfminer.six==20220319->PDFplumber) (2.21)\n",
      "Note: you may need to restart the kernel to use updated packages.\n"
     ]
    }
   ],
   "source": [
    "pip install PDFplumber"
   ]
  },
  {
   "cell_type": "code",
   "execution_count": 2,
   "id": "19288d74",
   "metadata": {
    "ExecuteTime": {
     "end_time": "2022-05-16T00:55:46.111603Z",
     "start_time": "2022-05-16T00:55:42.992572Z"
    }
   },
   "outputs": [],
   "source": [
    "import pandas as pd\n",
    "import pdfplumber\n",
    "import re\n",
    "import os, os.path\n",
    "from dateutil import parser"
   ]
  },
  {
   "cell_type": "markdown",
   "id": "1120ac96",
   "metadata": {},
   "source": [
    "## Extracting available data"
   ]
  },
  {
   "cell_type": "markdown",
   "id": "16a9ce42",
   "metadata": {},
   "source": [
    "### Prior data\n",
    "When the school provided those PDF documents, which were extracted from a free online form builder for school applications, my first action was to take a look in the very first pages of the first document and understand it. I realized that, instead of organized tables with information about the students, all data was stored in form-based PDFs.  It was very look alike a printed document filled by each student separately. The main goal of keeping those documents were just records of students inscriptions, with no strategic business intent for that data.\n",
    "\n",
    "Therefore, I've proposed a different pipeline for that data, that not only could escalate, enabling larger volumes of data, but also that allowed the school to catalogue, clean, filter, manipulate and analyze all that value informations to find the best business solutions.\n"
   ]
  },
  {
   "cell_type": "code",
   "execution_count": 3,
   "id": "f5a3700e",
   "metadata": {
    "ExecuteTime": {
     "end_time": "2022-05-16T00:55:47.237997Z",
     "start_time": "2022-05-16T00:55:46.124565Z"
    }
   },
   "outputs": [
    {
     "name": "stdout",
     "output_type": "stream",
     "text": [
      "30\n",
      "Sunday, June 20, 2021\n",
      "Fiche d'inscription \n",
      "Nom et prénom d'élève  Blatt Luce\n",
      "Date de naissance 10 19 1960\n",
      "Adresse Rue des vincennes, 9\n",
      "Toulouse, 31500\n",
      "E-mail marieluceblatt@gmail.com\n",
      "Téléphone (0033) 607-103468\n",
      "Cours:      \n",
      "Horaire:   \n",
      "Lundi      12h15 Barre à terre   \n",
      "Lundi Heure\n",
      "Mardi    9h Barre à terre   \n",
      "Mardi Heure\n",
      "          \n",
      "Jeudi    9h30 pbt     \n",
      "Jeudi Heure\n",
      "Vendredi  10h classique moyen \n",
      "Vendredi Heure\n",
      "      \n",
      "            \n",
      "Téléverser le Certi\u0000cat Médical\n",
      "CamScanner 06-20-2021 20.39.pdf\n",
      "pdf\n",
      "1\n",
      "Create your own automated PDFs with Jotform PDF Editor- It’s free\n",
      "Téléverser le Certi\u0000cat d’assurance \n",
      "extra-scolaire ou assurance civil\n",
      "66_CamScanner 06-20-2021 20.39_8995.pdf\n",
      "pdf\n",
      "Le paiement du cours sera effectué avec Par 4 cheques\n",
      "(1-10)\n",
      " chèques deXxx  €, au total de     + 30€\n",
      "(valeur de chaque chèque)\n",
      "adhésion .\n",
      "Moins 10€ pour le paiement comptant ou trimestre.\n",
      " Découvrez notre planning et nos tarifs a\n",
      "attitudecorpsetdanses.com/tarifs-et-planning\n",
      "Pour l’abonnement annuel à Attitude \n",
      "Je suis d'accord\n",
      "Corps et Danses de la saison \n",
      "2021/2022 je ne pourrai en aucun cas \n",
      "faire opposition à mes chèques ( voir \n",
      "article L131-35 du code monétaire et \n",
      "\u0000nancier) ou en demander la \n",
      "restitution en cas d’arrêt de ma part.\n",
      "J'autorise l'autorisation de droit à \n",
      "Oui\n",
      "l'image et/ou à la voix pour la \n",
      "promotion de l'Attitude Corps et \n",
      "Danses.\n",
      "Je reconnais avoir pris connaissance \n",
      "Oui\n",
      "du règlement intérieur *, des \n",
      "conditions générales d’inscriptions* \n",
      "de l’Association Attitude Corps et \n",
      "Danses, d’avoir présenté un certi\u0000cat \n",
      "médical de non-contre indication à la \n",
      "pratique de la danse et d’avoir \n",
      "présenté un certi\u0000cat d’assurance \n",
      "extra-scolaire ou assurance civil.* \n",
      "(*Règlement intérieur/ conditions \n",
      "générales disponibles sur: \n",
      "https://attitudecorpsetdanses.com/re\n",
      "glement-interieur/*)\n",
      "Signature\n",
      "2\n",
      "Create your own automated PDFs with Jotform PDF Editor- It’s free\n",
      "Monday, June 21, 2021\n",
      "Fiche d'inscription \n",
      "Nom et prénom d'élève  Paulon Lily\n",
      "Date de naissance 24/07/14\n",
      "Adresse Renée Aspe, 2\n",
      "Toulouse, 31000\n",
      "E-mail do_julia@hotmail.com\n",
      "Téléphone (+33) 648-949998\n",
      "Représentant légal de l’inscrit (pour  Paulon Julia\n",
      "les mineurs)\n",
      "Cours:Classique      \n",
      "Cours\n",
      "Horaire:   \n",
      "Lundi      17h   \n",
      "Lundi Heure\n",
      "      \n",
      "          \n",
      "        \n",
      "  \n",
      "      \n",
      "            \n",
      "1\n",
      "Create your own automated PDFs with Jotform PDF Editor- It’s free\n",
      "Téléverser le Certi\u0000cat Médical\n",
      "2\n",
      "Create your own automated PDFs with Jotform PDF Editor- It’s free\n"
     ]
    }
   ],
   "source": [
    "pdf_test = pdfplumber.open(\".\\\\data\\\\211596498612667-0.pdf\")\n",
    "print(len(pdf_test.pages))\n",
    "print(pdf_test.pages[0].extract_text())\n",
    "print(pdf_test.pages[1].extract_text())\n",
    "print(pdf_test.pages[2].extract_text())\n",
    "print(pdf_test.pages[3].extract_text())"
   ]
  },
  {
   "cell_type": "markdown",
   "id": "45850cbd",
   "metadata": {},
   "source": [
    "### Proposing a new way to store data"
   ]
  },
  {
   "cell_type": "markdown",
   "id": "f7256699",
   "metadata": {},
   "source": [
    "So, for a better comprehension of the available data, i've tried to create an organized table with all subscriptions information. Regardless any particularity of each student, they all filled the same form for submission, so I could easily identify the fields despite there was no obvious separators between fields."
   ]
  },
  {
   "cell_type": "markdown",
   "id": "2fcb8509",
   "metadata": {},
   "source": [
    "The inscription form provides lots of information about each student. I created lists to store these informations, according to the fields filled."
   ]
  },
  {
   "cell_type": "code",
   "execution_count": 4,
   "id": "de1ba78c",
   "metadata": {
    "ExecuteTime": {
     "end_time": "2022-05-16T00:55:47.298836Z",
     "start_time": "2022-05-16T00:55:47.244971Z"
    }
   },
   "outputs": [],
   "source": [
    "def read_pdfs (pdf):\n",
    "    \"\"\"open the pdf file and extract all the text information corresponding to each field\n",
    "    return info\"\"\"\n",
    "    info = []\n",
    "    for page in range(len(pdf.pages)):\n",
    "        info.append(pdf.pages[page].extract_text())\n",
    "    info = \"\".join(info).replace(\"Create your own automated PDFs with Jotform PDF Editor- It’s free\",\"\").split(\"Fiche d'inscription\")\n",
    "    for student in range(1,len(info)):\n",
    "        try:\n",
    "            nom = info[student].split(\"Nom et prénom d'élève\")[1].split(\"\\n\")[0].strip()\n",
    "        except:\n",
    "            nom = 0\n",
    "        try:\n",
    "            naissance = info[student].split(\"Date de naissance\")[1].split(\"\\n\")[0].strip()\n",
    "        except:\n",
    "            naissance = 0\n",
    "        try:\n",
    "            adresse = info[student].split(\"Adresse\")[1].split(\"\\n\")[0].replace(\"\\n\",\" \").strip()\n",
    "        except:\n",
    "            adresse = 0\n",
    "        try:\n",
    "            cite = info[student].split(\"Adresse\")[1].split(\"\\n\")[1].split(\",\")[0].replace(\"\\n\",\" \").strip()\n",
    "        except:\n",
    "            cite = 0\n",
    "        try:\n",
    "            postal = info[student].split(\"Adresse\")[1].split(\"\\n\")[1].split(\",\")[1].split(\"\\n\")[0].replace(\"\\n\",\" \").strip()\n",
    "        except:\n",
    "            postal = 0\n",
    "        try:\n",
    "            email = info[student].split(\"E-mail\")[1].split(\"\\n\")[0].strip()\n",
    "        except:\n",
    "            email=0\n",
    "        try:\n",
    "            representant_legal = info[student].split(\"Représentant légal de l’inscrit (pour\")[1].split(\"les mineurs\")[0].strip()\n",
    "        except:\n",
    "            representant_legal = 0\n",
    "        try:\n",
    "            tel = info[student].split(\"Téléphone\")[1].split(\"\\n\")[0].strip()\n",
    "        except:\n",
    "            tel = info[student].split(\"Téléphone\")[1].split(\"\\n\")[0].strip()\n",
    "        try:\n",
    "            cours = info[student].split(\"Cours:\")[1].split(\"Horaire:\")[0].replace(\"\\nCours\", \"\").strip()\n",
    "        except:\n",
    "            cours = 0\n",
    "        try:\n",
    "            horaire = info[student].split(\"Horaire:\")[1].split(\"Cours 2\")[0].replace(\"\\xa0\", \"\").replace(\"Heure\", \"\").strip()\n",
    "            cours2 = info[student].split(\"Cours 2:\")[1].split(\"Horaire:\")[0].replace(\"\\nCours\", \"\").strip()\n",
    "            try:\n",
    "                horaire2 = info[student].split(\"Horaire:\")[2].split(\"Cours 3\")[0].replace(\"\\xa0\", \"\").replace(\"Heure\", \"\").strip()\n",
    "                cours3 = info[student].split(\"Cours 3:\")[1].split(\"Horaire:\")[0].replace(\"\\nCours\", \"\").strip()\n",
    "                horaire3 = info[student].split(\"Horaire:\")[3].split(\"Téléverser\")[0].replace(\"Heure\", \"\").strip()\n",
    "            except: \n",
    "                horaire2= info[student].split(\"Horaire:\")[2].split(\"Téléverser\")[0].replace(\"\\xa0\", \"\").replace(\"Heure\", \"\").strip()\n",
    "                cours3 =0\n",
    "                horaire3=0\n",
    "        except:\n",
    "            try:\n",
    "                horaire = info[student].split(\"Horaire:\")[1].split(\"Téléverser\")[0].replace(\"\\xa0\", \"\").replace(\"Heure\", \"\").strip()\n",
    "            except:\n",
    "                horaire = 0\n",
    "            cours2 =0\n",
    "            horaire2=0\n",
    "            cours3 =0\n",
    "            horaire3=0\n",
    "        try:\n",
    "            adhesion = info[student].split(\"\\xa0\\xa0\\xa0\\xa0\\xa0+\")[1].split(\"\\n(valeur de chaque chèque)\")[0].strip()\n",
    "        except: \n",
    "            adhesion = info[student].split(\"Please Select\")[1].split(\"adhésion\")[0].strip() \n",
    "        try:\n",
    "            paiement_fractionne =info[student].split(\"Par\")[1].split(\" cheques\")[0].strip()\n",
    "        except:\n",
    "            paiement_fractionne =info[student].split(\"avec\")[1].split(\"chèques\")[0].strip()\n",
    "        paiement_total = info[student].split(\"au total de\")[1].split(\"€\")[0].strip()\n",
    "        name.append(nom)\n",
    "        birthday.append(naissance)\n",
    "        address.append(adresse)\n",
    "        city.append(cite)\n",
    "        pcode.append(postal)\n",
    "        mail.append(email)\n",
    "        telephone.append(tel)\n",
    "        legal_representative.append(representant_legal)\n",
    "        course.append(cours)\n",
    "        schedule.append(horaire)\n",
    "        course2.append(cours2)\n",
    "        schedule2.append(horaire2)\n",
    "        course3.append(cours3)\n",
    "        schedule3.append(horaire3)\n",
    "        registration.append(adhesion)\n",
    "        installments.append(paiement_fractionne)\n",
    "        total.append(paiement_total)"
   ]
  },
  {
   "cell_type": "markdown",
   "id": "a893a33c",
   "metadata": {},
   "source": [
    "All available data was stored in the same folder, and the files' name differ only by the number at the end of them, from 0 to the last. "
   ]
  },
  {
   "cell_type": "code",
   "execution_count": 5,
   "id": "3c1ae972",
   "metadata": {
    "ExecuteTime": {
     "end_time": "2022-05-16T00:56:41.911806Z",
     "start_time": "2022-05-16T00:55:47.302817Z"
    }
   },
   "outputs": [],
   "source": [
    "name=[]\n",
    "birthday=[]\n",
    "address = []\n",
    "city = []\n",
    "pcode =[]\n",
    "mail =[]\n",
    "telephone =[]\n",
    "legal_representative =[]\n",
    "course=[]\n",
    "schedule =[]\n",
    "course2 =[]\n",
    "schedule2 =[]\n",
    "course3=[]\n",
    "schedule3 =[]\n",
    "registration =[]\n",
    "installments =[]\n",
    "total =[]\n",
    "files = os.listdir('C:\\\\Users\\\\Tete\\\\Curso - DA\\\\Projeto Final\\\\data') \n",
    "for file in range(len(files)-1):\n",
    "    pdf = pdfplumber.open(f\".\\\\data\\\\211596498612667-{file}.pdf\")\n",
    "    read_pdfs (pdf)"
   ]
  },
  {
   "cell_type": "markdown",
   "id": "04e85261",
   "metadata": {},
   "source": [
    "### Creating the dataframe\n",
    "After extracting all the information avaialable on those forms, I've gathered them in a dataframe which columns are the fields from the submission form."
   ]
  },
  {
   "cell_type": "code",
   "execution_count": 6,
   "id": "c365413c",
   "metadata": {
    "ExecuteTime": {
     "end_time": "2022-05-16T00:56:41.976912Z",
     "start_time": "2022-05-16T00:56:41.918068Z"
    }
   },
   "outputs": [],
   "source": [
    "attitude = pd.DataFrame(zip(name,birthday, address, city, pcode, mail, telephone, legal_representative, course, schedule, course2, schedule2, course3, schedule3, registration, installments, total))\n",
    "attitude.columns = ['name','birthday', 'address', 'city', 'pcode','mail', 'telephone', 'legal_representative', 'course', 'schedule', 'course2', 'schedule2', 'course3', 'schedule3', 'registration', 'installments', 'total']"
   ]
  },
  {
   "cell_type": "code",
   "execution_count": 7,
   "id": "928ce8d6",
   "metadata": {
    "ExecuteTime": {
     "end_time": "2022-05-16T00:56:42.097586Z",
     "start_time": "2022-05-16T00:56:41.988878Z"
    }
   },
   "outputs": [
    {
     "data": {
      "text/html": [
       "<div>\n",
       "<style scoped>\n",
       "    .dataframe tbody tr th:only-of-type {\n",
       "        vertical-align: middle;\n",
       "    }\n",
       "\n",
       "    .dataframe tbody tr th {\n",
       "        vertical-align: top;\n",
       "    }\n",
       "\n",
       "    .dataframe thead th {\n",
       "        text-align: right;\n",
       "    }\n",
       "</style>\n",
       "<table border=\"1\" class=\"dataframe\">\n",
       "  <thead>\n",
       "    <tr style=\"text-align: right;\">\n",
       "      <th></th>\n",
       "      <th>name</th>\n",
       "      <th>birthday</th>\n",
       "      <th>address</th>\n",
       "      <th>city</th>\n",
       "      <th>pcode</th>\n",
       "      <th>mail</th>\n",
       "      <th>telephone</th>\n",
       "      <th>legal_representative</th>\n",
       "      <th>course</th>\n",
       "      <th>schedule</th>\n",
       "      <th>course2</th>\n",
       "      <th>schedule2</th>\n",
       "      <th>course3</th>\n",
       "      <th>schedule3</th>\n",
       "      <th>registration</th>\n",
       "      <th>installments</th>\n",
       "      <th>total</th>\n",
       "    </tr>\n",
       "  </thead>\n",
       "  <tbody>\n",
       "    <tr>\n",
       "      <th>0</th>\n",
       "      <td>Blatt Luce</td>\n",
       "      <td>10 19 1960</td>\n",
       "      <td>Rue des vincennes, 9</td>\n",
       "      <td>Toulouse</td>\n",
       "      <td>31500</td>\n",
       "      <td>marieluceblatt@gmail.com</td>\n",
       "      <td>(0033) 607-103468</td>\n",
       "      <td>0</td>\n",
       "      <td></td>\n",
       "      <td>Lundi 12h15 Barre à terre\\nLundi \\nMardi 9h Ba...</td>\n",
       "      <td>0</td>\n",
       "      <td>0</td>\n",
       "      <td>0</td>\n",
       "      <td>0</td>\n",
       "      <td>30€</td>\n",
       "      <td>4</td>\n",
       "      <td>+ 30</td>\n",
       "    </tr>\n",
       "    <tr>\n",
       "      <th>1</th>\n",
       "      <td>Paulon Lily</td>\n",
       "      <td>24/07/14</td>\n",
       "      <td>Renée Aspe, 2</td>\n",
       "      <td>Toulouse</td>\n",
       "      <td>31000</td>\n",
       "      <td>do_julia@hotmail.com</td>\n",
       "      <td>(+33) 648-949998</td>\n",
       "      <td>Paulon Julia</td>\n",
       "      <td>Classique</td>\n",
       "      <td>Lundi 17h\\nLundi \\n\\n\\n\\n\\n\\n\\n1</td>\n",
       "      <td>0</td>\n",
       "      <td>0</td>\n",
       "      <td>0</td>\n",
       "      <td>0</td>\n",
       "      <td>30€</td>\n",
       "      <td>4</td>\n",
       "      <td>500</td>\n",
       "    </tr>\n",
       "    <tr>\n",
       "      <th>2</th>\n",
       "      <td>MEZARD Emmanuelle</td>\n",
       "      <td>02/03/1970</td>\n",
       "      <td>44, rue Sarah Bernhardt, 44, rue Sarah Bernhardt</td>\n",
       "      <td>Toulouse</td>\n",
       "      <td>31200</td>\n",
       "      <td>emmanuelle.mezard@free.fr</td>\n",
       "      <td>(6) 034-64351</td>\n",
       "      <td>0</td>\n",
       "      <td>BARRE MOYEN</td>\n",
       "      <td>Mardi 19H\\nMardi \\n\\n\\n\\n\\n\\n1</td>\n",
       "      <td>PBT + BALLET FITNESS</td>\n",
       "      <td>Jeudi 9H30\\nJeudi</td>\n",
       "      <td>BARRE MOYEN ( + pointes )</td>\n",
       "      <td>Vendredi  19h -20h30 \\nVendredi</td>\n",
       "      <td>30€</td>\n",
       "      <td>3</td>\n",
       "      <td>880</td>\n",
       "    </tr>\n",
       "    <tr>\n",
       "      <th>3</th>\n",
       "      <td>CORBIERE BEATRIX</td>\n",
       "      <td>20/09/1960</td>\n",
       "      <td>Jean GAYRAL, 83</td>\n",
       "      <td>TOULOUSE</td>\n",
       "      <td>31200</td>\n",
       "      <td>lacabiche@free.fr</td>\n",
       "      <td>(33) 066-3253652</td>\n",
       "      <td>0</td>\n",
       "      <td></td>\n",
       "      <td>Lundi 20h30\\nLundi \\n\\n\\n\\n\\n\\n\\n1</td>\n",
       "      <td></td>\n",
       "      <td>19h</td>\n",
       "      <td>0</td>\n",
       "      <td>0</td>\n",
       "      <td>30€</td>\n",
       "      <td>1</td>\n",
       "      <td>720</td>\n",
       "    </tr>\n",
       "    <tr>\n",
       "      <th>4</th>\n",
       "      <td>François Eve</td>\n",
       "      <td>08/11/1948</td>\n",
       "      <td>Avenue Winston Churchill, 10</td>\n",
       "      <td>Toulouse</td>\n",
       "      <td>31100</td>\n",
       "      <td>francoiseve9@gmail.com</td>\n",
       "      <td>(+33) 761-113634</td>\n",
       "      <td>0</td>\n",
       "      <td>Barre au sol</td>\n",
       "      <td>Lundi 12h15\\nLundi \\n\\n\\n\\n\\n\\n\\n1</td>\n",
       "      <td>Barre</td>\n",
       "      <td>Vendredi 19h\\nVendredi</td>\n",
       "      <td>0</td>\n",
       "      <td>0</td>\n",
       "      <td>30€</td>\n",
       "      <td>3</td>\n",
       "      <td>720</td>\n",
       "    </tr>\n",
       "    <tr>\n",
       "      <th>...</th>\n",
       "      <td>...</td>\n",
       "      <td>...</td>\n",
       "      <td>...</td>\n",
       "      <td>...</td>\n",
       "      <td>...</td>\n",
       "      <td>...</td>\n",
       "      <td>...</td>\n",
       "      <td>...</td>\n",
       "      <td>...</td>\n",
       "      <td>...</td>\n",
       "      <td>...</td>\n",
       "      <td>...</td>\n",
       "      <td>...</td>\n",
       "      <td>...</td>\n",
       "      <td>...</td>\n",
       "      <td>...</td>\n",
       "      <td>...</td>\n",
       "    </tr>\n",
       "    <tr>\n",
       "      <th>95</th>\n",
       "      <td>Peccia-Galletto Sasha</td>\n",
       "      <td>17 juin 2016</td>\n",
       "      <td>Monplaisir, 40</td>\n",
       "      <td>Toulouse</td>\n",
       "      <td>31400</td>\n",
       "      <td>ln.seguela@gmail.com</td>\n",
       "      <td>(06) 249-71201</td>\n",
       "      <td>Séguéla Hélène</td>\n",
       "      <td>débutant</td>\n",
       "      <td>Mardi 17H\\nMardi</td>\n",
       "      <td>0</td>\n",
       "      <td>0</td>\n",
       "      <td>0</td>\n",
       "      <td>0</td>\n",
       "      <td>30€</td>\n",
       "      <td>3</td>\n",
       "      <td>500</td>\n",
       "    </tr>\n",
       "    <tr>\n",
       "      <th>96</th>\n",
       "      <td>Galvani Francoise</td>\n",
       "      <td>09/04/1959</td>\n",
       "      <td>6 rue Pierre de Fermat</td>\n",
       "      <td>Toulouse</td>\n",
       "      <td>31000</td>\n",
       "      <td>francoisegalvani@icloud.com</td>\n",
       "      <td>(0033) 609-380633</td>\n",
       "      <td>0</td>\n",
       "      <td>0</td>\n",
       "      <td>0</td>\n",
       "      <td>0</td>\n",
       "      <td>0</td>\n",
       "      <td>0</td>\n",
       "      <td>0</td>\n",
       "      <td>30€ adhésion .</td>\n",
       "      <td>1</td>\n",
       "      <td>+ 30</td>\n",
       "    </tr>\n",
       "    <tr>\n",
       "      <th>97</th>\n",
       "      <td>lemozit sasha</td>\n",
       "      <td>10/05/2007</td>\n",
       "      <td>alleee des demoiselles, 6</td>\n",
       "      <td>toulouse</td>\n",
       "      <td>31400</td>\n",
       "      <td>christophelemozit@yahoo.fr</td>\n",
       "      <td>(33) 682-463223</td>\n",
       "      <td>lemozit christophe</td>\n",
       "      <td>Moderne</td>\n",
       "      <td>Vendredi 18h\\nVendredi</td>\n",
       "      <td>0</td>\n",
       "      <td>0</td>\n",
       "      <td>0</td>\n",
       "      <td>0</td>\n",
       "      <td>30€</td>\n",
       "      <td>3</td>\n",
       "      <td>500</td>\n",
       "    </tr>\n",
       "    <tr>\n",
       "      <th>98</th>\n",
       "      <td>BLANC BOUNY CELESTE</td>\n",
       "      <td>13/07/2013</td>\n",
       "      <td>RUE GALILEE, 9</td>\n",
       "      <td>TOULOUSE</td>\n",
       "      <td>31500</td>\n",
       "      <td>clairebouny0412@yahoo.fr</td>\n",
       "      <td>(06) 811-70151</td>\n",
       "      <td>BOUNY CLAIRE</td>\n",
       "      <td>DANSE CLASSIQUE DEBUTANT</td>\n",
       "      <td>Lundi 17H\\nLundi</td>\n",
       "      <td>0</td>\n",
       "      <td>0</td>\n",
       "      <td>0</td>\n",
       "      <td>0</td>\n",
       "      <td>30€</td>\n",
       "      <td>3</td>\n",
       "      <td>500</td>\n",
       "    </tr>\n",
       "    <tr>\n",
       "      <th>99</th>\n",
       "      <td>Ferreira Constance</td>\n",
       "      <td>11/02/2002</td>\n",
       "      <td>avenue de Lespinet, 63</td>\n",
       "      <td>Toulouse</td>\n",
       "      <td>31400</td>\n",
       "      <td>constance.ferreiramartins@gmail.com</td>\n",
       "      <td>(+33) 622-933337</td>\n",
       "      <td>0</td>\n",
       "      <td>classique 2</td>\n",
       "      <td>Mercredi 17H45\\nMercredi</td>\n",
       "      <td>0</td>\n",
       "      <td>0</td>\n",
       "      <td>0</td>\n",
       "      <td>0</td>\n",
       "      <td>30€</td>\n",
       "      <td>1</td>\n",
       "      <td>500</td>\n",
       "    </tr>\n",
       "  </tbody>\n",
       "</table>\n",
       "<p>100 rows × 17 columns</p>\n",
       "</div>"
      ],
      "text/plain": [
       "                     name      birthday  \\\n",
       "0              Blatt Luce    10 19 1960   \n",
       "1             Paulon Lily      24/07/14   \n",
       "2       MEZARD Emmanuelle    02/03/1970   \n",
       "3        CORBIERE BEATRIX    20/09/1960   \n",
       "4            François Eve    08/11/1948   \n",
       "..                    ...           ...   \n",
       "95  Peccia-Galletto Sasha  17 juin 2016   \n",
       "96      Galvani Francoise    09/04/1959   \n",
       "97          lemozit sasha    10/05/2007   \n",
       "98    BLANC BOUNY CELESTE    13/07/2013   \n",
       "99     Ferreira Constance    11/02/2002   \n",
       "\n",
       "                                             address      city  pcode  \\\n",
       "0                               Rue des vincennes, 9  Toulouse  31500   \n",
       "1                                      Renée Aspe, 2  Toulouse  31000   \n",
       "2   44, rue Sarah Bernhardt, 44, rue Sarah Bernhardt  Toulouse  31200   \n",
       "3                                    Jean GAYRAL, 83  TOULOUSE  31200   \n",
       "4                       Avenue Winston Churchill, 10  Toulouse  31100   \n",
       "..                                               ...       ...    ...   \n",
       "95                                    Monplaisir, 40  Toulouse  31400   \n",
       "96                            6 rue Pierre de Fermat  Toulouse  31000   \n",
       "97                         alleee des demoiselles, 6  toulouse  31400   \n",
       "98                                    RUE GALILEE, 9  TOULOUSE  31500   \n",
       "99                            avenue de Lespinet, 63  Toulouse  31400   \n",
       "\n",
       "                                   mail          telephone  \\\n",
       "0              marieluceblatt@gmail.com  (0033) 607-103468   \n",
       "1                  do_julia@hotmail.com   (+33) 648-949998   \n",
       "2             emmanuelle.mezard@free.fr      (6) 034-64351   \n",
       "3                     lacabiche@free.fr   (33) 066-3253652   \n",
       "4                francoiseve9@gmail.com   (+33) 761-113634   \n",
       "..                                  ...                ...   \n",
       "95                 ln.seguela@gmail.com     (06) 249-71201   \n",
       "96          francoisegalvani@icloud.com  (0033) 609-380633   \n",
       "97           christophelemozit@yahoo.fr    (33) 682-463223   \n",
       "98             clairebouny0412@yahoo.fr     (06) 811-70151   \n",
       "99  constance.ferreiramartins@gmail.com   (+33) 622-933337   \n",
       "\n",
       "   legal_representative                    course  \\\n",
       "0                     0                             \n",
       "1          Paulon Julia                 Classique   \n",
       "2                     0               BARRE MOYEN   \n",
       "3                     0                             \n",
       "4                     0              Barre au sol   \n",
       "..                  ...                       ...   \n",
       "95       Séguéla Hélène                  débutant   \n",
       "96                    0                         0   \n",
       "97   lemozit christophe                   Moderne   \n",
       "98         BOUNY CLAIRE  DANSE CLASSIQUE DEBUTANT   \n",
       "99                    0               classique 2   \n",
       "\n",
       "                                             schedule               course2  \\\n",
       "0   Lundi 12h15 Barre à terre\\nLundi \\nMardi 9h Ba...                     0   \n",
       "1                    Lundi 17h\\nLundi \\n\\n\\n\\n\\n\\n\\n1                     0   \n",
       "2                      Mardi 19H\\nMardi \\n\\n\\n\\n\\n\\n1  PBT + BALLET FITNESS   \n",
       "3                  Lundi 20h30\\nLundi \\n\\n\\n\\n\\n\\n\\n1                         \n",
       "4                  Lundi 12h15\\nLundi \\n\\n\\n\\n\\n\\n\\n1                 Barre   \n",
       "..                                                ...                   ...   \n",
       "95                                   Mardi 17H\\nMardi                     0   \n",
       "96                                                  0                     0   \n",
       "97                             Vendredi 18h\\nVendredi                     0   \n",
       "98                                   Lundi 17H\\nLundi                     0   \n",
       "99                           Mercredi 17H45\\nMercredi                     0   \n",
       "\n",
       "                 schedule2                    course3  \\\n",
       "0                        0                          0   \n",
       "1                        0                          0   \n",
       "2        Jeudi 9H30\\nJeudi  BARRE MOYEN ( + pointes )   \n",
       "3                      19h                          0   \n",
       "4   Vendredi 19h\\nVendredi                          0   \n",
       "..                     ...                        ...   \n",
       "95                       0                          0   \n",
       "96                       0                          0   \n",
       "97                       0                          0   \n",
       "98                       0                          0   \n",
       "99                       0                          0   \n",
       "\n",
       "                          schedule3    registration installments total  \n",
       "0                                 0             30€            4  + 30  \n",
       "1                                 0             30€            4   500  \n",
       "2   Vendredi  19h -20h30 \\nVendredi             30€            3   880  \n",
       "3                                 0             30€            1   720  \n",
       "4                                 0             30€            3   720  \n",
       "..                              ...             ...          ...   ...  \n",
       "95                                0             30€            3   500  \n",
       "96                                0  30€ adhésion .            1  + 30  \n",
       "97                                0             30€            3   500  \n",
       "98                                0             30€            3   500  \n",
       "99                                0             30€            1   500  \n",
       "\n",
       "[100 rows x 17 columns]"
      ]
     },
     "execution_count": 7,
     "metadata": {},
     "output_type": "execute_result"
    }
   ],
   "source": [
    "attitude"
   ]
  },
  {
   "cell_type": "markdown",
   "id": "5d77df04",
   "metadata": {
    "ExecuteTime": {
     "end_time": "2022-05-13T18:45:25.319464Z",
     "start_time": "2022-05-13T18:45:25.274608Z"
    }
   },
   "source": [
    "## Transforming data   "
   ]
  },
  {
   "cell_type": "markdown",
   "id": "05372ccd",
   "metadata": {},
   "source": [
    "### Checking columns:"
   ]
  },
  {
   "cell_type": "code",
   "execution_count": 8,
   "id": "794f4652",
   "metadata": {
    "ExecuteTime": {
     "end_time": "2022-05-16T00:56:42.113546Z",
     "start_time": "2022-05-16T00:56:42.101576Z"
    }
   },
   "outputs": [],
   "source": [
    "#Dropping duplicates\n",
    "attitude = attitude.drop_duplicates().reset_index(drop=True)"
   ]
  },
  {
   "cell_type": "code",
   "execution_count": 9,
   "id": "b13e308d",
   "metadata": {
    "ExecuteTime": {
     "end_time": "2022-05-16T00:56:42.145459Z",
     "start_time": "2022-05-16T00:56:42.118538Z"
    }
   },
   "outputs": [],
   "source": [
    "#Let's standardize it!\n",
    "# Strings\n",
    "attitude.name = [nom.title() for nom in attitude.name]\n",
    "attitude.address = [adresse.title() for adresse in attitude.address]\n",
    "attitude.city = [cite.title() for cite in attitude.city]\n",
    "attitude.mail = [email.lower() for email in attitude.mail]\n",
    "attitude.legal_representative = [representant.title() if representant != 0 else 0 for representant in attitude.legal_representative]\n",
    "attitude.course = [cours.title() if cours != 0 else 0 for cours in attitude.course]\n",
    "attitude.course2= [cours2.title() if cours2 != 0 else 0 for cours2 in attitude.course2]\n",
    "attitude.course3= [cours3.title() if cours3 != 0 else 0 for cours3 in attitude.course2]"
   ]
  },
  {
   "cell_type": "code",
   "execution_count": 10,
   "id": "aa619a67",
   "metadata": {
    "ExecuteTime": {
     "end_time": "2022-05-16T00:56:42.223249Z",
     "start_time": "2022-05-16T00:56:42.153437Z"
    }
   },
   "outputs": [
    {
     "name": "stdout",
     "output_type": "stream",
     "text": [
      "['25 nivelbre 1947', '18 décembre 2012', '17 août 2008', '4 juin 1975', '1er mai 2014', 0, '18 AOUT 2010', '23 JANVIER 2017', 0, '30061986', '17 juin 2016']\n"
     ]
    }
   ],
   "source": [
    "#Birthday column\n",
    "issues = []\n",
    "for naissance in attitude.birthday:\n",
    "    try:\n",
    "        date = parser.parse(naissance)\n",
    "    except:\n",
    "        issues.append(naissance)\n",
    "print(issues)\n",
    "naissances=[]\n",
    "for naissance in attitude.birthday:\n",
    "    if naissance != 0:\n",
    "        date = parser.parse(naissance.replace('25 nivelbre 1947', '25-11-1947').replace('18 décembre 2012', '18-12-2012').replace('17 août 2008', '17-08-2008').replace('4 juin 1975', '04-06-1975').replace('1er mai 2014', '01-05-2014').replace('18 AOUT 2010', '18-08-2010').replace('23 JANVIER 2017', '23-01-2017').replace('30061986', '30-06-1986').replace('17 juin 2016', '17-06-2016'))\n",
    "        naissances.append(date.strftime('%d-%m-%Y'))\n",
    "    else:\n",
    "        naissances.append(0)\n",
    "attitude.birthday = naissances"
   ]
  },
  {
   "cell_type": "code",
   "execution_count": 11,
   "id": "bca0dd5b",
   "metadata": {
    "ExecuteTime": {
     "end_time": "2022-05-16T00:56:42.255169Z",
     "start_time": "2022-05-16T00:56:42.229240Z"
    }
   },
   "outputs": [],
   "source": [
    "#Address column:\n",
    "attitude['address'].iloc[2] = 'Rue Sarah Bernhardt, 44'\n",
    "attitude['address'].iloc[1] = '11 Rue Du Docteur Charles Bonneau'\n"
   ]
  },
  {
   "cell_type": "code",
   "execution_count": 12,
   "id": "ea5032f6",
   "metadata": {
    "ExecuteTime": {
     "end_time": "2022-05-16T00:56:42.413741Z",
     "start_time": "2022-05-16T00:56:42.271124Z"
    }
   },
   "outputs": [],
   "source": [
    "#Column Telephone:\n",
    "for row in range(len(attitude.telephone)):\n",
    "    attitude['telephone'].iloc[row] = attitude['telephone'].iloc[row].replace('(33)', '+33').replace('(0033)', '+33').replace('(033)', '+33').replace('(','').replace(\"(0687026502)\", \"0687026502\").replace(\"(Portable)\", \"\").replace(\"(0634121580) 063-4121580\", \"063-4121580\").replace(\"(0687026502) 068-7026502\", \"068-7026502\").replace(\"(0689289829) ¨\", \"0689289829\").replace(\"(0689289829) 068-9289829\", \"0689289829\").replace(\"(0607991130) 060-7991130\", \"0607991130\").replace(\"(0683365627) 068-3365627\", \"0683365627\").replace(\"0689289829 ¨\", '0689289829').replace('.',\"\").replace(')',\"\").replace(\"-\",\"\")"
   ]
  },
  {
   "cell_type": "code",
   "execution_count": 13,
   "id": "d08a85f8",
   "metadata": {
    "ExecuteTime": {
     "end_time": "2022-05-16T00:56:42.477572Z",
     "start_time": "2022-05-16T00:56:42.419729Z"
    }
   },
   "outputs": [],
   "source": [
    "def schedules (schedule_num):\n",
    "    issues_horaire =[]\n",
    "    for row in range(len(attitude[schedule_num])):\n",
    "        if attitude[schedule_num].iloc[row] != 0:\n",
    "            try:\n",
    "                horaire = attitude[schedule_num].iloc[row].replace('\\n1',' ').strip().split('\\n')\n",
    "                if len(horaire) == 2:\n",
    "                    attitude[schedule_num].iloc[row] = attitude[schedule_num].iloc[row].replace('\\n1',' ').strip().split('\\n')[0].lower()\n",
    "                else:\n",
    "                    issues_horaire.append(row)\n",
    "            except:\n",
    "                continue\n",
    "        else:\n",
    "            continue\n",
    "    return issues_horaire\n",
    "\n",
    "def schedule_course (schedule_num, course_num):\n",
    "    for row in range(len(attitude[schedule_num])):\n",
    "        if attitude[schedule_num].iloc[row] == 'mardi 19h' or attitude[schedule_num].iloc[row] == 'mardi 18h' or attitude[schedule_num].iloc[row] =='vendredi 19h' or attitude[schedule_num].iloc[row] =='lundi 10h15':\n",
    "            attitude[course_num].iloc[row] = 'Classique Moyen'\n",
    "        elif attitude[schedule_num].iloc[row] == 'lundi 12h15' or attitude[schedule_num].iloc[row] == 'mardi 9h' or attitude[schedule_num].iloc[row] == 'samedi 12h15' or attitude[schedule_num].iloc[row] == 'samedi 12h' or attitude[schedule_num].iloc[row] == 'mardi 10h':\n",
    "            attitude[course_num].iloc[row] = 'Barre à Terre'\n",
    "        elif attitude[schedule_num].iloc[row] == 'mercredi 14h15':\n",
    "            attitude[course_num].iloc[row] == 'Classique 1'\n",
    "        elif attitude[schedule_num].iloc[row] == 'lundi 17h':\n",
    "            attitude[course_num].iloc[row] = 'Préparatoire'    \n",
    "        elif attitude[schedule_num].iloc[row] == 'mercredi 16h30' or attitude[schedule_num].iloc[row] == 'vendredi 20h30':\n",
    "            attitude[course_num].iloc[row] = 'Pointes'\n",
    "        elif attitude[schedule_num].iloc[row] == 'mardi 17h':\n",
    "            attitude[course_num].iloc[row] = 'Éveil'\n",
    "        elif attitude[schedule_num].iloc[row] == 'jeudi 17h10' or attitude[schedule_num].iloc[row] == 'jeudi 17h15':\n",
    "            attitude[course_num].iloc[row] = 'Initiation'\n",
    "        elif attitude[schedule_num].iloc[row] == 'mercredi 17h45':\n",
    "            attitude[course_num].iloc[row] = 'Classique 2'\n",
    "        elif attitude[schedule_num].iloc[row] == 'mercredi 14h25' or attitude[schedule_num].iloc[row] =='mercredi 14h15' or attitude[schedule_num].iloc[row] =='mercredi 13h15':\n",
    "            attitude[course_num].iloc[row] = 'Classique 1'\n",
    "        elif attitude[schedule_num].iloc[row] == 'lundi 18h':\n",
    "            attitude[course_num].iloc[row] = 'Contemporain'\n",
    "        elif attitude[schedule_num].iloc[row] == 'jeudi 20h' or attitude[schedule_num].iloc[row] =='lundi 20h30' or attitude[schedule_num].iloc[row] =='mercredi 9h' or attitude[schedule_num].iloc[row] =='jeudi 19h30':\n",
    "            attitude[course_num].iloc[row] = 'Pilates'\n",
    "        elif attitude[schedule_num].iloc[row] == 'lundi 10h':\n",
    "            attitude[course_num].iloc[row] = 'Classique Moyen'\n",
    "        elif attitude[schedule_num].iloc[row] == 'lundi 18h' or attitude[schedule_num].iloc[row] == 'mercredi 15h30':\n",
    "            attitude[course_num].iloc[row] = 'Pbt'\n",
    "        elif attitude[schedule_num].iloc[row] == 'jeudi 18h30' or attitude[schedule_num].iloc[row] == 'lundi 19h' or attitude[schedule_num].iloc[row] =='mercredi 19h30' or attitude[schedule_num].iloc[row] == 'samedi 10h40' or attitude[schedule_num].iloc[row] == 'samedi 10h30' or attitude[schedule_num].iloc[row] == 'lundi 19h15' or attitude[schedule_num].iloc[row] == 'mardi 19h30' or attitude[schedule_num].iloc[row] == 'mardi 19h15' or attitude[schedule_num].iloc[row] == 'jeudi 18h30':\n",
    "            attitude[course_num].iloc[row] = 'Classique Interm. – Avancé'\n",
    "        elif attitude[schedule_num].iloc[row] == 'vendredi 10h15' or attitude[schedule_num].iloc[row] =='vendredi 10h' or attitude[schedule_num].iloc[row] =='vendredi 19h' or attitude[schedule_num].iloc[row] =='lundi 10h' or attitude[schedule_num].iloc[row] =='lundi 19h15':\n",
    "            attitude[course_num].iloc[row] = 'Classique Moyen'\n",
    "        elif attitude[schedule_num].iloc[row] == 'lundi 19h30':\n",
    "            attitude[course_num].iloc[row] = 'Classique Avancé'\n",
    "        elif attitude[schedule_num].iloc[row] == 'vendredi 18h':\n",
    "            attitude[course_num].iloc[row] = 'Moderne'\n",
    "        elif attitude[schedule_num].iloc[row] == 'jeudi 9h30':\n",
    "            attitude[course_num].iloc[row] = 'Pbt + Ballet Fitness'    "
   ]
  },
  {
   "cell_type": "code",
   "execution_count": 14,
   "id": "10f67658",
   "metadata": {
    "ExecuteTime": {
     "end_time": "2022-05-16T00:56:42.605229Z",
     "start_time": "2022-05-16T00:56:42.480564Z"
    }
   },
   "outputs": [
    {
     "data": {
      "text/plain": [
       "[0, 5, 11, 20, 25, 33, 58, 72, 89]"
      ]
     },
     "execution_count": 14,
     "metadata": {},
     "output_type": "execute_result"
    }
   ],
   "source": [
    "issues_horaire = schedules ('schedule')\n",
    "issues_horaire"
   ]
  },
  {
   "cell_type": "code",
   "execution_count": 15,
   "id": "beb5b942",
   "metadata": {
    "ExecuteTime": {
     "end_time": "2022-05-16T00:56:42.669059Z",
     "start_time": "2022-05-16T00:56:42.607224Z"
    }
   },
   "outputs": [],
   "source": [
    "attitude['schedule'].iloc[0] = \"mardi 12h15\"\n",
    "attitude['schedule2'].iloc[0] = \"jeudi 9h30\"\n",
    "attitude['schedule'].iloc[5] = \"Lundi, 12h15\"\n",
    "attitude['schedule2'].iloc[5] = \"mardi 18h  vendredi 19h\"\n",
    "attitude['course'].iloc[11] = \"barre à rerre\"\n",
    "attitude['schedule'].iloc[11] = \"lundi 12h15 mardi 9h\"\n",
    "attitude['schedule'].iloc[20] = \"lundi 19h15\"\n",
    "attitude['schedule2'].iloc[20] = \"jeudi 18h30 vendredi 20h30\"\n",
    "attitude['schedule'].iloc[25] = \"lundi 12h15\"\n",
    "attitude['schedule2'].iloc[25] = \"vendredi 19h\"\n",
    "attitude['schedule'].iloc[28] ='mercredi 15h30'\n",
    "attitude['schedule'].iloc[33] = \"mardi 9h\"\n",
    "attitude['schedule2'].iloc[33] = \"vendredi 10h15\"\n",
    "attitude['course'].iloc[58] = \"classique avancé\"\n",
    "attitude['schedule'].iloc[58] = \"mardi 19h15 jeudi 18h30\"\n",
    "attitude['course2'].iloc[58] = \"pbt\"\n",
    "attitude['schedule2'].iloc[58] = \"mercredi 15h30\""
   ]
  },
  {
   "cell_type": "code",
   "execution_count": 16,
   "id": "15c56e90",
   "metadata": {
    "ExecuteTime": {
     "end_time": "2022-05-16T00:56:42.779777Z",
     "start_time": "2022-05-16T00:56:42.673050Z"
    }
   },
   "outputs": [
    {
     "data": {
      "text/plain": [
       "array(['lundi 12h15', 'lundi 17h', 'mardi 19h', 'lundi 20h30',\n",
       "       'mercredi 14h15', 'mardi 17h', 'mardi 18h', 'samedi 12h',\n",
       "       'lundi 12h15 mardi 9h', 'vendredi 19h', 'mercredi 16h30',\n",
       "       'lundi 19h15', 'jeudi 17h10', 'mercredi 17h45', 'mardi 19h30',\n",
       "       'mercredi 15h30', 'lundi 10h15', 'samedi 10h30', 'jeudi 17h15',\n",
       "       'mardi 10h', 'mardi 9h', 'mercredi ', 'lundi 18h', 'jeudi 19h30',\n",
       "       0, 'jeudi 20h', 'mardi 9h ', 'mercredi 13h15', 'lundi 10h',\n",
       "       'mardi 19h15 jeudi 18h30', 'jeudi 18h30', 'mercredi 19h30',\n",
       "       'vendredi 10h15', 'samedi ', 'mercredi 9h', 'jeudi ', '', 'lundi ',\n",
       "       'vendredi 18h'], dtype=object)"
      ]
     },
     "execution_count": 16,
     "metadata": {},
     "output_type": "execute_result"
    }
   ],
   "source": [
    "attitude.schedule.unique()\n",
    "for row in range(len(attitude.schedule)):\n",
    "    if attitude['schedule'].iloc[row] != 0:\n",
    "        attitude['schedule'].iloc[row] = attitude['schedule'].iloc[row].lower().replace(',', '').replace(':', 'h').replace('h00', 'h').replace(' h ', 'h').replace('vendredi 19h-20h30', 'vendredi 19h').replace('mardi 18h/19h30', 'mardi 18h').replace('mardi 18h-19h30', 'mardi 18h').replace('mercredi 16h30/17h30','mercredi 16h30').replace('mercredi 17h45-19h15','mercredi 17h45').replace('mardi 10 ', 'mardi 10h').replace('jeudi 17h15 - 18h15','jeudi 17h15').replace('lundi 17 ', 'lundi 17h').replace('jeudi 17h15-18h15', 'jeudi 17h15').replace('mercredi 14h15-15h30','mercredi 14h15').replace('mardi 17h - 17h45', 'mardi 17h').replace('jeudi 19h30-21h', 'jeudi 19h30').replace('lundi 17-18h', 'lundi 17h').replace('jeudi 20h - 21h', 'jeudi 20h').replace('lundi 10h11h30', 'lundi 10h').replace('lundi 18 ','lundi 18h').replace('lundi 19h 15 et 20h45', 'lundi 19h15').replace('mercredi 16.30/17.30', 'mercredi 16h30').replace('mardi 9.00/10.00', 'mardi 9h').replace('jeudi 18h30 - 20h', 'jeudi 18h30').replace('mardi 19h30 - 20h45','mardi 19h30').replace('10h30\\n\\n\\n\\n\\n\\nsamedi \\nsamedi\\n\\n1', 'samedi 10h30').replace('mardi 12h15','lundi 12h15').replace('mardi 17 ','mardi 17h').replace('mercredi 9 ', 'mercredi 9h')\n",
    "attitude.schedule.unique()"
   ]
  },
  {
   "cell_type": "code",
   "execution_count": 17,
   "id": "28ff471e",
   "metadata": {
    "ExecuteTime": {
     "end_time": "2022-05-16T00:56:42.842596Z",
     "start_time": "2022-05-16T00:56:42.784750Z"
    }
   },
   "outputs": [
    {
     "data": {
      "text/plain": [
       "[0, 3, 5, 19, 20, 25, 33, 58]"
      ]
     },
     "execution_count": 17,
     "metadata": {},
     "output_type": "execute_result"
    }
   ],
   "source": [
    "issues_horaire2 = schedules ('schedule2')\n",
    "issues_horaire2"
   ]
  },
  {
   "cell_type": "code",
   "execution_count": 18,
   "id": "79f06241",
   "metadata": {
    "ExecuteTime": {
     "end_time": "2022-05-16T00:56:42.952308Z",
     "start_time": "2022-05-16T00:56:42.845588Z"
    }
   },
   "outputs": [
    {
     "data": {
      "text/plain": [
       "array(['jeudi 9h30', 0, '19h', 'vendredi 19h', 'mardi 18h  vendredi 19h',\n",
       "       'mercredi 15h30', 'vendredi 20h30', 'samedi 12h15', 'vendredi 18h',\n",
       "       'mercredi 19h30', 'mercredi 17h45', 'jeudi 18h30 vendredi 20h30',\n",
       "       'samedi 10h30', 'mercredi 16h30', 'vendredi 10h15', 'lundi 20h45',\n",
       "       'samedi 10h40', 'lundi 19h15', 'jeudi ', 'mercredi ', 'vendredi '],\n",
       "      dtype=object)"
      ]
     },
     "execution_count": 18,
     "metadata": {},
     "output_type": "execute_result"
    }
   ],
   "source": [
    "attitude.schedule2.unique()\n",
    "for row in range(len(attitude.schedule2)):\n",
    "    if attitude['schedule2'].iloc[row] != 0:\n",
    "        attitude['schedule2'].iloc[row] = attitude['schedule2'].iloc[row].replace(',', '').replace(':', 'h').replace('h00', 'h').replace(' h ', 'h').replace('Jeudi, 9h30', 'jeudi 9h30').replace('Mardi, 18h,  Vendredi, 19h', 'mardi 18h,  vendredi 19h').replace('vendredi 20h30-21h15','vendredi 20h30').replace('vendredi 18/19h','vendredi 18h').replace('mercredi 19h30-21h', 'mercredi 19h30').replace('Mercredi 17h45/19h15\\nMercredi \\n\\n\\n\\n\\n2','Mercredi 17h45').replace('Jeudi, 18h30, Vendredi, 20h30','jeudi 18h30, vendredi 20h30').replace('mercredi 17.45/19.15','mercredi 17h45').replace('mercredi 15h30 - 16h30', 'mercredi 15h30').lower()\n",
    "attitude.schedule2.unique()"
   ]
  },
  {
   "cell_type": "code",
   "execution_count": 19,
   "id": "41857ad9",
   "metadata": {
    "ExecuteTime": {
     "end_time": "2022-05-16T00:56:42.999178Z",
     "start_time": "2022-05-16T00:56:42.961279Z"
    }
   },
   "outputs": [
    {
     "data": {
      "text/plain": [
       "[18, 20, 57, 58, 92]"
      ]
     },
     "execution_count": 19,
     "metadata": {},
     "output_type": "execute_result"
    }
   ],
   "source": [
    "issues_horaire3 = schedules ('schedule3')\n",
    "issues_horaire3"
   ]
  },
  {
   "cell_type": "code",
   "execution_count": 20,
   "id": "7b1bd510",
   "metadata": {
    "ExecuteTime": {
     "end_time": "2022-05-16T00:56:43.031110Z",
     "start_time": "2022-05-16T00:56:43.008157Z"
    }
   },
   "outputs": [],
   "source": [
    "attitude['schedule3'].iloc[18] = 'vendredi 20h30'\n",
    "attitude['schedule3'].iloc[20] = 'vendredi 20h30'\n",
    "attitude['schedule3'].iloc[57] = 'vendredi 10h'\n",
    "attitude['schedule3'].iloc[58] = 'mercredi 17h45'\n",
    "attitude['schedule3'].iloc[92] = 'samedi 10h30'"
   ]
  },
  {
   "cell_type": "code",
   "execution_count": 21,
   "id": "0f2a5c8c",
   "metadata": {
    "ExecuteTime": {
     "end_time": "2022-05-16T00:56:43.077965Z",
     "start_time": "2022-05-16T00:56:43.043060Z"
    }
   },
   "outputs": [
    {
     "data": {
      "text/plain": [
       "array([0, 'vendredi 19h', 'vendredi 20h30', 'mercredi 17h45',\n",
       "       'samedi 10h30', 'vendredi 10h', 'mercredi ', 'vendredi '],\n",
       "      dtype=object)"
      ]
     },
     "execution_count": 21,
     "metadata": {},
     "output_type": "execute_result"
    }
   ],
   "source": [
    "attitude.schedule3.unique()\n",
    "for row in range(len(attitude.schedule3)):\n",
    "    if attitude['schedule3'].iloc[row] != 0:\n",
    "        attitude['schedule3'].iloc[row] = attitude['schedule3'].iloc[row].lower().replace(',', '').replace(':', 'h').replace('h00', 'h').replace(' h ', 'h').replace('vendredi \\xa019h -20h30\\xa0', 'vendredi 19h').replace('vendredi \\xa019/20h30\\xa0','vendredi 19h').replace('mercredi \\xa017h45\\xa0\\xa0\\xa0\\xa0\\xa0\\xa0\\xa0\\xa0\\xa0', 'mercredi 17h45').replace('samedi \\xa0\\xa0\\xa010h30\\xa0\\xa0\\xa0', 'samedi 10h30').replace('\\xa0', '')\n",
    "attitude.schedule3.unique()"
   ]
  },
  {
   "cell_type": "code",
   "execution_count": 22,
   "id": "05816a56",
   "metadata": {
    "ExecuteTime": {
     "end_time": "2022-05-16T00:56:43.376905Z",
     "start_time": "2022-05-16T00:56:43.080958Z"
    }
   },
   "outputs": [],
   "source": [
    "schedule_course ('schedule', 'course')\n",
    "schedule_course ('schedule2', 'course2')\n",
    "schedule_course ('schedule3', 'course3')"
   ]
  },
  {
   "cell_type": "code",
   "execution_count": 23,
   "id": "7efbbf8b",
   "metadata": {
    "ExecuteTime": {
     "end_time": "2022-05-16T00:56:43.423889Z",
     "start_time": "2022-05-16T00:56:43.379903Z"
    }
   },
   "outputs": [],
   "source": [
    "attitude[attitude['course']==0]\n",
    "attitude['course'].iloc[39] = \"pilates\"\n",
    "attitude['schedule'].iloc[39] = \"juedi 20h\"\n",
    "attitude['course'].iloc[41] = 'classique 1'\n",
    "attitude['course'].iloc[51] = 'classique 1'\n",
    "attitude['course'].iloc[78] = 'classique 1'\n",
    "attitude['course'].iloc[79] = 'classique moyen'\n",
    "attitude['schedule'].iloc[79] = \"vendredi 10h\"\n",
    "attitude['course'].iloc[79] = 'classique interm. – avancé'\n",
    "attitude['schedule'].iloc[93] = \"vendredi 10h\"\n",
    "attitude['course'].iloc[93] = 'classique interm. – avancé'\n",
    "attitude['course'].iloc[46] = \"pilates\"\n",
    "attitude['schedule'].iloc[46] = \"lundi 9h mercredi 9h vendredi 9h\"\n",
    "attitude['course'].iloc[46] = \"classique moyen\"\n",
    "attitude['schedule'].iloc[46] = \"lundi 10h\"\n",
    "attitude['course'].iloc[46] = \"pbt + ballet fitness\"\n",
    "attitude['schedule'].iloc[46] = \"juedi 9h30\"\n",
    "attitude['course'].iloc[56] = \"pilates\"\n",
    "attitude['schedule'].iloc[56] = \"mercredi 9h vendredi 9h\"\n",
    "attitude['course'].iloc[66] = \"pilates\"\n",
    "attitude['schedule'].iloc[66] = \"lundi 9h\"\n",
    "attitude['course'].iloc[83] = \"pilates\"\n",
    "attitude['schedule'].iloc[83] = \"lundi 20h45\"\n",
    "attitude['course2'].iloc[83] = 0\n",
    "attitude['schedule2'].iloc[83] = 0\n",
    "attitude['course'].iloc[95] = \"barre à terre\"\n",
    "attitude['schedule'].iloc[95] = \"mardi 9h\""
   ]
  },
  {
   "cell_type": "code",
   "execution_count": 24,
   "id": "76226da3",
   "metadata": {
    "ExecuteTime": {
     "end_time": "2022-05-16T00:56:43.532593Z",
     "start_time": "2022-05-16T00:56:43.431867Z"
    }
   },
   "outputs": [
    {
     "data": {
      "text/plain": [
       "array(['barre à terre', 'préparatoire', 'classique moyen', 'pilates',\n",
       "       'classique 1', 'éveil', 'barre à rerre', 'pointes',\n",
       "       'classique interm. – avancé', 'initiation', 'classique 2', 'pbt',\n",
       "       'contemporain', 'pbt + ballet fitness', 'classique avancé',\n",
       "       'carte 10 cours', 'moderne'], dtype=object)"
      ]
     },
     "execution_count": 24,
     "metadata": {},
     "output_type": "execute_result"
    }
   ],
   "source": [
    "attitude.course.unique()\n",
    "for row in range(len(attitude.course)):\n",
    "    if attitude['course'].iloc[row] != 0:\n",
    "        attitude['course'].iloc[row] = attitude['course'].iloc[row].replace(\"Classiquee Avancé\", \"Classique Avancé\").replace('inter/ avance', 'classique interm. – avancé').lower()\n",
    "        if attitude['course'].iloc[row] =='classique interm':\n",
    "            attitude['course'].iloc[row] = ('classique interm. – avancé')\n",
    "        if attitude['course'].iloc[row] =='1' or attitude['course'].iloc[row] =='classique':\n",
    "            attitude['course'].iloc[row] = (\"classique 1\")\n",
    "attitude.course.unique()"
   ]
  },
  {
   "cell_type": "code",
   "execution_count": 25,
   "id": "b1c3fd55",
   "metadata": {
    "ExecuteTime": {
     "end_time": "2022-05-16T00:56:43.612383Z",
     "start_time": "2022-05-16T00:56:43.538576Z"
    }
   },
   "outputs": [
    {
     "data": {
      "text/plain": [
       "array(['pbt + ballet fitness', 0, '', 'classique moyen', 'pbt', 'pointes',\n",
       "       'barre à terre', 'moderne', 'classique interm. – avancé',\n",
       "       'classique 2', 'inter/ avance'], dtype=object)"
      ]
     },
     "execution_count": 25,
     "metadata": {},
     "output_type": "execute_result"
    }
   ],
   "source": [
    "attitude.course2.unique()\n",
    "for row in range(len(attitude.course2)):\n",
    "    if attitude['course2'].iloc[row] != 0:\n",
    "        attitude['course2'].iloc[row] = attitude['course2'].iloc[row].replace(\"Classiquee Avancé\", \"Classique Avancé\").replace('inter/ avance', 'classique interm. – avancé').lower()\n",
    "        if attitude['course2'].iloc[row] =='barre':\n",
    "            attitude['course2'].iloc[row] = (\"barre à terre\")\n",
    "        if attitude['course2'].iloc[row] =='classique interm':\n",
    "            attitude['course2'].iloc[row] = ('classique interm. – avancé')\n",
    "        if attitude['course2'].iloc[row] =='classique':\n",
    "            attitude['course2'].iloc[row] = (\"classique 1\")\n",
    "attitude.course2.unique()"
   ]
  },
  {
   "cell_type": "code",
   "execution_count": 26,
   "id": "d288d04e",
   "metadata": {
    "ExecuteTime": {
     "end_time": "2022-05-16T00:56:43.691173Z",
     "start_time": "2022-05-16T00:56:43.621364Z"
    }
   },
   "outputs": [
    {
     "data": {
      "text/plain": [
       "array([0, 'classique moyen', '', 'barre à terre', 'pbt', 'pointes',\n",
       "       'classique 2', 'classique 1', 'classique interm. – avancé'],\n",
       "      dtype=object)"
      ]
     },
     "execution_count": 26,
     "metadata": {},
     "output_type": "execute_result"
    }
   ],
   "source": [
    "attitude.course3.unique()\n",
    "for row in range(len(attitude.course3)):\n",
    "    if attitude['course3'].iloc[row] != 0:\n",
    "        attitude['course3'].iloc[row] = attitude['course3'].iloc[row].replace(\"Classiquee Avancé\", \"Classique Avancé\").replace('inter/ avance', 'classique interm. – avancé').lower()\n",
    "        if attitude['course3'].iloc[row] =='barre':\n",
    "            attitude['course3'].iloc[row] = (\"barre à terre\")\n",
    "        if attitude['course3'].iloc[row] =='classique':\n",
    "            attitude['course3'].iloc[row] = (\"classique 1\")\n",
    "attitude.course3.unique()"
   ]
  },
  {
   "cell_type": "code",
   "execution_count": 27,
   "id": "e28c3511",
   "metadata": {
    "ExecuteTime": {
     "end_time": "2022-05-16T00:56:43.755999Z",
     "start_time": "2022-05-16T00:56:43.699151Z"
    }
   },
   "outputs": [],
   "source": [
    "for row in range(len(attitude.registration)):\n",
    "    attitude.registration.iloc[row] = '30€'"
   ]
  },
  {
   "cell_type": "code",
   "execution_count": 28,
   "id": "4e8b8814",
   "metadata": {
    "ExecuteTime": {
     "end_time": "2022-05-16T00:56:43.848748Z",
     "start_time": "2022-05-16T00:56:43.771951Z"
    }
   },
   "outputs": [
    {
     "data": {
      "text/plain": [
       "3      39\n",
       "1      34\n",
       "10     14\n",
       "4       5\n",
       "2       3\n",
       "5       2\n",
       "0       1\n",
       "shh     1\n",
       "Name: installments, dtype: int64"
      ]
     },
     "execution_count": 28,
     "metadata": {},
     "output_type": "execute_result"
    }
   ],
   "source": [
    "for row in range(len(attitude.installments)):\n",
    "    attitude.installments.iloc[row] = attitude.installments.iloc[row].replace('10 chéques\\n(1-10)', '10').replace('9 + 1', '10').replace(\"lement\\ntoulouse, 31000\\nE-mail juliereglat@gmail.com\\nTéléphone (06) 760-48948\\nReprésentant légal de l’inscrit (pour  sécail-Réglat Julie\\nles mineurs)\\nCours:Initiation\\xa0\\xa0\\xa0\\xa0\\xa0\\xa0\\nCours\\nHoraire:\\xa0\\xa0\\xa0\\n\\xa0\\xa0\\xa0\\xa0\\xa0\\xa0\\xa0\\xa0\\n\\xa0\\xa0\\xa0\\xa0\\xa0\\xa0\\n\\xa0\\xa0\\xa0\\xa0\\xa0\\xa0\\xa0\\xa0\\xa0\\xa0\\nJeudi \\xa0\\xa0\\xa017h15 - 18h15\\xa0\\xa0\\xa0\\xa0\\xa0\\nJeudi Heure\\n\\xa0\\xa0\\n\\xa0\\xa0\\xa0\\xa0\\xa0\\xa0\\n\\xa0\\xa0\\xa0\\xa0\\xa0\\xa0\\xa0\\xa0\\xa0\\xa0\\xa0\\xa0\\nTéléverser le Certi\\x00cat Médical\\nLouise.pdf\\npdf\\n1\\nTéléverser le Certi\\x00cat d’assurance \\nextra-scolaire ou assurance civil\\nMacif_Attestation Responsabilité Civile.pdf\\npdf\\nLe paiement du cours sera effectué avec\\xa03 \\xa0chèques\\n(1-10)\\nde196+147+147  €, au total de\\xa0\\xa0\\xa0 500€ (1 cours) \\xa0\\xa0+\\n(valeur de chaque chèque) Please Select\\n30€ adhésion .\\nMoins 10€\\xa0pour le paiement comptant ou trimestre.\\n\\xa0Découvrez notre\\xa0planning et nos tarifs\\xa0a\\nattitudecorpsetdanses.com/tarifs-et-planning\\nPour l’abonnement annuel à Attitude \\nJe suis d'accord\\nCorps et Danses de la saison \\n2021/2022 je ne pourrai en aucun cas \\nfaire opposition à mes chèques ( voir \\narticle L131-35 du code monétaire et \\n\\x00nancier) ou en demander la \\nrestitution en cas d’arrêt de ma part.\\nJ'autorise l'autorisation de droit à \\nOui\\nl'image et/ou à la voix pour la \\npromotion de l'Attitude Corps et \\nDanses.\\nJe reconnais avoir pris connaissance \\nOui\\ndu règlement intérieur *, des \\nconditions générales d’inscriptions* \\nde l’Association Attitude Corps et \\nDanses, d’avoir présenté un certi\\x00cat \\nmédical de non-contre indication à la \\npratique de la danse et d’avoir \\nprésenté un certi\\x00cat d’assurance \\nextra-scolaire ou assurance civil.* \\n(*Règlement intérieur/ conditions \\ngénérales disponibles sur: \\nhttps://attitudecorpsetdanses.com/re\\nglement-interieur/*)\\nSignature\\n2\\nSunday, July 11, 2021\", '3')\n",
    "    \n",
    "attitude.installments.value_counts()"
   ]
  },
  {
   "cell_type": "code",
   "execution_count": 29,
   "id": "a77f9036",
   "metadata": {
    "ExecuteTime": {
     "end_time": "2022-05-16T00:56:43.880661Z",
     "start_time": "2022-05-16T00:56:43.864721Z"
    }
   },
   "outputs": [],
   "source": [
    "cols = [\"Nom et prénom d'élève\", \"Date de naissance\", \"Adresse\", \"Cité\", \"Code Postale\", \"E-mail\", \"Téléphone\", \"Représentant légal de l’inscrit (pour les mineurs)\", \"Cours\", \"Horaire\",  \"Cours 2\", \"Horaire 2\",  \"Cours 3\", \"Horaire 3\", \"Adhésion\", \"Paiement fractionné\", \"Paiement Total\"]\n",
    "attitude.columns = cols"
   ]
  },
  {
   "cell_type": "code",
   "execution_count": 30,
   "id": "4504e0aa",
   "metadata": {
    "ExecuteTime": {
     "end_time": "2022-05-16T00:56:43.959453Z",
     "start_time": "2022-05-16T00:56:43.890646Z"
    }
   },
   "outputs": [
    {
     "data": {
      "text/html": [
       "<div>\n",
       "<style scoped>\n",
       "    .dataframe tbody tr th:only-of-type {\n",
       "        vertical-align: middle;\n",
       "    }\n",
       "\n",
       "    .dataframe tbody tr th {\n",
       "        vertical-align: top;\n",
       "    }\n",
       "\n",
       "    .dataframe thead th {\n",
       "        text-align: right;\n",
       "    }\n",
       "</style>\n",
       "<table border=\"1\" class=\"dataframe\">\n",
       "  <thead>\n",
       "    <tr style=\"text-align: right;\">\n",
       "      <th></th>\n",
       "      <th>Nom et prénom d'élève</th>\n",
       "      <th>Date de naissance</th>\n",
       "      <th>Adresse</th>\n",
       "      <th>Cité</th>\n",
       "      <th>Code Postale</th>\n",
       "      <th>E-mail</th>\n",
       "      <th>Téléphone</th>\n",
       "      <th>Représentant légal de l’inscrit (pour les mineurs)</th>\n",
       "      <th>Cours</th>\n",
       "      <th>Horaire</th>\n",
       "      <th>Cours 2</th>\n",
       "      <th>Horaire 2</th>\n",
       "      <th>Cours 3</th>\n",
       "      <th>Horaire 3</th>\n",
       "      <th>Adhésion</th>\n",
       "      <th>Paiement fractionné</th>\n",
       "      <th>Paiement Total</th>\n",
       "    </tr>\n",
       "  </thead>\n",
       "  <tbody>\n",
       "    <tr>\n",
       "      <th>0</th>\n",
       "      <td>Blatt Luce</td>\n",
       "      <td>19-10-1960</td>\n",
       "      <td>Rue Des Vincennes, 9</td>\n",
       "      <td>Toulouse</td>\n",
       "      <td>31500</td>\n",
       "      <td>marieluceblatt@gmail.com</td>\n",
       "      <td>+33 607103468</td>\n",
       "      <td>0</td>\n",
       "      <td>barre à terre</td>\n",
       "      <td>lundi 12h15</td>\n",
       "      <td>pbt + ballet fitness</td>\n",
       "      <td>jeudi 9h30</td>\n",
       "      <td>0</td>\n",
       "      <td>0</td>\n",
       "      <td>30€</td>\n",
       "      <td>4</td>\n",
       "      <td>+ 30</td>\n",
       "    </tr>\n",
       "    <tr>\n",
       "      <th>1</th>\n",
       "      <td>Paulon Lily</td>\n",
       "      <td>24-07-2014</td>\n",
       "      <td>11 Rue Du Docteur Charles Bonneau</td>\n",
       "      <td>Toulouse</td>\n",
       "      <td>31000</td>\n",
       "      <td>do_julia@hotmail.com</td>\n",
       "      <td>+33 648949998</td>\n",
       "      <td>Paulon Julia</td>\n",
       "      <td>préparatoire</td>\n",
       "      <td>lundi 17h</td>\n",
       "      <td>0</td>\n",
       "      <td>0</td>\n",
       "      <td>0</td>\n",
       "      <td>0</td>\n",
       "      <td>30€</td>\n",
       "      <td>4</td>\n",
       "      <td>500</td>\n",
       "    </tr>\n",
       "    <tr>\n",
       "      <th>2</th>\n",
       "      <td>Mezard Emmanuelle</td>\n",
       "      <td>03-02-1970</td>\n",
       "      <td>Rue Sarah Bernhardt, 44</td>\n",
       "      <td>Toulouse</td>\n",
       "      <td>31200</td>\n",
       "      <td>emmanuelle.mezard@free.fr</td>\n",
       "      <td>6 03464351</td>\n",
       "      <td>0</td>\n",
       "      <td>classique moyen</td>\n",
       "      <td>mardi 19h</td>\n",
       "      <td>pbt + ballet fitness</td>\n",
       "      <td>jeudi 9h30</td>\n",
       "      <td>classique moyen</td>\n",
       "      <td>vendredi 19h</td>\n",
       "      <td>30€</td>\n",
       "      <td>3</td>\n",
       "      <td>880</td>\n",
       "    </tr>\n",
       "    <tr>\n",
       "      <th>3</th>\n",
       "      <td>Corbiere Beatrix</td>\n",
       "      <td>20-09-1960</td>\n",
       "      <td>Jean Gayral, 83</td>\n",
       "      <td>Toulouse</td>\n",
       "      <td>31200</td>\n",
       "      <td>lacabiche@free.fr</td>\n",
       "      <td>+33 0663253652</td>\n",
       "      <td>0</td>\n",
       "      <td>pilates</td>\n",
       "      <td>lundi 20h30</td>\n",
       "      <td></td>\n",
       "      <td>19h</td>\n",
       "      <td></td>\n",
       "      <td>0</td>\n",
       "      <td>30€</td>\n",
       "      <td>1</td>\n",
       "      <td>720</td>\n",
       "    </tr>\n",
       "    <tr>\n",
       "      <th>4</th>\n",
       "      <td>François Eve</td>\n",
       "      <td>11-08-1948</td>\n",
       "      <td>Avenue Winston Churchill, 10</td>\n",
       "      <td>Toulouse</td>\n",
       "      <td>31100</td>\n",
       "      <td>francoiseve9@gmail.com</td>\n",
       "      <td>+33 761113634</td>\n",
       "      <td>0</td>\n",
       "      <td>barre à terre</td>\n",
       "      <td>lundi 12h15</td>\n",
       "      <td>classique moyen</td>\n",
       "      <td>vendredi 19h</td>\n",
       "      <td>barre à terre</td>\n",
       "      <td>0</td>\n",
       "      <td>30€</td>\n",
       "      <td>3</td>\n",
       "      <td>720</td>\n",
       "    </tr>\n",
       "    <tr>\n",
       "      <th>...</th>\n",
       "      <td>...</td>\n",
       "      <td>...</td>\n",
       "      <td>...</td>\n",
       "      <td>...</td>\n",
       "      <td>...</td>\n",
       "      <td>...</td>\n",
       "      <td>...</td>\n",
       "      <td>...</td>\n",
       "      <td>...</td>\n",
       "      <td>...</td>\n",
       "      <td>...</td>\n",
       "      <td>...</td>\n",
       "      <td>...</td>\n",
       "      <td>...</td>\n",
       "      <td>...</td>\n",
       "      <td>...</td>\n",
       "      <td>...</td>\n",
       "    </tr>\n",
       "    <tr>\n",
       "      <th>94</th>\n",
       "      <td>Peccia-Galletto Sasha</td>\n",
       "      <td>17-06-2016</td>\n",
       "      <td>Monplaisir, 40</td>\n",
       "      <td>Toulouse</td>\n",
       "      <td>31400</td>\n",
       "      <td>ln.seguela@gmail.com</td>\n",
       "      <td>06 24971201</td>\n",
       "      <td>Séguéla Hélène</td>\n",
       "      <td>éveil</td>\n",
       "      <td>mardi 17h</td>\n",
       "      <td>0</td>\n",
       "      <td>0</td>\n",
       "      <td>0</td>\n",
       "      <td>0</td>\n",
       "      <td>30€</td>\n",
       "      <td>3</td>\n",
       "      <td>500</td>\n",
       "    </tr>\n",
       "    <tr>\n",
       "      <th>95</th>\n",
       "      <td>Galvani Francoise</td>\n",
       "      <td>04-09-1959</td>\n",
       "      <td>6 Rue Pierre De Fermat</td>\n",
       "      <td>Toulouse</td>\n",
       "      <td>31000</td>\n",
       "      <td>francoisegalvani@icloud.com</td>\n",
       "      <td>+33 609380633</td>\n",
       "      <td>0</td>\n",
       "      <td>barre à terre</td>\n",
       "      <td>mardi 9h</td>\n",
       "      <td>0</td>\n",
       "      <td>0</td>\n",
       "      <td>0</td>\n",
       "      <td>0</td>\n",
       "      <td>30€</td>\n",
       "      <td>1</td>\n",
       "      <td>+ 30</td>\n",
       "    </tr>\n",
       "    <tr>\n",
       "      <th>96</th>\n",
       "      <td>Lemozit Sasha</td>\n",
       "      <td>05-10-2007</td>\n",
       "      <td>Alleee Des Demoiselles, 6</td>\n",
       "      <td>Toulouse</td>\n",
       "      <td>31400</td>\n",
       "      <td>christophelemozit@yahoo.fr</td>\n",
       "      <td>+33 682463223</td>\n",
       "      <td>Lemozit Christophe</td>\n",
       "      <td>moderne</td>\n",
       "      <td>vendredi 18h</td>\n",
       "      <td>0</td>\n",
       "      <td>0</td>\n",
       "      <td>0</td>\n",
       "      <td>0</td>\n",
       "      <td>30€</td>\n",
       "      <td>3</td>\n",
       "      <td>500</td>\n",
       "    </tr>\n",
       "    <tr>\n",
       "      <th>97</th>\n",
       "      <td>Blanc Bouny Celeste</td>\n",
       "      <td>13-07-2013</td>\n",
       "      <td>Rue Galilee, 9</td>\n",
       "      <td>Toulouse</td>\n",
       "      <td>31500</td>\n",
       "      <td>clairebouny0412@yahoo.fr</td>\n",
       "      <td>06 81170151</td>\n",
       "      <td>Bouny Claire</td>\n",
       "      <td>préparatoire</td>\n",
       "      <td>lundi 17h</td>\n",
       "      <td>0</td>\n",
       "      <td>0</td>\n",
       "      <td>0</td>\n",
       "      <td>0</td>\n",
       "      <td>30€</td>\n",
       "      <td>3</td>\n",
       "      <td>500</td>\n",
       "    </tr>\n",
       "    <tr>\n",
       "      <th>98</th>\n",
       "      <td>Ferreira Constance</td>\n",
       "      <td>02-11-2002</td>\n",
       "      <td>Avenue De Lespinet, 63</td>\n",
       "      <td>Toulouse</td>\n",
       "      <td>31400</td>\n",
       "      <td>constance.ferreiramartins@gmail.com</td>\n",
       "      <td>+33 622933337</td>\n",
       "      <td>0</td>\n",
       "      <td>classique 2</td>\n",
       "      <td>mercredi 17h45</td>\n",
       "      <td>0</td>\n",
       "      <td>0</td>\n",
       "      <td>0</td>\n",
       "      <td>0</td>\n",
       "      <td>30€</td>\n",
       "      <td>1</td>\n",
       "      <td>500</td>\n",
       "    </tr>\n",
       "  </tbody>\n",
       "</table>\n",
       "<p>99 rows × 17 columns</p>\n",
       "</div>"
      ],
      "text/plain": [
       "    Nom et prénom d'élève Date de naissance  \\\n",
       "0              Blatt Luce        19-10-1960   \n",
       "1             Paulon Lily        24-07-2014   \n",
       "2       Mezard Emmanuelle        03-02-1970   \n",
       "3        Corbiere Beatrix        20-09-1960   \n",
       "4            François Eve        11-08-1948   \n",
       "..                    ...               ...   \n",
       "94  Peccia-Galletto Sasha        17-06-2016   \n",
       "95      Galvani Francoise        04-09-1959   \n",
       "96          Lemozit Sasha        05-10-2007   \n",
       "97    Blanc Bouny Celeste        13-07-2013   \n",
       "98     Ferreira Constance        02-11-2002   \n",
       "\n",
       "                              Adresse      Cité Code Postale  \\\n",
       "0                Rue Des Vincennes, 9  Toulouse        31500   \n",
       "1   11 Rue Du Docteur Charles Bonneau  Toulouse        31000   \n",
       "2             Rue Sarah Bernhardt, 44  Toulouse        31200   \n",
       "3                     Jean Gayral, 83  Toulouse        31200   \n",
       "4        Avenue Winston Churchill, 10  Toulouse        31100   \n",
       "..                                ...       ...          ...   \n",
       "94                     Monplaisir, 40  Toulouse        31400   \n",
       "95             6 Rue Pierre De Fermat  Toulouse        31000   \n",
       "96          Alleee Des Demoiselles, 6  Toulouse        31400   \n",
       "97                     Rue Galilee, 9  Toulouse        31500   \n",
       "98             Avenue De Lespinet, 63  Toulouse        31400   \n",
       "\n",
       "                                 E-mail       Téléphone  \\\n",
       "0              marieluceblatt@gmail.com   +33 607103468   \n",
       "1                  do_julia@hotmail.com   +33 648949998   \n",
       "2             emmanuelle.mezard@free.fr      6 03464351   \n",
       "3                     lacabiche@free.fr  +33 0663253652   \n",
       "4                francoiseve9@gmail.com   +33 761113634   \n",
       "..                                  ...             ...   \n",
       "94                 ln.seguela@gmail.com     06 24971201   \n",
       "95          francoisegalvani@icloud.com   +33 609380633   \n",
       "96           christophelemozit@yahoo.fr   +33 682463223   \n",
       "97             clairebouny0412@yahoo.fr     06 81170151   \n",
       "98  constance.ferreiramartins@gmail.com   +33 622933337   \n",
       "\n",
       "   Représentant légal de l’inscrit (pour les mineurs)            Cours  \\\n",
       "0                                                   0    barre à terre   \n",
       "1                                        Paulon Julia     préparatoire   \n",
       "2                                                   0  classique moyen   \n",
       "3                                                   0          pilates   \n",
       "4                                                   0    barre à terre   \n",
       "..                                                ...              ...   \n",
       "94                                     Séguéla Hélène            éveil   \n",
       "95                                                  0    barre à terre   \n",
       "96                                 Lemozit Christophe          moderne   \n",
       "97                                       Bouny Claire     préparatoire   \n",
       "98                                                  0      classique 2   \n",
       "\n",
       "           Horaire               Cours 2     Horaire 2          Cours 3  \\\n",
       "0      lundi 12h15  pbt + ballet fitness    jeudi 9h30                0   \n",
       "1        lundi 17h                     0             0                0   \n",
       "2        mardi 19h  pbt + ballet fitness    jeudi 9h30  classique moyen   \n",
       "3      lundi 20h30                                 19h                    \n",
       "4      lundi 12h15       classique moyen  vendredi 19h    barre à terre   \n",
       "..             ...                   ...           ...              ...   \n",
       "94       mardi 17h                     0             0                0   \n",
       "95        mardi 9h                     0             0                0   \n",
       "96    vendredi 18h                     0             0                0   \n",
       "97       lundi 17h                     0             0                0   \n",
       "98  mercredi 17h45                     0             0                0   \n",
       "\n",
       "       Horaire 3 Adhésion Paiement fractionné Paiement Total  \n",
       "0              0      30€                   4           + 30  \n",
       "1              0      30€                   4            500  \n",
       "2   vendredi 19h      30€                   3            880  \n",
       "3              0      30€                   1            720  \n",
       "4              0      30€                   3            720  \n",
       "..           ...      ...                 ...            ...  \n",
       "94             0      30€                   3            500  \n",
       "95             0      30€                   1           + 30  \n",
       "96             0      30€                   3            500  \n",
       "97             0      30€                   3            500  \n",
       "98             0      30€                   1            500  \n",
       "\n",
       "[99 rows x 17 columns]"
      ]
     },
     "execution_count": 30,
     "metadata": {},
     "output_type": "execute_result"
    }
   ],
   "source": [
    "attitude"
   ]
  },
  {
   "cell_type": "code",
   "execution_count": 31,
   "id": "d3f08930",
   "metadata": {
    "ExecuteTime": {
     "end_time": "2022-05-16T00:56:43.991370Z",
     "start_time": "2022-05-16T00:56:43.965438Z"
    }
   },
   "outputs": [],
   "source": [
    "attitude_eleves = attitude.drop(columns=[\"Cours\", \"Horaire\",  \"Cours 2\", \"Horaire 2\",  \"Cours 3\", \"Horaire 3\", \"Adhésion\", \"Paiement fractionné\", \"Paiement Total\"])\n",
    "attitude_cours = attitude.drop(columns=[\"Nom et prénom d'élève\", \"Date de naissance\", \"Adresse\", \"Cité\", \"Code Postale\", \"Téléphone\", \"Représentant légal de l’inscrit (pour les mineurs)\", \"Adhésion\", \"Paiement fractionné\", \"Paiement Total\"])\n",
    "attitude_paiement = attitude.drop(columns=[\"Nom et prénom d'élève\", \"Date de naissance\", \"Adresse\", \"Cité\", \"Code Postale\",  \"Téléphone\", \"Représentant légal de l’inscrit (pour les mineurs)\", \"Cours\", \"Horaire\",  \"Cours 2\", \"Horaire 2\",  \"Cours 3\", \"Horaire 3\"])"
   ]
  },
  {
   "cell_type": "code",
   "execution_count": 32,
   "id": "cfa397d8",
   "metadata": {
    "ExecuteTime": {
     "end_time": "2022-05-16T00:56:44.037243Z",
     "start_time": "2022-05-16T00:56:44.005329Z"
    },
    "scrolled": true
   },
   "outputs": [
    {
     "data": {
      "text/plain": [
       "{'',\n",
       " 'barre à rerre',\n",
       " 'barre à terre',\n",
       " 'carte 10 cours',\n",
       " 'classique 1',\n",
       " 'classique 2',\n",
       " 'classique avancé',\n",
       " 'classique interm. – avancé',\n",
       " 'classique moyen',\n",
       " 'contemporain',\n",
       " 'initiation',\n",
       " 'inter/ avance',\n",
       " 'moderne',\n",
       " 'pbt',\n",
       " 'pbt + ballet fitness',\n",
       " 'pilates',\n",
       " 'pointes',\n",
       " 'préparatoire',\n",
       " 'éveil'}"
      ]
     },
     "execution_count": 32,
     "metadata": {},
     "output_type": "execute_result"
    }
   ],
   "source": [
    "courses = []\n",
    "for cours in attitude_cours['Cours'].unique():\n",
    "    if cours != 0 and cours != '1' and cours != \"\":\n",
    "        courses.append(cours)\n",
    "for cours2 in attitude_cours['Cours 2'].unique():\n",
    "    if cours2 != 0 and cours2 != '1' and cours != \"\":\n",
    "        courses.append(cours2)\n",
    "for cours3 in attitude_cours['Cours 3'].unique():\n",
    "    if cours3 != 0 and cours3 != '1' and cours != \"\":\n",
    "        courses.append(cours3)\n",
    "\n",
    "courses = set(courses)\n",
    "courses"
   ]
  },
  {
   "cell_type": "code",
   "execution_count": 33,
   "id": "df0f1dbc",
   "metadata": {
    "ExecuteTime": {
     "end_time": "2022-05-16T00:56:44.053200Z",
     "start_time": "2022-05-16T00:56:44.040247Z"
    }
   },
   "outputs": [],
   "source": [
    "def students (course):\n",
    "    cours =[]\n",
    "    for row in range(len(attitude_cours['Cours'])):\n",
    "        if attitude_cours['Cours'].iloc[row] == course or attitude_cours['Cours 2'].iloc[row] == course or attitude_cours['Cours 3'].iloc[row] == course:\n",
    "            cours.append(attitude_cours['E-mail'].iloc[row])\n",
    "    return cours"
   ]
  },
  {
   "cell_type": "code",
   "execution_count": 34,
   "id": "89898e72",
   "metadata": {
    "ExecuteTime": {
     "end_time": "2022-05-16T00:56:44.290594Z",
     "start_time": "2022-05-16T00:56:44.064177Z"
    }
   },
   "outputs": [
    {
     "name": "stdout",
     "output_type": "stream",
     "text": [
      "pilates\n",
      "initiation\n",
      "contemporain\n",
      "barre_rerre\n",
      "moderne\n",
      "éveil\n",
      "classique_avancé\n",
      "préparatoire\n",
      "classique_2\n",
      "classique_avancé\n",
      "pointes\n",
      "pbt\n",
      "classique_moyen\n",
      "inter/_avance\n",
      "barre_terre\n",
      "pbt_fitness\n",
      "carte_cours\n",
      "classique_1\n"
     ]
    },
    {
     "data": {
      "text/plain": [
       "{'pilates': [['lacabiche@free.fr',\n",
       "   'rossilefevre.marie@gmail.com',\n",
       "   'alicejude226@gmail.com',\n",
       "   'cfran.famille@gmail.com',\n",
       "   'royer_marie@hotmail.com',\n",
       "   'beatrice.gasc@gmail.com',\n",
       "   'lembeyejulie@hotmail.fr',\n",
       "   'elodie.estebe@gmail.com']],\n",
       " 'initiation': [['jessica.venturini@laposte.net',\n",
       "   'eve.marzat@gmail.com',\n",
       "   'juliereglat@gmail.com',\n",
       "   'annesophie_85@yahoo.fr',\n",
       "   'isisep31@yahoo.fr',\n",
       "   'libouliesophie@gmail.com',\n",
       "   'audelabatut@hotmail.com',\n",
       "   'antunes.frederic@gmail.com']],\n",
       " 'contemporain': [['marie.tozge@laposte.net',\n",
       "   'elodie.estebe@gmail.com',\n",
       "   'ebanistario@gmail.com',\n",
       "   'mai.ss.ia@hotmail.fr']],\n",
       " 'barre_rerre': [['michon-claudy@hotmail.fr']],\n",
       " 'moderne': [['tremas.helene@orange.fr', 'christophelemozit@yahoo.fr']],\n",
       " 'éveil': [['juliedischer@hotmail.fr',\n",
       "   'pauline.desars@act-avocats.com',\n",
       "   'laetitia.dupuch@free.fr',\n",
       "   'monnetdelorbeau.clemence@gmail.com',\n",
       "   'heydic.val@hotmail.fr',\n",
       "   'tatiana.nikiforova@orange.fr',\n",
       "   'gwenolazollinger@gmail.com',\n",
       "   'opstadmark@hotmail.com',\n",
       "   'ln.seguela@gmail.com']],\n",
       " 'classique_avancé': [['ecs.seletti@gmail.com']],\n",
       " 'préparatoire': [['do_julia@hotmail.com',\n",
       "   'juliedischer@hotmail.fr',\n",
       "   'annelewin\\x00eur@yahoo.fr',\n",
       "   'elodie.estebe@gmail.com',\n",
       "   'jeannecazenave@hotmail.fr',\n",
       "   'sebcans@gmail.com',\n",
       "   'lermigny.caroline@neuf.fr',\n",
       "   'clairebouny0412@yahoo.fr']],\n",
       " 'classique_2': [['sabineclamen@free.fr',\n",
       "   'philippe.vergebrian@gmail.com',\n",
       "   'mariaducos31@gmail.com',\n",
       "   'leticiaavila2006@gmail.com',\n",
       "   'camille.teisserenc@laposte.net',\n",
       "   'ecs.seletti@gmail.com',\n",
       "   'ambre_la@yahoo.fr',\n",
       "   'constance.ferreiramartins@gmail.com']],\n",
       " 'pointes': [['virginie.casas@gcasas-associes.fr',\n",
       "   'latgenicole@gmail.com',\n",
       "   'sabineclamen@free.fr',\n",
       "   '\\x00obonnevialle@yahoo.fr',\n",
       "   'philippe.vergebrian@gmail.com',\n",
       "   'mariaducos31@gmail.com',\n",
       "   'leticiaavila2006@gmail.com',\n",
       "   'moreaux.nancy@gmail.com',\n",
       "   'camille.teisserenc@laposte.net',\n",
       "   'ambre_la@yahoo.fr',\n",
       "   'lembeyejulie@hotmail.fr',\n",
       "   'mariedanvol@gmail.com']],\n",
       " 'pbt': [['\\x00orence@gaiddon.com',\n",
       "   'mariaducos31@gmail.com',\n",
       "   'ecs.seletti@gmail.com',\n",
       "   'waner080129@hotmail.com',\n",
       "   'lembeyejulie@hotmail.fr']],\n",
       " 'classique_moyen': [['emmanuelle.mezard@free.fr',\n",
       "   'francoiseve9@gmail.com',\n",
       "   'gobati@hotmail.fr',\n",
       "   'christelecourselle@sfr.fr',\n",
       "   'virginie.casas@gcasas-associes.fr',\n",
       "   'christine.masterson@gmail.com',\n",
       "   'tremas.helene@orange.fr',\n",
       "   'gegeou64@hotmail.fr',\n",
       "   'latgenicole@gmail.com',\n",
       "   'dominique.sahal@gmail.com',\n",
       "   'lesliecausse@hotmail.com',\n",
       "   'marjorievella.avocat@yahoo.fr',\n",
       "   'violainejeandel@yahoo.fr',\n",
       "   'arlette_maret@yahoo.fr',\n",
       "   'mathis.gebessy@gmail.com',\n",
       "   'elliott.mathis@hotmail.fr',\n",
       "   'josiane.belhon@gmail.com',\n",
       "   'isabelle.mechiche@gmail.com',\n",
       "   'lermigny.caroline@neuf.fr']],\n",
       " 'inter/_avance': [['\\x00obonnevialle@yahoo.fr']],\n",
       " 'barre_terre': [['marieluceblatt@gmail.com',\n",
       "   'francoiseve9@gmail.com',\n",
       "   'bbbilou@sfr.fr',\n",
       "   're.lise@orange.fr',\n",
       "   'christine.masterson@gmail.com',\n",
       "   'dominique.sahal@gmail.com',\n",
       "   'marjorievella.avocat@yahoo.fr',\n",
       "   'violainejeandel@yahoo.fr',\n",
       "   'arlette_maret@yahoo.fr',\n",
       "   'ambre_la@yahoo.fr',\n",
       "   'marie.delour@club-internet.fr',\n",
       "   'francoisegalvani@icloud.com']],\n",
       " 'pbt_fitness': [['marieluceblatt@gmail.com',\n",
       "   'emmanuelle.mezard@free.fr',\n",
       "   'margie.teyssie@wanadoo.fr']],\n",
       " 'carte_cours': [['natacha.shawali@gmail.com']],\n",
       " 'classique_1': [['\\x00orence@gaiddon.com',\n",
       "   'fred.marty@gmail.com',\n",
       "   'dominique.sahal@gmail.com',\n",
       "   'laetitia.godreau@bbox.fr',\n",
       "   'beatrice.cassagnes@gmail.com',\n",
       "   'anne.goulet@wanadoo.fr',\n",
       "   'marie.tozge@laposte.net',\n",
       "   'claire.sourzat@yahoo.fr',\n",
       "   'claire.sourzat@yahoo.fr',\n",
       "   'elodie.estebe@gmail.com',\n",
       "   'elisebelon@yahoo.fr',\n",
       "   'hiphop_c_chic@hotmail.com',\n",
       "   'celineverwaerde@hotmail.fr',\n",
       "   'mariedanvol@gmail.com']]}"
      ]
     },
     "execution_count": 34,
     "metadata": {},
     "output_type": "execute_result"
    }
   ],
   "source": [
    "data_courses = dict()\n",
    "for course in courses:\n",
    "    try:\n",
    "        if course.split()[0] == course.split()[-1]:\n",
    "            data_courses[course.split()[0]]=[students (course)]\n",
    "            print(course.split()[0])\n",
    "        else:\n",
    "            data_courses[course.split()[0]+\"_\"+course.split()[-1]]=[students (course)]\n",
    "            print(course.split()[0]+\"_\"+course.split()[-1])\n",
    "    except:\n",
    "        continue\n",
    "        \n",
    "data_courses"
   ]
  },
  {
   "cell_type": "code",
   "execution_count": 35,
   "id": "0c5a85e8",
   "metadata": {
    "ExecuteTime": {
     "end_time": "2022-05-16T00:56:44.324476Z",
     "start_time": "2022-05-16T00:56:44.297546Z"
    }
   },
   "outputs": [
    {
     "data": {
      "text/plain": [
       "17"
      ]
     },
     "execution_count": 35,
     "metadata": {},
     "output_type": "execute_result"
    }
   ],
   "source": [
    "attitude_eleves.to_csv('elevesdf.csv')\n",
    "attitude_cours.to_csv('coursdf.csv')\n",
    "attitude_paiement.to_csv('paiment.csv')"
   ]
  },
  {
   "cell_type": "code",
   "execution_count": 77,
   "id": "2dcda65e",
   "metadata": {
    "ExecuteTime": {
     "end_time": "2022-05-16T01:39:50.980656Z",
     "start_time": "2022-05-16T01:39:29.621726Z"
    }
   },
   "outputs": [
    {
     "ename": "OperationalError",
     "evalue": "(20009, b'DB-Lib error message 20009, severity 9:\\nUnable to connect: Adaptive Server is unavailable or does not exist (attitude.cluster-cqve9xzqrtx0.eu-west-3.rds.amazonaws.com)\\nNet-Lib error during Unknown error (10060)\\nDB-Lib error message 20009, severity 9:\\nUnable to connect: Adaptive Server is unavailable or does not exist (attitude.cluster-cqve9xzqrtx0.eu-west-3.rds.amazonaws.com)\\nNet-Lib error during Unknown error (10060)\\n')",
     "output_type": "error",
     "traceback": [
      "\u001b[1;31m---------------------------------------------------------------------------\u001b[0m",
      "\u001b[1;31mMSSQLDatabaseException\u001b[0m                    Traceback (most recent call last)",
      "File \u001b[1;32msrc\\pymssql\\_pymssql.pyx:646\u001b[0m, in \u001b[0;36mpymssql._pymssql.connect\u001b[1;34m()\u001b[0m\n",
      "File \u001b[1;32msrc\\pymssql\\_mssql.pyx:2108\u001b[0m, in \u001b[0;36mpymssql._mssql.connect\u001b[1;34m()\u001b[0m\n",
      "File \u001b[1;32msrc\\pymssql\\_mssql.pyx:700\u001b[0m, in \u001b[0;36mpymssql._mssql.MSSQLConnection.__init__\u001b[1;34m()\u001b[0m\n",
      "File \u001b[1;32msrc\\pymssql\\_mssql.pyx:1817\u001b[0m, in \u001b[0;36mpymssql._mssql.maybe_raise_MSSQLDatabaseException\u001b[1;34m()\u001b[0m\n",
      "File \u001b[1;32msrc\\pymssql\\_mssql.pyx:1834\u001b[0m, in \u001b[0;36mpymssql._mssql.raise_MSSQLDatabaseException\u001b[1;34m()\u001b[0m\n",
      "\u001b[1;31mMSSQLDatabaseException\u001b[0m: (20009, b'DB-Lib error message 20009, severity 9:\\nUnable to connect: Adaptive Server is unavailable or does not exist (attitude.cluster-cqve9xzqrtx0.eu-west-3.rds.amazonaws.com)\\nNet-Lib error during Unknown error (10060)\\nDB-Lib error message 20009, severity 9:\\nUnable to connect: Adaptive Server is unavailable or does not exist (attitude.cluster-cqve9xzqrtx0.eu-west-3.rds.amazonaws.com)\\nNet-Lib error during Unknown error (10060)\\n')",
      "\nDuring handling of the above exception, another exception occurred:\n",
      "\u001b[1;31mOperationalError\u001b[0m                          Traceback (most recent call last)",
      "Input \u001b[1;32mIn [77]\u001b[0m, in \u001b[0;36m<cell line: 9>\u001b[1;34m()\u001b[0m\n\u001b[0;32m      7\u001b[0m load_dotenv()\n\u001b[0;32m      8\u001b[0m \u001b[38;5;66;03m# Set up a connection to the postgres server.\u001b[39;00m\n\u001b[1;32m----> 9\u001b[0m conn_string \u001b[38;5;241m=\u001b[39m \u001b[43mpymssql\u001b[49m\u001b[38;5;241;43m.\u001b[39;49m\u001b[43mconnect\u001b[49m\u001b[43m(\u001b[49m\u001b[43mserver\u001b[49m\u001b[38;5;241;43m=\u001b[39;49m\u001b[43mos\u001b[49m\u001b[38;5;241;43m.\u001b[39;49m\u001b[43menviron\u001b[49m\u001b[43m[\u001b[49m\u001b[38;5;124;43m'\u001b[39;49m\u001b[38;5;124;43mPGHOST\u001b[39;49m\u001b[38;5;124;43m'\u001b[39;49m\u001b[43m]\u001b[49m\u001b[43m,\u001b[49m\u001b[43muser\u001b[49m\u001b[38;5;241;43m=\u001b[39;49m\u001b[43mos\u001b[49m\u001b[38;5;241;43m.\u001b[39;49m\u001b[43menviron\u001b[49m\u001b[43m[\u001b[49m\u001b[38;5;124;43m'\u001b[39;49m\u001b[38;5;124;43mPGUSER\u001b[39;49m\u001b[38;5;124;43m'\u001b[39;49m\u001b[43m]\u001b[49m\u001b[43m,\u001b[49m\u001b[43mpassword\u001b[49m\u001b[38;5;241;43m=\u001b[39;49m\u001b[43mos\u001b[49m\u001b[38;5;241;43m.\u001b[39;49m\u001b[43menviron\u001b[49m\u001b[43m[\u001b[49m\u001b[38;5;124;43m'\u001b[39;49m\u001b[38;5;124;43mPGPASSWORD\u001b[39;49m\u001b[38;5;124;43m'\u001b[39;49m\u001b[43m]\u001b[49m\u001b[43m,\u001b[49m\u001b[43m \u001b[49m\u001b[43mdatabase\u001b[49m\u001b[38;5;241;43m=\u001b[39;49m\u001b[43mos\u001b[49m\u001b[38;5;241;43m.\u001b[39;49m\u001b[43menviron\u001b[49m\u001b[43m[\u001b[49m\u001b[38;5;124;43m'\u001b[39;49m\u001b[38;5;124;43mPGDATABASE\u001b[39;49m\u001b[38;5;124;43m'\u001b[39;49m\u001b[43m]\u001b[49m\u001b[43m)\u001b[49m\n\u001b[0;32m     11\u001b[0m conn \u001b[38;5;241m=\u001b[39m psycopg2\u001b[38;5;241m.\u001b[39mconnect(conn_string)\n\u001b[0;32m     12\u001b[0m \u001b[38;5;28mprint\u001b[39m(\u001b[38;5;124m\"\u001b[39m\u001b[38;5;124mConnected!\u001b[39m\u001b[38;5;124m\"\u001b[39m)\n",
      "File \u001b[1;32msrc\\pymssql\\_pymssql.pyx:652\u001b[0m, in \u001b[0;36mpymssql._pymssql.connect\u001b[1;34m()\u001b[0m\n",
      "\u001b[1;31mOperationalError\u001b[0m: (20009, b'DB-Lib error message 20009, severity 9:\\nUnable to connect: Adaptive Server is unavailable or does not exist (attitude.cluster-cqve9xzqrtx0.eu-west-3.rds.amazonaws.com)\\nNet-Lib error during Unknown error (10060)\\nDB-Lib error message 20009, severity 9:\\nUnable to connect: Adaptive Server is unavailable or does not exist (attitude.cluster-cqve9xzqrtx0.eu-west-3.rds.amazonaws.com)\\nNet-Lib error during Unknown error (10060)\\n')"
     ]
    }
   ],
   "source": [
    "from dotenv import load_dotenv\n",
    "import psycopg2\n",
    "import config as creds\n",
    "import pymssql\n",
    "\n",
    "\n",
    "load_dotenv()\n",
    "# Set up a connection to the postgres server.\n",
    "conn_string = pymssql.connect(server=os.environ['PGHOST'],user=os.environ['PGUSER'],password=os.environ['PGPASSWORD'], database=os.environ['PGDATABASE'])\n",
    "\n",
    "conn = psycopg2.connect(conn_string)\n",
    "print(\"Connected!\")\n",
    "# Create a cursor object\n",
    "cursor = conn.cursor()\n"
   ]
  },
  {
   "cell_type": "code",
   "execution_count": 75,
   "id": "4cf1df6a",
   "metadata": {
    "ExecuteTime": {
     "end_time": "2022-05-16T01:38:52.612177Z",
     "start_time": "2022-05-16T01:38:44.622506Z"
    }
   },
   "outputs": [
    {
     "name": "stdout",
     "output_type": "stream",
     "text": [
      "Collecting pymssqlNote: you may need to restart the kernel to use updated packages.\n",
      "\n",
      "  Downloading pymssql-2.2.5-cp38-cp38-win_amd64.whl (1.5 MB)\n",
      "Installing collected packages: pymssql\n",
      "Successfully installed pymssql-2.2.5\n"
     ]
    }
   ],
   "source": [
    "pip install pymssql"
   ]
  }
 ],
 "metadata": {
  "kernelspec": {
   "display_name": "pycaret",
   "language": "python",
   "name": "pycaret_aula"
  },
  "language_info": {
   "codemirror_mode": {
    "name": "ipython",
    "version": 3
   },
   "file_extension": ".py",
   "mimetype": "text/x-python",
   "name": "python",
   "nbconvert_exporter": "python",
   "pygments_lexer": "ipython3",
   "version": "3.8.13"
  },
  "toc": {
   "base_numbering": 1,
   "nav_menu": {},
   "number_sections": true,
   "sideBar": true,
   "skip_h1_title": false,
   "title_cell": "Table of Contents",
   "title_sidebar": "Contents",
   "toc_cell": false,
   "toc_position": {},
   "toc_section_display": true,
   "toc_window_display": false
  }
 },
 "nbformat": 4,
 "nbformat_minor": 5
}
