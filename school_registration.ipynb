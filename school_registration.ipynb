{
 "cells": [
  {
   "cell_type": "code",
   "execution_count": 28,
   "id": "7d3af8ea",
   "metadata": {
    "ExecuteTime": {
     "end_time": "2022-05-13T13:20:36.230246Z",
     "start_time": "2022-05-13T13:20:09.400180Z"
    }
   },
   "outputs": [
    {
     "name": "stdout",
     "output_type": "stream",
     "text": [
      "Collecting PDFplumber\n",
      "  Downloading pdfplumber-0.6.2-py3-none-any.whl (36 kB)\n",
      "Collecting pdfminer.six==20220319\n",
      "  Downloading pdfminer.six-20220319-py3-none-any.whl (5.6 MB)\n",
      "Collecting Wand>=0.6.7\n",
      "  Using cached Wand-0.6.7-py2.py3-none-any.whl (139 kB)\n",
      "Requirement already satisfied: Pillow>=9.1 in c:\\users\\tete\\anaconda3\\envs\\pycaret_aula\\lib\\site-packages (from PDFplumber) (9.1.0)\n",
      "Collecting cryptography\n",
      "  Downloading cryptography-37.0.2-cp36-abi3-win_amd64.whl (2.4 MB)\n",
      "Collecting chardet\n",
      "  Downloading chardet-4.0.0-py2.py3-none-any.whl (178 kB)\n",
      "Requirement already satisfied: cffi>=1.12 in c:\\users\\tete\\anaconda3\\envs\\pycaret_aula\\lib\\site-packages (from cryptography->pdfminer.six==20220319->PDFplumber) (1.15.0)\n",
      "Requirement already satisfied: pycparser in c:\\users\\tete\\anaconda3\\envs\\pycaret_aula\\lib\\site-packages (from cffi>=1.12->cryptography->pdfminer.six==20220319->PDFplumber) (2.21)\n",
      "Installing collected packages: cryptography, chardet, Wand, pdfminer.six, PDFplumber\n",
      "Successfully installed PDFplumber-0.6.2 Wand-0.6.7 chardet-4.0.0 cryptography-37.0.2 pdfminer.six-20220319\n",
      "Note: you may need to restart the kernel to use updated packages.\n"
     ]
    },
    {
     "name": "stderr",
     "output_type": "stream",
     "text": [
      "  WARNING: The script chardetect.exe is installed in 'C:\\Users\\Tete\\anaconda3\\envs\\pycaret_aula\\Scripts' which is not on PATH.\n",
      "  Consider adding this directory to PATH or, if you prefer to suppress this warning, use --no-warn-script-location.\n",
      "  WARNING: The script pdfplumber.exe is installed in 'C:\\Users\\Tete\\anaconda3\\envs\\pycaret_aula\\Scripts' which is not on PATH.\n",
      "  Consider adding this directory to PATH or, if you prefer to suppress this warning, use --no-warn-script-location.\n"
     ]
    }
   ],
   "source": [
    "pip install PDFplumber"
   ]
  },
  {
   "cell_type": "code",
   "execution_count": 213,
   "id": "19288d74",
   "metadata": {
    "ExecuteTime": {
     "end_time": "2022-05-13T18:09:28.509141Z",
     "start_time": "2022-05-13T18:09:28.481215Z"
    }
   },
   "outputs": [],
   "source": [
    "import pandas as pd\n",
    "import pdfplumber\n",
    "import re\n",
    "import os, os.path\n",
    "from dateutil import parser"
   ]
  },
  {
   "cell_type": "markdown",
   "id": "7488994e",
   "metadata": {},
   "source": [
    "## Extracting available data"
   ]
  },
  {
   "cell_type": "markdown",
   "id": "eba7365f",
   "metadata": {},
   "source": [
    "### Prior data\n",
    "When the school provided those PDF documents, which were extracted from a free online form builder for school applications, my first action was to take a look in the very first pages of the first document and understand it. I realized that, instead of organized tables with information about the students, all data was stored in form-based PDFs.  It was very look alike a printed document filled by each student separately. The main goal of keeping those documents were just records of students inscriptions, with no strategic business intent for that data.\n",
    "\n",
    "Therefore, I've proposed a different pipeline for that data, that not only could escalate, enabling larger volumes of data, but also that allowed the school to catalogue, clean, filter, manipulate and analyze all that value informations to find the best business solutions.\n"
   ]
  },
  {
   "cell_type": "code",
   "execution_count": 210,
   "id": "6a99f43a",
   "metadata": {
    "ExecuteTime": {
     "end_time": "2022-05-13T18:08:25.825029Z",
     "start_time": "2022-05-13T18:08:23.953740Z"
    }
   },
   "outputs": [
    {
     "name": "stdout",
     "output_type": "stream",
     "text": [
      "30\n",
      "Sunday, June 20, 2021\n",
      "Fiche d'inscription \n",
      "Nom et prénom d'élève  Blatt Luce\n",
      "Date de naissance 10 19 1960\n",
      "Adresse Rue des vincennes, 9\n",
      "Toulouse, 31500\n",
      "E-mail marieluceblatt@gmail.com\n",
      "Téléphone (0033) 607-103468\n",
      "Cours:      \n",
      "Horaire:   \n",
      "Lundi      12h15 Barre à terre   \n",
      "Lundi Heure\n",
      "Mardi    9h Barre à terre   \n",
      "Mardi Heure\n",
      "          \n",
      "Jeudi    9h30 pbt     \n",
      "Jeudi Heure\n",
      "Vendredi  10h classique moyen \n",
      "Vendredi Heure\n",
      "      \n",
      "            \n",
      "Téléverser le Certi\u0000cat Médical\n",
      "CamScanner 06-20-2021 20.39.pdf\n",
      "pdf\n",
      "1\n",
      "Create your own automated PDFs with Jotform PDF Editor- It’s free\n",
      "Téléverser le Certi\u0000cat d’assurance \n",
      "extra-scolaire ou assurance civil\n",
      "66_CamScanner 06-20-2021 20.39_8995.pdf\n",
      "pdf\n",
      "Le paiement du cours sera effectué avec Par 4 cheques\n",
      "(1-10)\n",
      " chèques deXxx  €, au total de     + 30€\n",
      "(valeur de chaque chèque)\n",
      "adhésion .\n",
      "Moins 10€ pour le paiement comptant ou trimestre.\n",
      " Découvrez notre planning et nos tarifs a\n",
      "attitudecorpsetdanses.com/tarifs-et-planning\n",
      "Pour l’abonnement annuel à Attitude \n",
      "Je suis d'accord\n",
      "Corps et Danses de la saison \n",
      "2021/2022 je ne pourrai en aucun cas \n",
      "faire opposition à mes chèques ( voir \n",
      "article L131-35 du code monétaire et \n",
      "\u0000nancier) ou en demander la \n",
      "restitution en cas d’arrêt de ma part.\n",
      "J'autorise l'autorisation de droit à \n",
      "Oui\n",
      "l'image et/ou à la voix pour la \n",
      "promotion de l'Attitude Corps et \n",
      "Danses.\n",
      "Je reconnais avoir pris connaissance \n",
      "Oui\n",
      "du règlement intérieur *, des \n",
      "conditions générales d’inscriptions* \n",
      "de l’Association Attitude Corps et \n",
      "Danses, d’avoir présenté un certi\u0000cat \n",
      "médical de non-contre indication à la \n",
      "pratique de la danse et d’avoir \n",
      "présenté un certi\u0000cat d’assurance \n",
      "extra-scolaire ou assurance civil.* \n",
      "(*Règlement intérieur/ conditions \n",
      "générales disponibles sur: \n",
      "https://attitudecorpsetdanses.com/re\n",
      "glement-interieur/*)\n",
      "Signature\n",
      "2\n",
      "Create your own automated PDFs with Jotform PDF Editor- It’s free\n",
      "Monday, June 21, 2021\n",
      "Fiche d'inscription \n",
      "Nom et prénom d'élève  Paulon Lily\n",
      "Date de naissance 24/07/14\n",
      "Adresse Renée Aspe, 2\n",
      "Toulouse, 31000\n",
      "E-mail do_julia@hotmail.com\n",
      "Téléphone (+33) 648-949998\n",
      "Représentant légal de l’inscrit (pour  Paulon Julia\n",
      "les mineurs)\n",
      "Cours:Classique      \n",
      "Cours\n",
      "Horaire:   \n",
      "Lundi      17h   \n",
      "Lundi Heure\n",
      "      \n",
      "          \n",
      "        \n",
      "  \n",
      "      \n",
      "            \n",
      "1\n",
      "Create your own automated PDFs with Jotform PDF Editor- It’s free\n",
      "Téléverser le Certi\u0000cat Médical\n",
      "2\n",
      "Create your own automated PDFs with Jotform PDF Editor- It’s free\n"
     ]
    }
   ],
   "source": [
    "pdf_test = pdfplumber.open(\".\\\\data\\\\211596498612667-0.pdf\")\n",
    "print(len(pdf_test.pages))\n",
    "print(pdf_test.pages[0].extract_text())\n",
    "print(pdf_test.pages[1].extract_text())\n",
    "print(pdf_test.pages[2].extract_text())\n",
    "print(pdf_test.pages[3].extract_text())"
   ]
  },
  {
   "cell_type": "markdown",
   "id": "f6301ac6",
   "metadata": {},
   "source": [
    "### Proposing a new way to store data"
   ]
  },
  {
   "cell_type": "markdown",
   "id": "148c03e8",
   "metadata": {},
   "source": [
    "So, for a better comprehension of the available data, i've tried to create an organized table with all subscriptions information. Regardless any particularity of each student, they all filled the same form for submission, so I could easily identify the fields despite there was no obvious separators between fields."
   ]
  },
  {
   "cell_type": "markdown",
   "id": "0ba74800",
   "metadata": {},
   "source": [
    "The inscription form provides lots of information about each student. I created lists to store these informations, according to the fields filled."
   ]
  },
  {
   "cell_type": "code",
   "execution_count": null,
   "id": "7c8027bf",
   "metadata": {
    "ExecuteTime": {
     "end_time": "2022-05-13T19:04:30.675943Z",
     "start_time": "2022-05-13T19:04:30.646976Z"
    }
   },
   "outputs": [],
   "source": []
  },
  {
   "cell_type": "code",
   "execution_count": 345,
   "id": "46e651ad",
   "metadata": {
    "ExecuteTime": {
     "end_time": "2022-05-13T20:00:53.966485Z",
     "start_time": "2022-05-13T20:00:53.910632Z"
    }
   },
   "outputs": [],
   "source": [
    "def read_pdfs (pdf):\n",
    "    \"\"\"open the pdf file and extract all the text information corresponding to each field\n",
    "    return info\"\"\"\n",
    "    info = []\n",
    "    for page in range(len(pdf.pages)):\n",
    "        info.append(pdf.pages[page].extract_text())\n",
    "    info = \"\".join(info).replace(\"Create your own automated PDFs with Jotform PDF Editor- It’s free\",\"\").split(\"Fiche d'inscription\")\n",
    "    for student in range(1,len(info)):\n",
    "        try:\n",
    "            nom = info[student].split(\"Nom et prénom d'élève\")[1].split(\"\\n\")[0].strip()\n",
    "        except:\n",
    "            nom = 0\n",
    "        try:\n",
    "            naissance = info[student].split(\"Date de naissance\")[1].split(\"\\n\")[0].strip()\n",
    "        except:\n",
    "            naissance = 0\n",
    "        try:\n",
    "            adresse = info[student].split(\"Adresse\")[1].split(\"\\n\")[0].replace(\"\\n\",\" \").strip()\n",
    "        except:\n",
    "            adresse = 0\n",
    "        try:\n",
    "            cite = info[student].split(\"Adresse\")[1].split(\"\\n\")[1].split(\",\")[0].replace(\"\\n\",\" \").strip()\n",
    "        except:\n",
    "            cite = 0\n",
    "        try:\n",
    "            postal = info[student].split(\"Adresse\")[1].split(\"\\n\")[1].split(\",\")[1].split(\"\\n\")[0].replace(\"\\n\",\" \").strip()\n",
    "        except:\n",
    "            postal = 0\n",
    "        try:\n",
    "            email = info[student].split(\"E-mail\")[1].split(\"\\n\")[0].strip()\n",
    "        except:\n",
    "            email=0\n",
    "        try:\n",
    "            representant_legal = info[student].split(\"Représentant légal de l’inscrit (pour\")[1].split(\"les mineurs\")[0].strip()\n",
    "        except:\n",
    "            representant_legal = 0\n",
    "        try:\n",
    "            tel = info[student].split(\"Téléphone\")[1].split(\"\\n\")[0].strip()\n",
    "        except:\n",
    "            tel = info[student].split(\"Téléphone\")[1].split(\"\\n\")[0].strip()\n",
    "        try:\n",
    "            cours = info[student].split(\"Cours:\")[1].split(\"Horaire:\")[0].replace(\"\\nCours\", \"\").strip()\n",
    "        except:\n",
    "            cours = 0\n",
    "        try:\n",
    "            horaire = info[student].split(\"Horaire:\")[1].split(\"Cours 2\")[0].replace(\"\\xa0\", \"\").replace(\"Heure\", \"\").strip()\n",
    "            cours2 = info[student].split(\"Cours 2:\")[1].split(\"Horaire:\")[0].replace(\"\\nCours\", \"\").strip()\n",
    "            try:\n",
    "                horaire2 = info[student].split(\"Horaire:\")[2].split(\"Cours 3\")[0].replace(\"\\xa0\", \"\").replace(\"Heure\", \"\").strip()\n",
    "                cours3 = info[student].split(\"Cours 3:\")[1].split(\"Horaire:\")[0].replace(\"\\nCours\", \"\").strip()\n",
    "                horaire3 = info[student].split(\"Horaire:\")[3].split(\"Téléverser\")[0].replace(\"Heure\", \"\").strip()\n",
    "            except: \n",
    "                horaire2= info[student].split(\"Horaire:\")[2].split(\"Téléverser\")[0].replace(\"\\xa0\", \"\").replace(\"Heure\", \"\").strip()\n",
    "                cours3 =0\n",
    "                horaire3=0\n",
    "        except:\n",
    "            try:\n",
    "                horaire = info[student].split(\"Horaire:\")[1].split(\"Téléverser\")[0].replace(\"\\xa0\", \"\").replace(\"Heure\", \"\").strip()\n",
    "            except:\n",
    "                horaire = 0\n",
    "            cours2 =0\n",
    "            horaire2=0\n",
    "            cours3 =0\n",
    "            horaire3=0\n",
    "        try:\n",
    "            adhesion = info[student].split(\"\\xa0\\xa0\\xa0\\xa0\\xa0+\")[1].split(\"\\n(valeur de chaque chèque)\")[0].strip()\n",
    "        except: \n",
    "            adhesion = info[student].split(\"Please Select\")[1].split(\"adhésion\")[0].strip() \n",
    "        try:\n",
    "            paiement_fractionne =info[student].split(\"Par\")[1].split(\" cheques\")[0].strip()\n",
    "        except:\n",
    "            paiement_fractionne =info[student].split(\"avec\")[1].split(\"chèques\")[0].strip()\n",
    "        paiement_total = info[student].split(\"au total de\")[1].split(\"€\")[0].strip()\n",
    "        name.append(nom)\n",
    "        birthday.append(naissance)\n",
    "        address.append(adresse)\n",
    "        city.append(cite)\n",
    "        pcode.append(postal)\n",
    "        mail.append(email)\n",
    "        telephone.append(tel)\n",
    "        legal_representative.append(representant_legal)\n",
    "        course.append(cours)\n",
    "        schedule.append(horaire)\n",
    "        course2.append(cours2)\n",
    "        schedule2.append(horaire2)\n",
    "        course3.append(cours3)\n",
    "        schedule3.append(horaire3)\n",
    "        registration.append(adhesion)\n",
    "        installments.append(paiement_fractionne)\n",
    "        total.append(paiement_total)"
   ]
  },
  {
   "cell_type": "markdown",
   "id": "3d55f2ae",
   "metadata": {},
   "source": [
    "All available data was stored in the same folder, and the files' name differ only by the number at the end of them, from 0 to the last. "
   ]
  },
  {
   "cell_type": "code",
   "execution_count": 346,
   "id": "3ca7cc28",
   "metadata": {
    "ExecuteTime": {
     "end_time": "2022-05-13T20:02:11.052846Z",
     "start_time": "2022-05-13T20:00:56.560903Z"
    }
   },
   "outputs": [],
   "source": [
    "name=[]\n",
    "birthday=[]\n",
    "address = []\n",
    "city = []\n",
    "pcode =[]\n",
    "mail =[]\n",
    "telephone =[]\n",
    "legal_representative =[]\n",
    "course=[]\n",
    "schedule =[]\n",
    "course2 =[]\n",
    "schedule2 =[]\n",
    "course3=[]\n",
    "schedule3 =[]\n",
    "registration =[]\n",
    "installments =[]\n",
    "total =[]\n",
    "files = os.listdir('C:\\\\Users\\\\Tete\\\\Curso - DA\\\\Projeto Final\\\\data') \n",
    "for file in range(len(files)-1):\n",
    "    pdf = pdfplumber.open(f\".\\\\data\\\\211596498612667-{file}.pdf\")\n",
    "    read_pdfs (pdf)"
   ]
  },
  {
   "cell_type": "markdown",
   "id": "8e0b508f",
   "metadata": {},
   "source": [
    "### Creating the dataframe\n",
    "After extracting all the information avaialable on those forms, I've gathered them in a dataframe which columns are the fields from the submission form."
   ]
  },
  {
   "cell_type": "code",
   "execution_count": 348,
   "id": "477348e5",
   "metadata": {
    "ExecuteTime": {
     "end_time": "2022-05-13T20:09:08.312693Z",
     "start_time": "2022-05-13T20:09:08.278783Z"
    }
   },
   "outputs": [],
   "source": [
    "attitude = pd.DataFrame(zip(name,birthday, address, city, pcode, mail, telephone, legal_representative, course, schedule, course2, schedule2, course3, schedule3, registration, installments, total))\n",
    "attitude.columns = ['name','birthday', 'address', 'city', 'pcode','mail', 'telephone', 'legal_representative', 'course', 'schedule', 'course2', 'schedule2', 'course3', 'schedule3', 'registration', 'installments', 'total']"
   ]
  },
  {
   "cell_type": "code",
   "execution_count": 369,
   "id": "e21fd2ac",
   "metadata": {
    "ExecuteTime": {
     "end_time": "2022-05-13T20:18:20.993241Z",
     "start_time": "2022-05-13T20:18:20.910461Z"
    }
   },
   "outputs": [
    {
     "data": {
      "text/html": [
       "<div>\n",
       "<style scoped>\n",
       "    .dataframe tbody tr th:only-of-type {\n",
       "        vertical-align: middle;\n",
       "    }\n",
       "\n",
       "    .dataframe tbody tr th {\n",
       "        vertical-align: top;\n",
       "    }\n",
       "\n",
       "    .dataframe thead th {\n",
       "        text-align: right;\n",
       "    }\n",
       "</style>\n",
       "<table border=\"1\" class=\"dataframe\">\n",
       "  <thead>\n",
       "    <tr style=\"text-align: right;\">\n",
       "      <th></th>\n",
       "      <th>name</th>\n",
       "      <th>birthday</th>\n",
       "      <th>address</th>\n",
       "      <th>city</th>\n",
       "      <th>pcode</th>\n",
       "      <th>mail</th>\n",
       "      <th>telephone</th>\n",
       "      <th>legal_representative</th>\n",
       "      <th>course</th>\n",
       "      <th>schedule</th>\n",
       "      <th>course2</th>\n",
       "      <th>schedule2</th>\n",
       "      <th>course3</th>\n",
       "      <th>schedule3</th>\n",
       "      <th>registration</th>\n",
       "      <th>installments</th>\n",
       "      <th>total</th>\n",
       "    </tr>\n",
       "  </thead>\n",
       "  <tbody>\n",
       "    <tr>\n",
       "      <th>0</th>\n",
       "      <td>Blatt Luce</td>\n",
       "      <td>19-10-1960</td>\n",
       "      <td>Rue Des Vincennes, 9</td>\n",
       "      <td>Toulouse</td>\n",
       "      <td>31500</td>\n",
       "      <td>marieluceblatt@gmail.com</td>\n",
       "      <td>(0033) 607-103468</td>\n",
       "      <td>0</td>\n",
       "      <td></td>\n",
       "      <td>Lundi 12h15 Barre à terre\\nLundi \\nMardi 9h Ba...</td>\n",
       "      <td>0</td>\n",
       "      <td>0</td>\n",
       "      <td>0</td>\n",
       "      <td>0</td>\n",
       "      <td>30€</td>\n",
       "      <td>4</td>\n",
       "      <td>+ 30</td>\n",
       "    </tr>\n",
       "    <tr>\n",
       "      <th>1</th>\n",
       "      <td>Paulon Lily</td>\n",
       "      <td>24-07-2014</td>\n",
       "      <td>Renée Aspe, 2</td>\n",
       "      <td>Toulouse</td>\n",
       "      <td>31000</td>\n",
       "      <td>do_julia@hotmail.com</td>\n",
       "      <td>(+33) 648-949998</td>\n",
       "      <td>Paulon Julia</td>\n",
       "      <td>Classique</td>\n",
       "      <td>Lundi 17h\\nLundi \\n\\n\\n\\n\\n\\n\\n1</td>\n",
       "      <td>0</td>\n",
       "      <td>0</td>\n",
       "      <td>0</td>\n",
       "      <td>0</td>\n",
       "      <td>30€</td>\n",
       "      <td>4</td>\n",
       "      <td>500</td>\n",
       "    </tr>\n",
       "    <tr>\n",
       "      <th>2</th>\n",
       "      <td>Mezard Emmanuelle</td>\n",
       "      <td>03-02-1970</td>\n",
       "      <td>Rue Sarah Bernhardt, 44</td>\n",
       "      <td>Toulouse</td>\n",
       "      <td>31200</td>\n",
       "      <td>emmanuelle.mezard@free.fr</td>\n",
       "      <td>(6) 034-64351</td>\n",
       "      <td>0</td>\n",
       "      <td>Barre Moyen</td>\n",
       "      <td>Mardi 19H\\nMardi \\n\\n\\n\\n\\n\\n1</td>\n",
       "      <td>Pbt + Ballet Fitness</td>\n",
       "      <td>Jeudi 9H30\\nJeudi</td>\n",
       "      <td>Pbt + Ballet Fitness</td>\n",
       "      <td>Vendredi  19h -20h30 \\nVendredi</td>\n",
       "      <td>30€</td>\n",
       "      <td>3</td>\n",
       "      <td>880</td>\n",
       "    </tr>\n",
       "    <tr>\n",
       "      <th>3</th>\n",
       "      <td>Corbiere Beatrix</td>\n",
       "      <td>20-09-1960</td>\n",
       "      <td>Jean Gayral, 83</td>\n",
       "      <td>Toulouse</td>\n",
       "      <td>31200</td>\n",
       "      <td>lacabiche@free.fr</td>\n",
       "      <td>(33) 066-3253652</td>\n",
       "      <td>0</td>\n",
       "      <td></td>\n",
       "      <td>Lundi 20h30\\nLundi \\n\\n\\n\\n\\n\\n\\n1</td>\n",
       "      <td></td>\n",
       "      <td>19h</td>\n",
       "      <td></td>\n",
       "      <td>0</td>\n",
       "      <td>30€</td>\n",
       "      <td>1</td>\n",
       "      <td>720</td>\n",
       "    </tr>\n",
       "    <tr>\n",
       "      <th>4</th>\n",
       "      <td>François Eve</td>\n",
       "      <td>11-08-1948</td>\n",
       "      <td>Avenue Winston Churchill, 10</td>\n",
       "      <td>Toulouse</td>\n",
       "      <td>31100</td>\n",
       "      <td>francoiseve9@gmail.com</td>\n",
       "      <td>(+33) 761-113634</td>\n",
       "      <td>0</td>\n",
       "      <td>Barre Au Sol</td>\n",
       "      <td>Lundi 12h15\\nLundi \\n\\n\\n\\n\\n\\n\\n1</td>\n",
       "      <td>Barre</td>\n",
       "      <td>Vendredi 19h\\nVendredi</td>\n",
       "      <td>Barre</td>\n",
       "      <td>0</td>\n",
       "      <td>30€</td>\n",
       "      <td>3</td>\n",
       "      <td>720</td>\n",
       "    </tr>\n",
       "    <tr>\n",
       "      <th>...</th>\n",
       "      <td>...</td>\n",
       "      <td>...</td>\n",
       "      <td>...</td>\n",
       "      <td>...</td>\n",
       "      <td>...</td>\n",
       "      <td>...</td>\n",
       "      <td>...</td>\n",
       "      <td>...</td>\n",
       "      <td>...</td>\n",
       "      <td>...</td>\n",
       "      <td>...</td>\n",
       "      <td>...</td>\n",
       "      <td>...</td>\n",
       "      <td>...</td>\n",
       "      <td>...</td>\n",
       "      <td>...</td>\n",
       "      <td>...</td>\n",
       "    </tr>\n",
       "    <tr>\n",
       "      <th>95</th>\n",
       "      <td>Peccia-Galletto Sasha</td>\n",
       "      <td>17-06-2016</td>\n",
       "      <td>Monplaisir, 40</td>\n",
       "      <td>Toulouse</td>\n",
       "      <td>31400</td>\n",
       "      <td>ln.seguela@gmail.com</td>\n",
       "      <td>(06) 249-71201</td>\n",
       "      <td>Séguéla Hélène</td>\n",
       "      <td>Débutant</td>\n",
       "      <td>Mardi 17H\\nMardi</td>\n",
       "      <td>0</td>\n",
       "      <td>0</td>\n",
       "      <td>0</td>\n",
       "      <td>0</td>\n",
       "      <td>30€</td>\n",
       "      <td>3</td>\n",
       "      <td>500</td>\n",
       "    </tr>\n",
       "    <tr>\n",
       "      <th>96</th>\n",
       "      <td>Galvani Francoise</td>\n",
       "      <td>04-09-1959</td>\n",
       "      <td>6 Rue Pierre De Fermat</td>\n",
       "      <td>Toulouse</td>\n",
       "      <td>31000</td>\n",
       "      <td>francoisegalvani@icloud.com</td>\n",
       "      <td>(0033) 609-380633</td>\n",
       "      <td>0</td>\n",
       "      <td>0</td>\n",
       "      <td>0</td>\n",
       "      <td>0</td>\n",
       "      <td>0</td>\n",
       "      <td>0</td>\n",
       "      <td>0</td>\n",
       "      <td>30€ adhésion .</td>\n",
       "      <td>1</td>\n",
       "      <td>+ 30</td>\n",
       "    </tr>\n",
       "    <tr>\n",
       "      <th>97</th>\n",
       "      <td>Lemozit Sasha</td>\n",
       "      <td>05-10-2007</td>\n",
       "      <td>Alleee Des Demoiselles, 6</td>\n",
       "      <td>Toulouse</td>\n",
       "      <td>31400</td>\n",
       "      <td>christophelemozit@yahoo.fr</td>\n",
       "      <td>(33) 682-463223</td>\n",
       "      <td>Lemozit Christophe</td>\n",
       "      <td>Moderne</td>\n",
       "      <td>Vendredi 18h\\nVendredi</td>\n",
       "      <td>0</td>\n",
       "      <td>0</td>\n",
       "      <td>0</td>\n",
       "      <td>0</td>\n",
       "      <td>30€</td>\n",
       "      <td>3</td>\n",
       "      <td>500</td>\n",
       "    </tr>\n",
       "    <tr>\n",
       "      <th>98</th>\n",
       "      <td>Blanc Bouny Celeste</td>\n",
       "      <td>13-07-2013</td>\n",
       "      <td>Rue Galilee, 9</td>\n",
       "      <td>Toulouse</td>\n",
       "      <td>31500</td>\n",
       "      <td>clairebouny0412@yahoo.fr</td>\n",
       "      <td>(06) 811-70151</td>\n",
       "      <td>Bouny Claire</td>\n",
       "      <td>Danse Classique Debutant</td>\n",
       "      <td>Lundi 17H\\nLundi</td>\n",
       "      <td>0</td>\n",
       "      <td>0</td>\n",
       "      <td>0</td>\n",
       "      <td>0</td>\n",
       "      <td>30€</td>\n",
       "      <td>3</td>\n",
       "      <td>500</td>\n",
       "    </tr>\n",
       "    <tr>\n",
       "      <th>99</th>\n",
       "      <td>Ferreira Constance</td>\n",
       "      <td>02-11-2002</td>\n",
       "      <td>Avenue De Lespinet, 63</td>\n",
       "      <td>Toulouse</td>\n",
       "      <td>31400</td>\n",
       "      <td>constance.ferreiramartins@gmail.com</td>\n",
       "      <td>(+33) 622-933337</td>\n",
       "      <td>0</td>\n",
       "      <td>Classique 2</td>\n",
       "      <td>Mercredi 17H45\\nMercredi</td>\n",
       "      <td>0</td>\n",
       "      <td>0</td>\n",
       "      <td>0</td>\n",
       "      <td>0</td>\n",
       "      <td>30€</td>\n",
       "      <td>1</td>\n",
       "      <td>500</td>\n",
       "    </tr>\n",
       "  </tbody>\n",
       "</table>\n",
       "<p>99 rows × 17 columns</p>\n",
       "</div>"
      ],
      "text/plain": [
       "                     name    birthday                       address      city  \\\n",
       "0              Blatt Luce  19-10-1960          Rue Des Vincennes, 9  Toulouse   \n",
       "1             Paulon Lily  24-07-2014                 Renée Aspe, 2  Toulouse   \n",
       "2       Mezard Emmanuelle  03-02-1970       Rue Sarah Bernhardt, 44  Toulouse   \n",
       "3        Corbiere Beatrix  20-09-1960               Jean Gayral, 83  Toulouse   \n",
       "4            François Eve  11-08-1948  Avenue Winston Churchill, 10  Toulouse   \n",
       "..                    ...         ...                           ...       ...   \n",
       "95  Peccia-Galletto Sasha  17-06-2016                Monplaisir, 40  Toulouse   \n",
       "96      Galvani Francoise  04-09-1959        6 Rue Pierre De Fermat  Toulouse   \n",
       "97          Lemozit Sasha  05-10-2007     Alleee Des Demoiselles, 6  Toulouse   \n",
       "98    Blanc Bouny Celeste  13-07-2013                Rue Galilee, 9  Toulouse   \n",
       "99     Ferreira Constance  02-11-2002        Avenue De Lespinet, 63  Toulouse   \n",
       "\n",
       "    pcode                                 mail          telephone  \\\n",
       "0   31500             marieluceblatt@gmail.com  (0033) 607-103468   \n",
       "1   31000                 do_julia@hotmail.com   (+33) 648-949998   \n",
       "2   31200            emmanuelle.mezard@free.fr      (6) 034-64351   \n",
       "3   31200                    lacabiche@free.fr   (33) 066-3253652   \n",
       "4   31100               francoiseve9@gmail.com   (+33) 761-113634   \n",
       "..    ...                                  ...                ...   \n",
       "95  31400                 ln.seguela@gmail.com     (06) 249-71201   \n",
       "96  31000          francoisegalvani@icloud.com  (0033) 609-380633   \n",
       "97  31400           christophelemozit@yahoo.fr    (33) 682-463223   \n",
       "98  31500             clairebouny0412@yahoo.fr     (06) 811-70151   \n",
       "99  31400  constance.ferreiramartins@gmail.com   (+33) 622-933337   \n",
       "\n",
       "   legal_representative                    course  \\\n",
       "0                     0                             \n",
       "1          Paulon Julia                 Classique   \n",
       "2                     0               Barre Moyen   \n",
       "3                     0                             \n",
       "4                     0              Barre Au Sol   \n",
       "..                  ...                       ...   \n",
       "95       Séguéla Hélène                  Débutant   \n",
       "96                    0                         0   \n",
       "97   Lemozit Christophe                   Moderne   \n",
       "98         Bouny Claire  Danse Classique Debutant   \n",
       "99                    0               Classique 2   \n",
       "\n",
       "                                             schedule               course2  \\\n",
       "0   Lundi 12h15 Barre à terre\\nLundi \\nMardi 9h Ba...                     0   \n",
       "1                    Lundi 17h\\nLundi \\n\\n\\n\\n\\n\\n\\n1                     0   \n",
       "2                      Mardi 19H\\nMardi \\n\\n\\n\\n\\n\\n1  Pbt + Ballet Fitness   \n",
       "3                  Lundi 20h30\\nLundi \\n\\n\\n\\n\\n\\n\\n1                         \n",
       "4                  Lundi 12h15\\nLundi \\n\\n\\n\\n\\n\\n\\n1                 Barre   \n",
       "..                                                ...                   ...   \n",
       "95                                   Mardi 17H\\nMardi                     0   \n",
       "96                                                  0                     0   \n",
       "97                             Vendredi 18h\\nVendredi                     0   \n",
       "98                                   Lundi 17H\\nLundi                     0   \n",
       "99                           Mercredi 17H45\\nMercredi                     0   \n",
       "\n",
       "                 schedule2               course3  \\\n",
       "0                        0                     0   \n",
       "1                        0                     0   \n",
       "2        Jeudi 9H30\\nJeudi  Pbt + Ballet Fitness   \n",
       "3                      19h                         \n",
       "4   Vendredi 19h\\nVendredi                 Barre   \n",
       "..                     ...                   ...   \n",
       "95                       0                     0   \n",
       "96                       0                     0   \n",
       "97                       0                     0   \n",
       "98                       0                     0   \n",
       "99                       0                     0   \n",
       "\n",
       "                          schedule3    registration installments total  \n",
       "0                                 0             30€            4  + 30  \n",
       "1                                 0             30€            4   500  \n",
       "2   Vendredi  19h -20h30 \\nVendredi             30€            3   880  \n",
       "3                                 0             30€            1   720  \n",
       "4                                 0             30€            3   720  \n",
       "..                              ...             ...          ...   ...  \n",
       "95                                0             30€            3   500  \n",
       "96                                0  30€ adhésion .            1  + 30  \n",
       "97                                0             30€            3   500  \n",
       "98                                0             30€            3   500  \n",
       "99                                0             30€            1   500  \n",
       "\n",
       "[99 rows x 17 columns]"
      ]
     },
     "execution_count": 369,
     "metadata": {},
     "output_type": "execute_result"
    }
   ],
   "source": [
    "attitude"
   ]
  },
  {
   "cell_type": "markdown",
   "id": "13c62332",
   "metadata": {
    "ExecuteTime": {
     "end_time": "2022-05-13T18:45:25.319464Z",
     "start_time": "2022-05-13T18:45:25.274608Z"
    }
   },
   "source": [
    "## Transforming data   "
   ]
  },
  {
   "cell_type": "markdown",
   "id": "fc71556c",
   "metadata": {},
   "source": [
    "### Checking columns:"
   ]
  },
  {
   "cell_type": "code",
   "execution_count": 350,
   "id": "7d7974a4",
   "metadata": {
    "ExecuteTime": {
     "end_time": "2022-05-13T20:09:18.485509Z",
     "start_time": "2022-05-13T20:09:18.465554Z"
    }
   },
   "outputs": [],
   "source": [
    "\n",
    "#Dropping duplicates\n",
    "attitude = attitude.drop_duplicates()"
   ]
  },
  {
   "cell_type": "code",
   "execution_count": 358,
   "id": "2f53d06f",
   "metadata": {
    "ExecuteTime": {
     "end_time": "2022-05-13T20:13:02.895769Z",
     "start_time": "2022-05-13T20:13:02.632468Z"
    }
   },
   "outputs": [
    {
     "name": "stderr",
     "output_type": "stream",
     "text": [
      "SettingWithCopyWarning: \n",
      "A value is trying to be set on a copy of a slice from a DataFrame.\n",
      "Try using .loc[row_indexer,col_indexer] = value instead\n",
      "\n",
      "See the caveats in the documentation: https://pandas.pydata.org/pandas-docs/stable/user_guide/indexing.html#returning-a-view-versus-a-copy [1493743463.py:3]\n",
      "SettingWithCopyWarning: \n",
      "A value is trying to be set on a copy of a slice from a DataFrame.\n",
      "Try using .loc[row_indexer,col_indexer] = value instead\n",
      "\n",
      "See the caveats in the documentation: https://pandas.pydata.org/pandas-docs/stable/user_guide/indexing.html#returning-a-view-versus-a-copy [1493743463.py:4]\n",
      "SettingWithCopyWarning: \n",
      "A value is trying to be set on a copy of a slice from a DataFrame.\n",
      "Try using .loc[row_indexer,col_indexer] = value instead\n",
      "\n",
      "See the caveats in the documentation: https://pandas.pydata.org/pandas-docs/stable/user_guide/indexing.html#returning-a-view-versus-a-copy [1493743463.py:5]\n",
      "SettingWithCopyWarning: \n",
      "A value is trying to be set on a copy of a slice from a DataFrame.\n",
      "Try using .loc[row_indexer,col_indexer] = value instead\n",
      "\n",
      "See the caveats in the documentation: https://pandas.pydata.org/pandas-docs/stable/user_guide/indexing.html#returning-a-view-versus-a-copy [1493743463.py:6]\n",
      "SettingWithCopyWarning: \n",
      "A value is trying to be set on a copy of a slice from a DataFrame.\n",
      "Try using .loc[row_indexer,col_indexer] = value instead\n",
      "\n",
      "See the caveats in the documentation: https://pandas.pydata.org/pandas-docs/stable/user_guide/indexing.html#returning-a-view-versus-a-copy [1493743463.py:7]\n",
      "SettingWithCopyWarning: \n",
      "A value is trying to be set on a copy of a slice from a DataFrame.\n",
      "Try using .loc[row_indexer,col_indexer] = value instead\n",
      "\n",
      "See the caveats in the documentation: https://pandas.pydata.org/pandas-docs/stable/user_guide/indexing.html#returning-a-view-versus-a-copy [1493743463.py:8]\n",
      "SettingWithCopyWarning: \n",
      "A value is trying to be set on a copy of a slice from a DataFrame.\n",
      "Try using .loc[row_indexer,col_indexer] = value instead\n",
      "\n",
      "See the caveats in the documentation: https://pandas.pydata.org/pandas-docs/stable/user_guide/indexing.html#returning-a-view-versus-a-copy [1493743463.py:9]\n",
      "SettingWithCopyWarning: \n",
      "A value is trying to be set on a copy of a slice from a DataFrame.\n",
      "Try using .loc[row_indexer,col_indexer] = value instead\n",
      "\n",
      "See the caveats in the documentation: https://pandas.pydata.org/pandas-docs/stable/user_guide/indexing.html#returning-a-view-versus-a-copy [1493743463.py:10]\n"
     ]
    }
   ],
   "source": [
    "#Let's standardize it!\n",
    "# Strings\n",
    "attitude.name = [nom.title() for nom in attitude.name]\n",
    "attitude.address = [adresse.title() for adresse in attitude.address]\n",
    "attitude.city = [cite.title() for cite in attitude.city]\n",
    "attitude.mail = [email.lower() for email in attitude.mail]\n",
    "attitude.legal_representative = [representant.title() if representant != 0 else 0 for representant in attitude.legal_representative]\n",
    "attitude.course = [cours.title() if cours != 0 else 0 for cours in attitude.course]\n",
    "attitude.course2= [cours2.title() if cours2 != 0 else 0 for cours2 in attitude.course2]\n",
    "attitude.course3= [cours3.title() if cours3 != 0 else 0 for cours3 in attitude.course2]"
   ]
  },
  {
   "cell_type": "code",
   "execution_count": 352,
   "id": "18386697",
   "metadata": {
    "ExecuteTime": {
     "end_time": "2022-05-13T20:09:22.914423Z",
     "start_time": "2022-05-13T20:09:22.770806Z"
    }
   },
   "outputs": [
    {
     "name": "stdout",
     "output_type": "stream",
     "text": [
      "['25 nivelbre 1947', '18 décembre 2012', '17 août 2008', '4 juin 1975', '1er mai 2014', 0, '18 AOUT 2010', '23 JANVIER 2017', 0, '30061986', '17 juin 2016']\n"
     ]
    },
    {
     "name": "stderr",
     "output_type": "stream",
     "text": [
      "SettingWithCopyWarning: \n",
      "A value is trying to be set on a copy of a slice from a DataFrame.\n",
      "Try using .loc[row_indexer,col_indexer] = value instead\n",
      "\n",
      "See the caveats in the documentation: https://pandas.pydata.org/pandas-docs/stable/user_guide/indexing.html#returning-a-view-versus-a-copy [1156981790.py:16]\n"
     ]
    }
   ],
   "source": [
    "#Birthday column\n",
    "issues = []\n",
    "for naissance in attitude.birthday:\n",
    "    try:\n",
    "        date = parser.parse(naissance)\n",
    "    except:\n",
    "        issues.append(naissance)\n",
    "print(issues)\n",
    "naissances=[]\n",
    "for naissance in attitude.birthday:\n",
    "    if naissance != 0:\n",
    "        date = parser.parse(naissance.replace('25 nivelbre 1947', '25-11-1947').replace('18 décembre 2012', '18-12-2012').replace('17 août 2008', '17-08-2008').replace('4 juin 1975', '04-06-1975').replace('1er mai 2014', '01-05-2014').replace('18 AOUT 2010', '18-08-2010').replace('23 JANVIER 2017', '23-01-2017').replace('30061986', '30-06-1986').replace('17 juin 2016', '17-06-2016'))\n",
    "        naissances.append(date.strftime('%d-%m-%Y'))\n",
    "    else:\n",
    "        naissances.append(0)\n",
    "attitude.birthday = naissances"
   ]
  },
  {
   "cell_type": "code",
   "execution_count": 356,
   "id": "c021ff8c",
   "metadata": {
    "ExecuteTime": {
     "end_time": "2022-05-13T20:12:28.196685Z",
     "start_time": "2022-05-13T20:12:28.000211Z"
    }
   },
   "outputs": [
    {
     "name": "stderr",
     "output_type": "stream",
     "text": [
      "SettingWithCopyWarning: \n",
      "A value is trying to be set on a copy of a slice from a DataFrame.\n",
      "Try using .loc[row_indexer,col_indexer] = value instead\n",
      "\n",
      "See the caveats in the documentation: https://pandas.pydata.org/pandas-docs/stable/user_guide/indexing.html#returning-a-view-versus-a-copy [3625858055.py:2]\n",
      "SettingWithCopyWarning: \n",
      "A value is trying to be set on a copy of a slice from a DataFrame\n",
      "\n",
      "See the caveats in the documentation: https://pandas.pydata.org/pandas-docs/stable/user_guide/indexing.html#returning-a-view-versus-a-copy [3625858055.py:2]\n"
     ]
    }
   ],
   "source": [
    "#Address column:\n",
    "attitude[attitude['address'] == '44, Rue Sarah Bernhardt, 44, Rue Sarah Bernhardt'] = attitude[attitude['address'] == '44, Rue Sarah Bernhardt, 44, Rue Sarah Bernhardt'].replace('44, Rue Sarah Bernhardt, 44, Rue Sarah Bernhardt', 'Rue Sarah Bernhardt, 44')"
   ]
  },
  {
   "cell_type": "code",
   "execution_count": 378,
   "id": "d9f29c88",
   "metadata": {
    "ExecuteTime": {
     "end_time": "2022-05-13T20:29:26.876120Z",
     "start_time": "2022-05-13T20:29:23.838108Z"
    }
   },
   "outputs": [
    {
     "name": "stderr",
     "output_type": "stream",
     "text": [
      "SettingWithCopyWarning: \n",
      "A value is trying to be set on a copy of a slice from a DataFrame\n",
      "\n",
      "See the caveats in the documentation: https://pandas.pydata.org/pandas-docs/stable/user_guide/indexing.html#returning-a-view-versus-a-copy [2884996022.py:3]\n"
     ]
    }
   ],
   "source": [
    "#Column Telephone:\n",
    "for row in range(len(attitude.telephone)):\n",
    "    attitude['telephone'].iloc[row] = attitude['telephone'].iloc[row].replace('(33)', '+33').replace('(0033)', '+33').replace('(033)', '+33').replace('(','').replace(\"(0687026502)\", \"0687026502\").replace(\"(Portable)\", \"\").replace(\"(0634121580) 063-4121580\", \"063-4121580\").replace(\"(0687026502) 068-7026502\", \"068-7026502\").replace(\"(0689289829) ¨\", \"0689289829\").replace(\"(0689289829) 068-9289829\", \"0689289829\").replace(\"(0607991130) 060-7991130\", \"0607991130\").replace(\"(0683365627) 068-3365627\", \"0683365627\").replace(')',\"\").replace(\"-\",\"\")"
   ]
  },
  {
   "cell_type": "code",
   "execution_count": 410,
   "id": "3d6bc7f8",
   "metadata": {
    "ExecuteTime": {
     "end_time": "2022-05-13T21:05:54.607682Z",
     "start_time": "2022-05-13T21:05:52.446712Z"
    }
   },
   "outputs": [
    {
     "name": "stderr",
     "output_type": "stream",
     "text": [
      "SettingWithCopyWarning: \n",
      "A value is trying to be set on a copy of a slice from a DataFrame\n",
      "\n",
      "See the caveats in the documentation: https://pandas.pydata.org/pandas-docs/stable/user_guide/indexing.html#returning-a-view-versus-a-copy [2969231407.py:4]\n"
     ]
    }
   ],
   "source": [
    "\n",
    "for row in range(len(attitude.schedule)):\n",
    "    if attitude['schedule'].iloc[row] != 0:\n",
    "        try:\n",
    "            attitude['schedule'].iloc[row] = attitude['schedule'].iloc[row].replace('\\n1',' ').replace('\\n', \"\").strip().split(\" \")[0] + \", \" + attitude['schedule'].iloc[row].replace('\\n',' ').replace('1','').strip().split(\" \")[1]\n",
    "        except:\n",
    "            continue\n",
    "    else:\n",
    "        continue"
   ]
  },
  {
   "cell_type": "code",
   "execution_count": 425,
   "id": "03fa36fa",
   "metadata": {
    "ExecuteTime": {
     "end_time": "2022-05-13T21:10:30.266884Z",
     "start_time": "2022-05-13T21:10:30.229982Z"
    }
   },
   "outputs": [
    {
     "name": "stderr",
     "output_type": "stream",
     "text": [
      "SettingWithCopyWarning: \n",
      "A value is trying to be set on a copy of a slice from a DataFrame.\n",
      "Try using .loc[row_indexer,col_indexer] = value instead\n",
      "\n",
      "See the caveats in the documentation: https://pandas.pydata.org/pandas-docs/stable/user_guide/indexing.html#returning-a-view-versus-a-copy [810273013.py:1]\n"
     ]
    }
   ],
   "source": [
    "attitude.schedule = schedule"
   ]
  },
  {
   "cell_type": "code",
   "execution_count": 391,
   "id": "26ab0b92",
   "metadata": {
    "ExecuteTime": {
     "end_time": "2022-05-13T20:59:21.309170Z",
     "start_time": "2022-05-13T20:59:21.134107Z"
    }
   },
   "outputs": [
    {
     "name": "stderr",
     "output_type": "stream",
     "text": [
      "SettingWithCopyWarning: \n",
      "A value is trying to be set on a copy of a slice from a DataFrame\n",
      "\n",
      "See the caveats in the documentation: https://pandas.pydata.org/pandas-docs/stable/user_guide/indexing.html#returning-a-view-versus-a-copy [113183060.py:1]\n",
      "SettingWithCopyWarning: \n",
      "A value is trying to be set on a copy of a slice from a DataFrame\n",
      "\n",
      "See the caveats in the documentation: https://pandas.pydata.org/pandas-docs/stable/user_guide/indexing.html#returning-a-view-versus-a-copy [113183060.py:2]\n",
      "SettingWithCopyWarning: \n",
      "A value is trying to be set on a copy of a slice from a DataFrame\n",
      "\n",
      "See the caveats in the documentation: https://pandas.pydata.org/pandas-docs/stable/user_guide/indexing.html#returning-a-view-versus-a-copy [113183060.py:3]\n",
      "SettingWithCopyWarning: \n",
      "A value is trying to be set on a copy of a slice from a DataFrame\n",
      "\n",
      "See the caveats in the documentation: https://pandas.pydata.org/pandas-docs/stable/user_guide/indexing.html#returning-a-view-versus-a-copy [113183060.py:4]\n",
      "SettingWithCopyWarning: \n",
      "A value is trying to be set on a copy of a slice from a DataFrame\n",
      "\n",
      "See the caveats in the documentation: https://pandas.pydata.org/pandas-docs/stable/user_guide/indexing.html#returning-a-view-versus-a-copy [113183060.py:5]\n",
      "SettingWithCopyWarning: \n",
      "A value is trying to be set on a copy of a slice from a DataFrame\n",
      "\n",
      "See the caveats in the documentation: https://pandas.pydata.org/pandas-docs/stable/user_guide/indexing.html#returning-a-view-versus-a-copy [113183060.py:6]\n"
     ]
    }
   ],
   "source": [
    "attitude[attitude['course'] == \"\"]\n",
    "attitude['course'].iloc[0] = \"Barre à Terre\"\n",
    "attitude['schedule'].iloc[0] = \"Mardi, 12h15\"\n",
    "attitude['course2'].iloc[0] = 'Pbt'\n",
    "attitude['schedule2'].iloc[0] = \"Jeudi, 9h30\"\n",
    "attitude['course3'].iloc[0] = 'Classique moyen'\n",
    "attitude['schedule3'].iloc[0] = \"Vendredi, 10h\"\n",
    "\n",
    "\n"
   ]
  },
  {
   "cell_type": "code",
   "execution_count": null,
   "id": "cc2fd9af",
   "metadata": {},
   "outputs": [],
   "source": [
    "attitude_eleves = attitude.drop(columns=['course', 'schedule', 'course2', 'schedule2',\n",
    "       'course3', 'schedule3', 'registration', 'installments', 'total'])"
   ]
  },
  {
   "cell_type": "code",
   "execution_count": null,
   "id": "9afe42b1",
   "metadata": {},
   "outputs": [],
   "source": [
    "cols = [\"Nom et prénom d'élève\", \"Date de naissance\", \"Adresse\", \"E-mail\", \"Téléphone\", \"Représentant légal de l’inscrit (pour les mineurs)\", \"Cours\", \"Horaire\",  \"Cours 2\", \"Horaire 2\",  \"Cours 3\", \"Horaire 3\", \"Adhésion\", \"Paiement fractionné\", \"Paiement Total\"]\n",
    "attitude.columns = cols"
   ]
  }
 ],
 "metadata": {
  "kernelspec": {
   "display_name": "pycaret",
   "language": "python",
   "name": "pycaret_aula"
  },
  "language_info": {
   "codemirror_mode": {
    "name": "ipython",
    "version": 3
   },
   "file_extension": ".py",
   "mimetype": "text/x-python",
   "name": "python",
   "nbconvert_exporter": "python",
   "pygments_lexer": "ipython3",
   "version": "3.8.13"
  },
  "toc": {
   "base_numbering": 1,
   "nav_menu": {},
   "number_sections": true,
   "sideBar": true,
   "skip_h1_title": false,
   "title_cell": "Table of Contents",
   "title_sidebar": "Contents",
   "toc_cell": false,
   "toc_position": {},
   "toc_section_display": true,
   "toc_window_display": false
  }
 },
 "nbformat": 4,
 "nbformat_minor": 5
}
