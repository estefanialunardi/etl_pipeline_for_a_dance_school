{
 "cells": [
  {
   "cell_type": "code",
   "execution_count": 1,
   "id": "15a46c8b",
   "metadata": {
    "ExecuteTime": {
     "end_time": "2022-05-17T17:16:03.826094Z",
     "start_time": "2022-05-17T17:15:56.911785Z"
    }
   },
   "outputs": [
    {
     "name": "stdout",
     "output_type": "stream",
     "text": [
      "Requirement already satisfied: PDFplumber in c:\\users\\tete\\anaconda3\\envs\\pycaret_aula\\lib\\site-packages (0.6.2)\n",
      "Requirement already satisfied: Wand>=0.6.7 in c:\\users\\tete\\anaconda3\\envs\\pycaret_aula\\lib\\site-packages (from PDFplumber) (0.6.7)\n",
      "Requirement already satisfied: pdfminer.six==20220319 in c:\\users\\tete\\anaconda3\\envs\\pycaret_aula\\lib\\site-packages (from PDFplumber) (20220319)\n",
      "Requirement already satisfied: Pillow>=9.1 in c:\\users\\tete\\anaconda3\\envs\\pycaret_aula\\lib\\site-packages (from PDFplumber) (9.1.0)\n",
      "Requirement already satisfied: chardet in c:\\users\\tete\\anaconda3\\envs\\pycaret_aula\\lib\\site-packages (from pdfminer.six==20220319->PDFplumber) (4.0.0)\n",
      "Requirement already satisfied: cryptography in c:\\users\\tete\\anaconda3\\envs\\pycaret_aula\\lib\\site-packages (from pdfminer.six==20220319->PDFplumber) (37.0.2)\n",
      "Requirement already satisfied: cffi>=1.12 in c:\\users\\tete\\anaconda3\\envs\\pycaret_aula\\lib\\site-packages (from cryptography->pdfminer.six==20220319->PDFplumber) (1.15.0)\n",
      "Requirement already satisfied: pycparser in c:\\users\\tete\\anaconda3\\envs\\pycaret_aula\\lib\\site-packages (from cffi>=1.12->cryptography->pdfminer.six==20220319->PDFplumber) (2.21)\n",
      "Note: you may need to restart the kernel to use updated packages.\n"
     ]
    }
   ],
   "source": [
    "pip install PDFplumber"
   ]
  },
  {
   "cell_type": "code",
   "execution_count": 497,
   "id": "19288d74",
   "metadata": {
    "ExecuteTime": {
     "end_time": "2022-05-19T18:37:19.134932Z",
     "start_time": "2022-05-19T18:37:19.120970Z"
    }
   },
   "outputs": [],
   "source": [
    "import pandas as pd\n",
    "import pdfplumber\n",
    "import re\n",
    "import os, os.path\n",
    "from dateutil import parser\n",
    "from sshtunnel import SSHTunnelForwarder\n",
    "import sqlalchemy as db\n",
    "from sqlalchemy import create_engine\n",
    "from dotenv import load_dotenv\n",
    "from datetime import datetime, date\n",
    "from geopy.geocoders import Nominatim"
   ]
  },
  {
   "cell_type": "markdown",
   "id": "1120ac96",
   "metadata": {},
   "source": [
    "## Extracting available data"
   ]
  },
  {
   "cell_type": "markdown",
   "id": "16a9ce42",
   "metadata": {},
   "source": [
    "### Prior data\n",
    "When the school provided those PDF documents, which were extracted from a free online form builder for school applications, my first action was to take a look in the very first pages of the first document and understand it. I realized that, instead of organized tables with information about the students, all data was stored in form-based PDFs.  It was very look alike a printed document filled by each student separately. The main goal of keeping those documents were just records of students inscriptions, with no strategic business intent for that data.\n",
    "\n",
    "Therefore, I've proposed a different pipeline for that data, that not only could escalate, enabling larger volumes of data, but also that allowed the school to catalogue, clean, filter, manipulate and analyze all that value informations to find the best business solutions.\n"
   ]
  },
  {
   "cell_type": "code",
   "execution_count": 572,
   "id": "f5a3700e",
   "metadata": {
    "ExecuteTime": {
     "end_time": "2022-05-19T19:19:12.396105Z",
     "start_time": "2022-05-19T19:19:12.090722Z"
    }
   },
   "outputs": [],
   "source": [
    "pdf_test = pdfplumber.open(\".\\\\data\\\\211596498612667-0.pdf\")\n",
    "print(len(pdf_test.pages))\n",
    "print(pdf_test.pages[0].extract_text())"
   ]
  },
  {
   "cell_type": "markdown",
   "id": "45850cbd",
   "metadata": {},
   "source": [
    "### Proposing a new way to store data"
   ]
  },
  {
   "cell_type": "markdown",
   "id": "f7256699",
   "metadata": {},
   "source": [
    "So, for a better comprehension of the available data, i've tried to create an organized table with all subscriptions information. Regardless any particularity of each student, they all filled the same form for submission, so I could easily identify the fields despite there was no obvious separators between fields."
   ]
  },
  {
   "cell_type": "markdown",
   "id": "2fcb8509",
   "metadata": {},
   "source": [
    "The inscription form provides lots of information about each student. I created lists to store these informations, according to the fields filled."
   ]
  },
  {
   "cell_type": "code",
   "execution_count": 482,
   "id": "de1ba78c",
   "metadata": {
    "ExecuteTime": {
     "end_time": "2022-05-19T18:28:35.475441Z",
     "start_time": "2022-05-19T18:28:35.295921Z"
    }
   },
   "outputs": [],
   "source": [
    "def read_pdfs (pdf):\n",
    "    \"\"\"open the pdf file and extract all the text information corresponding to each field\n",
    "    return info\"\"\"\n",
    "    info = []\n",
    "    for page in range(len(pdf.pages)):\n",
    "        info.append(pdf.pages[page].extract_text())\n",
    "    info = \"\".join(info).replace(\"Create your own automated PDFs with Jotform PDF Editor- It’s free\",\"\").split(\"Fiche d'inscription\")\n",
    "    for student in range(1,len(info)):\n",
    "        try:\n",
    "            nom = info[student].split(\"Nom et prénom d'élève\")[1].split(\"\\n\")[0].strip()\n",
    "        except:\n",
    "            nom = 0\n",
    "        try:\n",
    "            naissance = info[student].split(\"Date de naissance\")[1].split(\"\\n\")[0].strip()\n",
    "        except:\n",
    "            naissance = 0\n",
    "        try:\n",
    "            adresse = info[student].split(\"Adresse\")[1].split(\"\\n\")[0].replace(\"\\n\",\" \").strip()\n",
    "        except:\n",
    "            adresse = 0\n",
    "        try:\n",
    "            cite = info[student].split(\"Adresse\")[1].split(\"\\n\")[1].split(\",\")[0].replace(\"\\n\",\" \").strip()\n",
    "        except:\n",
    "            cite = 0\n",
    "        try:\n",
    "            postal = info[student].split(\"Adresse\")[1].split(\"\\n\")[1].split(\",\")[1].split(\"\\n\")[0].replace(\"\\n\",\" \").strip()\n",
    "        except:\n",
    "            postal = 0\n",
    "        try:\n",
    "            email = info[student].split(\"E-mail\")[1].split(\"\\n\")[0].strip()\n",
    "        except:\n",
    "            email=0\n",
    "        try:\n",
    "            representant_legal = info[student].split(\"Représentant légal de l’inscrit (pour\")[1].split(\"les mineurs\")[0].strip()\n",
    "        except:\n",
    "            representant_legal = 0\n",
    "        try:\n",
    "            tel = info[student].split(\"Téléphone\")[1].split(\"\\n\")[0].strip()\n",
    "        except:\n",
    "            tel = info[student].split(\"Téléphone\")[1].split(\"\\n\")[0].strip()\n",
    "        try:\n",
    "            cours = info[student].split(\"Cours:\")[1].split(\"Horaire:\")[0].replace(\"\\nCours\", \"\").strip()\n",
    "        except:\n",
    "            cours = 0\n",
    "        try:\n",
    "            horaire = info[student].split(\"Horaire:\")[1].split(\"Cours 2\")[0].replace(\"\\xa0\", \"\").replace(\"Heure\", \"\").strip()\n",
    "            cours2 = info[student].split(\"Cours 2:\")[1].split(\"Horaire:\")[0].replace(\"\\nCours\", \"\").strip()\n",
    "            try:\n",
    "                horaire2 = info[student].split(\"Horaire:\")[2].split(\"Cours 3\")[0].replace(\"\\xa0\", \"\").replace(\"Heure\", \"\").strip()\n",
    "                cours3 = info[student].split(\"Cours 3:\")[1].split(\"Horaire:\")[0].replace(\"\\nCours\", \"\").strip()\n",
    "                horaire3 = info[student].split(\"Horaire:\")[3].split(\"Téléverser\")[0].replace(\"Heure\", \"\").strip()\n",
    "            except: \n",
    "                horaire2= info[student].split(\"Horaire:\")[2].split(\"Téléverser\")[0].replace(\"\\xa0\", \"\").replace(\"Heure\", \"\").strip()\n",
    "                cours3 =0\n",
    "                horaire3=0\n",
    "        except:\n",
    "            try:\n",
    "                horaire = info[student].split(\"Horaire:\")[1].split(\"Téléverser\")[0].replace(\"\\xa0\", \"\").replace(\"Heure\", \"\").strip()\n",
    "            except:\n",
    "                horaire = 0\n",
    "            cours2 =0\n",
    "            horaire2=0\n",
    "            cours3 =0\n",
    "            horaire3=0\n",
    "        try:\n",
    "            adhesion = info[student].split(\"\\xa0\\xa0\\xa0\\xa0\\xa0+\")[1].split(\"\\n(valeur de chaque chèque)\")[0].strip()\n",
    "        except: \n",
    "            adhesion = info[student].split(\"Please Select\")[1].split(\"adhésion\")[0].strip() \n",
    "        try:\n",
    "            paiement_fractionne =info[student].split(\"Par\")[1].split(\" cheques\")[0].strip()\n",
    "        except:\n",
    "            paiement_fractionne =info[student].split(\"avec\")[1].split(\"chèques\")[0].strip()\n",
    "        paiement_total = info[student].split(\"au total de\")[1].split(\"€\")[0].strip()\n",
    "        name.append(nom)\n",
    "        birthday.append(naissance)\n",
    "        address.append(adresse)\n",
    "        city.append(cite)\n",
    "        pcode.append(postal)\n",
    "        mail.append(email)\n",
    "        telephone.append(tel)\n",
    "        legal_representative.append(representant_legal)\n",
    "        course.append(cours)\n",
    "        schedule.append(horaire)\n",
    "        course2.append(cours2)\n",
    "        schedule2.append(horaire2)\n",
    "        course3.append(cours3)\n",
    "        schedule3.append(horaire3)\n",
    "        registration.append(adhesion)\n",
    "        installments.append(paiement_fractionne)\n",
    "        total.append(paiement_total)"
   ]
  },
  {
   "cell_type": "markdown",
   "id": "a893a33c",
   "metadata": {},
   "source": [
    "All available data was stored in the same folder, and the files' name differ only by the number at the end of them, from 0 to the last. "
   ]
  },
  {
   "cell_type": "code",
   "execution_count": 483,
   "id": "3c1ae972",
   "metadata": {
    "ExecuteTime": {
     "end_time": "2022-05-19T18:30:07.184831Z",
     "start_time": "2022-05-19T18:28:37.494888Z"
    }
   },
   "outputs": [],
   "source": [
    "name=[]\n",
    "birthday=[]\n",
    "address = []\n",
    "city = []\n",
    "pcode =[]\n",
    "mail =[]\n",
    "telephone =[]\n",
    "legal_representative =[]\n",
    "course=[]\n",
    "schedule =[]\n",
    "course2 =[]\n",
    "schedule2 =[]\n",
    "course3=[]\n",
    "schedule3 =[]\n",
    "registration =[]\n",
    "installments =[]\n",
    "total =[]\n",
    "files = os.listdir(f'{pwd}\\\\data') \n",
    "for file in range(len(files)-1):\n",
    "    pdf = pdfplumber.open(f\".\\\\data\\\\211596498612667-{file}.pdf\")\n",
    "    read_pdfs (pdf)"
   ]
  },
  {
   "cell_type": "markdown",
   "id": "04e85261",
   "metadata": {},
   "source": [
    "### Creating the dataframe\n",
    "After extracting all the information avaialable on those forms, I've gathered them in a dataframe which columns are the fields from the submission form."
   ]
  },
  {
   "cell_type": "code",
   "execution_count": 484,
   "id": "c365413c",
   "metadata": {
    "ExecuteTime": {
     "end_time": "2022-05-19T18:30:42.547391Z",
     "start_time": "2022-05-19T18:30:42.523455Z"
    }
   },
   "outputs": [],
   "source": [
    "attitude = pd.DataFrame(zip(name,birthday, address, city, pcode, mail, telephone, legal_representative, course, schedule, course2, schedule2, course3, schedule3, registration, installments, total))\n",
    "attitude.columns = ['name','birthday', 'address', 'city', 'pcode','mail', 'telephone', 'legal_representative', 'course', 'schedule', 'course2', 'schedule2', 'course3', 'schedule3', 'registration', 'installments', 'total']"
   ]
  },
  {
   "cell_type": "markdown",
   "id": "5d77df04",
   "metadata": {
    "ExecuteTime": {
     "end_time": "2022-05-13T18:45:25.319464Z",
     "start_time": "2022-05-13T18:45:25.274608Z"
    }
   },
   "source": [
    "## Transforming data   "
   ]
  },
  {
   "cell_type": "markdown",
   "id": "05372ccd",
   "metadata": {},
   "source": [
    "### Checking columns:\n",
    "I started to clean the date, column by column. When it was possible, I've used automatic methods, but sometimes I had to contact administrative staff and other sources of research (such as Google search) to correct data errors or complete missing data fields. Some of them, such as birthday or address, were not possible to find, so it remained blank or, in case of calculating age, it was filled with the mean value.\n",
    "\n",
    "Beside correcting typos, removing duplicates and filling blank fields, I also made data normalization to allow me to identify matches to apply functions properly and help me establishing standards for a consistent CRUD experience. Fields with multiple information, such as address, were split into various (address, city, postal code, etc.) for the benefit of a better analysis later.\n",
    "\n",
    "The cleaning process is documented below with the exception of sensible data, such as students personal information, due to confidentiality, security and privacy issues."
   ]
  },
  {
   "cell_type": "code",
   "execution_count": 485,
   "id": "794f4652",
   "metadata": {
    "ExecuteTime": {
     "end_time": "2022-05-19T18:30:44.374464Z",
     "start_time": "2022-05-19T18:30:44.336566Z"
    }
   },
   "outputs": [],
   "source": [
    "#Dropping duplicates\n",
    "attitude = attitude.drop_duplicates().reset_index(drop=True)"
   ]
  },
  {
   "cell_type": "code",
   "execution_count": 486,
   "id": "b13e308d",
   "metadata": {
    "ExecuteTime": {
     "end_time": "2022-05-19T18:30:46.022157Z",
     "start_time": "2022-05-19T18:30:45.986252Z"
    }
   },
   "outputs": [],
   "source": [
    "#Standardizizing fields:\n",
    "attitude.name = [nom.title() for nom in attitude.name]\n",
    "attitude.address = [adresse.title() for adresse in attitude.address]\n",
    "attitude.city = [cite.title() for cite in attitude.city]\n",
    "attitude.mail = [email.lower() for email in attitude.mail]\n",
    "attitude.legal_representative = [representant.title() if representant != 0 else 0 for representant in attitude.legal_representative]\n",
    "attitude.course = [cours.title() if cours != 0 else 0 for cours in attitude.course]\n",
    "attitude.course2= [cours2.title() if cours2 != 0 else 0 for cours2 in attitude.course2]\n",
    "attitude.course3= [cours3.title() if cours3 != 0 else 0 for cours3 in attitude.course2]"
   ]
  },
  {
   "cell_type": "markdown",
   "id": "ed49a125",
   "metadata": {},
   "source": [
    "### Personal information about students"
   ]
  },
  {
   "cell_type": "code",
   "execution_count": 574,
   "id": "aa619a67",
   "metadata": {
    "ExecuteTime": {
     "end_time": "2022-05-19T19:26:38.499803Z",
     "start_time": "2022-05-19T19:26:38.435007Z"
    }
   },
   "outputs": [],
   "source": [
    "#Birthday column\n",
    "issues = []\n",
    "for naissance in attitude.birthday:\n",
    "    try:\n",
    "        date = parser.parse(naissance)\n",
    "    except:\n",
    "        issues.append(naissance)\n",
    "print(issues)\n",
    "naissances=[]\n",
    "for naissance in attitude.birthday:\n",
    "    if naissance != 0:\n",
    "        date = parser.parse(naissance.replace('25 nivelbre 1947', '25-11-1947').replace('18 décembre 2012', '18-12-2012').replace('17 août 2008', '17-08-2008').replace('4 juin 1975', '04-06-1975').replace('1er mai 2014', '01-05-2014').replace('18 AOUT 2010', '18-08-2010').replace('23 JANVIER 2017', '23-01-2017').replace('30061986', '30-06-1986').replace('17 juin 2016', '17-06-2016'))\n",
    "        naissances.append(date.strftime('%d-%m-%Y'))\n",
    "    else:\n",
    "        naissances.append(0)\n",
    "attitude.birthday = naissances\n",
    "attitude['birthday'].iloc[57] = \"13-03-1953\""
   ]
  },
  {
   "cell_type": "code",
   "execution_count": 593,
   "id": "9f145a59",
   "metadata": {
    "ExecuteTime": {
     "end_time": "2022-05-19T19:59:05.627500Z",
     "start_time": "2022-05-19T19:59:04.481883Z"
    }
   },
   "outputs": [
    {
     "name": "stderr",
     "output_type": "stream",
     "text": [
      "2022-05-19 19:12:14,100| ERROR   | Socket exception: Foi forçado o cancelamento de uma conexão existente pelo host remoto (10054)\n",
      "2022-05-19 19:12:14,327| ERROR   | Socket exception: Foi forçado o cancelamento de uma conexão existente pelo host remoto (10054)\n"
     ]
    }
   ],
   "source": [
    "#Discoverying students' age - \n",
    "age =[]\n",
    "for naissance in attitude.birthday:\n",
    "    if str(naissance) == '0':\n",
    "        age.append(0)\n",
    "    else:\n",
    "        born = str(naissance).split('-')[-1]\n",
    "        today = date.today()\n",
    "        age.append(today.year - int(born))\n",
    "mean_age = sum(age)//99\n",
    "age =[]\n",
    "for naissance in age:\n",
    "    if str(naissance) == '0':\n",
    "        age.append(mean_age)\n",
    "    else:\n",
    "        born = str(naissance).split('-')[-1]\n",
    "        today = date.today()\n",
    "        age.append(today.year - int(born))"
   ]
  },
  {
   "cell_type": "markdown",
   "id": "56270113",
   "metadata": {},
   "source": [
    "### Geographic coordinates\n",
    "From the address field, I've extracted the latitude and longitude information. It was necessary to locate each student in the map graphic and estimate their distance from school."
   ]
  },
  {
   "cell_type": "code",
   "execution_count": 514,
   "id": "d27937a3",
   "metadata": {
    "ExecuteTime": {
     "end_time": "2022-05-19T19:00:10.047748Z",
     "start_time": "2022-05-19T18:59:19.987165Z"
    }
   },
   "outputs": [],
   "source": [
    "from geopy.geocoders import Nominatim \n",
    "geolocator = Nominatim(user_agent=\"geolocalização\")\n",
    "latlong =[]\n",
    "for row in range(99):\n",
    "    try:\n",
    "        location = geolocator.geocode(f'{attitude.address.iloc[row]} Toulouse, France, {attitude.pcode.iloc[row]}')\n",
    "        lat = location.latitude\n",
    "        lon = location.longitude\n",
    "        latlong.append(str(lat)+','+str(lon))       \n",
    "    except:\n",
    "        latlong.append(attitude.address.iloc[row])"
   ]
  },
  {
   "cell_type": "code",
   "execution_count": 521,
   "id": "d63b48c2",
   "metadata": {
    "ExecuteTime": {
     "end_time": "2022-05-19T19:05:15.807777Z",
     "start_time": "2022-05-19T19:05:15.794818Z"
    }
   },
   "outputs": [],
   "source": [
    "lat=[]\n",
    "long=[]\n",
    "for latlon in lat_long:\n",
    "    lat.append(float(latlon.split(',')[0])) \n",
    "    long.append(float(latlon.split(',')[1]))"
   ]
  },
  {
   "cell_type": "code",
   "execution_count": 259,
   "id": "ba8dc9f0",
   "metadata": {
    "ExecuteTime": {
     "end_time": "2022-05-18T19:42:31.042420Z",
     "start_time": "2022-05-18T19:42:31.031451Z"
    },
    "scrolled": true
   },
   "outputs": [],
   "source": [
    "#Defining if they live in Toulouse or other city:\n",
    "toulouse=[]\n",
    "for ville in attitude_eleves.city:\n",
    "    if ville =='Toulouse':\n",
    "        toulouse.append(\"Toulouse\")\n",
    "    else:\n",
    "        toulouse.append(\"Autre ville\")"
   ]
  },
  {
   "cell_type": "markdown",
   "id": "59e316bd",
   "metadata": {},
   "source": [
    "### Information about classes"
   ]
  },
  {
   "cell_type": "markdown",
   "id": "5c0c929f",
   "metadata": {},
   "source": [
    "Cleaning classes information was the most challenging step of the ETL. Many fields had typos or were filled improperly. The classes schedule also were non standardized as they've changed as registrations were made and students requested minor time adjustments. Thus, there was no uniformity between courses and their respective schedules. I've mapped all those changes and left no blank field. Students that were enrolled in only one class, the fields referring to the second and third courses were filled with 0. These fields were replaced with null values, for later application in graphics."
   ]
  },
  {
   "cell_type": "code",
   "execution_count": 533,
   "id": "d08a85f8",
   "metadata": {
    "ExecuteTime": {
     "end_time": "2022-05-19T19:09:21.242268Z",
     "start_time": "2022-05-19T19:09:21.159973Z"
    }
   },
   "outputs": [],
   "source": [
    "def schedules (schedule_num):\n",
    "    issues_horaire =[]\n",
    "    for row in range(len(attitude[schedule_num])):\n",
    "        if attitude[schedule_num].iloc[row] != 0:\n",
    "            try:\n",
    "                horaire = attitude[schedule_num].iloc[row].replace('\\n1',' ').strip().split('\\n')\n",
    "                if len(horaire) == 2:\n",
    "                    attitude[schedule_num].iloc[row] = attitude[schedule_num].iloc[row].replace('\\n1',' ').strip().split('\\n')[0].lower()\n",
    "                else:\n",
    "                    issues_horaire.append(row)\n",
    "            except:\n",
    "                continue\n",
    "        else:\n",
    "            continue\n",
    "    return issues_horaire\n",
    "\n",
    "def schedule_course (schedule_num, course_num):\n",
    "    for row in range(len(attitude[schedule_num])):\n",
    "        if attitude[schedule_num].iloc[row] == 'mardi 19h' or attitude[schedule_num].iloc[row] == 'mardi 18h' or attitude[schedule_num].iloc[row] =='vendredi 19h' or attitude[schedule_num].iloc[row] =='lundi 10h15':\n",
    "            attitude[course_num].iloc[row] = 'Classique Moyen'\n",
    "        elif attitude[schedule_num].iloc[row] == 'lundi 12h15' or attitude[schedule_num].iloc[row] == 'mardi 9h' or attitude[schedule_num].iloc[row] == 'samedi 12h15' or attitude[schedule_num].iloc[row] == 'samedi 12h' or attitude[schedule_num].iloc[row] == 'mardi 10h':\n",
    "            attitude[course_num].iloc[row] = 'Barre à Terre'\n",
    "        elif attitude[schedule_num].iloc[row] == 'mercredi 14h15':\n",
    "            attitude[course_num].iloc[row] == 'Classique 1'\n",
    "        elif attitude[schedule_num].iloc[row] == 'lundi 17h':\n",
    "            attitude[course_num].iloc[row] = 'Préparatoire'    \n",
    "        elif attitude[schedule_num].iloc[row] == 'mercredi 16h30' or attitude[schedule_num].iloc[row] == 'vendredi 20h30':\n",
    "            attitude[course_num].iloc[row] = 'Pointes'\n",
    "        elif attitude[schedule_num].iloc[row] == 'mardi 17h':\n",
    "            attitude[course_num].iloc[row] = 'Éveil'\n",
    "        elif attitude[schedule_num].iloc[row] == 'jeudi 17h10' or attitude[schedule_num].iloc[row] == 'jeudi 17h15':\n",
    "            attitude[course_num].iloc[row] = 'Initiation'\n",
    "        elif attitude[schedule_num].iloc[row] == 'mercredi 17h45':\n",
    "            attitude[course_num].iloc[row] = 'Classique 2'\n",
    "        elif attitude[schedule_num].iloc[row] == 'mercredi 14h25' or attitude[schedule_num].iloc[row] =='mercredi 14h15' or attitude[schedule_num].iloc[row] =='mercredi 13h15':\n",
    "            attitude[course_num].iloc[row] = 'Classique 1'\n",
    "        elif attitude[schedule_num].iloc[row] == 'lundi 18h':\n",
    "            attitude[course_num].iloc[row] = 'Contemporain'\n",
    "        elif attitude[schedule_num].iloc[row] == 'jeudi 20h' or attitude[schedule_num].iloc[row] =='lundi 20h30' or attitude[schedule_num].iloc[row] =='mercredi 9h' or attitude[schedule_num].iloc[row] =='jeudi 19h30':\n",
    "            attitude[course_num].iloc[row] = 'Pilates'\n",
    "        elif attitude[schedule_num].iloc[row] == 'lundi 10h':\n",
    "            attitude[course_num].iloc[row] = 'Classique Moyen'\n",
    "        elif attitude[schedule_num].iloc[row] == 'lundi 18h' or attitude[schedule_num].iloc[row] == 'mercredi 15h30':\n",
    "            attitude[course_num].iloc[row] = 'Pbt'\n",
    "        elif attitude[schedule_num].iloc[row] == 'jeudi 18h30' or attitude[schedule_num].iloc[row] == 'lundi 19h' or attitude[schedule_num].iloc[row] =='mercredi 19h30' or attitude[schedule_num].iloc[row] == 'samedi 10h40' or attitude[schedule_num].iloc[row] == 'samedi 10h30' or attitude[schedule_num].iloc[row] == 'lundi 19h15' or attitude[schedule_num].iloc[row] == 'mardi 19h30' or attitude[schedule_num].iloc[row] == 'mardi 19h15' or attitude[schedule_num].iloc[row] == 'jeudi 18h30':\n",
    "            attitude[course_num].iloc[row] = 'Classique Interm. – Avancé'\n",
    "        elif attitude[schedule_num].iloc[row] == 'vendredi 10h15' or attitude[schedule_num].iloc[row] =='vendredi 10h' or attitude[schedule_num].iloc[row] =='vendredi 19h' or attitude[schedule_num].iloc[row] =='lundi 10h' or attitude[schedule_num].iloc[row] =='lundi 19h15':\n",
    "            attitude[course_num].iloc[row] = 'Classique Moyen'\n",
    "        elif attitude[schedule_num].iloc[row] == 'lundi 19h30':\n",
    "            attitude[course_num].iloc[row] = 'Classique Avancé'\n",
    "        elif attitude[schedule_num].iloc[row] == 'vendredi 18h':\n",
    "            attitude[course_num].iloc[row] = 'Moderne'\n",
    "        elif attitude[schedule_num].iloc[row] == 'jeudi 9h30':\n",
    "            attitude[course_num].iloc[row] = 'Pbt + Ballet Fitness'    "
   ]
  },
  {
   "cell_type": "code",
   "execution_count": 534,
   "id": "10f67658",
   "metadata": {
    "ExecuteTime": {
     "end_time": "2022-05-19T19:09:24.017771Z",
     "start_time": "2022-05-19T19:09:23.969888Z"
    }
   },
   "outputs": [
    {
     "data": {
      "text/plain": [
       "[0, 5, 11, 20, 25, 33, 58, 72, 89]"
      ]
     },
     "execution_count": 534,
     "metadata": {},
     "output_type": "execute_result"
    }
   ],
   "source": [
    "issues_horaire = schedules ('schedule')\n",
    "issues_horaire"
   ]
  },
  {
   "cell_type": "code",
   "execution_count": 535,
   "id": "beb5b942",
   "metadata": {
    "ExecuteTime": {
     "end_time": "2022-05-19T19:09:26.223853Z",
     "start_time": "2022-05-19T19:09:26.189947Z"
    }
   },
   "outputs": [],
   "source": [
    "attitude['schedule'].iloc[0] = \"mardi 12h15\"\n",
    "attitude['schedule2'].iloc[0] = \"jeudi 9h30\"\n",
    "attitude['schedule'].iloc[5] = \"Lundi, 12h15\"\n",
    "attitude['schedule2'].iloc[5] = \"mardi 18h  vendredi 19h\"\n",
    "attitude['course'].iloc[11] = \"barre à rerre\"\n",
    "attitude['schedule'].iloc[11] = \"lundi 12h15 mardi 9h\"\n",
    "attitude['schedule'].iloc[20] = \"lundi 19h15\"\n",
    "attitude['schedule2'].iloc[20] = \"jeudi 18h30 vendredi 20h30\"\n",
    "attitude['schedule'].iloc[25] = \"lundi 12h15\"\n",
    "attitude['schedule2'].iloc[25] = \"vendredi 19h\"\n",
    "attitude['schedule'].iloc[28] ='mercredi 15h30'\n",
    "attitude['schedule'].iloc[33] = \"mardi 9h\"\n",
    "attitude['schedule2'].iloc[33] = \"vendredi 10h15\"\n",
    "attitude['course'].iloc[58] = \"classique avancé\"\n",
    "attitude['schedule'].iloc[58] = \"mardi 19h15 jeudi 18h30\"\n",
    "attitude['course2'].iloc[58] = \"pbt\"\n",
    "attitude['schedule2'].iloc[58] = \"mercredi 15h30\""
   ]
  },
  {
   "cell_type": "code",
   "execution_count": 537,
   "id": "15c56e90",
   "metadata": {
    "ExecuteTime": {
     "end_time": "2022-05-19T19:09:33.341775Z",
     "start_time": "2022-05-19T19:09:33.258024Z"
    }
   },
   "outputs": [
    {
     "data": {
      "text/plain": [
       "array(['lundi 12h15', 'lundi 17h', 'mardi 19h', 'lundi 20h30',\n",
       "       'mercredi 14h15', 'mardi 17h', 'mardi 18h', 'samedi 12h',\n",
       "       'lundi 12h15 mardi 9h', 'vendredi 19h', 'mercredi 16h30',\n",
       "       'lundi 19h15', 'jeudi 17h10', 'mercredi 17h45', 'mardi 19h30',\n",
       "       'mercredi 15h30', 'lundi 10h15', 'samedi 10h30', 'jeudi 17h15',\n",
       "       'mardi 10h', 'mardi 9h', 'mercredi', 'lundi 18h', 'jeudi 19h30', 0,\n",
       "       'lundi 17h-18h', 'jeudi 20h', 'mercredi 13h15', 'lundi 10h',\n",
       "       'mardi 19h15 jeudi 18h30', 'jeudi 18h30', 'mercredi 19h30',\n",
       "       'vendredi 10h15', 'samedi', 'mercredi 9h', 'jeudi', '', 'lundi',\n",
       "       'vendredi 18h'], dtype=object)"
      ]
     },
     "execution_count": 537,
     "metadata": {},
     "output_type": "execute_result"
    }
   ],
   "source": [
    "attitude.schedule.unique()\n",
    "for row in range(len(attitude.schedule)):\n",
    "    if attitude['schedule'].iloc[row] != 0:\n",
    "        attitude['schedule'].iloc[row] = attitude['schedule'].iloc[row].lower().strip().replace('10h30\\n\\n\\n\\n\\n\\nsamedi \\nsamedi','samedi 10h30').replace('lundi 18', 'lundi 18h').replace('lundi 17', 'lundi 17h').replace('lundi 17hh', 'lundi 17h').replace('lundi 18hh', 'lundi 18h').replace('mardi 10', 'mardi 10h').replace('mardi 10hh', 'mardi 10h').replace('mardi 17', 'mardi 17h').replace('mardi 17hh', 'mardi 17h').replace('mercredi 9', 'mercredi 9h').replace('mercredi 9hh', 'mercredi 9h').replace(',', '').replace(':', 'h').replace('h00', 'h').replace('\\n1', '').replace(' h ', 'h').replace('vendredi 19h-20h30', 'vendredi 19h').replace('mardi 18h/19h30', 'mardi 18h').replace('mardi 18h-19h30', 'mardi 18h').replace('mercredi 16h30/17h30','mercredi 16h30').replace('mercredi 17h45-19h15','mercredi 17h45').replace('mardi 10 ', 'mardi 10h').replace('jeudi 17h15 - 18h15','jeudi 17h15').replace('lundi 17 ', 'lundi 17h').replace('jeudi 17h15-18h15', 'jeudi 17h15').replace('mercredi 14h15-15h30','mercredi 14h15').replace('mardi 17h - 17h45', 'mardi 17h').replace('jeudi 19h30-21h', 'jeudi 19h30').replace('lundi 17-18h', 'lundi 17h').replace('jeudi 20h - 21h', 'jeudi 20h').replace('lundi 10h11h30', 'lundi 10h').replace('lundi 18 ','lundi 18h').replace('lundi 19h 15 et 20h45', 'lundi 19h15').replace('mercredi 16.30/17.30', 'mercredi 16h30').replace('mardi 9.00/10.00', 'mardi 9h').replace('jeudi 18h30 - 20h', 'jeudi 18h30').replace('mardi 19h30 - 20h45','mardi 19h30').replace('10h30\\n\\n\\n\\n\\n\\nsamedi \\nsamedi\\n\\n1', 'samedi 10h30').replace('mardi 12h15','lundi 12h15').replace('mardi 17 ','mardi 17h').replace('mercredi 9 ', 'mercredi 9h')\n",
    "attitude.schedule.unique()"
   ]
  },
  {
   "cell_type": "code",
   "execution_count": 538,
   "id": "28ff471e",
   "metadata": {
    "ExecuteTime": {
     "end_time": "2022-05-19T19:09:37.829539Z",
     "start_time": "2022-05-19T19:09:37.785659Z"
    }
   },
   "outputs": [
    {
     "data": {
      "text/plain": [
       "[0, 3, 5, 19, 20, 25, 33, 58]"
      ]
     },
     "execution_count": 538,
     "metadata": {},
     "output_type": "execute_result"
    }
   ],
   "source": [
    "issues_horaire2 = schedules ('schedule2')\n",
    "issues_horaire2"
   ]
  },
  {
   "cell_type": "code",
   "execution_count": 540,
   "id": "79f06241",
   "metadata": {
    "ExecuteTime": {
     "end_time": "2022-05-19T19:09:47.303688Z",
     "start_time": "2022-05-19T19:09:47.258809Z"
    }
   },
   "outputs": [
    {
     "data": {
      "text/plain": [
       "array(['jeudi 9h30', 0, '19h', 'vendredi 19h', 'mardi 18h  vendredi 19h',\n",
       "       'mercredi 15h30', 'vendredi 20h30', 'samedi 12h15', 'vendredi 18h',\n",
       "       'mercredi 19h30', 'mercredi 17h45', 'jeudi 18h30 vendredi 20h30',\n",
       "       'samedi 10h30', 'mercredi 16h30', 'vendredi 10h15', 'lundi 20h45',\n",
       "       'samedi 10h40', 'lundi 19h15', 'jeudi ', 'mercredi ', 'vendredi '],\n",
       "      dtype=object)"
      ]
     },
     "execution_count": 540,
     "metadata": {},
     "output_type": "execute_result"
    }
   ],
   "source": [
    "attitude.schedule2.unique()\n",
    "for row in range(len(attitude.schedule2)):\n",
    "    if attitude['schedule2'].iloc[row] != 0:\n",
    "        attitude['schedule2'].iloc[row] = attitude['schedule2'].iloc[row].replace(',', '').replace(':', 'h').replace('h00', 'h').replace(' h ', 'h').replace('Jeudi, 9h30', 'jeudi 9h30').replace('Mardi, 18h,  Vendredi, 19h', 'mardi 18h,  vendredi 19h').replace('vendredi 20h30-21h15','vendredi 20h30').replace('vendredi 18/19h','vendredi 18h').replace('mercredi 19h30-21h', 'mercredi 19h30').replace('Mercredi 17h45/19h15\\nMercredi \\n\\n\\n\\n\\n2','Mercredi 17h45').replace('Jeudi, 18h30, Vendredi, 20h30','jeudi 18h30, vendredi 20h30').replace('mercredi 17.45/19.15','mercredi 17h45').replace('mercredi 15h30 - 16h30', 'mercredi 15h30').lower()\n",
    "attitude.schedule2.unique()"
   ]
  },
  {
   "cell_type": "code",
   "execution_count": 541,
   "id": "41857ad9",
   "metadata": {
    "ExecuteTime": {
     "end_time": "2022-05-19T19:09:49.200711Z",
     "start_time": "2022-05-19T19:09:49.173785Z"
    }
   },
   "outputs": [
    {
     "data": {
      "text/plain": [
       "[18, 20, 57, 58, 92]"
      ]
     },
     "execution_count": 541,
     "metadata": {},
     "output_type": "execute_result"
    }
   ],
   "source": [
    "issues_horaire3 = schedules ('schedule3')\n",
    "issues_horaire3"
   ]
  },
  {
   "cell_type": "code",
   "execution_count": 542,
   "id": "7b1bd510",
   "metadata": {
    "ExecuteTime": {
     "end_time": "2022-05-19T19:10:16.098282Z",
     "start_time": "2022-05-19T19:10:16.074827Z"
    }
   },
   "outputs": [],
   "source": [
    "attitude['schedule3'].iloc[18] = 'vendredi 20h30'\n",
    "attitude['schedule3'].iloc[20] = 'vendredi 20h30'\n",
    "attitude['schedule3'].iloc[57] = 'vendredi 10h'\n",
    "attitude['schedule3'].iloc[58] = 'mercredi 17h45'\n",
    "attitude['schedule3'].iloc[92] = 'samedi 10h30'"
   ]
  },
  {
   "cell_type": "code",
   "execution_count": 544,
   "id": "0f2a5c8c",
   "metadata": {
    "ExecuteTime": {
     "end_time": "2022-05-19T19:10:24.469271Z",
     "start_time": "2022-05-19T19:10:24.439349Z"
    }
   },
   "outputs": [
    {
     "data": {
      "text/plain": [
       "array([0, 'vendredi 19h', 'vendredi 20h30', 'mercredi 17h45',\n",
       "       'samedi 10h30', 'vendredi 10h', 'mercredi ', 'vendredi '],\n",
       "      dtype=object)"
      ]
     },
     "execution_count": 544,
     "metadata": {},
     "output_type": "execute_result"
    }
   ],
   "source": [
    "attitude.schedule3.unique()\n",
    "for row in range(len(attitude.schedule3)):\n",
    "    if attitude['schedule3'].iloc[row] != 0:\n",
    "        attitude['schedule3'].iloc[row] = attitude['schedule3'].iloc[row].lower().replace(',', '').replace(':', 'h').replace('h00', 'h').replace(' h ', 'h').replace('vendredi \\xa019h -20h30\\xa0', 'vendredi 19h').replace('vendredi \\xa019/20h30\\xa0','vendredi 19h').replace('mercredi \\xa017h45\\xa0\\xa0\\xa0\\xa0\\xa0\\xa0\\xa0\\xa0\\xa0', 'mercredi 17h45').replace('samedi \\xa0\\xa0\\xa010h30\\xa0\\xa0\\xa0', 'samedi 10h30').replace('\\xa0', '')\n",
    "attitude.schedule3.unique()"
   ]
  },
  {
   "cell_type": "code",
   "execution_count": 545,
   "id": "05816a56",
   "metadata": {
    "ExecuteTime": {
     "end_time": "2022-05-19T19:10:26.524602Z",
     "start_time": "2022-05-19T19:10:26.225401Z"
    }
   },
   "outputs": [],
   "source": [
    "schedule_course ('schedule', 'course')\n",
    "schedule_course ('schedule2', 'course2')\n",
    "schedule_course ('schedule3', 'course3')"
   ]
  },
  {
   "cell_type": "code",
   "execution_count": 546,
   "id": "7efbbf8b",
   "metadata": {
    "ExecuteTime": {
     "end_time": "2022-05-19T19:10:36.397199Z",
     "start_time": "2022-05-19T19:10:36.298948Z"
    }
   },
   "outputs": [],
   "source": [
    "attitude[attitude['course']==0]\n",
    "attitude['course'].iloc[39] = \"pilates\"\n",
    "attitude['schedule'].iloc[39] = \"juedi 20h\"\n",
    "attitude['course'].iloc[41] = 'classique 1'\n",
    "attitude['course'].iloc[51] = 'classique 1'\n",
    "attitude['course'].iloc[78] = 'classique 1'\n",
    "attitude['course'].iloc[79] = 'classique moyen'\n",
    "attitude['schedule'].iloc[79] = \"vendredi 10h\"\n",
    "attitude['course'].iloc[79] = 'classique interm. – avancé'\n",
    "attitude['schedule'].iloc[93] = \"vendredi 10h\"\n",
    "attitude['course'].iloc[93] = 'classique interm. – avancé'\n",
    "attitude['course'].iloc[46] = \"pilates\"\n",
    "attitude['schedule'].iloc[46] = \"lundi 9h mercredi 9h vendredi 9h\"\n",
    "attitude['course'].iloc[46] = \"classique moyen\"\n",
    "attitude['schedule'].iloc[46] = \"lundi 10h\"\n",
    "attitude['course'].iloc[46] = \"pbt + ballet fitness\"\n",
    "attitude['schedule'].iloc[46] = \"juedi 9h30\"\n",
    "attitude['course'].iloc[56] = \"pilates\"\n",
    "attitude['schedule'].iloc[56] = \"mercredi 9h vendredi 9h\"\n",
    "attitude['course'].iloc[66] = \"pilates\"\n",
    "attitude['schedule'].iloc[66] = \"lundi 9h\"\n",
    "attitude['course3'].iloc[81] = \"\"\n",
    "attitude['schedule'].iloc[81] = \"mercredi 15h30\"\n",
    "attitude['schedule2'].iloc[81] = \"mercredi 16h30\"\n",
    "attitude['schedule3'].iloc[81] = \"0\"\n",
    "attitude['course'].iloc[83] = \"pilates\"\n",
    "attitude['schedule'].iloc[83] = \"lundi 20h45\"\n",
    "attitude['course2'].iloc[83] = 0\n",
    "attitude['schedule2'].iloc[83] = 0\n",
    "attitude['course'].iloc[88] = \"Classique Interm. – Avancé\"\n",
    "attitude['schedule'].iloc[88] = \"jeudi 18h30\"\n",
    "attitude['schedule2'].iloc[88] = \"vendredi 20h30\"\n",
    "attitude['course3'].iloc[88] = \"0\"\n",
    "attitude['schedule3'].iloc[88] = \"0\"\n",
    "attitude['course'].iloc[95] = \"barre à terre\"\n",
    "attitude['schedule'].iloc[95] = \"mardi 9h\"\n",
    "attitude['course'].iloc[57]='Classique Moyen'\n",
    "attitude['course2'].iloc[57]='Classique Interm. – Avancé'\n",
    "attitude['schedule2'].iloc[57]='jeudi 18h30'\n",
    "attitude['course3'].iloc[57]='Classique Interm. – Avancé'\n",
    "attitude['schedule3'].iloc[57]='vendredi 10h'\n",
    "attitude['course2'].iloc[3]='0'\n",
    "attitude['course2'].iloc[5]='0'"
   ]
  },
  {
   "cell_type": "code",
   "execution_count": 548,
   "id": "76226da3",
   "metadata": {
    "ExecuteTime": {
     "end_time": "2022-05-19T19:10:41.488766Z",
     "start_time": "2022-05-19T19:10:41.399990Z"
    }
   },
   "outputs": [
    {
     "data": {
      "text/plain": [
       "array(['barre à terre', 'préparatoire', 'classique moyen', 'pilates',\n",
       "       'classique 1', 'éveil', 'pointes', 'classique interm. – avancé',\n",
       "       'initiation', 'classique 2', 'pbt', 'contemporain',\n",
       "       'pbt + ballet fitness', '0', 'classique avancé', 'carte 10 cours',\n",
       "       'moderne'], dtype=object)"
      ]
     },
     "execution_count": 548,
     "metadata": {},
     "output_type": "execute_result"
    }
   ],
   "source": [
    "attitude.course.unique()\n",
    "for row in range(len(attitude.course)):\n",
    "    if attitude['course'].iloc[row] != 0 and attitude['course'].iloc[row] != \"\":\n",
    "        attitude['course'].iloc[row] = attitude['course'].iloc[row].replace(\"Eveil\", 'éveil').replace(\"Classiquee Avancé\", \"Classique Avancé\").replace('barre à rerre', 'barre à terre').replace('inter/ avance', 'classique interm. – avancé').lower()\n",
    "        if attitude['course'].iloc[row] =='classique interm':\n",
    "            attitude['course'].iloc[row] = ('classique interm. – avancé')\n",
    "        if attitude['course'].iloc[row] =='1' or attitude['course'].iloc[row] =='classique':\n",
    "            attitude['course'].iloc[row] = (\"classique 1\")\n",
    "    else:\n",
    "        attitude['course'].iloc[row] = \"0\"\n",
    "attitude.course.unique()"
   ]
  },
  {
   "cell_type": "code",
   "execution_count": 550,
   "id": "b1c3fd55",
   "metadata": {
    "ExecuteTime": {
     "end_time": "2022-05-19T19:10:43.685051Z",
     "start_time": "2022-05-19T19:10:43.600715Z"
    }
   },
   "outputs": [
    {
     "data": {
      "text/plain": [
       "array(['pbt + ballet fitness', '0', 'classique moyen', 'pbt', 'pointes',\n",
       "       'barre à terre', 'moderne', 'classique interm. – avancé',\n",
       "       'classique 2'], dtype=object)"
      ]
     },
     "execution_count": 550,
     "metadata": {},
     "output_type": "execute_result"
    }
   ],
   "source": [
    "attitude.course2.unique()\n",
    "for row in range(len(attitude.course2)):\n",
    "    if attitude['course2'].iloc[row] != 0 and attitude['course2'].iloc[row] != \"\":\n",
    "        attitude['course2'].iloc[row] = attitude['course2'].iloc[row].replace(\"Classiquee Avancé\", \"Classique Avancé\").replace('barre à rerre', 'barre à terre').replace('Inter/ Avance', 'classique interm. – avancé').lower()\n",
    "        if attitude['course2'].iloc[row] =='barre':\n",
    "            attitude['course2'].iloc[row] = (\"barre à terre\")\n",
    "        if attitude['course2'].iloc[row] =='classique interm':\n",
    "            attitude['course2'].iloc[row] = ('classique interm. – avancé')\n",
    "        if attitude['course2'].iloc[row] =='classique':\n",
    "            attitude['course2'].iloc[row] = (\"classique 1\")\n",
    "    else:\n",
    "        attitude['course2'].iloc[row] = \"0\"\n",
    "attitude['course2'].unique()"
   ]
  },
  {
   "cell_type": "code",
   "execution_count": 552,
   "id": "d288d04e",
   "metadata": {
    "ExecuteTime": {
     "end_time": "2022-05-19T19:10:46.510430Z",
     "start_time": "2022-05-19T19:10:46.407755Z"
    }
   },
   "outputs": [
    {
     "data": {
      "text/plain": [
       "array(['0', 'classique moyen', 'barre à terre', 'pbt', 'pointes',\n",
       "       'classique 2', 'classique 1', 'classique interm. – avancé'],\n",
       "      dtype=object)"
      ]
     },
     "execution_count": 552,
     "metadata": {},
     "output_type": "execute_result"
    }
   ],
   "source": [
    "attitude.course3.unique()\n",
    "for row in range(len(attitude.course3)):\n",
    "    if attitude['course3'].iloc[row] != 0 and attitude['course3'].iloc[row] != \"\":\n",
    "        attitude['course3'].iloc[row] = attitude['course3'].iloc[row].replace(\"Classiquee Avancé\", \"Classique Avancé\").replace('barre à rerre', 'barre à terre').replace('inter/ avance', 'classique interm. – avancé').lower()\n",
    "        if attitude['course3'].iloc[row] =='barre':\n",
    "            attitude['course3'].iloc[row] = (\"barre à terre\")\n",
    "        if attitude['course3'].iloc[row] =='classique':\n",
    "            attitude['course3'].iloc[row] = (\"classique 1\")\n",
    "    else:\n",
    "        attitude['course3'].iloc[row] = \"0\"\n",
    "attitude.course3.unique()"
   ]
  },
  {
   "cell_type": "code",
   "execution_count": 554,
   "id": "e28c3511",
   "metadata": {
    "ExecuteTime": {
     "end_time": "2022-05-19T19:10:48.461215Z",
     "start_time": "2022-05-19T19:10:48.407359Z"
    }
   },
   "outputs": [],
   "source": [
    "#All students paid 30 Euros for registration:\n",
    "for row in range(len(attitude.registration)):\n",
    "    attitude.registration.iloc[row] = '30€'"
   ]
  },
  {
   "cell_type": "code",
   "execution_count": 557,
   "id": "4e8b8814",
   "metadata": {
    "ExecuteTime": {
     "end_time": "2022-05-19T19:11:04.650262Z",
     "start_time": "2022-05-19T19:11:04.578457Z"
    }
   },
   "outputs": [
    {
     "data": {
      "text/plain": [
       "3     39\n",
       "1     36\n",
       "10    14\n",
       "4      5\n",
       "2      3\n",
       "5      2\n",
       "Name: installments, dtype: int64"
      ]
     },
     "execution_count": 557,
     "metadata": {},
     "output_type": "execute_result"
    }
   ],
   "source": [
    "for row in range(len(attitude.installments)):\n",
    "    attitude.installments.iloc[row] = attitude.installments.iloc[row].replace('shh', '1').replace('10 chéques\\n(1-10)', '10').replace('9 + 1', '10')\n",
    "attitude.installments.value_counts()\n",
    "attitude.installments.iloc[34] ='3'\n",
    "attitude.installments.iloc[46] ='1'\n",
    "attitude.installments.value_counts()"
   ]
  },
  {
   "cell_type": "code",
   "execution_count": 558,
   "id": "be175654",
   "metadata": {
    "ExecuteTime": {
     "end_time": "2022-05-19T19:11:07.042253Z",
     "start_time": "2022-05-19T19:11:06.976431Z"
    }
   },
   "outputs": [
    {
     "name": "stdout",
     "output_type": "stream",
     "text": [
      "[880 500 720 1000 1040]\n"
     ]
    }
   ],
   "source": [
    "for row in range(len(attitude['total'])):\n",
    "    if attitude['total'].iloc[row] == '+ 30':\n",
    "        if attitude['course'].iloc[row] == 'carte 10 cours':\n",
    "            attitude['total'].iloc[row] = 1000\n",
    "        elif attitude['course2'].iloc[row] == 0:\n",
    "            attitude['total'].iloc[row] = 500\n",
    "        else:\n",
    "            if attitude['course3'].iloc[row] == 0:\n",
    "                attitude['total'].iloc[row] = 720\n",
    "            else:\n",
    "                attitude['total'].iloc[row] = 880\n",
    "attitude['total'].iloc[46] = 1040\n",
    "attitude['total'].iloc[53] = 720\n",
    "attitude['total'].iloc[54] = 500\n",
    "attitude['total'].iloc[58] = 1040\n",
    "for row in range(len(attitude['total'])):\n",
    "    attitude['total'].iloc[row] = int(attitude['total'].iloc[row])\n",
    "print(attitude['total'].unique())"
   ]
  },
  {
   "cell_type": "markdown",
   "id": "efef843a",
   "metadata": {},
   "source": [
    "The original dataframe was split into three: the first with the students personal information, the second containing data regarding their classes attended, and finally a last one with payment information.\n",
    "\n",
    "To the Students Dataframe, it was inserted four new columns (age, latitude, longitude and if the person lives in Toulouse or not). Those fields, extracted from other columns information, made easier to analyze personal data, as it would require less computer processing and make the process faster."
   ]
  },
  {
   "cell_type": "code",
   "execution_count": 559,
   "id": "d3f08930",
   "metadata": {
    "ExecuteTime": {
     "end_time": "2022-05-19T19:11:12.125385Z",
     "start_time": "2022-05-19T19:11:12.092472Z"
    }
   },
   "outputs": [],
   "source": [
    "attitude_eleves = attitude.drop(columns=[\"course\", \"schedule\",  \"course2\", \"schedule2\",  \"course3\", \"schedule3\", \"registration\", \"installments\", \"total\"])\n",
    "attitude_cours22 = attitude.drop(columns=[ \"birthday\", \"address\", \"city\", \"pcode\", \"mail\", \"telephone\", \"legal_representative\",  \"registration\", \"installments\", \"total\"])\n",
    "attitude_paiement22 = attitude.drop(columns=[ \"birthday\", \"address\", \"city\", \"pcode\", \"mail\", \"telephone\",  \"legal_representative\", \"course\", \"schedule\",  \"course2\", \"schedule2\",  \"course3\", \"schedule3\",])"
   ]
  },
  {
   "cell_type": "code",
   "execution_count": 560,
   "id": "0d28c805",
   "metadata": {
    "ExecuteTime": {
     "end_time": "2022-05-19T19:11:13.571873Z",
     "start_time": "2022-05-19T19:11:13.543947Z"
    }
   },
   "outputs": [],
   "source": [
    "attitude_eleves.insert(5, \"lat\", lat)\n",
    "attitude_eleves.insert(6, \"long\", long)\n",
    "attitude_eleves.insert(4, \"toulouse\", toulouse)\n",
    "attitude_eleves.insert(2, \"age\", age)"
   ]
  },
  {
   "cell_type": "markdown",
   "id": "ed99090e",
   "metadata": {},
   "source": [
    "## Exporting data\n",
    "### Setting data to export\n",
    "Before saving and exporting data to the Database, I've created two additional dataframes based on the course and payments tables. They have the same columns, but no data attached and will be will be filled in the registration process for the next academic year. These registrations will be made via a form that will automatically enter the data.\n",
    "\n",
    "All dataframes were saved as CSV files on my local environment before being uploaded to the MySQL server."
   ]
  },
  {
   "cell_type": "code",
   "execution_count": 565,
   "id": "5dd571e6",
   "metadata": {
    "ExecuteTime": {
     "end_time": "2022-05-19T19:11:45.452666Z",
     "start_time": "2022-05-19T19:11:45.429728Z"
    }
   },
   "outputs": [],
   "source": [
    "attitude_cours23 = attitude_cours22.iloc[0:0]\n",
    "attitude_paiement23 = attitude_paiement22.iloc[0:0]"
   ]
  },
  {
   "cell_type": "code",
   "execution_count": 567,
   "id": "0c5a85e8",
   "metadata": {
    "ExecuteTime": {
     "end_time": "2022-05-19T19:12:57.808608Z",
     "start_time": "2022-05-19T19:12:57.709357Z"
    }
   },
   "outputs": [],
   "source": [
    "attitude_eleves.to_csv('elevesdf.csv')\n",
    "attitude_cours22.to_csv('coursdf22.csv')\n",
    "attitude_paiement22.to_csv('paiment22.csv')\n",
    "attitude_cours23.to_csv('coursdf23.csv')\n",
    "attitude_paiement23.to_csv('paiment23.csv')"
   ]
  },
  {
   "cell_type": "markdown",
   "id": "70458818",
   "metadata": {},
   "source": [
    "### Connecting to MySQL server through SSH Tunnel\n",
    "I've chosen not to have my Database Server locally on my computer, since this database must be available for the web application and clients on the internet. Also, processing power and scalability are more reliable in cloud servers. \n",
    "\n",
    "Using Plataform As A Service (PAAS) on cloud, such as AWS Relational Database Service (RDS) or similar, would be more expensive due to their advanced features on scaling/backup/availability. Given the small size of this project, volume of data and probable growth of the database for the next year, would not justify the extra investment. Thus, the chosen solution was to use a virtual private server (VPS) that guarantees benefits over the location, and availability and is considerably cheaper than PAAS services mentioned above.\n",
    "\n",
    "In order to increase the security of the DB server, its public access was disabled, and an SSH Tunnel was used to create a secure connection from the local computer to the remote server. I developed an extra function to first open an encrypted SSH tunnel and then use this connection to be able to reach the DB server.\n",
    "\n",
    "Finally, once the connection is set, the process of uploading tables (creating or replacing them (if they already existed on the DB)), as well as extracting updated data for analysis was possible from both from my local computer and  also using the developed web applications.\n"
   ]
  },
  {
   "cell_type": "code",
   "execution_count": 568,
   "id": "b1fc9f07",
   "metadata": {
    "ExecuteTime": {
     "end_time": "2022-05-19T19:12:59.458953Z",
     "start_time": "2022-05-19T19:12:59.418051Z"
    },
    "scrolled": false
   },
   "outputs": [],
   "source": [
    "def open_ssh_tunnel_and_mysql ():\n",
    "    \"\"\"Open an SSH tunnel and connect to a MySQL server using the SSH tunnel connection\n",
    "    return Global MySQL connection\"\"\"\n",
    "    load_dotenv()\n",
    "    db_server= os.getenv('db_server')\n",
    "    user=os.getenv(\"user\")\n",
    "    db_port=os.getenv(\"db_port\")\n",
    "    password=os.getenv(\"password\")\n",
    "    ip=os.getenv(\"ip\")\n",
    "    db_name=os.getenv(\"db_name\")\n",
    "    ip_ssh=os.getenv(\"ip_ssh\")\n",
    "    ssh_username=os.getenv(\"ssh_username\")\n",
    "    ssh_password=os.getenv(\"ssh_password\")\n",
    "    remote_bind_address=os.getenv(\"remote_bind_address\")\n",
    "    global server\n",
    "    global connection\n",
    "    global conn_addr\n",
    "    global engine\n",
    "    try:    \n",
    "        print('Opening tunnel :-P')  \n",
    "        server = SSHTunnelForwarder((ip_ssh, 4242), ssh_username=ssh_username, ssh_password=ssh_password, remote_bind_address=(db_server, 3306))\n",
    "        server.start()\n",
    "        print('Tunnel opend :-P')\n",
    "        port = str(server.local_bind_port)\n",
    "        conn_addr = 'mysql://' + user + ':' + password + '@' + db_server + ':' + port + '/' + db_name\n",
    "        engine = create_engine(conn_addr)\n",
    "        connection = engine.connect()\n",
    "        print('Yeah! MySQL server connected using the SSH tunnel connection!')\n",
    "    except Exception as E:\n",
    "        print(E)\n",
    "    \n",
    "def create_table (dataframe, table=str):\n",
    "    dataframe.to_sql(table, conn_addr, if_exists='replace', index=False)\n",
    "    print('All done, Madam!')\n",
    "    \n",
    "def drop_table(table):\n",
    "    engine.execute(f\"DROP table IF EXISTS {table}\")\n",
    "    print('Table deleted, Madam!')\n",
    "    \n",
    "def table_to_csv(table):\n",
    "    csv = sql_query_to_csv\n",
    "\n",
    "\n",
    "def disconnect_mysql ():\n",
    "    \"\"\"Disconnect from MySQL server\"\"\"\n",
    "    connection.close()  \n",
    "    print('MySQL server is not connected anymore!')\n",
    "    \n",
    "def shut_ssh_tunnel ():\n",
    "    \"\"\"Stop the SSH tunnel\"\"\"\n",
    "    server.stop()\n",
    "    print(\"You've stopped the SSH tunnel!\")"
   ]
  },
  {
   "cell_type": "code",
   "execution_count": 570,
   "id": "31475a77",
   "metadata": {
    "ExecuteTime": {
     "end_time": "2022-05-19T19:14:57.664632Z",
     "start_time": "2022-05-19T19:14:24.439349Z"
    }
   },
   "outputs": [
    {
     "name": "stdout",
     "output_type": "stream",
     "text": [
      "Opening tunnel :-P\n",
      "Tunnel opend :-P\n",
      "Yeah! MySQL server connected using the SSH tunnel connection!\n",
      "All done, Madam!\n",
      "All done, Madam!\n",
      "All done, Madam!\n",
      "All done, Madam!\n",
      "All done, Madam!\n",
      "All done, Madam!\n",
      "All done, Madam!\n",
      "MySQL server is not connected anymore!\n",
      "You've stopped the SSH tunnel!\n"
     ]
    }
   ],
   "source": [
    "open_ssh_tunnel_and_mysql ()\n",
    "create_table (attitude_eleves, 'elevesdf')\n",
    "create_table (attitude_cours22, 'coursdf22')\n",
    "create_table (classes22, 'classesdf22')\n",
    "create_table (attitude_paiement22, 'paimentsdf22')\n",
    "create_table (attitude_cours23, 'coursdf23')\n",
    "create_table (classes23, 'classesdf23')\n",
    "create_table (attitude_paiement23, 'paimentsdf23')\n",
    "#\n",
    "disconnect_mysql ()\n",
    "shut_ssh_tunnel ()"
   ]
  },
  {
   "cell_type": "code",
   "execution_count": 571,
   "id": "84e17bac",
   "metadata": {
    "ExecuteTime": {
     "end_time": "2022-05-19T19:15:06.814641Z",
     "start_time": "2022-05-19T19:14:57.671627Z"
    }
   },
   "outputs": [
    {
     "name": "stdout",
     "output_type": "stream",
     "text": [
      "Opening tunnel :-P\n",
      "Tunnel opend :-P\n",
      "Yeah! MySQL server connected using the SSH tunnel connection!\n",
      "All done, Madam!\n",
      "MySQL server is not connected anymore!\n",
      "You've stopped the SSH tunnel!\n"
     ]
    }
   ],
   "source": [
    "open_ssh_tunnel_and_mysql ()\n",
    "courses = pd.read_sql_query(\"\"\"SELECT name, course from coursdf22 union all select name, course2 from coursdf22 union all select name, course3 from coursdf22\"\"\",conn_addr)\n",
    "courses_filled=[]\n",
    "name_filled=[]\n",
    "for row in range(len(courses['course'])):\n",
    "    if courses['course'].iloc[row] !='0' and courses['course'].iloc[row]  != \"\":\n",
    "        courses_filled.append(courses['course'].iloc[row])\n",
    "        name_filled.append(courses['name'].iloc[row])\n",
    "course_filled = pd.DataFrame(zip(courses_filled, name_filled))\n",
    "course_filled.columns = ['course', 'name']\n",
    "course_filled.to_csv('course_filled.csv')\n",
    "create_table (course_filled, 'course_filled')\n",
    "disconnect_mysql ()\n",
    "shut_ssh_tunnel ()"
   ]
  }
 ],
 "metadata": {
  "kernelspec": {
   "display_name": "Python 3 (ipykernel)",
   "language": "python",
   "name": "python3"
  },
  "language_info": {
   "codemirror_mode": {
    "name": "ipython",
    "version": 3
   },
   "file_extension": ".py",
   "mimetype": "text/x-python",
   "name": "python",
   "nbconvert_exporter": "python",
   "pygments_lexer": "ipython3",
   "version": "3.9.7"
  },
  "toc": {
   "base_numbering": 1,
   "nav_menu": {},
   "number_sections": true,
   "sideBar": true,
   "skip_h1_title": false,
   "title_cell": "Table of Contents",
   "title_sidebar": "Contents",
   "toc_cell": false,
   "toc_position": {},
   "toc_section_display": true,
   "toc_window_display": false
  }
 },
 "nbformat": 4,
 "nbformat_minor": 5
}
