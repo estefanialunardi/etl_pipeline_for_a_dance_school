{
 "cells": [
  {
   "cell_type": "code",
   "execution_count": 1,
   "id": "15a46c8b",
   "metadata": {
    "ExecuteTime": {
     "end_time": "2022-05-17T17:16:03.826094Z",
     "start_time": "2022-05-17T17:15:56.911785Z"
    }
   },
   "outputs": [
    {
     "name": "stdout",
     "output_type": "stream",
     "text": [
      "Requirement already satisfied: PDFplumber in c:\\users\\tete\\anaconda3\\envs\\pycaret_aula\\lib\\site-packages (0.6.2)\n",
      "Requirement already satisfied: Wand>=0.6.7 in c:\\users\\tete\\anaconda3\\envs\\pycaret_aula\\lib\\site-packages (from PDFplumber) (0.6.7)\n",
      "Requirement already satisfied: pdfminer.six==20220319 in c:\\users\\tete\\anaconda3\\envs\\pycaret_aula\\lib\\site-packages (from PDFplumber) (20220319)\n",
      "Requirement already satisfied: Pillow>=9.1 in c:\\users\\tete\\anaconda3\\envs\\pycaret_aula\\lib\\site-packages (from PDFplumber) (9.1.0)\n",
      "Requirement already satisfied: chardet in c:\\users\\tete\\anaconda3\\envs\\pycaret_aula\\lib\\site-packages (from pdfminer.six==20220319->PDFplumber) (4.0.0)\n",
      "Requirement already satisfied: cryptography in c:\\users\\tete\\anaconda3\\envs\\pycaret_aula\\lib\\site-packages (from pdfminer.six==20220319->PDFplumber) (37.0.2)\n",
      "Requirement already satisfied: cffi>=1.12 in c:\\users\\tete\\anaconda3\\envs\\pycaret_aula\\lib\\site-packages (from cryptography->pdfminer.six==20220319->PDFplumber) (1.15.0)\n",
      "Requirement already satisfied: pycparser in c:\\users\\tete\\anaconda3\\envs\\pycaret_aula\\lib\\site-packages (from cffi>=1.12->cryptography->pdfminer.six==20220319->PDFplumber) (2.21)\n",
      "Note: you may need to restart the kernel to use updated packages.\n"
     ]
    }
   ],
   "source": [
    "pip install PDFplumber"
   ]
  },
  {
   "cell_type": "code",
   "execution_count": 1,
   "id": "19288d74",
   "metadata": {
    "ExecuteTime": {
     "end_time": "2022-05-17T18:08:50.398459Z",
     "start_time": "2022-05-17T18:08:47.500780Z"
    }
   },
   "outputs": [
    {
     "name": "stderr",
     "output_type": "stream",
     "text": [
      "C:\\Users\\Tete\\anaconda3\\envs\\pycaret_aula\\lib\\site-packages\\paramiko\\transport.py:236: CryptographyDeprecationWarning: Blowfish has been deprecated\n",
      "  \"class\": algorithms.Blowfish,\n"
     ]
    }
   ],
   "source": [
    "import pandas as pd\n",
    "import pdfplumber\n",
    "import re\n",
    "import os, os.path\n",
    "from dateutil import parser\n",
    "from sshtunnel import SSHTunnelForwarder\n",
    "import sqlalchemy as db\n",
    "from sqlalchemy import create_engine\n",
    "from dotenv import load_dotenv"
   ]
  },
  {
   "cell_type": "markdown",
   "id": "1120ac96",
   "metadata": {},
   "source": [
    "## Extracting available data"
   ]
  },
  {
   "cell_type": "markdown",
   "id": "16a9ce42",
   "metadata": {},
   "source": [
    "### Prior data\n",
    "When the school provided those PDF documents, which were extracted from a free online form builder for school applications, my first action was to take a look in the very first pages of the first document and understand it. I realized that, instead of organized tables with information about the students, all data was stored in form-based PDFs.  It was very look alike a printed document filled by each student separately. The main goal of keeping those documents were just records of students inscriptions, with no strategic business intent for that data.\n",
    "\n",
    "Therefore, I've proposed a different pipeline for that data, that not only could escalate, enabling larger volumes of data, but also that allowed the school to catalogue, clean, filter, manipulate and analyze all that value informations to find the best business solutions.\n"
   ]
  },
  {
   "cell_type": "code",
   "execution_count": 3,
   "id": "f5a3700e",
   "metadata": {
    "ExecuteTime": {
     "end_time": "2022-05-17T18:09:08.540611Z",
     "start_time": "2022-05-17T18:09:08.466807Z"
    }
   },
   "outputs": [
    {
     "name": "stdout",
     "output_type": "stream",
     "text": [
      "30\n"
     ]
    }
   ],
   "source": [
    "pdf_test = pdfplumber.open(\".\\\\data\\\\211596498612667-0.pdf\")\n",
    "print(len(pdf_test.pages))\n",
    "print(pdf_test.pages[0].extract_text())\n",
    "print(pdf_test.pages[1].extract_text())\n",
    "print(pdf_test.pages[2].extract_text())\n",
    "print(pdf_test.pages[3].extract_text())"
   ]
  },
  {
   "cell_type": "markdown",
   "id": "45850cbd",
   "metadata": {},
   "source": [
    "### Proposing a new way to store data"
   ]
  },
  {
   "cell_type": "markdown",
   "id": "f7256699",
   "metadata": {},
   "source": [
    "So, for a better comprehension of the available data, i've tried to create an organized table with all subscriptions information. Regardless any particularity of each student, they all filled the same form for submission, so I could easily identify the fields despite there was no obvious separators between fields."
   ]
  },
  {
   "cell_type": "markdown",
   "id": "2fcb8509",
   "metadata": {},
   "source": [
    "The inscription form provides lots of information about each student. I created lists to store these informations, according to the fields filled."
   ]
  },
  {
   "cell_type": "code",
   "execution_count": 4,
   "id": "de1ba78c",
   "metadata": {
    "ExecuteTime": {
     "end_time": "2022-05-17T18:09:23.994695Z",
     "start_time": "2022-05-17T18:09:23.925879Z"
    }
   },
   "outputs": [],
   "source": [
    "def read_pdfs (pdf):\n",
    "    \"\"\"open the pdf file and extract all the text information corresponding to each field\n",
    "    return info\"\"\"\n",
    "    info = []\n",
    "    for page in range(len(pdf.pages)):\n",
    "        info.append(pdf.pages[page].extract_text())\n",
    "    info = \"\".join(info).replace(\"Create your own automated PDFs with Jotform PDF Editor- It’s free\",\"\").split(\"Fiche d'inscription\")\n",
    "    for student in range(1,len(info)):\n",
    "        try:\n",
    "            nom = info[student].split(\"Nom et prénom d'élève\")[1].split(\"\\n\")[0].strip()\n",
    "        except:\n",
    "            nom = 0\n",
    "        try:\n",
    "            naissance = info[student].split(\"Date de naissance\")[1].split(\"\\n\")[0].strip()\n",
    "        except:\n",
    "            naissance = 0\n",
    "        try:\n",
    "            adresse = info[student].split(\"Adresse\")[1].split(\"\\n\")[0].replace(\"\\n\",\" \").strip()\n",
    "        except:\n",
    "            adresse = 0\n",
    "        try:\n",
    "            cite = info[student].split(\"Adresse\")[1].split(\"\\n\")[1].split(\",\")[0].replace(\"\\n\",\" \").strip()\n",
    "        except:\n",
    "            cite = 0\n",
    "        try:\n",
    "            postal = info[student].split(\"Adresse\")[1].split(\"\\n\")[1].split(\",\")[1].split(\"\\n\")[0].replace(\"\\n\",\" \").strip()\n",
    "        except:\n",
    "            postal = 0\n",
    "        try:\n",
    "            email = info[student].split(\"E-mail\")[1].split(\"\\n\")[0].strip()\n",
    "        except:\n",
    "            email=0\n",
    "        try:\n",
    "            representant_legal = info[student].split(\"Représentant légal de l’inscrit (pour\")[1].split(\"les mineurs\")[0].strip()\n",
    "        except:\n",
    "            representant_legal = 0\n",
    "        try:\n",
    "            tel = info[student].split(\"Téléphone\")[1].split(\"\\n\")[0].strip()\n",
    "        except:\n",
    "            tel = info[student].split(\"Téléphone\")[1].split(\"\\n\")[0].strip()\n",
    "        try:\n",
    "            cours = info[student].split(\"Cours:\")[1].split(\"Horaire:\")[0].replace(\"\\nCours\", \"\").strip()\n",
    "        except:\n",
    "            cours = 0\n",
    "        try:\n",
    "            horaire = info[student].split(\"Horaire:\")[1].split(\"Cours 2\")[0].replace(\"\\xa0\", \"\").replace(\"Heure\", \"\").strip()\n",
    "            cours2 = info[student].split(\"Cours 2:\")[1].split(\"Horaire:\")[0].replace(\"\\nCours\", \"\").strip()\n",
    "            try:\n",
    "                horaire2 = info[student].split(\"Horaire:\")[2].split(\"Cours 3\")[0].replace(\"\\xa0\", \"\").replace(\"Heure\", \"\").strip()\n",
    "                cours3 = info[student].split(\"Cours 3:\")[1].split(\"Horaire:\")[0].replace(\"\\nCours\", \"\").strip()\n",
    "                horaire3 = info[student].split(\"Horaire:\")[3].split(\"Téléverser\")[0].replace(\"Heure\", \"\").strip()\n",
    "            except: \n",
    "                horaire2= info[student].split(\"Horaire:\")[2].split(\"Téléverser\")[0].replace(\"\\xa0\", \"\").replace(\"Heure\", \"\").strip()\n",
    "                cours3 =0\n",
    "                horaire3=0\n",
    "        except:\n",
    "            try:\n",
    "                horaire = info[student].split(\"Horaire:\")[1].split(\"Téléverser\")[0].replace(\"\\xa0\", \"\").replace(\"Heure\", \"\").strip()\n",
    "            except:\n",
    "                horaire = 0\n",
    "            cours2 =0\n",
    "            horaire2=0\n",
    "            cours3 =0\n",
    "            horaire3=0\n",
    "        try:\n",
    "            adhesion = info[student].split(\"\\xa0\\xa0\\xa0\\xa0\\xa0+\")[1].split(\"\\n(valeur de chaque chèque)\")[0].strip()\n",
    "        except: \n",
    "            adhesion = info[student].split(\"Please Select\")[1].split(\"adhésion\")[0].strip() \n",
    "        try:\n",
    "            paiement_fractionne =info[student].split(\"Par\")[1].split(\" cheques\")[0].strip()\n",
    "        except:\n",
    "            paiement_fractionne =info[student].split(\"avec\")[1].split(\"chèques\")[0].strip()\n",
    "        paiement_total = info[student].split(\"au total de\")[1].split(\"€\")[0].strip()\n",
    "        name.append(nom)\n",
    "        birthday.append(naissance)\n",
    "        address.append(adresse)\n",
    "        city.append(cite)\n",
    "        pcode.append(postal)\n",
    "        mail.append(email)\n",
    "        telephone.append(tel)\n",
    "        legal_representative.append(representant_legal)\n",
    "        course.append(cours)\n",
    "        schedule.append(horaire)\n",
    "        course2.append(cours2)\n",
    "        schedule2.append(horaire2)\n",
    "        course3.append(cours3)\n",
    "        schedule3.append(horaire3)\n",
    "        registration.append(adhesion)\n",
    "        installments.append(paiement_fractionne)\n",
    "        total.append(paiement_total)"
   ]
  },
  {
   "cell_type": "markdown",
   "id": "a893a33c",
   "metadata": {},
   "source": [
    "All available data was stored in the same folder, and the files' name differ only by the number at the end of them, from 0 to the last. "
   ]
  },
  {
   "cell_type": "code",
   "execution_count": 5,
   "id": "3c1ae972",
   "metadata": {
    "ExecuteTime": {
     "end_time": "2022-05-17T18:11:11.812379Z",
     "start_time": "2022-05-17T18:09:27.782104Z"
    }
   },
   "outputs": [],
   "source": [
    "name=[]\n",
    "birthday=[]\n",
    "address = []\n",
    "city = []\n",
    "pcode =[]\n",
    "mail =[]\n",
    "telephone =[]\n",
    "legal_representative =[]\n",
    "course=[]\n",
    "schedule =[]\n",
    "course2 =[]\n",
    "schedule2 =[]\n",
    "course3=[]\n",
    "schedule3 =[]\n",
    "registration =[]\n",
    "installments =[]\n",
    "total =[]\n",
    "files = os.listdir('C:\\\\Users\\\\Tete\\\\Curso - DA\\\\Projeto Final\\\\data') \n",
    "for file in range(len(files)-1):\n",
    "    pdf = pdfplumber.open(f\".\\\\data\\\\211596498612667-{file}.pdf\")\n",
    "    read_pdfs (pdf)"
   ]
  },
  {
   "cell_type": "markdown",
   "id": "04e85261",
   "metadata": {},
   "source": [
    "### Creating the dataframe\n",
    "After extracting all the information avaialable on those forms, I've gathered them in a dataframe which columns are the fields from the submission form."
   ]
  },
  {
   "cell_type": "code",
   "execution_count": 7,
   "id": "c365413c",
   "metadata": {
    "ExecuteTime": {
     "end_time": "2022-05-17T20:21:56.323210Z",
     "start_time": "2022-05-17T20:21:56.270352Z"
    }
   },
   "outputs": [],
   "source": [
    "attitude = pd.DataFrame(zip(name,birthday, address, city, pcode, mail, telephone, legal_representative, course, schedule, course2, schedule2, course3, schedule3, registration, installments, total))\n",
    "attitude.columns = ['name','birthday', 'address', 'city', 'pcode','mail', 'telephone', 'legal_representative', 'course', 'schedule', 'course2', 'schedule2', 'course3', 'schedule3', 'registration', 'installments', 'total']"
   ]
  },
  {
   "cell_type": "markdown",
   "id": "5d77df04",
   "metadata": {
    "ExecuteTime": {
     "end_time": "2022-05-13T18:45:25.319464Z",
     "start_time": "2022-05-13T18:45:25.274608Z"
    }
   },
   "source": [
    "## Transforming data   "
   ]
  },
  {
   "cell_type": "markdown",
   "id": "05372ccd",
   "metadata": {},
   "source": [
    "### Checking columns:"
   ]
  },
  {
   "cell_type": "code",
   "execution_count": 8,
   "id": "794f4652",
   "metadata": {
    "ExecuteTime": {
     "end_time": "2022-05-17T20:21:57.915065Z",
     "start_time": "2022-05-17T20:21:57.863205Z"
    }
   },
   "outputs": [],
   "source": [
    "#Dropping duplicates\n",
    "attitude = attitude.drop_duplicates().reset_index(drop=True)"
   ]
  },
  {
   "cell_type": "code",
   "execution_count": 9,
   "id": "b13e308d",
   "metadata": {
    "ExecuteTime": {
     "end_time": "2022-05-17T20:21:58.981174Z",
     "start_time": "2022-05-17T20:21:58.950256Z"
    }
   },
   "outputs": [],
   "source": [
    "#Let's standardize it!\n",
    "# Strings\n",
    "attitude.name = [nom.title() for nom in attitude.name]\n",
    "attitude.address = [adresse.title() for adresse in attitude.address]\n",
    "attitude.city = [cite.title() for cite in attitude.city]\n",
    "attitude.mail = [email.lower() for email in attitude.mail]\n",
    "attitude.legal_representative = [representant.title() if representant != 0 else 0 for representant in attitude.legal_representative]\n",
    "attitude.course = [cours.title() if cours != 0 else 0 for cours in attitude.course]\n",
    "attitude.course2= [cours2.title() if cours2 != 0 else 0 for cours2 in attitude.course2]\n",
    "attitude.course3= [cours3.title() if cours3 != 0 else 0 for cours3 in attitude.course2]"
   ]
  },
  {
   "cell_type": "code",
   "execution_count": 10,
   "id": "aa619a67",
   "metadata": {
    "ExecuteTime": {
     "end_time": "2022-05-17T20:22:00.673622Z",
     "start_time": "2022-05-17T20:22:00.618775Z"
    }
   },
   "outputs": [
    {
     "name": "stdout",
     "output_type": "stream",
     "text": [
      "['25 nivelbre 1947', '18 décembre 2012', '17 août 2008', '4 juin 1975', '1er mai 2014', 0, '18 AOUT 2010', '23 JANVIER 2017', 0, '30061986', '17 juin 2016']\n"
     ]
    }
   ],
   "source": [
    "#Birthday column\n",
    "issues = []\n",
    "for naissance in attitude.birthday:\n",
    "    try:\n",
    "        date = parser.parse(naissance)\n",
    "    except:\n",
    "        issues.append(naissance)\n",
    "print(issues)\n",
    "naissances=[]\n",
    "for naissance in attitude.birthday:\n",
    "    if naissance != 0:\n",
    "        date = parser.parse(naissance.replace('25 nivelbre 1947', '25-11-1947').replace('18 décembre 2012', '18-12-2012').replace('17 août 2008', '17-08-2008').replace('4 juin 1975', '04-06-1975').replace('1er mai 2014', '01-05-2014').replace('18 AOUT 2010', '18-08-2010').replace('23 JANVIER 2017', '23-01-2017').replace('30061986', '30-06-1986').replace('17 juin 2016', '17-06-2016'))\n",
    "        naissances.append(date.strftime('%d-%m-%Y'))\n",
    "    else:\n",
    "        naissances.append(0)\n",
    "attitude.birthday = naissances"
   ]
  },
  {
   "cell_type": "code",
   "execution_count": 11,
   "id": "bca0dd5b",
   "metadata": {
    "ExecuteTime": {
     "end_time": "2022-05-17T20:22:03.002002Z",
     "start_time": "2022-05-17T20:22:02.977064Z"
    }
   },
   "outputs": [],
   "source": [
    "#Address column:\n",
    "attitude['address'].iloc[2] = 'Rue Sarah Bernhardt, 44'\n",
    "attitude['address'].iloc[1] = '11 Rue Du Docteur Charles Bonneau'\n"
   ]
  },
  {
   "cell_type": "code",
   "execution_count": 12,
   "id": "ea5032f6",
   "metadata": {
    "ExecuteTime": {
     "end_time": "2022-05-17T20:22:05.025347Z",
     "start_time": "2022-05-17T20:22:04.865779Z"
    }
   },
   "outputs": [],
   "source": [
    "#Column Telephone:\n",
    "for row in range(len(attitude.telephone)):\n",
    "    attitude['telephone'].iloc[row] = attitude['telephone'].iloc[row].replace('(33)', '+33').replace('(0033)', '+33').replace('(033)', '+33').replace('(','').replace(\"(0687026502)\", \"0687026502\").replace(\"(Portable)\", \"\").replace(\"(0634121580) 063-4121580\", \"063-4121580\").replace(\"(0687026502) 068-7026502\", \"068-7026502\").replace(\"(0689289829) ¨\", \"0689289829\").replace(\"(0689289829) 068-9289829\", \"0689289829\").replace(\"(0607991130) 060-7991130\", \"0607991130\").replace(\"(0683365627) 068-3365627\", \"0683365627\").replace(\"0689289829 ¨\", '0689289829').replace('.',\"\").replace(')',\"\").replace(\"-\",\"\")"
   ]
  },
  {
   "cell_type": "code",
   "execution_count": 13,
   "id": "d08a85f8",
   "metadata": {
    "ExecuteTime": {
     "end_time": "2022-05-17T20:22:06.518426Z",
     "start_time": "2022-05-17T20:22:06.465550Z"
    }
   },
   "outputs": [],
   "source": [
    "def schedules (schedule_num):\n",
    "    issues_horaire =[]\n",
    "    for row in range(len(attitude[schedule_num])):\n",
    "        if attitude[schedule_num].iloc[row] != 0:\n",
    "            try:\n",
    "                horaire = attitude[schedule_num].iloc[row].replace('\\n1',' ').strip().split('\\n')\n",
    "                if len(horaire) == 2:\n",
    "                    attitude[schedule_num].iloc[row] = attitude[schedule_num].iloc[row].replace('\\n1',' ').strip().split('\\n')[0].lower()\n",
    "                else:\n",
    "                    issues_horaire.append(row)\n",
    "            except:\n",
    "                continue\n",
    "        else:\n",
    "            continue\n",
    "    return issues_horaire\n",
    "\n",
    "def schedule_course (schedule_num, course_num):\n",
    "    for row in range(len(attitude[schedule_num])):\n",
    "        if attitude[schedule_num].iloc[row] == 'mardi 19h' or attitude[schedule_num].iloc[row] == 'mardi 18h' or attitude[schedule_num].iloc[row] =='vendredi 19h' or attitude[schedule_num].iloc[row] =='lundi 10h15':\n",
    "            attitude[course_num].iloc[row] = 'Classique Moyen'\n",
    "        elif attitude[schedule_num].iloc[row] == 'lundi 12h15' or attitude[schedule_num].iloc[row] == 'mardi 9h' or attitude[schedule_num].iloc[row] == 'samedi 12h15' or attitude[schedule_num].iloc[row] == 'samedi 12h' or attitude[schedule_num].iloc[row] == 'mardi 10h':\n",
    "            attitude[course_num].iloc[row] = 'Barre à Terre'\n",
    "        elif attitude[schedule_num].iloc[row] == 'mercredi 14h15':\n",
    "            attitude[course_num].iloc[row] == 'Classique 1'\n",
    "        elif attitude[schedule_num].iloc[row] == 'lundi 17h':\n",
    "            attitude[course_num].iloc[row] = 'Préparatoire'    \n",
    "        elif attitude[schedule_num].iloc[row] == 'mercredi 16h30' or attitude[schedule_num].iloc[row] == 'vendredi 20h30':\n",
    "            attitude[course_num].iloc[row] = 'Pointes'\n",
    "        elif attitude[schedule_num].iloc[row] == 'mardi 17h':\n",
    "            attitude[course_num].iloc[row] = 'Éveil'\n",
    "        elif attitude[schedule_num].iloc[row] == 'jeudi 17h10' or attitude[schedule_num].iloc[row] == 'jeudi 17h15':\n",
    "            attitude[course_num].iloc[row] = 'Initiation'\n",
    "        elif attitude[schedule_num].iloc[row] == 'mercredi 17h45':\n",
    "            attitude[course_num].iloc[row] = 'Classique 2'\n",
    "        elif attitude[schedule_num].iloc[row] == 'mercredi 14h25' or attitude[schedule_num].iloc[row] =='mercredi 14h15' or attitude[schedule_num].iloc[row] =='mercredi 13h15':\n",
    "            attitude[course_num].iloc[row] = 'Classique 1'\n",
    "        elif attitude[schedule_num].iloc[row] == 'lundi 18h':\n",
    "            attitude[course_num].iloc[row] = 'Contemporain'\n",
    "        elif attitude[schedule_num].iloc[row] == 'jeudi 20h' or attitude[schedule_num].iloc[row] =='lundi 20h30' or attitude[schedule_num].iloc[row] =='mercredi 9h' or attitude[schedule_num].iloc[row] =='jeudi 19h30':\n",
    "            attitude[course_num].iloc[row] = 'Pilates'\n",
    "        elif attitude[schedule_num].iloc[row] == 'lundi 10h':\n",
    "            attitude[course_num].iloc[row] = 'Classique Moyen'\n",
    "        elif attitude[schedule_num].iloc[row] == 'lundi 18h' or attitude[schedule_num].iloc[row] == 'mercredi 15h30':\n",
    "            attitude[course_num].iloc[row] = 'Pbt'\n",
    "        elif attitude[schedule_num].iloc[row] == 'jeudi 18h30' or attitude[schedule_num].iloc[row] == 'lundi 19h' or attitude[schedule_num].iloc[row] =='mercredi 19h30' or attitude[schedule_num].iloc[row] == 'samedi 10h40' or attitude[schedule_num].iloc[row] == 'samedi 10h30' or attitude[schedule_num].iloc[row] == 'lundi 19h15' or attitude[schedule_num].iloc[row] == 'mardi 19h30' or attitude[schedule_num].iloc[row] == 'mardi 19h15' or attitude[schedule_num].iloc[row] == 'jeudi 18h30':\n",
    "            attitude[course_num].iloc[row] = 'Classique Interm. – Avancé'\n",
    "        elif attitude[schedule_num].iloc[row] == 'vendredi 10h15' or attitude[schedule_num].iloc[row] =='vendredi 10h' or attitude[schedule_num].iloc[row] =='vendredi 19h' or attitude[schedule_num].iloc[row] =='lundi 10h' or attitude[schedule_num].iloc[row] =='lundi 19h15':\n",
    "            attitude[course_num].iloc[row] = 'Classique Moyen'\n",
    "        elif attitude[schedule_num].iloc[row] == 'lundi 19h30':\n",
    "            attitude[course_num].iloc[row] = 'Classique Avancé'\n",
    "        elif attitude[schedule_num].iloc[row] == 'vendredi 18h':\n",
    "            attitude[course_num].iloc[row] = 'Moderne'\n",
    "        elif attitude[schedule_num].iloc[row] == 'jeudi 9h30':\n",
    "            attitude[course_num].iloc[row] = 'Pbt + Ballet Fitness'    "
   ]
  },
  {
   "cell_type": "code",
   "execution_count": 14,
   "id": "10f67658",
   "metadata": {
    "ExecuteTime": {
     "end_time": "2022-05-17T20:22:09.329599Z",
     "start_time": "2022-05-17T20:22:09.162049Z"
    }
   },
   "outputs": [
    {
     "data": {
      "text/plain": [
       "[0, 5, 11, 20, 25, 33, 58, 72, 89]"
      ]
     },
     "execution_count": 14,
     "metadata": {},
     "output_type": "execute_result"
    }
   ],
   "source": [
    "issues_horaire = schedules ('schedule')\n",
    "issues_horaire"
   ]
  },
  {
   "cell_type": "code",
   "execution_count": 15,
   "id": "beb5b942",
   "metadata": {
    "ExecuteTime": {
     "end_time": "2022-05-17T20:22:10.702613Z",
     "start_time": "2022-05-17T20:22:10.655737Z"
    }
   },
   "outputs": [],
   "source": [
    "attitude['schedule'].iloc[0] = \"mardi 12h15\"\n",
    "attitude['schedule2'].iloc[0] = \"jeudi 9h30\"\n",
    "attitude['schedule'].iloc[5] = \"Lundi, 12h15\"\n",
    "attitude['schedule2'].iloc[5] = \"mardi 18h  vendredi 19h\"\n",
    "attitude['course'].iloc[11] = \"barre à rerre\"\n",
    "attitude['schedule'].iloc[11] = \"lundi 12h15 mardi 9h\"\n",
    "attitude['schedule'].iloc[20] = \"lundi 19h15\"\n",
    "attitude['schedule2'].iloc[20] = \"jeudi 18h30 vendredi 20h30\"\n",
    "attitude['schedule'].iloc[25] = \"lundi 12h15\"\n",
    "attitude['schedule2'].iloc[25] = \"vendredi 19h\"\n",
    "attitude['schedule'].iloc[28] ='mercredi 15h30'\n",
    "attitude['schedule'].iloc[33] = \"mardi 9h\"\n",
    "attitude['schedule2'].iloc[33] = \"vendredi 10h15\"\n",
    "attitude['course'].iloc[58] = \"classique avancé\"\n",
    "attitude['schedule'].iloc[58] = \"mardi 19h15 jeudi 18h30\"\n",
    "attitude['course2'].iloc[58] = \"pbt\"\n",
    "attitude['schedule2'].iloc[58] = \"mercredi 15h30\""
   ]
  },
  {
   "cell_type": "code",
   "execution_count": 16,
   "id": "15c56e90",
   "metadata": {
    "ExecuteTime": {
     "end_time": "2022-05-17T20:22:14.740991Z",
     "start_time": "2022-05-17T20:22:14.601360Z"
    }
   },
   "outputs": [
    {
     "data": {
      "text/plain": [
       "array(['lundi 12h15', 'lundi 17h', 'mardi 19h', 'lundi 20h30',\n",
       "       'mercredi 14h15', 'mardi 17h', 'mardi 18h', 'samedi 12h',\n",
       "       'lundi 12h15 mardi 9h', 'vendredi 19h', 'mercredi 16h30',\n",
       "       'lundi 19h15', 'jeudi 17h10', 'mercredi 17h45', 'mardi 19h30',\n",
       "       'mercredi 15h30', 'lundi 10h15', 'samedi 10h30', 'jeudi 17h15',\n",
       "       'mardi 10h', 'mardi 9h', 'mercredi ', 'lundi 18h', 'jeudi 19h30',\n",
       "       0, 'jeudi 20h', 'mardi 9h ', 'mercredi 13h15', 'lundi 10h',\n",
       "       'mardi 19h15 jeudi 18h30', 'jeudi 18h30', 'mercredi 19h30',\n",
       "       'vendredi 10h15', 'samedi ', 'mercredi 9h', 'jeudi ', '', 'lundi ',\n",
       "       'vendredi 18h'], dtype=object)"
      ]
     },
     "execution_count": 16,
     "metadata": {},
     "output_type": "execute_result"
    }
   ],
   "source": [
    "attitude.schedule.unique()\n",
    "for row in range(len(attitude.schedule)):\n",
    "    if attitude['schedule'].iloc[row] != 0:\n",
    "        attitude['schedule'].iloc[row] = attitude['schedule'].iloc[row].lower().replace(',', '').replace(':', 'h').replace('h00', 'h').replace(' h ', 'h').replace('vendredi 19h-20h30', 'vendredi 19h').replace('mardi 18h/19h30', 'mardi 18h').replace('mardi 18h-19h30', 'mardi 18h').replace('mercredi 16h30/17h30','mercredi 16h30').replace('mercredi 17h45-19h15','mercredi 17h45').replace('mardi 10 ', 'mardi 10h').replace('jeudi 17h15 - 18h15','jeudi 17h15').replace('lundi 17 ', 'lundi 17h').replace('jeudi 17h15-18h15', 'jeudi 17h15').replace('mercredi 14h15-15h30','mercredi 14h15').replace('mardi 17h - 17h45', 'mardi 17h').replace('jeudi 19h30-21h', 'jeudi 19h30').replace('lundi 17-18h', 'lundi 17h').replace('jeudi 20h - 21h', 'jeudi 20h').replace('lundi 10h11h30', 'lundi 10h').replace('lundi 18 ','lundi 18h').replace('lundi 19h 15 et 20h45', 'lundi 19h15').replace('mercredi 16.30/17.30', 'mercredi 16h30').replace('mardi 9.00/10.00', 'mardi 9h').replace('jeudi 18h30 - 20h', 'jeudi 18h30').replace('mardi 19h30 - 20h45','mardi 19h30').replace('10h30\\n\\n\\n\\n\\n\\nsamedi \\nsamedi\\n\\n1', 'samedi 10h30').replace('mardi 12h15','lundi 12h15').replace('mardi 17 ','mardi 17h').replace('mercredi 9 ', 'mercredi 9h')\n",
    "attitude.schedule.unique()"
   ]
  },
  {
   "cell_type": "code",
   "execution_count": 17,
   "id": "28ff471e",
   "metadata": {
    "ExecuteTime": {
     "end_time": "2022-05-17T20:22:16.586860Z",
     "start_time": "2022-05-17T20:22:16.532005Z"
    }
   },
   "outputs": [
    {
     "data": {
      "text/plain": [
       "[0, 3, 5, 19, 20, 25, 33, 58]"
      ]
     },
     "execution_count": 17,
     "metadata": {},
     "output_type": "execute_result"
    }
   ],
   "source": [
    "issues_horaire2 = schedules ('schedule2')\n",
    "issues_horaire2"
   ]
  },
  {
   "cell_type": "code",
   "execution_count": 18,
   "id": "79f06241",
   "metadata": {
    "ExecuteTime": {
     "end_time": "2022-05-17T20:22:18.798039Z",
     "start_time": "2022-05-17T20:22:18.728227Z"
    }
   },
   "outputs": [
    {
     "data": {
      "text/plain": [
       "array(['jeudi 9h30', 0, '19h', 'vendredi 19h', 'mardi 18h  vendredi 19h',\n",
       "       'mercredi 15h30', 'vendredi 20h30', 'samedi 12h15', 'vendredi 18h',\n",
       "       'mercredi 19h30', 'mercredi 17h45', 'jeudi 18h30 vendredi 20h30',\n",
       "       'samedi 10h30', 'mercredi 16h30', 'vendredi 10h15', 'lundi 20h45',\n",
       "       'samedi 10h40', 'lundi 19h15', 'jeudi ', 'mercredi ', 'vendredi '],\n",
       "      dtype=object)"
      ]
     },
     "execution_count": 18,
     "metadata": {},
     "output_type": "execute_result"
    }
   ],
   "source": [
    "attitude.schedule2.unique()\n",
    "for row in range(len(attitude.schedule2)):\n",
    "    if attitude['schedule2'].iloc[row] != 0:\n",
    "        attitude['schedule2'].iloc[row] = attitude['schedule2'].iloc[row].replace(',', '').replace(':', 'h').replace('h00', 'h').replace(' h ', 'h').replace('Jeudi, 9h30', 'jeudi 9h30').replace('Mardi, 18h,  Vendredi, 19h', 'mardi 18h,  vendredi 19h').replace('vendredi 20h30-21h15','vendredi 20h30').replace('vendredi 18/19h','vendredi 18h').replace('mercredi 19h30-21h', 'mercredi 19h30').replace('Mercredi 17h45/19h15\\nMercredi \\n\\n\\n\\n\\n2','Mercredi 17h45').replace('Jeudi, 18h30, Vendredi, 20h30','jeudi 18h30, vendredi 20h30').replace('mercredi 17.45/19.15','mercredi 17h45').replace('mercredi 15h30 - 16h30', 'mercredi 15h30').lower()\n",
    "attitude.schedule2.unique()"
   ]
  },
  {
   "cell_type": "code",
   "execution_count": 19,
   "id": "41857ad9",
   "metadata": {
    "ExecuteTime": {
     "end_time": "2022-05-17T20:22:20.691034Z",
     "start_time": "2022-05-17T20:22:20.659117Z"
    }
   },
   "outputs": [
    {
     "data": {
      "text/plain": [
       "[18, 20, 57, 58, 92]"
      ]
     },
     "execution_count": 19,
     "metadata": {},
     "output_type": "execute_result"
    }
   ],
   "source": [
    "issues_horaire3 = schedules ('schedule3')\n",
    "issues_horaire3"
   ]
  },
  {
   "cell_type": "code",
   "execution_count": 20,
   "id": "7b1bd510",
   "metadata": {
    "ExecuteTime": {
     "end_time": "2022-05-17T20:22:21.743100Z",
     "start_time": "2022-05-17T20:22:21.729135Z"
    }
   },
   "outputs": [],
   "source": [
    "attitude['schedule3'].iloc[18] = 'vendredi 20h30'\n",
    "attitude['schedule3'].iloc[20] = 'vendredi 20h30'\n",
    "attitude['schedule3'].iloc[57] = 'vendredi 10h'\n",
    "attitude['schedule3'].iloc[58] = 'mercredi 17h45'\n",
    "attitude['schedule3'].iloc[92] = 'samedi 10h30'"
   ]
  },
  {
   "cell_type": "code",
   "execution_count": 21,
   "id": "0f2a5c8c",
   "metadata": {
    "ExecuteTime": {
     "end_time": "2022-05-17T20:22:23.575906Z",
     "start_time": "2022-05-17T20:22:23.529510Z"
    }
   },
   "outputs": [
    {
     "data": {
      "text/plain": [
       "array([0, 'vendredi 19h', 'vendredi 20h30', 'mercredi 17h45',\n",
       "       'samedi 10h30', 'vendredi 10h', 'mercredi ', 'vendredi '],\n",
       "      dtype=object)"
      ]
     },
     "execution_count": 21,
     "metadata": {},
     "output_type": "execute_result"
    }
   ],
   "source": [
    "attitude.schedule3.unique()\n",
    "for row in range(len(attitude.schedule3)):\n",
    "    if attitude['schedule3'].iloc[row] != 0:\n",
    "        attitude['schedule3'].iloc[row] = attitude['schedule3'].iloc[row].lower().replace(',', '').replace(':', 'h').replace('h00', 'h').replace(' h ', 'h').replace('vendredi \\xa019h -20h30\\xa0', 'vendredi 19h').replace('vendredi \\xa019/20h30\\xa0','vendredi 19h').replace('mercredi \\xa017h45\\xa0\\xa0\\xa0\\xa0\\xa0\\xa0\\xa0\\xa0\\xa0', 'mercredi 17h45').replace('samedi \\xa0\\xa0\\xa010h30\\xa0\\xa0\\xa0', 'samedi 10h30').replace('\\xa0', '')\n",
    "attitude.schedule3.unique()"
   ]
  },
  {
   "cell_type": "code",
   "execution_count": 22,
   "id": "05816a56",
   "metadata": {
    "ExecuteTime": {
     "end_time": "2022-05-17T20:22:26.081249Z",
     "start_time": "2022-05-17T20:22:25.718385Z"
    }
   },
   "outputs": [],
   "source": [
    "schedule_course ('schedule', 'course')\n",
    "schedule_course ('schedule2', 'course2')\n",
    "schedule_course ('schedule3', 'course3')"
   ]
  },
  {
   "cell_type": "code",
   "execution_count": 23,
   "id": "7efbbf8b",
   "metadata": {
    "ExecuteTime": {
     "end_time": "2022-05-17T20:22:27.433683Z",
     "start_time": "2022-05-17T20:22:27.389817Z"
    }
   },
   "outputs": [],
   "source": [
    "attitude[attitude['course']==0]\n",
    "attitude['course'].iloc[39] = \"pilates\"\n",
    "attitude['schedule'].iloc[39] = \"juedi 20h\"\n",
    "attitude['course'].iloc[41] = 'classique 1'\n",
    "attitude['course'].iloc[51] = 'classique 1'\n",
    "attitude['course'].iloc[78] = 'classique 1'\n",
    "attitude['course'].iloc[79] = 'classique moyen'\n",
    "attitude['schedule'].iloc[79] = \"vendredi 10h\"\n",
    "attitude['course'].iloc[79] = 'classique interm. – avancé'\n",
    "attitude['schedule'].iloc[93] = \"vendredi 10h\"\n",
    "attitude['course'].iloc[93] = 'classique interm. – avancé'\n",
    "attitude['course'].iloc[46] = \"pilates\"\n",
    "attitude['schedule'].iloc[46] = \"lundi 9h mercredi 9h vendredi 9h\"\n",
    "attitude['course'].iloc[46] = \"classique moyen\"\n",
    "attitude['schedule'].iloc[46] = \"lundi 10h\"\n",
    "attitude['course'].iloc[46] = \"pbt + ballet fitness\"\n",
    "attitude['schedule'].iloc[46] = \"juedi 9h30\"\n",
    "attitude['course'].iloc[56] = \"pilates\"\n",
    "attitude['schedule'].iloc[56] = \"mercredi 9h vendredi 9h\"\n",
    "attitude['course'].iloc[66] = \"pilates\"\n",
    "attitude['schedule'].iloc[66] = \"lundi 9h\"\n",
    "attitude['course'].iloc[83] = \"pilates\"\n",
    "attitude['schedule'].iloc[83] = \"lundi 20h45\"\n",
    "attitude['course2'].iloc[83] = 0\n",
    "attitude['schedule2'].iloc[83] = 0\n",
    "attitude['course'].iloc[95] = \"barre à terre\"\n",
    "attitude['schedule'].iloc[95] = \"mardi 9h\""
   ]
  },
  {
   "cell_type": "code",
   "execution_count": 25,
   "id": "76226da3",
   "metadata": {
    "ExecuteTime": {
     "end_time": "2022-05-17T20:22:31.646059Z",
     "start_time": "2022-05-17T20:22:31.560282Z"
    }
   },
   "outputs": [
    {
     "data": {
      "text/plain": [
       "array(['barre à terre', 'préparatoire', 'classique moyen', 'pilates',\n",
       "       'classique 1', 'éveil', 'pointes', 'classique interm. – avancé',\n",
       "       'initiation', 'classique 2', 'pbt', 'contemporain',\n",
       "       'pbt + ballet fitness', 'classique avancé', 'carte 10 cours',\n",
       "       'moderne'], dtype=object)"
      ]
     },
     "execution_count": 25,
     "metadata": {},
     "output_type": "execute_result"
    }
   ],
   "source": [
    "attitude.course.unique()\n",
    "for row in range(len(attitude.course)):\n",
    "    if attitude['course'].iloc[row] != 0:\n",
    "        attitude['course'].iloc[row] = attitude['course'].iloc[row].replace(\"Classiquee Avancé\", \"Classique Avancé\").replace('barre à rerre', 'barre à terre').replace('inter/ avance', 'classique interm. – avancé').lower()\n",
    "        if attitude['course'].iloc[row] =='classique interm':\n",
    "            attitude['course'].iloc[row] = ('classique interm. – avancé')\n",
    "        if attitude['course'].iloc[row] =='1' or attitude['course'].iloc[row] =='classique':\n",
    "            attitude['course'].iloc[row] = (\"classique 1\")\n",
    "    elif attitude['course'].iloc[row] == \"\":\n",
    "        attitude['course'].iloc[row] == 0\n",
    "attitude.course.unique()"
   ]
  },
  {
   "cell_type": "code",
   "execution_count": 27,
   "id": "b1c3fd55",
   "metadata": {
    "ExecuteTime": {
     "end_time": "2022-05-17T20:22:35.085497Z",
     "start_time": "2022-05-17T20:22:35.028655Z"
    }
   },
   "outputs": [
    {
     "data": {
      "text/plain": [
       "array(['pbt + ballet fitness', 0, '', 'classique moyen', 'pbt', 'pointes',\n",
       "       'barre à terre', 'moderne', 'classique interm. – avancé',\n",
       "       'classique 2'], dtype=object)"
      ]
     },
     "execution_count": 27,
     "metadata": {},
     "output_type": "execute_result"
    }
   ],
   "source": [
    "attitude.course2.unique()\n",
    "for row in range(len(attitude.course2)):\n",
    "    if attitude['course2'].iloc[row] != 0:\n",
    "        attitude['course2'].iloc[row] = attitude['course2'].iloc[row].replace(\"Classiquee Avancé\", \"Classique Avancé\").replace('barre à rerre', 'barre à terre').replace('inter/ avance', 'classique interm. – avancé').lower()\n",
    "        if attitude['course2'].iloc[row] =='barre':\n",
    "            attitude['course2'].iloc[row] = (\"barre à terre\")\n",
    "        if attitude['course2'].iloc[row] =='classique interm':\n",
    "            attitude['course2'].iloc[row] = ('classique interm. – avancé')\n",
    "        if attitude['course2'].iloc[row] =='classique':\n",
    "            attitude['course2'].iloc[row] = (\"classique 1\")\n",
    "    elif attitude['course2'].iloc[row] == \"\":\n",
    "        attitude['course2'].iloc[row] == 0\n",
    "attitude.course2.unique()"
   ]
  },
  {
   "cell_type": "code",
   "execution_count": 29,
   "id": "d288d04e",
   "metadata": {
    "ExecuteTime": {
     "end_time": "2022-05-17T20:22:37.782757Z",
     "start_time": "2022-05-17T20:22:37.733888Z"
    }
   },
   "outputs": [
    {
     "data": {
      "text/plain": [
       "array([0, 'classique moyen', '', 'barre à terre', 'pbt', 'pointes',\n",
       "       'classique 2', 'classique 1', 'classique interm. – avancé'],\n",
       "      dtype=object)"
      ]
     },
     "execution_count": 29,
     "metadata": {},
     "output_type": "execute_result"
    }
   ],
   "source": [
    "attitude.course3.unique()\n",
    "for row in range(len(attitude.course3)):\n",
    "    if attitude['course3'].iloc[row] != 0:\n",
    "        attitude['course3'].iloc[row] = attitude['course3'].iloc[row].replace(\"Classiquee Avancé\", \"Classique Avancé\").replace('barre à rerre', 'barre à terre').replace('inter/ avance', 'classique interm. – avancé').lower()\n",
    "        if attitude['course3'].iloc[row] =='barre':\n",
    "            attitude['course3'].iloc[row] = (\"barre à terre\")\n",
    "        if attitude['course3'].iloc[row] =='classique':\n",
    "            attitude['course3'].iloc[row] = (\"classique 1\")\n",
    "    elif attitude['course3'].iloc[row] == \"\":\n",
    "        attitude['course3'].iloc[row] == 0\n",
    "attitude.course3.unique()"
   ]
  },
  {
   "cell_type": "code",
   "execution_count": 30,
   "id": "e28c3511",
   "metadata": {
    "ExecuteTime": {
     "end_time": "2022-05-17T20:22:39.881973Z",
     "start_time": "2022-05-17T20:22:39.842080Z"
    }
   },
   "outputs": [],
   "source": [
    "for row in range(len(attitude.registration)):\n",
    "    attitude.registration.iloc[row] = '30€'"
   ]
  },
  {
   "cell_type": "code",
   "execution_count": 31,
   "id": "4e8b8814",
   "metadata": {
    "ExecuteTime": {
     "end_time": "2022-05-17T20:22:41.413466Z",
     "start_time": "2022-05-17T20:22:41.349620Z"
    }
   },
   "outputs": [
    {
     "ename": "TypeError",
     "evalue": "replace() argument 2 must be str, not int",
     "output_type": "error",
     "traceback": [
      "\u001b[1;31m---------------------------------------------------------------------------\u001b[0m",
      "\u001b[1;31mTypeError\u001b[0m                                 Traceback (most recent call last)",
      "Input \u001b[1;32mIn [31]\u001b[0m, in \u001b[0;36m<cell line: 1>\u001b[1;34m()\u001b[0m\n\u001b[0;32m      1\u001b[0m \u001b[38;5;28;01mfor\u001b[39;00m row \u001b[38;5;129;01min\u001b[39;00m \u001b[38;5;28mrange\u001b[39m(\u001b[38;5;28mlen\u001b[39m(attitude\u001b[38;5;241m.\u001b[39minstallments)):\n\u001b[1;32m----> 2\u001b[0m     attitude\u001b[38;5;241m.\u001b[39minstallments\u001b[38;5;241m.\u001b[39miloc[row] \u001b[38;5;241m=\u001b[39m \u001b[43mattitude\u001b[49m\u001b[38;5;241;43m.\u001b[39;49m\u001b[43minstallments\u001b[49m\u001b[38;5;241;43m.\u001b[39;49m\u001b[43miloc\u001b[49m\u001b[43m[\u001b[49m\u001b[43mrow\u001b[49m\u001b[43m]\u001b[49m\u001b[38;5;241;43m.\u001b[39;49m\u001b[43mreplace\u001b[49m\u001b[43m(\u001b[49m\u001b[38;5;124;43m'\u001b[39;49m\u001b[38;5;124;43mshh\u001b[39;49m\u001b[38;5;124;43m'\u001b[39;49m\u001b[43m,\u001b[49m\u001b[43m \u001b[49m\u001b[38;5;241;43m1\u001b[39;49m\u001b[43m)\u001b[49m\u001b[38;5;241m.\u001b[39mreplace(\u001b[38;5;124m'\u001b[39m\u001b[38;5;124m0\u001b[39m\u001b[38;5;124m'\u001b[39m, \u001b[38;5;124m'\u001b[39m\u001b[38;5;124m1\u001b[39m\u001b[38;5;124m'\u001b[39m)\u001b[38;5;241m.\u001b[39mreplace(\u001b[38;5;124m'\u001b[39m\u001b[38;5;124m10 chéques\u001b[39m\u001b[38;5;130;01m\\n\u001b[39;00m\u001b[38;5;124m(1-10)\u001b[39m\u001b[38;5;124m'\u001b[39m, \u001b[38;5;124m'\u001b[39m\u001b[38;5;124m10\u001b[39m\u001b[38;5;124m'\u001b[39m)\u001b[38;5;241m.\u001b[39mreplace(\u001b[38;5;124m'\u001b[39m\u001b[38;5;124m9 + 1\u001b[39m\u001b[38;5;124m'\u001b[39m, \u001b[38;5;124m'\u001b[39m\u001b[38;5;124m10\u001b[39m\u001b[38;5;124m'\u001b[39m)\u001b[38;5;241m.\u001b[39mreplace(\u001b[38;5;124m\"\u001b[39m\u001b[38;5;124mlement\u001b[39m\u001b[38;5;130;01m\\n\u001b[39;00m\u001b[38;5;124mtoulouse, 31000\u001b[39m\u001b[38;5;130;01m\\n\u001b[39;00m\u001b[38;5;124mE-mail juliereglat@gmail.com\u001b[39m\u001b[38;5;130;01m\\n\u001b[39;00m\u001b[38;5;124mTéléphone (06) 760-48948\u001b[39m\u001b[38;5;130;01m\\n\u001b[39;00m\u001b[38;5;124mReprésentant légal de l’inscrit (pour  sécail-Réglat Julie\u001b[39m\u001b[38;5;130;01m\\n\u001b[39;00m\u001b[38;5;124mles mineurs)\u001b[39m\u001b[38;5;130;01m\\n\u001b[39;00m\u001b[38;5;124mCours:Initiation\u001b[39m\u001b[38;5;130;01m\\xa0\u001b[39;00m\u001b[38;5;130;01m\\xa0\u001b[39;00m\u001b[38;5;130;01m\\xa0\u001b[39;00m\u001b[38;5;130;01m\\xa0\u001b[39;00m\u001b[38;5;130;01m\\xa0\u001b[39;00m\u001b[38;5;130;01m\\xa0\u001b[39;00m\u001b[38;5;130;01m\\n\u001b[39;00m\u001b[38;5;124mCours\u001b[39m\u001b[38;5;130;01m\\n\u001b[39;00m\u001b[38;5;124mHoraire:\u001b[39m\u001b[38;5;130;01m\\xa0\u001b[39;00m\u001b[38;5;130;01m\\xa0\u001b[39;00m\u001b[38;5;130;01m\\xa0\u001b[39;00m\u001b[38;5;130;01m\\n\u001b[39;00m\u001b[38;5;130;01m\\xa0\u001b[39;00m\u001b[38;5;130;01m\\xa0\u001b[39;00m\u001b[38;5;130;01m\\xa0\u001b[39;00m\u001b[38;5;130;01m\\xa0\u001b[39;00m\u001b[38;5;130;01m\\xa0\u001b[39;00m\u001b[38;5;130;01m\\xa0\u001b[39;00m\u001b[38;5;130;01m\\xa0\u001b[39;00m\u001b[38;5;130;01m\\xa0\u001b[39;00m\u001b[38;5;130;01m\\n\u001b[39;00m\u001b[38;5;130;01m\\xa0\u001b[39;00m\u001b[38;5;130;01m\\xa0\u001b[39;00m\u001b[38;5;130;01m\\xa0\u001b[39;00m\u001b[38;5;130;01m\\xa0\u001b[39;00m\u001b[38;5;130;01m\\xa0\u001b[39;00m\u001b[38;5;130;01m\\xa0\u001b[39;00m\u001b[38;5;130;01m\\n\u001b[39;00m\u001b[38;5;130;01m\\xa0\u001b[39;00m\u001b[38;5;130;01m\\xa0\u001b[39;00m\u001b[38;5;130;01m\\xa0\u001b[39;00m\u001b[38;5;130;01m\\xa0\u001b[39;00m\u001b[38;5;130;01m\\xa0\u001b[39;00m\u001b[38;5;130;01m\\xa0\u001b[39;00m\u001b[38;5;130;01m\\xa0\u001b[39;00m\u001b[38;5;130;01m\\xa0\u001b[39;00m\u001b[38;5;130;01m\\xa0\u001b[39;00m\u001b[38;5;130;01m\\xa0\u001b[39;00m\u001b[38;5;130;01m\\n\u001b[39;00m\u001b[38;5;124mJeudi \u001b[39m\u001b[38;5;130;01m\\xa0\u001b[39;00m\u001b[38;5;130;01m\\xa0\u001b[39;00m\u001b[38;5;130;01m\\xa0\u001b[39;00m\u001b[38;5;124m17h15 - 18h15\u001b[39m\u001b[38;5;130;01m\\xa0\u001b[39;00m\u001b[38;5;130;01m\\xa0\u001b[39;00m\u001b[38;5;130;01m\\xa0\u001b[39;00m\u001b[38;5;130;01m\\xa0\u001b[39;00m\u001b[38;5;130;01m\\xa0\u001b[39;00m\u001b[38;5;130;01m\\n\u001b[39;00m\u001b[38;5;124mJeudi Heure\u001b[39m\u001b[38;5;130;01m\\n\u001b[39;00m\u001b[38;5;130;01m\\xa0\u001b[39;00m\u001b[38;5;130;01m\\xa0\u001b[39;00m\u001b[38;5;130;01m\\n\u001b[39;00m\u001b[38;5;130;01m\\xa0\u001b[39;00m\u001b[38;5;130;01m\\xa0\u001b[39;00m\u001b[38;5;130;01m\\xa0\u001b[39;00m\u001b[38;5;130;01m\\xa0\u001b[39;00m\u001b[38;5;130;01m\\xa0\u001b[39;00m\u001b[38;5;130;01m\\xa0\u001b[39;00m\u001b[38;5;130;01m\\n\u001b[39;00m\u001b[38;5;130;01m\\xa0\u001b[39;00m\u001b[38;5;130;01m\\xa0\u001b[39;00m\u001b[38;5;130;01m\\xa0\u001b[39;00m\u001b[38;5;130;01m\\xa0\u001b[39;00m\u001b[38;5;130;01m\\xa0\u001b[39;00m\u001b[38;5;130;01m\\xa0\u001b[39;00m\u001b[38;5;130;01m\\xa0\u001b[39;00m\u001b[38;5;130;01m\\xa0\u001b[39;00m\u001b[38;5;130;01m\\xa0\u001b[39;00m\u001b[38;5;130;01m\\xa0\u001b[39;00m\u001b[38;5;130;01m\\xa0\u001b[39;00m\u001b[38;5;130;01m\\xa0\u001b[39;00m\u001b[38;5;130;01m\\n\u001b[39;00m\u001b[38;5;124mTéléverser le Certi\u001b[39m\u001b[38;5;130;01m\\x00\u001b[39;00m\u001b[38;5;124mcat Médical\u001b[39m\u001b[38;5;130;01m\\n\u001b[39;00m\u001b[38;5;124mLouise.pdf\u001b[39m\u001b[38;5;130;01m\\n\u001b[39;00m\u001b[38;5;124mpdf\u001b[39m\u001b[38;5;130;01m\\n\u001b[39;00m\u001b[38;5;124m1\u001b[39m\u001b[38;5;130;01m\\n\u001b[39;00m\u001b[38;5;124mTéléverser le Certi\u001b[39m\u001b[38;5;130;01m\\x00\u001b[39;00m\u001b[38;5;124mcat d’assurance \u001b[39m\u001b[38;5;130;01m\\n\u001b[39;00m\u001b[38;5;124mextra-scolaire ou assurance civil\u001b[39m\u001b[38;5;130;01m\\n\u001b[39;00m\u001b[38;5;124mMacif_Attestation Responsabilité Civile.pdf\u001b[39m\u001b[38;5;130;01m\\n\u001b[39;00m\u001b[38;5;124mpdf\u001b[39m\u001b[38;5;130;01m\\n\u001b[39;00m\u001b[38;5;124mLe paiement du cours sera effectué avec\u001b[39m\u001b[38;5;130;01m\\xa0\u001b[39;00m\u001b[38;5;124m3 \u001b[39m\u001b[38;5;130;01m\\xa0\u001b[39;00m\u001b[38;5;124mchèques\u001b[39m\u001b[38;5;130;01m\\n\u001b[39;00m\u001b[38;5;124m(1-10)\u001b[39m\u001b[38;5;130;01m\\n\u001b[39;00m\u001b[38;5;124mde196+147+147  €, au total de\u001b[39m\u001b[38;5;130;01m\\xa0\u001b[39;00m\u001b[38;5;130;01m\\xa0\u001b[39;00m\u001b[38;5;130;01m\\xa0\u001b[39;00m\u001b[38;5;124m 500€ (1 cours) \u001b[39m\u001b[38;5;130;01m\\xa0\u001b[39;00m\u001b[38;5;130;01m\\xa0\u001b[39;00m\u001b[38;5;124m+\u001b[39m\u001b[38;5;130;01m\\n\u001b[39;00m\u001b[38;5;124m(valeur de chaque chèque) Please Select\u001b[39m\u001b[38;5;130;01m\\n\u001b[39;00m\u001b[38;5;124m30€ adhésion .\u001b[39m\u001b[38;5;130;01m\\n\u001b[39;00m\u001b[38;5;124mMoins 10€\u001b[39m\u001b[38;5;130;01m\\xa0\u001b[39;00m\u001b[38;5;124mpour le paiement comptant ou trimestre.\u001b[39m\u001b[38;5;130;01m\\n\u001b[39;00m\u001b[38;5;130;01m\\xa0\u001b[39;00m\u001b[38;5;124mDécouvrez notre\u001b[39m\u001b[38;5;130;01m\\xa0\u001b[39;00m\u001b[38;5;124mplanning et nos tarifs\u001b[39m\u001b[38;5;130;01m\\xa0\u001b[39;00m\u001b[38;5;124ma\u001b[39m\u001b[38;5;130;01m\\n\u001b[39;00m\u001b[38;5;124mattitudecorpsetdanses.com/tarifs-et-planning\u001b[39m\u001b[38;5;130;01m\\n\u001b[39;00m\u001b[38;5;124mPour l’abonnement annuel à Attitude \u001b[39m\u001b[38;5;130;01m\\n\u001b[39;00m\u001b[38;5;124mJe suis d\u001b[39m\u001b[38;5;124m'\u001b[39m\u001b[38;5;124maccord\u001b[39m\u001b[38;5;130;01m\\n\u001b[39;00m\u001b[38;5;124mCorps et Danses de la saison \u001b[39m\u001b[38;5;130;01m\\n\u001b[39;00m\u001b[38;5;124m2021/2022 je ne pourrai en aucun cas \u001b[39m\u001b[38;5;130;01m\\n\u001b[39;00m\u001b[38;5;124mfaire opposition à mes chèques ( voir \u001b[39m\u001b[38;5;130;01m\\n\u001b[39;00m\u001b[38;5;124marticle L131-35 du code monétaire et \u001b[39m\u001b[38;5;130;01m\\n\u001b[39;00m\u001b[38;5;130;01m\\x00\u001b[39;00m\u001b[38;5;124mnancier) ou en demander la \u001b[39m\u001b[38;5;130;01m\\n\u001b[39;00m\u001b[38;5;124mrestitution en cas d’arrêt de ma part.\u001b[39m\u001b[38;5;130;01m\\n\u001b[39;00m\u001b[38;5;124mJ\u001b[39m\u001b[38;5;124m'\u001b[39m\u001b[38;5;124mautorise l\u001b[39m\u001b[38;5;124m'\u001b[39m\u001b[38;5;124mautorisation de droit à \u001b[39m\u001b[38;5;130;01m\\n\u001b[39;00m\u001b[38;5;124mOui\u001b[39m\u001b[38;5;130;01m\\n\u001b[39;00m\u001b[38;5;124ml\u001b[39m\u001b[38;5;124m'\u001b[39m\u001b[38;5;124mimage et/ou à la voix pour la \u001b[39m\u001b[38;5;130;01m\\n\u001b[39;00m\u001b[38;5;124mpromotion de l\u001b[39m\u001b[38;5;124m'\u001b[39m\u001b[38;5;124mAttitude Corps et \u001b[39m\u001b[38;5;130;01m\\n\u001b[39;00m\u001b[38;5;124mDanses.\u001b[39m\u001b[38;5;130;01m\\n\u001b[39;00m\u001b[38;5;124mJe reconnais avoir pris connaissance \u001b[39m\u001b[38;5;130;01m\\n\u001b[39;00m\u001b[38;5;124mOui\u001b[39m\u001b[38;5;130;01m\\n\u001b[39;00m\u001b[38;5;124mdu règlement intérieur *, des \u001b[39m\u001b[38;5;130;01m\\n\u001b[39;00m\u001b[38;5;124mconditions générales d’inscriptions* \u001b[39m\u001b[38;5;130;01m\\n\u001b[39;00m\u001b[38;5;124mde l’Association Attitude Corps et \u001b[39m\u001b[38;5;130;01m\\n\u001b[39;00m\u001b[38;5;124mDanses, d’avoir présenté un certi\u001b[39m\u001b[38;5;130;01m\\x00\u001b[39;00m\u001b[38;5;124mcat \u001b[39m\u001b[38;5;130;01m\\n\u001b[39;00m\u001b[38;5;124mmédical de non-contre indication à la \u001b[39m\u001b[38;5;130;01m\\n\u001b[39;00m\u001b[38;5;124mpratique de la danse et d’avoir \u001b[39m\u001b[38;5;130;01m\\n\u001b[39;00m\u001b[38;5;124mprésenté un certi\u001b[39m\u001b[38;5;130;01m\\x00\u001b[39;00m\u001b[38;5;124mcat d’assurance \u001b[39m\u001b[38;5;130;01m\\n\u001b[39;00m\u001b[38;5;124mextra-scolaire ou assurance civil.* \u001b[39m\u001b[38;5;130;01m\\n\u001b[39;00m\u001b[38;5;124m(*Règlement intérieur/ conditions \u001b[39m\u001b[38;5;130;01m\\n\u001b[39;00m\u001b[38;5;124mgénérales disponibles sur: \u001b[39m\u001b[38;5;130;01m\\n\u001b[39;00m\u001b[38;5;124mhttps://attitudecorpsetdanses.com/re\u001b[39m\u001b[38;5;130;01m\\n\u001b[39;00m\u001b[38;5;124mglement-interieur/*)\u001b[39m\u001b[38;5;130;01m\\n\u001b[39;00m\u001b[38;5;124mSignature\u001b[39m\u001b[38;5;130;01m\\n\u001b[39;00m\u001b[38;5;124m2\u001b[39m\u001b[38;5;130;01m\\n\u001b[39;00m\u001b[38;5;124mSunday, July 11, 2021\u001b[39m\u001b[38;5;124m\"\u001b[39m, \u001b[38;5;124m'\u001b[39m\u001b[38;5;124m3\u001b[39m\u001b[38;5;124m'\u001b[39m)\n\u001b[0;32m      4\u001b[0m attitude\u001b[38;5;241m.\u001b[39minstallments\u001b[38;5;241m.\u001b[39mvalue_counts()\n",
      "\u001b[1;31mTypeError\u001b[0m: replace() argument 2 must be str, not int"
     ]
    }
   ],
   "source": [
    "for row in range(len(attitude.installments)):\n",
    "    attitude.installments.iloc[row] = attitude.installments.iloc[row].replace('shh', '1').replace('0', '1').replace('10 chéques\\n(1-10)', '10').replace('9 + 1', '10').replace(\"lement\\ntoulouse, 31000\\nE-mail juliereglat@gmail.com\\nTéléphone (06) 760-48948\\nReprésentant légal de l’inscrit (pour  sécail-Réglat Julie\\nles mineurs)\\nCours:Initiation\\xa0\\xa0\\xa0\\xa0\\xa0\\xa0\\nCours\\nHoraire:\\xa0\\xa0\\xa0\\n\\xa0\\xa0\\xa0\\xa0\\xa0\\xa0\\xa0\\xa0\\n\\xa0\\xa0\\xa0\\xa0\\xa0\\xa0\\n\\xa0\\xa0\\xa0\\xa0\\xa0\\xa0\\xa0\\xa0\\xa0\\xa0\\nJeudi \\xa0\\xa0\\xa017h15 - 18h15\\xa0\\xa0\\xa0\\xa0\\xa0\\nJeudi Heure\\n\\xa0\\xa0\\n\\xa0\\xa0\\xa0\\xa0\\xa0\\xa0\\n\\xa0\\xa0\\xa0\\xa0\\xa0\\xa0\\xa0\\xa0\\xa0\\xa0\\xa0\\xa0\\nTéléverser le Certi\\x00cat Médical\\nLouise.pdf\\npdf\\n1\\nTéléverser le Certi\\x00cat d’assurance \\nextra-scolaire ou assurance civil\\nMacif_Attestation Responsabilité Civile.pdf\\npdf\\nLe paiement du cours sera effectué avec\\xa03 \\xa0chèques\\n(1-10)\\nde196+147+147  €, au total de\\xa0\\xa0\\xa0 500€ (1 cours) \\xa0\\xa0+\\n(valeur de chaque chèque) Please Select\\n30€ adhésion .\\nMoins 10€\\xa0pour le paiement comptant ou trimestre.\\n\\xa0Découvrez notre\\xa0planning et nos tarifs\\xa0a\\nattitudecorpsetdanses.com/tarifs-et-planning\\nPour l’abonnement annuel à Attitude \\nJe suis d'accord\\nCorps et Danses de la saison \\n2021/2022 je ne pourrai en aucun cas \\nfaire opposition à mes chèques ( voir \\narticle L131-35 du code monétaire et \\n\\x00nancier) ou en demander la \\nrestitution en cas d’arrêt de ma part.\\nJ'autorise l'autorisation de droit à \\nOui\\nl'image et/ou à la voix pour la \\npromotion de l'Attitude Corps et \\nDanses.\\nJe reconnais avoir pris connaissance \\nOui\\ndu règlement intérieur *, des \\nconditions générales d’inscriptions* \\nde l’Association Attitude Corps et \\nDanses, d’avoir présenté un certi\\x00cat \\nmédical de non-contre indication à la \\npratique de la danse et d’avoir \\nprésenté un certi\\x00cat d’assurance \\nextra-scolaire ou assurance civil.* \\n(*Règlement intérieur/ conditions \\ngénérales disponibles sur: \\nhttps://attitudecorpsetdanses.com/re\\nglement-interieur/*)\\nSignature\\n2\\nSunday, July 11, 2021\", '3')\n",
    "    \n",
    "attitude.installments.value_counts()"
   ]
  },
  {
   "cell_type": "code",
   "execution_count": null,
   "id": "a77f9036",
   "metadata": {
    "ExecuteTime": {
     "end_time": "2022-05-16T18:32:41.670205Z",
     "start_time": "2022-05-16T18:32:41.658235Z"
    }
   },
   "outputs": [],
   "source": []
  },
  {
   "cell_type": "code",
   "execution_count": 111,
   "id": "fa4a8be5",
   "metadata": {
    "ExecuteTime": {
     "end_time": "2022-05-17T17:36:56.148555Z",
     "start_time": "2022-05-17T17:36:56.088677Z"
    }
   },
   "outputs": [
    {
     "name": "stdout",
     "output_type": "stream",
     "text": [
      "[720 500 880 1000 1040]\n"
     ]
    }
   ],
   "source": [
    "for row in range(len(attitude['total'])):\n",
    "    if attitude['total'].iloc[row] == '+ 30':\n",
    "        if attitude['course'].iloc[row] == 'carte 10 cours':\n",
    "            attitude['total'].iloc[row] = 1000\n",
    "        elif attitude['course2'].iloc[row] == 0:\n",
    "            attitude['total'].iloc[row] = 500\n",
    "        else:\n",
    "            if attitude['course3'].iloc[row] == 0:\n",
    "                attitude['total'].iloc[row] = 720\n",
    "            else:\n",
    "                attitude['total'].iloc[row] = 880\n",
    "attitude['total'].iloc[46] = 1040\n",
    "attitude['total'].iloc[53] = 720\n",
    "attitude['total'].iloc[54] = 500\n",
    "attitude['total'].iloc[58] = 1040\n",
    "for row in range(len(attitude['total'])):\n",
    "    attitude['total'].iloc[row] = int(attitude['total'].iloc[row])\n",
    "print(attitude['total'].unique())"
   ]
  },
  {
   "cell_type": "code",
   "execution_count": 112,
   "id": "d3f08930",
   "metadata": {
    "ExecuteTime": {
     "end_time": "2022-05-17T17:36:59.469746Z",
     "start_time": "2022-05-17T17:36:59.437799Z"
    }
   },
   "outputs": [],
   "source": [
    "attitude_eleves = attitude.drop(columns=[\"course\", \"schedule\",  \"course2\", \"schedule2\",  \"course3\", \"schedule3\", \"registration\", \"installments\", \"total\"])\n",
    "attitude_cours22 = attitude.drop(columns=[ \"birthday\", \"address\", \"city\", \"pcode\", \"mail\", \"telephone\", \"legal_representative\",  \"registration\", \"installments\", \"total\"])\n",
    "attitude_paiement22 = attitude.drop(columns=[ \"birthday\", \"address\", \"city\", \"pcode\", \"mail\", \"telephone\",  \"legal_representative\", \"course\", \"schedule\",  \"course2\", \"schedule2\",  \"course3\", \"schedule3\",])"
   ]
  },
  {
   "cell_type": "code",
   "execution_count": 113,
   "id": "cfa397d8",
   "metadata": {
    "ExecuteTime": {
     "end_time": "2022-05-17T17:37:00.647306Z",
     "start_time": "2022-05-17T17:37:00.607893Z"
    },
    "scrolled": true
   },
   "outputs": [
    {
     "data": {
      "text/plain": [
       "{'',\n",
       " 'barre à terre',\n",
       " 'carte 10 cours',\n",
       " 'classique 1',\n",
       " 'classique 2',\n",
       " 'classique avancé',\n",
       " 'classique interm. – avancé',\n",
       " 'classique moyen',\n",
       " 'contemporain',\n",
       " 'initiation',\n",
       " 'moderne',\n",
       " 'pbt',\n",
       " 'pbt + ballet fitness',\n",
       " 'pilates',\n",
       " 'pointes',\n",
       " 'préparatoire',\n",
       " 'éveil'}"
      ]
     },
     "execution_count": 113,
     "metadata": {},
     "output_type": "execute_result"
    }
   ],
   "source": [
    "courses = []\n",
    "for cours in attitude_cours22['course'].unique():\n",
    "    if cours != 0 and cours != '1' and cours != \"\":\n",
    "        courses.append(cours)\n",
    "for cours2 in attitude_cours22['course2'].unique():\n",
    "    if cours2 != 0 and cours2 != '1' and cours != \"\":\n",
    "        courses.append(cours2)\n",
    "for cours3 in attitude_cours22['course3'].unique():\n",
    "    if cours3 != 0 and cours3 != '1' and cours != \"\":\n",
    "        courses.append(cours3)\n",
    "\n",
    "courses = set(courses)\n",
    "courses"
   ]
  },
  {
   "cell_type": "code",
   "execution_count": 114,
   "id": "df0f1dbc",
   "metadata": {
    "ExecuteTime": {
     "end_time": "2022-05-17T17:37:03.828407Z",
     "start_time": "2022-05-17T17:37:03.813444Z"
    }
   },
   "outputs": [],
   "source": [
    "rows =[]\n",
    "def students (course):\n",
    "    cours =[]\n",
    "    for row in range(len(attitude_cours22['course'])):\n",
    "        if attitude_cours22['course'].iloc[row] == course or attitude_cours22['course2'].iloc[row] == course or attitude_cours22['course3'].iloc[row] == course:\n",
    "            cours.append(attitude_cours22[\"name\"].iloc[row])\n",
    "    return cours"
   ]
  },
  {
   "cell_type": "code",
   "execution_count": 115,
   "id": "89898e72",
   "metadata": {
    "ExecuteTime": {
     "end_time": "2022-05-17T17:37:05.810950Z",
     "start_time": "2022-05-17T17:37:05.652708Z"
    }
   },
   "outputs": [
    {
     "name": "stdout",
     "output_type": "stream",
     "text": [
      "initiation\n",
      "contemporain\n",
      "\n",
      "carte 10 cours\n",
      "préparatoire\n",
      "barre à terre\n",
      "classique avancé\n",
      "classique 2\n",
      "éveil\n",
      "pbt\n",
      "pointes\n",
      "pilates\n",
      "moderne\n",
      "pbt + ballet fitness\n",
      "classique 1\n",
      "classique interm. – avancé\n",
      "classique moyen\n"
     ]
    },
    {
     "data": {
      "text/plain": [
       "dict_keys(['initiation', 'contemporain', '', 'carte 10 cours', 'préparatoire', 'barre à terre', 'classique avancé', 'classique 2', 'éveil', 'pbt', 'pointes', 'pilates', 'moderne', 'pbt + ballet fitness', 'classique 1', 'classique interm. – avancé', 'classique moyen'])"
      ]
     },
     "execution_count": 115,
     "metadata": {},
     "output_type": "execute_result"
    }
   ],
   "source": [
    "data_courses = dict()\n",
    "for course in courses:\n",
    "    try:\n",
    "            data_courses[course]= students(course)\n",
    "            print(course)\n",
    "    except:\n",
    "        continue\n",
    "        \n",
    "data_courses.keys()"
   ]
  },
  {
   "cell_type": "code",
   "execution_count": 119,
   "id": "b566e7bf",
   "metadata": {
    "ExecuteTime": {
     "end_time": "2022-05-17T17:40:18.979802Z",
     "start_time": "2022-05-17T17:40:18.969828Z"
    }
   },
   "outputs": [],
   "source": [
    "for course in data_courses.keys():\n",
    "    if course != 0 or course !='carte 10 cours':\n",
    "        data_courses[course].append('Shawali Natacha')"
   ]
  },
  {
   "cell_type": "code",
   "execution_count": 117,
   "id": "cb339edd",
   "metadata": {
    "ExecuteTime": {
     "end_time": "2022-05-17T17:37:16.040837Z",
     "start_time": "2022-05-17T17:37:16.033856Z"
    }
   },
   "outputs": [],
   "source": [
    "attitude_cours23 = attitude_cours22.iloc[0:0]\n",
    "attitude_paiement23 = attitude_paiement22.iloc[0:0]"
   ]
  },
  {
   "cell_type": "code",
   "execution_count": null,
   "id": "d7aa80be",
   "metadata": {},
   "outputs": [],
   "source": []
  },
  {
   "cell_type": "code",
   "execution_count": 129,
   "id": "a4dfc710",
   "metadata": {
    "ExecuteTime": {
     "end_time": "2022-05-17T17:44:12.440610Z",
     "start_time": "2022-05-17T17:44:12.296997Z"
    }
   },
   "outputs": [],
   "source": [
    "colunes=[]\n",
    "for row in range(len(attitude_cours22['course'])):\n",
    "    rows=[]\n",
    "    rows.append(attitude_cours22[\"name\"].iloc[row])\n",
    "    for course in data_courses.keys():\n",
    "        if attitude_cours22['course'].iloc[row] == course or attitude_cours22['course2'].iloc[row] == course or attitude_cours22['course3'].iloc[row] == course:\n",
    "            rows.append(1)\n",
    "        else:\n",
    "            rows.append(0)\n",
    "    colunes.append(rows)\n",
    "            \n",
    "classes22 = pd.DataFrame(colunes)\n",
    "classes22.columns = ('name','initiation', 'contemporain', '', 'carte_10_cours','preparatoire','barre_a_terre','classique_avance','classique_2','eveil','pbt','pointes','pilates','moderne','pbt_ballet_fitness', 'classique_1','classique_interm_avance','classique_moyen')\n",
    "classes22 = classes22.drop(['','carte_10_cours'], axis=1)"
   ]
  },
  {
   "cell_type": "code",
   "execution_count": 131,
   "id": "d76ee28f",
   "metadata": {
    "ExecuteTime": {
     "end_time": "2022-05-17T17:44:19.271861Z",
     "start_time": "2022-05-17T17:44:19.257907Z"
    }
   },
   "outputs": [],
   "source": [
    "classes23 = classes22.iloc[0:0]"
   ]
  },
  {
   "cell_type": "code",
   "execution_count": 132,
   "id": "0c5a85e8",
   "metadata": {
    "ExecuteTime": {
     "end_time": "2022-05-17T17:44:21.025391Z",
     "start_time": "2022-05-17T17:44:20.941617Z"
    }
   },
   "outputs": [],
   "source": [
    "attitude_eleves.to_csv('elevesdf.csv')\n",
    "attitude_cours22.to_csv('coursdf22.csv')\n",
    "classes22.to_csv('classes22.csv')\n",
    "attitude_paiement22.to_csv('paiment22.csv')\n",
    "attitude_cours23.to_csv('coursdf23.csv')\n",
    "classes23.to_csv('classes23.csv')\n",
    "attitude_paiement23.to_csv('paiment23.csv')"
   ]
  },
  {
   "cell_type": "code",
   "execution_count": 142,
   "id": "b1fc9f07",
   "metadata": {
    "ExecuteTime": {
     "end_time": "2022-05-17T18:08:13.295837Z",
     "start_time": "2022-05-17T18:08:13.259914Z"
    },
    "scrolled": false
   },
   "outputs": [],
   "source": [
    "load_dotenv()\n",
    "db_server= os.getenv('db_server')\n",
    "user=os.getenv(\"user\")\n",
    "db_port=os.getenv(\"db_port\")\n",
    "password=os.getenv(\"password\")\n",
    "ip=os.getenv(\"ip\")\n",
    "db_name=os.getenv(\"db_name\")\n",
    "ip_ssh=os.getenv(\"ip_ssh\")\n",
    "ssh_username=os.getenv(\"ssh_username\")\n",
    "ssh_password=os.getenv(\"ssh_password\")\n",
    "remote_bind_address=os.getenv(\"remote_bind_address\")\n",
    "port_ssh=os.getenv(\"port_ssh\")\n",
    "\n",
    "def open_ssh_tunnel_and_mysql ():\n",
    "    \"\"\"Open an SSH tunnel and connect to a MySQL server using the SSH tunnel connection\n",
    "    return Global MySQL connection\"\"\"\n",
    "    \n",
    "    try:    \n",
    "        \n",
    "        global server\n",
    "        global connection\n",
    "        global conn_addr\n",
    "        global engine\n",
    "        server = SSHTunnelForwarder((ip_ssh, port_ssh), ssh_username, ssh_password, remote_bind_address)\n",
    "        server.start()\n",
    "        print('Tunnel oppend :-P')\n",
    "        port = str(server.local_bind_port)\n",
    "        conn_addr = 'mysql://' + user + ':' + password + '@' + db_server + ':' + port + '/' + db_name\n",
    "        engine = create_engine(conn_addr)\n",
    "        connection = engine.connect()\n",
    "        print('Yeah! MySQL server connected using the SSH tunnel connection!')\n",
    "    except:\n",
    "        try:\n",
    "            disconnect_mysql ()\n",
    "        except:\n",
    "            pass\n",
    "        try:    \n",
    "            shut_ssh_tunnel ()\n",
    "        except:\n",
    "            pass\n",
    "        open_ssh_tunnel_and_mysql()\n",
    "    \n",
    "def create_table (dataframe, table=str):\n",
    "    dataframe.to_sql(table, conn_addr, if_exists='replace', index=False)\n",
    "    print('All done, Madam!')\n",
    "    \n",
    "def drop_table(table):\n",
    "    engine.execute(f\"DROP table IF EXISTS {table}\")\n",
    "    print('Table deleted, Madam!')\n",
    "    \n",
    "def table_to_csv(table):\n",
    "    csv = sql_query_to_csv\n",
    "\n",
    "\n",
    "def disconnect_mysql ():\n",
    "    \"\"\"Disconnect from MySQL server\"\"\"\n",
    "    connection.close()  \n",
    "    print('MySQL server is not connected anymore!')\n",
    "    \n",
    "def shut_ssh_tunnel ():\n",
    "    \"\"\"Stop the SSH tunnel\"\"\"\n",
    "    server.stop()\n",
    "    print(\"You've stopped the SSH tunnel!\")"
   ]
  },
  {
   "cell_type": "code",
   "execution_count": null,
   "id": "d71cb52b",
   "metadata": {
    "ExecuteTime": {
     "start_time": "2022-05-17T18:08:19.444Z"
    }
   },
   "outputs": [],
   "source": [
    "open_ssh_tunnel_and_mysql ()\n",
    "create_table (attitude_eleves, 'elevesdf')\n",
    "create_table (attitude_cours22, 'coursdf22')\n",
    "create_table (classes22, 'classesdf22')\n",
    "create_table (attitude_paiement22, 'paimentsdf22')\n",
    "create_table (attitude_cours23, 'coursdf23')\n",
    "create_table (classes23, 'classesdf23')\n",
    "create_table (attitude_paiement23, 'paimentsdf23')\n",
    "disconnect_mysql ()\n",
    "shut_ssh_tunnel ()"
   ]
  },
  {
   "cell_type": "code",
   "execution_count": null,
   "id": "f020602f",
   "metadata": {
    "ExecuteTime": {
     "end_time": "2022-05-17T17:17:23.779151Z",
     "start_time": "2022-05-17T17:17:23.779151Z"
    }
   },
   "outputs": [],
   "source": [
    "disconnect_mysql ()\n",
    "shut_ssh_tunnel ()\n",
    "open_ssh_tunnel_and_mysql ()"
   ]
  }
 ],
 "metadata": {
  "kernelspec": {
   "display_name": "pycaret",
   "language": "python",
   "name": "pycaret_aula"
  },
  "language_info": {
   "codemirror_mode": {
    "name": "ipython",
    "version": 3
   },
   "file_extension": ".py",
   "mimetype": "text/x-python",
   "name": "python",
   "nbconvert_exporter": "python",
   "pygments_lexer": "ipython3",
   "version": "3.8.13"
  },
  "toc": {
   "base_numbering": 1,
   "nav_menu": {},
   "number_sections": true,
   "sideBar": true,
   "skip_h1_title": false,
   "title_cell": "Table of Contents",
   "title_sidebar": "Contents",
   "toc_cell": false,
   "toc_position": {},
   "toc_section_display": true,
   "toc_window_display": false
  }
 },
 "nbformat": 4,
 "nbformat_minor": 5
}
